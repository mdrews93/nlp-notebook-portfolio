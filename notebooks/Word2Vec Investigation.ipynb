{
 "cells": [
  {
   "cell_type": "markdown",
   "metadata": {
    "toc": true
   },
   "source": [
    "<h1>Table of Contents<span class=\"tocSkip\"></span></h1>\n",
    "<div class=\"toc\"><ul class=\"toc-item\"><li><span><a href=\"#Overview\" data-toc-modified-id=\"Overview-1\"><span class=\"toc-item-num\">1&nbsp;&nbsp;</span>Overview</a></span></li><li><span><a href=\"#Imports\" data-toc-modified-id=\"Imports-2\"><span class=\"toc-item-num\">2&nbsp;&nbsp;</span>Imports</a></span></li><li><span><a href=\"#Word2Vec\" data-toc-modified-id=\"Word2Vec-3\"><span class=\"toc-item-num\">3&nbsp;&nbsp;</span>Word2Vec</a></span><ul class=\"toc-item\"><li><span><a href=\"#How-a-body-is-vectorized\" data-toc-modified-id=\"How-a-body-is-vectorized-3.1\"><span class=\"toc-item-num\">3.1&nbsp;&nbsp;</span>How a body is vectorized</a></span><ul class=\"toc-item\"><li><span><a href=\"#Playing-around-with-the-model-and-vectorization-functions\" data-toc-modified-id=\"Playing-around-with-the-model-and-vectorization-functions-3.1.1\"><span class=\"toc-item-num\">3.1.1&nbsp;&nbsp;</span>Playing around with the model and vectorization functions</a></span></li></ul></li><li><span><a href=\"#Concatenating-Question-and-Solution-Vectors\" data-toc-modified-id=\"Concatenating-Question-and-Solution-Vectors-3.2\"><span class=\"toc-item-num\">3.2&nbsp;&nbsp;</span>Concatenating Question and Solution Vectors</a></span></li></ul></li><li><span><a href=\"#Data-Collection\" data-toc-modified-id=\"Data-Collection-4\"><span class=\"toc-item-num\">4&nbsp;&nbsp;</span>Data Collection</a></span><ul class=\"toc-item\"><li><span><a href=\"#Escaping-Solr-Special-Characters\" data-toc-modified-id=\"Escaping-Solr-Special-Characters-4.1\"><span class=\"toc-item-num\">4.1&nbsp;&nbsp;</span>Escaping Solr Special Characters</a></span></li><li><span><a href=\"#Organizing-the-instances\" data-toc-modified-id=\"Organizing-the-instances-4.2\"><span class=\"toc-item-num\">4.2&nbsp;&nbsp;</span>Organizing the instances</a></span></li><li><span><a href=\"#Porting-over-pull_training_data()-from-Ranker\" data-toc-modified-id=\"Porting-over-pull_training_data()-from-Ranker-4.3\"><span class=\"toc-item-num\">4.3&nbsp;&nbsp;</span>Porting over pull_training_data() from Ranker</a></span></li><li><span><a href=\"#Creating-the-train/test-sets\" data-toc-modified-id=\"Creating-the-train/test-sets-4.4\"><span class=\"toc-item-num\">4.4&nbsp;&nbsp;</span>Creating the train/test sets</a></span></li><li><span><a href=\"#Creating-Negative-Instances\" data-toc-modified-id=\"Creating-Negative-Instances-4.5\"><span class=\"toc-item-num\">4.5&nbsp;&nbsp;</span>Creating Negative Instances</a></span></li><li><span><a href=\"#Creating-a-DataFrame\" data-toc-modified-id=\"Creating-a-DataFrame-4.6\"><span class=\"toc-item-num\">4.6&nbsp;&nbsp;</span>Creating a DataFrame</a></span></li><li><span><a href=\"#Vectorizing-the-bodies\" data-toc-modified-id=\"Vectorizing-the-bodies-4.7\"><span class=\"toc-item-num\">4.7&nbsp;&nbsp;</span>Vectorizing the bodies</a></span></li><li><span><a href=\"#Parallelization-with-Dask\" data-toc-modified-id=\"Parallelization-with-Dask-4.8\"><span class=\"toc-item-num\">4.8&nbsp;&nbsp;</span>Parallelization with Dask</a></span></li><li><span><a href=\"#Parallelization-with-PySpark\" data-toc-modified-id=\"Parallelization-with-PySpark-4.9\"><span class=\"toc-item-num\">4.9&nbsp;&nbsp;</span>Parallelization with PySpark</a></span><ul class=\"toc-item\"><li><span><a href=\"#Vectorizing-the-dataframes\" data-toc-modified-id=\"Vectorizing-the-dataframes-4.9.1\"><span class=\"toc-item-num\">4.9.1&nbsp;&nbsp;</span>Vectorizing the dataframes</a></span></li></ul></li><li><span><a href=\"#Adding-vectors-to-the-dataframes\" data-toc-modified-id=\"Adding-vectors-to-the-dataframes-4.10\"><span class=\"toc-item-num\">4.10&nbsp;&nbsp;</span>Adding vectors to the dataframes</a></span></li><li><span><a href=\"#Putting-it-all-together-to-create-the-train/test-sets\" data-toc-modified-id=\"Putting-it-all-together-to-create-the-train/test-sets-4.11\"><span class=\"toc-item-num\">4.11&nbsp;&nbsp;</span>Putting it all together to create the train/test sets</a></span></li></ul></li><li><span><a href=\"#Creating-RankerNet\" data-toc-modified-id=\"Creating-RankerNet-5\"><span class=\"toc-item-num\">5&nbsp;&nbsp;</span>Creating RankerNet</a></span><ul class=\"toc-item\"><li><span><a href=\"#Multilayer-Perceptron\" data-toc-modified-id=\"Multilayer-Perceptron-5.1\"><span class=\"toc-item-num\">5.1&nbsp;&nbsp;</span>Multilayer Perceptron</a></span></li><li><span><a href=\"#SKlearn-Pipeline\" data-toc-modified-id=\"SKlearn-Pipeline-5.2\"><span class=\"toc-item-num\">5.2&nbsp;&nbsp;</span>SKlearn Pipeline</a></span></li><li><span><a href=\"#Hyperparameter-Optimization\" data-toc-modified-id=\"Hyperparameter-Optimization-5.3\"><span class=\"toc-item-num\">5.3&nbsp;&nbsp;</span>Hyperparameter Optimization</a></span></li><li><span><a href=\"#Evaluation\" data-toc-modified-id=\"Evaluation-5.4\"><span class=\"toc-item-num\">5.4&nbsp;&nbsp;</span>Evaluation</a></span></li></ul></li></ul></div>"
   ]
  },
  {
   "cell_type": "markdown",
   "metadata": {},
   "source": [
    "# Overview\n",
    "This notebook will explore vectorization of our queries and solutions using a pretrained Word2Vec model. Our current production version of Ranker uses linear regression on vectors with around 35 to 45 elements. Word2Vec will increase the dimensionality of our vectors considerably, as each word vector contains 300 elements and our ultimate vecotorization step will include the concatenation of a few vectors. The general plan is as follows:\n",
    "\n",
    "* Load in a pretrained w2v model that can take a single token and return its vector\n",
    "* Pull in training data in the form of a list of dicts\n",
    "    * The pulled queries are positive instances, as they are linked to solutions\n",
    "* Sort the training data queries by date and split them into a training and test split\n",
    "* Convert the list of dicts into a dataframe with the columns `question_id`, `solution_id`, and `target`\n",
    "* Vectorize the question and solution bodies and index them in a dict mapping from `id` -> `vector`\n",
    "* Add the appropriate vector to each row in the dataframe\n",
    "* Train a neural network with the input training vectors and `target` values\n",
    "* Compute the PCT@5 metric for the queries in the test set. \n",
    "\n",
    "While this approach works fine for smaller datasets (~5000 queries), once that number increases into the tens of thousands, memory issues and long computation times require some changes. Those big data approaches will be explored in a different notebook to prevent the size and scope of this notebook from getting too big. The ultimate goal of this notebook will be to get a baseline PCT@5 score using a dataset of 5000 queries, which is the same amount of queries currently used with Ranker."
   ]
  },
  {
   "cell_type": "markdown",
   "metadata": {},
   "source": [
    "# Imports\n",
    "We'll start by using `gensim` and Google's pretrained Word2Vec model, which has already been downloaded and saved on this machine."
   ]
  },
  {
   "cell_type": "code",
   "execution_count": 1,
   "metadata": {
    "ExecuteTime": {
     "end_time": "2018-12-05T22:33:08.567867Z",
     "start_time": "2018-12-05T22:33:06.951370Z"
    }
   },
   "outputs": [
    {
     "name": "stderr",
     "output_type": "stream",
     "text": [
      "[nltk_data] Downloading package punkt to /home/jovyan/nltk_data...\n",
      "[nltk_data]   Unzipping tokenizers/punkt.zip.\n"
     ]
    },
    {
     "data": {
      "text/plain": [
       "True"
      ]
     },
     "execution_count": 1,
     "metadata": {},
     "output_type": "execute_result"
    }
   ],
   "source": [
    "import gensim\n",
    "import numpy as np\n",
    "\n",
    "from nltk import download, word_tokenize\n",
    "from sklearn.metrics.pairwise import cosine_similarity\n",
    "\n",
    "download('punkt')"
   ]
  },
  {
   "cell_type": "code",
   "execution_count": 2,
   "metadata": {
    "ExecuteTime": {
     "end_time": "2018-12-05T22:35:59.422820Z",
     "start_time": "2018-12-05T22:33:08.570424Z"
    }
   },
   "outputs": [],
   "source": [
    "model = gensim.models.KeyedVectors.load_word2vec_format('GoogleNews-vectors-negative300.bin.gz', binary=True)"
   ]
  },
  {
   "cell_type": "markdown",
   "metadata": {},
   "source": [
    "# Word2Vec\n",
    "\n",
    "We will be using Google's pretrained Word2Vec model and the `gensim` package to implement the model. A handful of functions will be created so that a question-solution pair can be vectorized into a single vector which will be used as the input to the neural network. \n",
    "\n",
    "## How a body is vectorized\n",
    "This word2vec model has a 300-dimensional vector for over 3,000,000 words. In order to get a single vector representation for a body of words, we will find the average vector of all of the words in the body that exist in the model and then concatenate that with the element-wise maximum of the vectors of all of the words in the body. This results in a 600-dimensional vector. "
   ]
  },
  {
   "cell_type": "code",
   "execution_count": 3,
   "metadata": {
    "ExecuteTime": {
     "end_time": "2018-12-05T22:35:59.435147Z",
     "start_time": "2018-12-05T22:35:59.426674Z"
    }
   },
   "outputs": [],
   "source": [
    "def vectorize_words(words, w2v):\n",
    "    \"\"\"Create a list of w2v vectors containing the w2v vector for each word in the given list of words\"\"\"\n",
    "    return [w2v[word] for word in words if word in w2v]\n",
    "\n",
    "\n",
    "def vectorize_body(body, w2v):\n",
    "    \"\"\"Create a 600-dimensional vector for the given body of text and w2v model\"\"\"\n",
    "    try:\n",
    "        word_vectors = vectorize_words(word_tokenize(body), w2v)\n",
    "        average_vector = np.mean(word_vectors, axis=0)\n",
    "        maximum_vector = np.maximum.reduce(word_vectors)\n",
    "        return np.concatenate([average_vector, maximum_vector])\n",
    "    except ValueError:\n",
    "        return None\n",
    "\n",
    "\n",
    "def vector_similarity(vector1, vector2):\n",
    "    \"\"\"Return the cosine similarity between two vectors\"\"\"\n",
    "    return cosine_similarity(vector1.reshape(1, -1), vector2.reshape(1, -1))[0][0]"
   ]
  },
  {
   "cell_type": "markdown",
   "metadata": {},
   "source": [
    "### Playing around with the model and vectorization functions"
   ]
  },
  {
   "cell_type": "code",
   "execution_count": 4,
   "metadata": {
    "ExecuteTime": {
     "end_time": "2018-12-05T22:35:59.454229Z",
     "start_time": "2018-12-05T22:35:59.439094Z"
    }
   },
   "outputs": [
    {
     "data": {
      "text/plain": [
       "600"
      ]
     },
     "execution_count": 4,
     "metadata": {},
     "output_type": "execute_result"
    }
   ],
   "source": [
    "vectorize_body(\"Hello there, how are you?\", model).size"
   ]
  },
  {
   "cell_type": "code",
   "execution_count": 5,
   "metadata": {
    "ExecuteTime": {
     "end_time": "2018-12-05T22:35:59.461545Z",
     "start_time": "2018-12-05T22:35:59.456251Z"
    }
   },
   "outputs": [],
   "source": [
    "bodies = [\"Hello there, how are you?\", \n",
    "          \"Hi buddy, what's up?\", \n",
    "          \"apples, oranges, bananas\", \n",
    "          \"mangos, strawberries, pears\"]\n",
    "vectors = {body: vectorize_body(body, model) for body in bodies}"
   ]
  },
  {
   "cell_type": "code",
   "execution_count": 6,
   "metadata": {
    "ExecuteTime": {
     "end_time": "2018-12-05T22:35:59.475973Z",
     "start_time": "2018-12-05T22:35:59.464012Z"
    }
   },
   "outputs": [
    {
     "data": {
      "text/plain": [
       "[(0.7927833, \"'apples, oranges, bananas' - 'mangos, strawberries, pears'\"),\n",
       " (0.7504788, \"'Hello there, how are you?' - 'Hi buddy, what's up?'\"),\n",
       " (0.33531186, \"'Hello there, how are you?' - 'mangos, strawberries, pears'\"),\n",
       " (0.32507744, \"'Hello there, how are you?' - 'apples, oranges, bananas'\"),\n",
       " (0.29591754, \"'Hi buddy, what's up?' - 'apples, oranges, bananas'\"),\n",
       " (0.27692673, \"'Hi buddy, what's up?' - 'mangos, strawberries, pears'\")]"
      ]
     },
     "execution_count": 6,
     "metadata": {},
     "output_type": "execute_result"
    }
   ],
   "source": [
    "from itertools import combinations\n",
    "\n",
    "pair_scores = {}\n",
    "for body_1, body_2 in combinations(bodies, 2):\n",
    "    pair_scores[vector_similarity(vectors[body_1], \n",
    "                                  vectors[body_2])] = f\"'{body_1}' - '{body_2}'\"\n",
    "\n",
    "sorted(pair_scores.items(), reverse=True)"
   ]
  },
  {
   "cell_type": "code",
   "execution_count": 7,
   "metadata": {
    "ExecuteTime": {
     "end_time": "2018-12-05T22:36:06.751910Z",
     "start_time": "2018-12-05T22:35:59.477785Z"
    }
   },
   "outputs": [
    {
     "name": "stderr",
     "output_type": "stream",
     "text": [
      "/opt/conda/lib/python3.6/site-packages/gensim/matutils.py:737: FutureWarning: Conversion of the second argument of issubdtype from `int` to `np.signedinteger` is deprecated. In future, it will be treated as `np.int64 == np.dtype(int).type`.\n",
      "  if np.issubdtype(vec.dtype, np.int):\n"
     ]
    },
    {
     "data": {
      "text/plain": [
       "[('Windy_City', 0.7112736105918884),\n",
       " ('Milwaukee', 0.659806489944458),\n",
       " ('St._Louis', 0.6426857709884644),\n",
       " ('Peoria', 0.6366877555847168),\n",
       " ('Naperville', 0.63065505027771),\n",
       " ('Evanston', 0.6249232292175293),\n",
       " ('Rockford', 0.6170403957366943),\n",
       " ('Minneapolis', 0.611090898513794),\n",
       " ('Schaumburg', 0.6032407283782959),\n",
       " ('Joliet', 0.6019251346588135)]"
      ]
     },
     "execution_count": 7,
     "metadata": {},
     "output_type": "execute_result"
    }
   ],
   "source": [
    "model.most_similar(positive=[\"Chicago\"], topn=10)"
   ]
  },
  {
   "cell_type": "code",
   "execution_count": 8,
   "metadata": {
    "ExecuteTime": {
     "end_time": "2018-12-05T22:36:06.940414Z",
     "start_time": "2018-12-05T22:36:06.755040Z"
    }
   },
   "outputs": [
    {
     "data": {
      "text/plain": [
       "[('Arlington_Va.', 0.6351395845413208),\n",
       " ('Arlington_VA', 0.6333052515983582),\n",
       " ('E_mail_cptime@aol.com', 0.6242501139640808),\n",
       " ('Adam_Hoffinger_criminal', 0.6177441477775574),\n",
       " ('Alexandria_Va.', 0.6099658012390137),\n",
       " ('Alexandria_VA', 0.6096070408821106),\n",
       " ('DC', 0.6005620360374451),\n",
       " ('Chevy_Chase_Maryland', 0.5873388051986694),\n",
       " ('inWashington_DC', 0.5790846347808838),\n",
       " ('Washinton_DC', 0.5784515738487244)]"
      ]
     },
     "execution_count": 8,
     "metadata": {},
     "output_type": "execute_result"
    }
   ],
   "source": [
    "model.most_similar(positive=[\"Washington_DC\"], topn=10)"
   ]
  },
  {
   "cell_type": "code",
   "execution_count": 9,
   "metadata": {
    "ExecuteTime": {
     "end_time": "2018-12-05T22:36:07.129755Z",
     "start_time": "2018-12-05T22:36:06.945803Z"
    }
   },
   "outputs": [
    {
     "data": {
      "text/plain": [
       "[('virtual_machines', 0.7039488554000854),\n",
       " ('Virtual_Machine', 0.6841978430747986),\n",
       " ('virtual_machines_VMs', 0.683608889579773),\n",
       " ('VMs', 0.6801522374153137),\n",
       " ('Hypervisors', 0.6639840006828308),\n",
       " ('VMware_ESX_server', 0.6579589247703552),\n",
       " ('Virtual_Desktops', 0.6553028225898743),\n",
       " ('VMware_ESX', 0.6497218608856201),\n",
       " ('VMware_HA', 0.6431201100349426),\n",
       " ('virtualized', 0.6400014758110046),\n",
       " ('virtualised_environment', 0.638530969619751),\n",
       " ('guest_OSs', 0.6369467973709106),\n",
       " ('VMware_VMotion', 0.6366690397262573),\n",
       " ('Virtual_Servers', 0.63653564453125),\n",
       " ('VMWare_ESX', 0.6361702084541321),\n",
       " ('MySQL_Database', 0.6353836059570312),\n",
       " ('Oracle_RAC', 0.6331586837768555),\n",
       " ('Microsoft_Cluster_Server', 0.6320348978042603),\n",
       " ('VMware_hypervisors', 0.6307154297828674),\n",
       " ('iNSP', 0.6280431747436523),\n",
       " ('logical_partitions', 0.6269524097442627),\n",
       " ('Virtual_Appliance', 0.625616192817688),\n",
       " ('vApp', 0.622918963432312),\n",
       " ('ESX_ESXi', 0.6223375797271729),\n",
       " ('multipathing', 0.6191391944885254)]"
      ]
     },
     "execution_count": 9,
     "metadata": {},
     "output_type": "execute_result"
    }
   ],
   "source": [
    "model.most_similar(positive=[\"Virtual_Machines\"], topn=25)"
   ]
  },
  {
   "cell_type": "markdown",
   "metadata": {},
   "source": [
    "## Concatenating Question and Solution Vectors\n",
    "Ultimately Ranker takes in a question and solution and returns how likely the solution will resolve the question, so the input to the neural network Ranker will be a vector that represents a question-solution _pair_. To create this input vector, for each solution we need to find all of the questions that have been linked to it. Then we'll vectorize the question, vectorize the solution, and concatenate those two vectors to create a 1200-dimensional vector that represents the question-solution pair."
   ]
  },
  {
   "cell_type": "code",
   "execution_count": 10,
   "metadata": {
    "ExecuteTime": {
     "end_time": "2018-12-05T22:36:07.138230Z",
     "start_time": "2018-12-05T22:36:07.133935Z"
    }
   },
   "outputs": [],
   "source": [
    "def concatenate_vectors(question_vector, solution_vector):\n",
    "    \"\"\"Create a 1200-dimensional vector for the given question and solution vectors\"\"\"\n",
    "    return np.concatenate([question_vector, solution_vector])"
   ]
  },
  {
   "cell_type": "markdown",
   "metadata": {},
   "source": [
    "# Data Collection\n",
    "\n",
    "In order to hold as many aspects constant across the current Ranker and this new neural net Ranker, the data collection functions from Ranker will be ported over to this notebook. The functions are primarily from `/ranker/src/train/service.py` from the `its_ranker` repository. In order to get them to work properly within this notebook, any reference to the `corpus`, `model`, and `collection` had to be replaced with a workaround, usually hardcoded values. "
   ]
  },
  {
   "cell_type": "code",
   "execution_count": 11,
   "metadata": {
    "ExecuteTime": {
     "end_time": "2018-12-05T22:36:07.300588Z",
     "start_time": "2018-12-05T22:36:07.144877Z"
    }
   },
   "outputs": [],
   "source": [
    "from collections import defaultdict\n",
    "from datetime import datetime\n",
    "from math import ceil\n",
    "\n",
    "from pysolr import Solr, SolrError\n",
    "from solr_dsl import Search, Field, Range\n",
    "\n",
    "DOMAINS = ['VMware vSphere ESXi 5.5', 'VMware vCenter Server 5.5',\n",
    "           'VMware Update Manager 5.5', 'VMware vCenter Server Appliance 5.5',\n",
    "           'VMware vSphere Client 5.5']\n",
    "\n",
    "RESULT_FQ = '+(division_names_Ft:\"vSphere 5.5\" domain:\"VMware vSphere ESXi 5.5\" domain:\"VMware vCenter Server 5.5\" domain:\"VMware Update Manager 5.5\" domain:\"VMware vCenter Server Appliance 5.5\" domain:\"VMware vSphere Client 5.5\" derived__domain_Ft:\"VMware vSphere ESXi 5.5\" derived__domain_Ft:\"VMware vCenter Server 5.5\" derived__domain_Ft:\"VMware Update Manager 5.5\" derived__domain_Ft:\"VMware vCenter Server Appliance 5.5\" derived__domain_Ft:\"VMware vSphere Client 5.5\") +(status:EXTERNAL status:INTERNAL status:DRAFT) -status:DELETED -status:PRIVATE_DRAFT'\n",
    "QUERY_FQ = \"+doc_type:question +(division_names_Ft:'vSphere 5.5' domain:'VMware vSphere ESXi 5.5' domain:'VMware vCenter Server 5.5' domain:'VMware Update Manager 5.5' domain:'VMware vCenter Server Appliance 5.5' domain:'VMware vSphere Client 5.5')\"\n",
    "SIMILAR_QUERY_FQ = \"+doc_type:question +(division_names_Ft:'vSphere 5.5' domain:'VMware vSphere ESXi 5.5' domain:'VMware vCenter Server 5.5' domain:'VMware Update Manager 5.5' domain:'VMware vCenter Server Appliance 5.5' domain:'VMware vSphere Client 5.5')\"\n",
    "\n",
    "solr = Solr('http://penseur.it9.org:8983/solr/NEW_PRD-vmware-sfkm')"
   ]
  },
  {
   "cell_type": "markdown",
   "metadata": {},
   "source": [
    "## Escaping Solr Special Characters\n",
    "An unforseen issue with the proceding functions that query Solr for the most similar solution is that if the query's body contains any of the Solr special characters, there will be severe parsing issues that throw many different errors. These need to be escaped first and that's handled by the following function."
   ]
  },
  {
   "cell_type": "code",
   "execution_count": 44,
   "metadata": {
    "ExecuteTime": {
     "end_time": "2018-12-06T00:11:52.977134Z",
     "start_time": "2018-12-06T00:11:52.970335Z"
    }
   },
   "outputs": [],
   "source": [
    "import re\n",
    "\n",
    "\n",
    "ESCAPE_CHARS_RE = re.compile(r'(?<!\\\\)(?P<char>[&|+\\-!(){}[\\] ^\"~*?:])')\n",
    "\n",
    "\n",
    "def solr_escape(value):\n",
    "    \"\"\"Escape un-escaped special characters and return escaped value. Inspired by\n",
    "    https://github.com/Parsely/python-solr/blob/master/pythonsolr/pysolr.py#L181\n",
    "    but a small change needed to be made to ESCAPE_CHARS_RE (adding a space)\n",
    "    \"\"\"\n",
    "    return ESCAPE_CHARS_RE.sub(r'\\\\\\g<char>', value)"
   ]
  },
  {
   "cell_type": "markdown",
   "metadata": {},
   "source": [
    "## Organizing the instances\n",
    "A `pandas` DataFrame will be used to keep track of all of the instances. When pulling the data, the saved fields will be `question_id`, `solution_id`, `target`, and `question_date`. Additionally, a dictionary that maps a document id to a document body will be created so that the document bodies can be quickly retrieved for vectorizing. \n"
   ]
  },
  {
   "cell_type": "code",
   "execution_count": 45,
   "metadata": {
    "ExecuteTime": {
     "end_time": "2018-12-06T00:11:52.990392Z",
     "start_time": "2018-12-06T00:11:52.985115Z"
    }
   },
   "outputs": [],
   "source": [
    "import pandas as pd"
   ]
  },
  {
   "cell_type": "markdown",
   "metadata": {},
   "source": [
    "## Porting over pull_training_data() from Ranker\n",
    "The following cell contains the ported code from `its_ranker`. Some progress bars were also added to nicely show the progress of the download. "
   ]
  },
  {
   "cell_type": "code",
   "execution_count": 14,
   "metadata": {
    "ExecuteTime": {
     "end_time": "2018-12-05T22:36:07.560971Z",
     "start_time": "2018-12-05T22:36:07.512621Z"
    }
   },
   "outputs": [],
   "source": [
    "from collections import Counter\n",
    "\n",
    "from ipywidgets import IntProgress\n",
    "from IPython.display import display\n",
    "import langid\n",
    "import pickle\n",
    "\n",
    "\n",
    "def get_solr_docs(query, fq=[], sort='',batch_size=\"100\", fl=\"*\", limit=None):\n",
    "    cursorMark = \"*\"\n",
    "    count = 0\n",
    "    while (True):\n",
    "        results = solr.search(query,\n",
    "                              fq=fq,\n",
    "                              cursorMark=cursorMark,\n",
    "                              fl=fl,\n",
    "                              sort=sort,\n",
    "                              rows=batch_size)\n",
    "\n",
    "        for result in results:\n",
    "            if 'date' in result:\n",
    "                try:\n",
    "                    result['date'] = parser.parse(result['date'])\n",
    "                except Exception:\n",
    "                    pass\n",
    "            yield result\n",
    "\n",
    "            count += 1\n",
    "            if limit and count >= limit:\n",
    "                return\n",
    "        if cursorMark == results.nextCursorMark:\n",
    "            return\n",
    "        cursorMark = results.nextCursorMark\n",
    "        \n",
    "        \n",
    "def get_number_of_result_docs(doc_type, filter_query, fl=\"*\", batch_size=\"100\", limit=None):\n",
    "    return solr.search(\"*:*\",\n",
    "                       fq=['doc_type:{}'.format(doc_type),\n",
    "                           filter_query],\n",
    "                       fl=fl,\n",
    "                       sort='date desc,id asc',\n",
    "                       rows=batch_size).hits\n",
    "\n",
    "\n",
    "def get_result_docs(doc_type, filter_query, fl=\"*\", batch_size=\"100\", limit=None):\n",
    "    \"\"\"Returns docs sorted by date in descending order\"\"\"\n",
    "    return get_solr_docs(\"*:*\",\n",
    "                         fq=['doc_type:{}'.format(doc_type),\n",
    "                             filter_query],\n",
    "                         sort='date desc,id asc',\n",
    "                         batch_size=batch_size,\n",
    "                         fl=fl,\n",
    "                         limit=limit)\n",
    "\n",
    "\n",
    "def get_number_of_queries(query_fq,\n",
    "                          with_links_to_field=None,\n",
    "                          fl=\"*\",\n",
    "                          batch_size=\"100\",\n",
    "                          sort='date desc,id asc',\n",
    "                          limit=None,\n",
    "                          language_code=None):\n",
    "    fq = [query_fq]\n",
    "    if with_links_to_field:\n",
    "        fq.append(\"{}:[* TO *]\".format(with_links_to_field))\n",
    "    if language_code:\n",
    "        clause = \"languages:{}\".format(language_code)\n",
    "        fq.append(clause)\n",
    "        print(\"Using language code, adding clause: {}\".format(clause))\n",
    "\n",
    "    return solr.search(\"*:*\",\n",
    "                       fl=fl,\n",
    "                       fq=fq,\n",
    "                       sort=sort,\n",
    "                       batch_size=batch_size,\n",
    "                       limit=limit).hits\n",
    "\n",
    "\n",
    "def get_queries(query_fq,\n",
    "                with_links_to_field=None,\n",
    "                fl=\"*\",\n",
    "                batch_size=\"100\",\n",
    "                sort='date desc,id asc',\n",
    "                limit=None,\n",
    "                language_code=None):\n",
    "    \"\"\"Returns cases sorted by date in descending order\"\"\"\n",
    "    fq = [query_fq]\n",
    "    if with_links_to_field:\n",
    "        fq.append(\"{}:[* TO *]\".format(with_links_to_field))\n",
    "    if language_code:\n",
    "        clause = \"languages:{}\".format(language_code)\n",
    "        fq.append(clause)\n",
    "        print(\"Using language code, adding clause: {}\".format(clause))\n",
    "\n",
    "    return get_solr_docs(\"*:*\",\n",
    "                         fl=fl,\n",
    "                         fq=fq,\n",
    "                         sort=sort,\n",
    "                         batch_size=batch_size,\n",
    "                         limit=limit)\n",
    "\n",
    "    \n",
    "def fix_dates(obj_array):\n",
    "    # Hack to parse dates in query objects\n",
    "    for obj in obj_array:\n",
    "        if 'date' in obj:\n",
    "            try:\n",
    "                obj['date'] = parser.parse(obj['date'])\n",
    "            except Exception:\n",
    "                pass\n",
    "\n",
    "            \n",
    "def get_query_text(query):\n",
    "    stripped_title = (query['title'].strip()\n",
    "                      if 'title' in query else '')\n",
    "    stripped_body = (query['body'].strip()\n",
    "                     if 'body' in query else '')\n",
    "    text = stripped_title + ' ' + stripped_body\n",
    "    return text\n",
    "\n",
    "\n",
    "\n",
    "def pull_training_data(limit=1000):\n",
    "    number_of_docs = get_number_of_result_docs('solution', RESULT_FQ)\n",
    "    print(f\"Pulling {number_of_docs} docs.\")\n",
    "    progress_bar = IntProgress(min=0, max=number_of_docs, description='Pulling docs:', bar_style='info')\n",
    "    display(progress_bar)      \n",
    "    \n",
    "    docs = []\n",
    "    for count, doc in enumerate(get_result_docs(\"solution\", RESULT_FQ)):\n",
    "        if count % 1000 == 0:\n",
    "            progress_bar.value = count\n",
    "        docs.append(doc)\n",
    "\n",
    "    progress_bar.value = number_of_docs\n",
    "    print(\"Pulled %d docs\" % len(docs))\n",
    "    assert len(docs) > 0, \"Did not find any docs in ITS!  Check configuration.\"\n",
    "    fix_dates(docs)\n",
    "    \n",
    "    doc_id2body = {row['id']: row[\"body\"] for row in docs}\n",
    "\n",
    "    # Define different filtering funcs\n",
    "    def _filter_length(query):\n",
    "        \"\"\"Filter by query length\"\"\"\n",
    "        text = get_query_text(query)\n",
    "        if text == 'N/A N/A' or len(text) < 6:\n",
    "            return False, \"Not long enough\"\n",
    "        return True, \"\"\n",
    "\n",
    "    def _filter_date(query):\n",
    "        \"\"\"Don't accept queries without dates\"\"\"\n",
    "        if 'date' not in query:\n",
    "            return False, \"No date\"\n",
    "        return True, \"\"\n",
    "\n",
    "    def _filter_language(query):\n",
    "        # Accept only english queries\n",
    "        text = get_query_text(query)\n",
    "        lang, score = langid.classify(text)\n",
    "        if lang != 'en' and score > 0.99:  # langid is a bit inaccurate, demand a high threshold\n",
    "            return False, \"Non-english\"\n",
    "\n",
    "        return True, \"\"\n",
    "\n",
    "    links_to_field_name = \"links_to_solution\"\n",
    "    doc_ids = set(doc_id2body.keys())\n",
    "    blacklisted_docs = set()\n",
    "\n",
    "    def _filter_links(query):\n",
    "        \"\"\"Filter links by which documents are actually in the model.  After filtering\n",
    "           remove queries that no longer have any valid links\n",
    "        \"\"\"\n",
    "        filtered_links = []\n",
    "        for link in query[links_to_field_name]:\n",
    "            if link not in doc_ids:\n",
    "                continue\n",
    "\n",
    "            if link in blacklisted_docs:\n",
    "                continue\n",
    "\n",
    "            filtered_links.append(link)\n",
    "\n",
    "        if filtered_links:\n",
    "            query[links_to_field_name] = filtered_links\n",
    "            return True, \"\"\n",
    "\n",
    "        return False, \"Linked to docs not included in model\"\n",
    "\n",
    "    filter_funcs = [\n",
    "        _filter_length,\n",
    "        _filter_date,\n",
    "        _filter_language,\n",
    "        _filter_links\n",
    "    ]\n",
    "\n",
    "    number_of_queries = get_number_of_queries(QUERY_FQ, links_to_field_name)\n",
    "    print(f\"Found {number_of_queries} queries. Query limit: {limit}\")  \n",
    "    if not limit:\n",
    "        limit = number_of_queries\n",
    "    progress_bar = IntProgress(min=0, max=limit, description='Pulling queries:', bar_style='info')\n",
    "    display(progress_bar)\n",
    "          \n",
    "    question_id2body = {}\n",
    "    queries = []\n",
    "    skipped = []\n",
    "    reasons = Counter()\n",
    "    for count, query in enumerate(get_queries(QUERY_FQ, links_to_field_name)):\n",
    "        if count % 1000 == 0:\n",
    "            progress_bar.value = count\n",
    "        skip = False\n",
    "        for func in filter_funcs:\n",
    "            include, reason = func(query)\n",
    "            if not include:\n",
    "                query['SKIP_REASON'] = reason\n",
    "                reasons.update([reason])\n",
    "                skipped.append(query)\n",
    "                skip = True\n",
    "                break\n",
    "\n",
    "        if skip:\n",
    "            continue\n",
    "\n",
    "        queries.append(query)\n",
    "        question_id2body[query[\"id\"]] = query[\"body\"]\n",
    "        if len(queries) > limit - 1:\n",
    "            print(\"Reached limit\")\n",
    "            break\n",
    "\n",
    "    progress_bar.value = limit\n",
    "    assert len(queries) > 0, \"Did not find any queries in Solr!  Check configuration.\"\n",
    "\n",
    "    print(\"Pulled {} queries, {} skipped\".format(len(queries), len(skipped)))\n",
    "    print(\"Skipped reasons:\", reasons)\n",
    "\n",
    "    fix_dates(queries)\n",
    "\n",
    "    return queries, doc_id2body, question_id2body, skipped\n",
    "\n",
    "\n",
    "def save(obj, filename):\n",
    "    pickle.dump(obj, open(filename, \"wb\"))\n",
    "    \n",
    "    \n",
    "def load(filename):\n",
    "    return pickle.load(open(filename, \"rb\"))"
   ]
  },
  {
   "cell_type": "code",
   "execution_count": 17,
   "metadata": {
    "ExecuteTime": {
     "end_time": "2018-12-05T22:36:48.361577Z",
     "start_time": "2018-12-05T22:36:41.589656Z"
    }
   },
   "outputs": [
    {
     "name": "stdout",
     "output_type": "stream",
     "text": [
      "Pulling 3561 docs.\n"
     ]
    },
    {
     "data": {
      "application/vnd.jupyter.widget-view+json": {
       "model_id": "9766623fed7f431f98a65c3df6c023c8",
       "version_major": 2,
       "version_minor": 0
      },
      "text/plain": [
       "IntProgress(value=0, bar_style='info', description='Pulling docs:', max=3561)"
      ]
     },
     "metadata": {},
     "output_type": "display_data"
    },
    {
     "name": "stdout",
     "output_type": "stream",
     "text": [
      "Pulled 3561 docs\n",
      "Found 113643 queries. Query limit: 100\n"
     ]
    },
    {
     "data": {
      "application/vnd.jupyter.widget-view+json": {
       "model_id": "104a183e409041f684d7bdf850ad9c71",
       "version_major": 2,
       "version_minor": 0
      },
      "text/plain": [
       "IntProgress(value=0, bar_style='info', description='Pulling queries:')"
      ]
     },
     "metadata": {},
     "output_type": "display_data"
    },
    {
     "name": "stdout",
     "output_type": "stream",
     "text": [
      "Reached limit\n",
      "Pulled 100 queries, 109 skipped\n",
      "Skipped reasons: Counter({'Linked to docs not included in model': 102, 'Not long enough': 6, 'Non-english': 1})\n"
     ]
    }
   ],
   "source": [
    "queries, doc_id2body, question_id2body, skipped = pull_training_data(limit=100)"
   ]
  },
  {
   "cell_type": "markdown",
   "metadata": {},
   "source": [
    "## Creating the train/test sets\n",
    "The train/test split is done on a pivot date to ensure that all of the queries in the test set were asked after the qeuries in the training set. This emulates the production behavior of Ranker; we can't train on questions that haven't been asked yet."
   ]
  },
  {
   "cell_type": "code",
   "execution_count": 18,
   "metadata": {
    "ExecuteTime": {
     "end_time": "2018-12-05T22:36:49.726068Z",
     "start_time": "2018-12-05T22:36:49.720971Z"
    }
   },
   "outputs": [],
   "source": [
    "def split_train_test(queries, date_split_proportion):\n",
    "    \"\"\"Split data into test and train sets, based upon the data of the input\n",
    "    queries. The training and test sets will contain only the `max_num_queries`\n",
    "    most recent queries.\n",
    "\n",
    "    :param queries: The sample to be split.\n",
    "    :param date_split_proportion: The fraction of original queries to be placed\n",
    "        in the training set.\n",
    "    :type queries: [dict]\n",
    "    :type date_split_proportion: float\n",
    "    :rtype: datetime, [dict], [dict]\n",
    "\n",
    "    \"\"\"\n",
    "    queries_by_date = sorted(queries, key=lambda x: x['date'])\n",
    "    offset = int(len(queries_by_date) * date_split_proportion)\n",
    "    date_pivot_point = queries_by_date[offset]['date']\n",
    "    return date_pivot_point, queries_by_date[:offset], queries_by_date[offset:]"
   ]
  },
  {
   "cell_type": "code",
   "execution_count": 19,
   "metadata": {
    "ExecuteTime": {
     "end_time": "2018-12-05T22:36:50.346819Z",
     "start_time": "2018-12-05T22:36:50.341962Z"
    }
   },
   "outputs": [
    {
     "name": "stdout",
     "output_type": "stream",
     "text": [
      "75 queries in train set\n",
      "25 queries in test set\n",
      "Date pivot point: 2018-10-10T04:54:38Z\n"
     ]
    }
   ],
   "source": [
    "date_pivot, train, test = split_train_test(queries, date_split_proportion=0.75)\n",
    "print(\"%d queries in train set\" % len(train))\n",
    "print(\"%d queries in test set\" % len(test))\n",
    "print(\"Date pivot point:\", date_pivot)"
   ]
  },
  {
   "cell_type": "markdown",
   "metadata": {},
   "source": [
    "## Creating Negative Instances\n",
    "Given a list of queries, the next step is to create the negative instances. This is done using a Solr query that retrieves the 200 most similar solutions to a question and all of those solutions are combined with the question to be a negative instance if they aren't already linked. "
   ]
  },
  {
   "cell_type": "code",
   "execution_count": 20,
   "metadata": {
    "ExecuteTime": {
     "end_time": "2018-12-05T22:36:51.588744Z",
     "start_time": "2018-12-05T22:36:51.584262Z"
    }
   },
   "outputs": [],
   "source": [
    "def get_top_n_unlinked_solution_ids_from_solr(question, n):\n",
    "    query = question[\"body\"]\n",
    "    response = solr.search(solr_escape(query.replace(\"\\n\", \" \")),\n",
    "                           fq=RESULT_FQ,\n",
    "                           fl='id, score',\n",
    "                           rows=n)\n",
    "    for doc in response.docs:\n",
    "        if \"links_to_solution\" in question:\n",
    "            if doc[\"id\"] not in question[\"links_to_solution\"]:\n",
    "                yield doc[\"id\"]"
   ]
  },
  {
   "cell_type": "markdown",
   "metadata": {},
   "source": [
    "## Creating a DataFrame\n",
    "The next step is to convert the raw data into a DataFrame that contains the `question_id`, `solution_id`, and `target`. The question date will not be used; the input to the function that creates the DataFrame will ignore the date. This means we'll call this function once on the train set queries and again on the test set queries to create the train DataFrame and test DataFrame."
   ]
  },
  {
   "cell_type": "code",
   "execution_count": 21,
   "metadata": {
    "ExecuteTime": {
     "end_time": "2018-12-05T22:36:52.225511Z",
     "start_time": "2018-12-05T22:36:52.217883Z"
    }
   },
   "outputs": [],
   "source": [
    "def create_instance(question_id, solution_id, target):\n",
    "    return {\"question_id\": question_id,\n",
    "            \"solution_id\": solution_id,\n",
    "            \"target\": target}\n",
    "\n",
    "def create_dataframe(queries, n):\n",
    "    progress_bar = IntProgress(min=0, max=len(queries), description='Adding queries:', bar_style='info')\n",
    "    display(progress_bar)\n",
    "\n",
    "    instances = []\n",
    "    for count, query in enumerate(queries):\n",
    "        if count % 1000 == 0:\n",
    "            progress_bar.value = count\n",
    "        \n",
    "        # create positive instances\n",
    "        for solution_id in query[\"links_to_solution\"]:\n",
    "            instances.append(create_instance(query[\"id\"], solution_id, target=1))\n",
    "\n",
    "        # find and create negative instances\n",
    "        try:\n",
    "            for solution_id in get_top_n_unlinked_solution_ids_from_solr(query, n):\n",
    "                instances.append(create_instance(query[\"id\"], solution_id, target=0))\n",
    "        except SolrError:\n",
    "            pass\n",
    "    progress_bar.value = len(queries)\n",
    "    return pd.DataFrame(instances)"
   ]
  },
  {
   "cell_type": "code",
   "execution_count": 22,
   "metadata": {
    "ExecuteTime": {
     "end_time": "2018-12-05T22:36:55.325602Z",
     "start_time": "2018-12-05T22:36:52.720534Z"
    }
   },
   "outputs": [
    {
     "data": {
      "application/vnd.jupyter.widget-view+json": {
       "model_id": "a9bec6cf633f4cb5ada4548b7ef6c129",
       "version_major": 2,
       "version_minor": 0
      },
      "text/plain": [
       "IntProgress(value=0, bar_style='info', description='Adding queries:', max=25)"
      ]
     },
     "metadata": {},
     "output_type": "display_data"
    },
    {
     "data": {
      "text/html": [
       "<div>\n",
       "<style scoped>\n",
       "    .dataframe tbody tr th:only-of-type {\n",
       "        vertical-align: middle;\n",
       "    }\n",
       "\n",
       "    .dataframe tbody tr th {\n",
       "        vertical-align: top;\n",
       "    }\n",
       "\n",
       "    .dataframe thead th {\n",
       "        text-align: right;\n",
       "    }\n",
       "</style>\n",
       "<table border=\"1\" class=\"dataframe\">\n",
       "  <thead>\n",
       "    <tr style=\"text-align: right;\">\n",
       "      <th></th>\n",
       "      <th>question_id</th>\n",
       "      <th>solution_id</th>\n",
       "      <th>target</th>\n",
       "    </tr>\n",
       "  </thead>\n",
       "  <tbody>\n",
       "    <tr>\n",
       "      <th>0</th>\n",
       "      <td>18bc222b-c8f3-5940-b622-32d3bbbae8bc</td>\n",
       "      <td>09db7ca3-5e76-50c3-9f34-c20cbdc1cc98</td>\n",
       "      <td>1</td>\n",
       "    </tr>\n",
       "    <tr>\n",
       "      <th>1</th>\n",
       "      <td>18bc222b-c8f3-5940-b622-32d3bbbae8bc</td>\n",
       "      <td>901c1086-31d6-54bd-8c03-6be55205b68a</td>\n",
       "      <td>0</td>\n",
       "    </tr>\n",
       "    <tr>\n",
       "      <th>2</th>\n",
       "      <td>18bc222b-c8f3-5940-b622-32d3bbbae8bc</td>\n",
       "      <td>154a6f02-3fb8-5855-8427-9c96c3200b8f</td>\n",
       "      <td>0</td>\n",
       "    </tr>\n",
       "    <tr>\n",
       "      <th>3</th>\n",
       "      <td>18bc222b-c8f3-5940-b622-32d3bbbae8bc</td>\n",
       "      <td>bfda5d3e-5d86-5afc-b2ad-72233d48c172</td>\n",
       "      <td>0</td>\n",
       "    </tr>\n",
       "    <tr>\n",
       "      <th>4</th>\n",
       "      <td>1ca65309-a397-509d-9168-d4e0a3705a8a</td>\n",
       "      <td>4003573f-9485-5f3b-a4e7-b545637eb886</td>\n",
       "      <td>1</td>\n",
       "    </tr>\n",
       "    <tr>\n",
       "      <th>5</th>\n",
       "      <td>1ca65309-a397-509d-9168-d4e0a3705a8a</td>\n",
       "      <td>e1189788-a21c-5d65-92df-501b7bbf6300</td>\n",
       "      <td>0</td>\n",
       "    </tr>\n",
       "    <tr>\n",
       "      <th>6</th>\n",
       "      <td>1ca65309-a397-509d-9168-d4e0a3705a8a</td>\n",
       "      <td>e8d4fb3a-ba6a-5258-ae6f-0c771305b048</td>\n",
       "      <td>0</td>\n",
       "    </tr>\n",
       "    <tr>\n",
       "      <th>7</th>\n",
       "      <td>1660457c-b4e4-5ac8-ba5c-b15f04efc208</td>\n",
       "      <td>a2faa2cd-c948-5a86-a066-bbea680dd41a</td>\n",
       "      <td>1</td>\n",
       "    </tr>\n",
       "    <tr>\n",
       "      <th>8</th>\n",
       "      <td>1660457c-b4e4-5ac8-ba5c-b15f04efc208</td>\n",
       "      <td>d6918260-fcac-5876-b915-efd148677fd6</td>\n",
       "      <td>0</td>\n",
       "    </tr>\n",
       "    <tr>\n",
       "      <th>9</th>\n",
       "      <td>1660457c-b4e4-5ac8-ba5c-b15f04efc208</td>\n",
       "      <td>00719985-29f1-589b-9960-5dc1ba5ec761</td>\n",
       "      <td>0</td>\n",
       "    </tr>\n",
       "  </tbody>\n",
       "</table>\n",
       "</div>"
      ],
      "text/plain": [
       "                            question_id                           solution_id  \\\n",
       "0  18bc222b-c8f3-5940-b622-32d3bbbae8bc  09db7ca3-5e76-50c3-9f34-c20cbdc1cc98   \n",
       "1  18bc222b-c8f3-5940-b622-32d3bbbae8bc  901c1086-31d6-54bd-8c03-6be55205b68a   \n",
       "2  18bc222b-c8f3-5940-b622-32d3bbbae8bc  154a6f02-3fb8-5855-8427-9c96c3200b8f   \n",
       "3  18bc222b-c8f3-5940-b622-32d3bbbae8bc  bfda5d3e-5d86-5afc-b2ad-72233d48c172   \n",
       "4  1ca65309-a397-509d-9168-d4e0a3705a8a  4003573f-9485-5f3b-a4e7-b545637eb886   \n",
       "5  1ca65309-a397-509d-9168-d4e0a3705a8a  e1189788-a21c-5d65-92df-501b7bbf6300   \n",
       "6  1ca65309-a397-509d-9168-d4e0a3705a8a  e8d4fb3a-ba6a-5258-ae6f-0c771305b048   \n",
       "7  1660457c-b4e4-5ac8-ba5c-b15f04efc208  a2faa2cd-c948-5a86-a066-bbea680dd41a   \n",
       "8  1660457c-b4e4-5ac8-ba5c-b15f04efc208  d6918260-fcac-5876-b915-efd148677fd6   \n",
       "9  1660457c-b4e4-5ac8-ba5c-b15f04efc208  00719985-29f1-589b-9960-5dc1ba5ec761   \n",
       "\n",
       "   target  \n",
       "0       1  \n",
       "1       0  \n",
       "2       0  \n",
       "3       0  \n",
       "4       1  \n",
       "5       0  \n",
       "6       0  \n",
       "7       1  \n",
       "8       0  \n",
       "9       0  "
      ]
     },
     "execution_count": 22,
     "metadata": {},
     "output_type": "execute_result"
    }
   ],
   "source": [
    "test_df = create_dataframe(test, 3)\n",
    "test_df.head(10)"
   ]
  },
  {
   "cell_type": "markdown",
   "metadata": {},
   "source": [
    "## Vectorizing the bodies\n",
    "The following function will take in the id -> body dictionaries and return an id -> vector dictionary. These indexed vectors will greatly speed up the vectorization of each question-solution pair, since the question and solution are vectorized independently and each question appears in ~200 instances so we wouldn't want to vectorize that multiple times. With the id -> vector dict, we can iterate across the rows in the instance dataframe and create the instance vector by looking up the question vector and solution vector and then concatenating them.  "
   ]
  },
  {
   "cell_type": "code",
   "execution_count": 23,
   "metadata": {
    "ExecuteTime": {
     "end_time": "2018-12-05T22:36:55.336561Z",
     "start_time": "2018-12-05T22:36:55.328034Z"
    }
   },
   "outputs": [],
   "source": [
    "def get_id2vector(doc_id2body, question_id2body, w2v):\n",
    "    number_of_vectors = len(doc_id2body) + len(question_id2body)\n",
    "    progress_bar = IntProgress(min=0, max=(number_of_vectors - 1), description='Vectorizing:', bar_style='info')\n",
    "    display(progress_bar)\n",
    "    \n",
    "    skipped_questions = {}\n",
    "    skipped_docs = {}\n",
    "    id2vector = {}\n",
    "    for count, (doc_id, body) in enumerate(doc_id2body.items()):\n",
    "        if count % 1000 == 0:\n",
    "            progress_bar.value = count\n",
    "        vector = vectorize_body(body, w2v)\n",
    "        if vector is not None:\n",
    "            id2vector[doc_id] = vector\n",
    "        else:\n",
    "            skipped_docs[doc_id] = body\n",
    "    \n",
    "    prev_count = count\n",
    "    for count, (question_id, body) in enumerate(question_id2body.items()):\n",
    "        if count % 1000 == 0:\n",
    "            progress_bar.value = prev_count + count\n",
    "        vector = vectorize_body(body, w2v)\n",
    "        if vector is not None:\n",
    "            id2vector[question_id] = vector\n",
    "        else:\n",
    "            skipped_questions[question_id] = body\n",
    "    progress_bar.value = number_of_vectors - 1\n",
    "    return id2vector, skipped_docs, skipped_questions"
   ]
  },
  {
   "cell_type": "code",
   "execution_count": 24,
   "metadata": {
    "ExecuteTime": {
     "end_time": "2018-12-05T22:37:22.850383Z",
     "start_time": "2018-12-05T22:36:55.338308Z"
    }
   },
   "outputs": [
    {
     "data": {
      "application/vnd.jupyter.widget-view+json": {
       "model_id": "cf39034772c249c196e3fbab61feafdf",
       "version_major": 2,
       "version_minor": 0
      },
      "text/plain": [
       "IntProgress(value=0, bar_style='info', description='Vectorizing:', max=3660)"
      ]
     },
     "metadata": {},
     "output_type": "display_data"
    }
   ],
   "source": [
    "id2vector, skipped_docs, skipped_questions = get_id2vector(doc_id2body, question_id2body, model)"
   ]
  },
  {
   "cell_type": "code",
   "execution_count": 25,
   "metadata": {
    "ExecuteTime": {
     "end_time": "2018-12-05T22:37:22.858219Z",
     "start_time": "2018-12-05T22:37:22.853220Z"
    }
   },
   "outputs": [
    {
     "data": {
      "text/plain": [
       "3661"
      ]
     },
     "execution_count": 25,
     "metadata": {},
     "output_type": "execute_result"
    }
   ],
   "source": [
    "len(id2vector)"
   ]
  },
  {
   "cell_type": "code",
   "execution_count": 26,
   "metadata": {
    "ExecuteTime": {
     "end_time": "2018-12-05T22:37:22.873539Z",
     "start_time": "2018-12-05T22:37:22.860800Z"
    }
   },
   "outputs": [
    {
     "data": {
      "text/plain": [
       "array([ 4.68046404e-02,  4.80421400e-03,  1.80859044e-02,  3.77476998e-02,\n",
       "       -9.31000188e-02,  5.01505546e-02, -1.59560307e-03, -2.32217573e-02,\n",
       "        9.93321761e-02,  5.92856929e-02, -9.23220292e-02, -5.46396039e-02,\n",
       "       -2.11357549e-02, -1.27525330e-02, -3.51381823e-02,  6.18998222e-02,\n",
       "        3.58242467e-02,  6.69381917e-02, -2.58411840e-02, -8.98434296e-02,\n",
       "        6.25610352e-04,  4.12623100e-02, -4.25516777e-02,  1.04795033e-02,\n",
       "       -8.27323087e-03, -1.73613224e-02, -1.08453065e-01,  1.26775533e-01,\n",
       "        4.71773148e-02, -4.98174019e-02, -1.11055113e-02, -1.57212950e-02,\n",
       "       -2.24246979e-02, -3.99213359e-02, -6.61082789e-02, -4.97627258e-02,\n",
       "       -2.41673794e-02, -1.40694510e-02,  2.14653015e-02,  2.31734384e-02,\n",
       "        3.11686192e-02,  4.03832346e-02,  1.04281954e-01,  1.29183661e-02,\n",
       "       -3.15576121e-02, -7.05483779e-02, -3.38601023e-02, -3.10077667e-02,\n",
       "       -7.04659335e-03, -8.36171024e-03, -6.94794133e-02, -4.17166799e-02,\n",
       "        2.12425664e-02, -6.32892177e-02, -3.01513672e-02,  7.30129853e-02,\n",
       "       -4.68868669e-03, -4.47156690e-02,  7.41312234e-03,  3.40376957e-03,\n",
       "        2.73005175e-03,  7.26148784e-02, -1.46938741e-01, -6.39597550e-02,\n",
       "       -2.70375144e-02, -3.01297512e-02, -1.57080754e-03,  8.95487443e-02,\n",
       "       -5.42112999e-02,  4.62036133e-02,  4.31539752e-02, -2.41394043e-02,\n",
       "        6.33667856e-02, -5.97631671e-02, -7.95366466e-02, -1.06088430e-01,\n",
       "        9.65643972e-02,  6.57823344e-04,  7.32968673e-02,  6.84327260e-02,\n",
       "        4.20811959e-02, -5.36452420e-03,  2.51369476e-02,  2.08082199e-02,\n",
       "        4.59866002e-02, -6.56824633e-02, -4.47767042e-02,  1.31072998e-01,\n",
       "        8.04053387e-04,  2.67242063e-02, -2.59526563e-03, -5.55309728e-02,\n",
       "       -5.80020472e-02, -4.93554734e-02,  1.27682155e-02, -3.67927551e-03,\n",
       "        1.69071630e-02,  9.61727556e-03,  5.94927482e-02,  2.35864855e-02,\n",
       "        1.12001896e-02, -5.83136864e-02, -1.40546160e-02,  1.20968954e-03,\n",
       "       -4.86984253e-02,  7.36465454e-02, -7.34087601e-02, -1.11558707e-03,\n",
       "        2.20520496e-02, -5.30156307e-02, -5.62256724e-02, -8.02268982e-02,\n",
       "       -2.39325631e-02, -4.48608398e-03,  8.50425810e-02,  1.09778933e-01,\n",
       "       -1.87566541e-02, -6.92386627e-02,  1.62244111e-01,  1.47997541e-02,\n",
       "       -8.01724121e-02, -3.36307958e-02, -8.34624469e-02,  3.44530754e-02,\n",
       "        4.59446386e-02, -3.28318286e-03, -6.80122375e-02,  1.97397862e-02,\n",
       "        5.53328209e-02,  9.03105736e-03,  2.21533235e-03,  3.36197764e-02,\n",
       "       -2.90777422e-02, -1.42801069e-02,  1.64756775e-02, -7.89801255e-02,\n",
       "        2.62229703e-02, -5.42110875e-02, -4.97966334e-02,  2.16481946e-02,\n",
       "        5.09559847e-02, -8.88402760e-02,  1.95041224e-02,  2.75537698e-03,\n",
       "       -1.37430830e-02, -1.08176339e-02,  1.26211382e-02, -5.43159898e-03,\n",
       "       -1.60912406e-02, -2.78244019e-02,  1.09899126e-01, -3.16967443e-02,\n",
       "       -2.58200038e-02,  3.77918892e-02,  2.38740705e-02, -1.97584368e-02,\n",
       "       -7.25529715e-02, -2.35536369e-03, -8.81809667e-02, -2.75967922e-02,\n",
       "       -5.33900522e-02,  6.78422749e-02, -1.54294968e-02,  3.56326625e-02,\n",
       "        1.58233643e-02, -6.59116134e-02,  3.44284922e-02,  1.31657915e-02,\n",
       "       -6.94147721e-02,  1.69881191e-02, -1.13674589e-01, -4.68050651e-02,\n",
       "       -4.16280963e-02, -7.52033666e-02, -5.67548536e-02,  1.61728337e-02,\n",
       "        1.21145457e-01, -1.30255803e-01, -2.42419764e-02, -3.62279676e-02,\n",
       "       -1.04668036e-01, -6.28782362e-02, -6.90207481e-02, -3.06358337e-02,\n",
       "        1.82554461e-02,  4.58806343e-02, -3.54824066e-02,  1.13576250e-02,\n",
       "        9.24445242e-02,  3.44467163e-02,  2.94800866e-02, -1.84302330e-02,\n",
       "       -5.31768799e-02, -8.64834245e-03, -3.76332588e-02,  3.97381261e-02,\n",
       "       -3.20066884e-02, -3.34719568e-02, -3.84610482e-02, -1.26861989e-01,\n",
       "        3.59158516e-02,  5.97337075e-02,  1.13070803e-02,  6.19426295e-02,\n",
       "        2.47527231e-02,  1.46242781e-02, -5.36371879e-02,  1.95185340e-03,\n",
       "        5.77925593e-02,  1.92506574e-02, -1.58415898e-03,  9.51071829e-02,\n",
       "       -7.47472942e-02,  5.68650551e-02, -1.39549673e-01,  4.42574807e-02,\n",
       "        8.48532766e-02,  3.60120125e-02, -1.21185303e-01,  2.15708409e-02,\n",
       "       -7.62546435e-02,  2.83673611e-02,  2.00905278e-02,  1.65038637e-03,\n",
       "       -2.85989977e-02, -2.11995449e-02, -4.00076956e-02,  1.57038367e-03,\n",
       "        9.55505371e-02,  6.07342180e-03, -7.04678148e-02, -4.32595164e-02,\n",
       "        5.83237559e-02, -5.37652969e-02, -3.63041572e-02, -8.67883861e-02,\n",
       "       -1.09606851e-02, -2.82681789e-02,  4.78007533e-02, -6.42181747e-03,\n",
       "        1.98890213e-02, -2.93604527e-02,  2.02818979e-02, -1.15719266e-01,\n",
       "        1.61129627e-02, -4.50172424e-02, -6.98555820e-03,  1.27938375e-01,\n",
       "        6.74392879e-02, -3.06464303e-02, -1.89951789e-02,  3.24755758e-02,\n",
       "        1.18713379e-02, -4.99471044e-03,  2.81541608e-02, -2.89127566e-02,\n",
       "        4.05303091e-02, -2.99612414e-02, -3.50155309e-02, -6.16929792e-02,\n",
       "        6.20674565e-02, -3.12211784e-03,  1.82575651e-03, -1.14266081e-02,\n",
       "        2.85754725e-02,  9.24945399e-02, -2.31725909e-02, -2.25185826e-02,\n",
       "       -9.07443389e-02, -3.72865461e-02,  2.34035924e-02,  1.26915509e-02,\n",
       "        5.05718663e-02,  3.39092687e-02,  4.37304191e-02, -1.93721987e-02,\n",
       "        6.24593114e-03, -9.37042236e-02, -6.83197454e-02,  2.10827719e-02,\n",
       "       -3.86206321e-02,  1.02664098e-01,  3.90477702e-02,  5.70288748e-02,\n",
       "        5.93407936e-02, -3.34269218e-02, -1.17757581e-02, -4.18154411e-02,\n",
       "        9.33565013e-03,  5.67282587e-02, -6.97241649e-02,  5.64257316e-02,\n",
       "       -5.98201752e-02,  6.01900667e-02,  1.77785028e-02, -1.28875310e-02,\n",
       "       -3.21163610e-02, -5.84068298e-02,  1.18878679e-02,  2.32493076e-02,\n",
       "        2.85156250e-01,  3.12500000e-01,  3.26171875e-01,  6.36718750e-01,\n",
       "        1.00097656e-01,  3.92578125e-01,  3.63281250e-01,  4.06250000e-01,\n",
       "        6.48437500e-01,  5.58593750e-01,  2.05078125e-01,  4.35546875e-01,\n",
       "        2.89062500e-01,  1.87500000e-01,  3.51562500e-01,  4.23828125e-01,\n",
       "        3.35937500e-01,  3.47656250e-01,  2.38281250e-01,  3.80859375e-01,\n",
       "        5.93750000e-01,  4.88281250e-01,  3.67187500e-01,  4.74609375e-01,\n",
       "        3.04687500e-01,  4.86328125e-01,  2.41210938e-01,  5.19531250e-01,\n",
       "        3.39843750e-01,  4.12109375e-01,  2.37304688e-01,  3.76953125e-01,\n",
       "        3.78906250e-01,  3.75000000e-01,  3.30078125e-01,  2.10937500e-01,\n",
       "        3.53515625e-01,  2.73437500e-01,  7.26562500e-01,  3.30078125e-01,\n",
       "        3.30078125e-01,  7.10937500e-01,  7.92968750e-01,  4.92187500e-01,\n",
       "        3.43750000e-01,  2.29492188e-01,  2.98828125e-01,  2.75390625e-01,\n",
       "        2.83203125e-01,  4.23828125e-01,  2.31445312e-01,  3.35937500e-01,\n",
       "        3.12500000e-01,  3.67187500e-01,  3.20312500e-01,  2.85156250e-01,\n",
       "        3.20312500e-01,  3.71093750e-01,  3.02734375e-01,  4.51171875e-01,\n",
       "        3.02734375e-01,  4.04296875e-01,  2.63671875e-01,  3.06640625e-01,\n",
       "        3.37890625e-01,  2.40234375e-01,  2.91015625e-01,  3.32031250e-01,\n",
       "        2.20703125e-01,  4.90234375e-01,  4.25781250e-01,  3.22265625e-01,\n",
       "        2.96875000e-01,  2.40234375e-01,  4.88281250e-01,  1.69921875e-01,\n",
       "        4.55078125e-01,  4.57031250e-01,  3.94531250e-01,  6.52343750e-01,\n",
       "        2.73437500e-01,  4.02343750e-01,  2.75390625e-01,  3.65234375e-01,\n",
       "        5.50781250e-01,  5.35156250e-01,  3.43750000e-01,  4.10156250e-01,\n",
       "        3.18359375e-01,  2.75390625e-01,  2.79296875e-01,  2.57812500e-01,\n",
       "        2.89062500e-01,  5.11718750e-01,  2.38281250e-01,  5.89843750e-01,\n",
       "        4.53125000e-01,  4.55078125e-01,  4.45312500e-01,  4.00390625e-01,\n",
       "        3.33984375e-01,  2.89062500e-01,  3.33984375e-01,  3.88671875e-01,\n",
       "        3.76953125e-01,  5.70312500e-01,  3.10546875e-01,  4.78515625e-01,\n",
       "        3.73046875e-01,  3.59375000e-01,  2.34375000e-01,  2.34375000e-01,\n",
       "        4.35546875e-01,  3.75000000e-01,  3.90625000e-01,  4.31640625e-01,\n",
       "        3.75000000e-01,  3.24218750e-01,  5.74218750e-01,  3.47656250e-01,\n",
       "        2.38281250e-01,  3.10546875e-01,  3.14453125e-01,  2.59765625e-01,\n",
       "        3.55468750e-01,  3.67187500e-01,  2.09960938e-01,  5.46875000e-01,\n",
       "        3.37890625e-01,  2.87109375e-01,  4.43359375e-01,  3.98437500e-01,\n",
       "        6.36718750e-01,  3.51562500e-01,  3.49609375e-01,  2.49023438e-01,\n",
       "        3.45703125e-01,  1.90429688e-01,  2.35351562e-01,  3.55468750e-01,\n",
       "        2.73437500e-01,  3.10546875e-01,  3.18359375e-01,  4.33593750e-01,\n",
       "        2.23632812e-01,  3.35937500e-01,  3.82812500e-01,  3.47656250e-01,\n",
       "        3.32031250e-01,  2.38281250e-01,  7.26562500e-01,  4.02343750e-01,\n",
       "        4.43359375e-01,  4.06250000e-01,  4.35546875e-01,  3.22265625e-01,\n",
       "        1.69921875e-01,  5.66406250e-01,  9.61914062e-02,  3.65234375e-01,\n",
       "        4.43359375e-01,  4.35546875e-01,  3.49609375e-01,  2.87109375e-01,\n",
       "        3.28125000e-01,  1.45507812e-01,  4.78515625e-01,  3.80859375e-01,\n",
       "        2.65625000e-01,  3.33984375e-01,  2.46093750e-01,  2.81250000e-01,\n",
       "        2.29492188e-01,  4.90234375e-01,  3.47656250e-01,  3.12500000e-01,\n",
       "        5.74218750e-01,  2.16796875e-01,  7.73437500e-01,  3.43750000e-01,\n",
       "        1.75781250e-01,  2.10937500e-01,  1.91406250e-01,  2.10937500e-01,\n",
       "        3.86718750e-01,  4.14062500e-01,  3.39843750e-01,  4.49218750e-01,\n",
       "        3.63281250e-01,  3.78906250e-01,  4.37500000e-01,  2.81250000e-01,\n",
       "        2.85156250e-01,  4.16015625e-01,  4.41406250e-01,  3.84765625e-01,\n",
       "        4.68750000e-01,  1.69921875e-01,  2.98828125e-01,  2.85156250e-01,\n",
       "        3.94531250e-01,  3.55468750e-01,  4.27734375e-01,  4.98046875e-01,\n",
       "        4.66796875e-01,  2.65625000e-01,  2.42187500e-01,  2.57812500e-01,\n",
       "        3.20312500e-01,  5.00000000e-01,  2.85156250e-01,  5.11718750e-01,\n",
       "        3.33984375e-01,  4.80468750e-01,  3.00781250e-01,  3.98437500e-01,\n",
       "        3.51562500e-01,  5.15625000e-01,  1.72851562e-01,  4.66796875e-01,\n",
       "        3.98437500e-01,  5.54687500e-01,  4.37500000e-01,  3.04687500e-01,\n",
       "        2.85156250e-01,  2.40234375e-01,  6.95312500e-01,  6.71875000e-01,\n",
       "        9.02343750e-01,  3.59375000e-01,  2.75390625e-01,  3.76953125e-01,\n",
       "        4.49218750e-01,  2.75390625e-01,  3.32031250e-01,  1.94335938e-01,\n",
       "        3.24218750e-01,  5.23437500e-01,  3.45703125e-01,  3.24218750e-01,\n",
       "        3.30078125e-01,  2.63671875e-01,  3.24218750e-01,  1.77734375e-01,\n",
       "        3.96484375e-01,  2.43164062e-01,  2.87109375e-01,  5.74218750e-01,\n",
       "        5.58593750e-01,  3.41796875e-01,  3.61328125e-01,  3.92578125e-01,\n",
       "        4.25781250e-01,  3.96484375e-01,  4.49218750e-01,  5.97656250e-01,\n",
       "        3.76953125e-01,  3.82812500e-01,  4.72656250e-01,  3.80859375e-01,\n",
       "        4.98046875e-01,  4.17968750e-01,  4.41406250e-01,  4.51171875e-01,\n",
       "        3.10546875e-01,  4.25781250e-01,  3.71093750e-01,  2.75390625e-01,\n",
       "        2.00195312e-01,  2.87109375e-01,  3.22265625e-01,  2.98828125e-01,\n",
       "        4.86328125e-01,  3.98437500e-01,  2.30468750e-01,  5.11718750e-01,\n",
       "        4.88281250e-01,  2.07031250e-01,  1.67968750e-01,  4.45312500e-01,\n",
       "        2.59765625e-01,  5.11718750e-01,  8.20312500e-01,  3.39843750e-01,\n",
       "        3.53515625e-01,  2.61718750e-01,  3.37890625e-01,  3.02734375e-01,\n",
       "        3.10546875e-01,  8.39843750e-01,  2.85156250e-01,  6.48437500e-01,\n",
       "        2.77343750e-01,  5.07812500e-01,  5.35156250e-01,  4.16015625e-01,\n",
       "        3.57421875e-01,  2.07031250e-01,  4.08203125e-01,  3.94531250e-01],\n",
       "      dtype=float32)"
      ]
     },
     "execution_count": 26,
     "metadata": {},
     "output_type": "execute_result"
    }
   ],
   "source": [
    "id2vector[queries[0][\"id\"]]"
   ]
  },
  {
   "cell_type": "markdown",
   "metadata": {},
   "source": [
    "## Parallelization with Dask\n",
    "We'll want to utilize parallel computing wherever possible, as the large dataset results in compute times of over several hours for both the data collection and vectorization steps. The [`dask`](https://dask.org/) library will be used. This section is still a WIP. When used with the full dataset of ~70,000 queries, there were some issues that prevented it from working. I'll leave this section in the notebook for possible future reference, but you can skip to the __________ section. "
   ]
  },
  {
   "cell_type": "code",
   "execution_count": 15,
   "metadata": {
    "ExecuteTime": {
     "end_time": "2018-12-03T16:36:46.623780Z",
     "start_time": "2018-12-03T16:36:46.470124Z"
    }
   },
   "outputs": [],
   "source": [
    "# !{\"dask-scheduler &\"}"
   ]
  },
  {
   "cell_type": "code",
   "execution_count": 1,
   "metadata": {
    "ExecuteTime": {
     "end_time": "2018-12-05T07:50:57.159777Z",
     "start_time": "2018-12-05T07:50:56.609701Z"
    }
   },
   "outputs": [],
   "source": [
    "from dask.distributed import Client, LocalCluster, progress\n",
    "import dask.dataframe as dd\n",
    "\n",
    "# if client:\n",
    "#     client.close()\n",
    "    \n",
    "client = Client(n_workers=2, threads_per_worker=8, address='tcp://172.17.0.3:8786')"
   ]
  },
  {
   "cell_type": "code",
   "execution_count": 2,
   "metadata": {
    "ExecuteTime": {
     "end_time": "2018-12-05T07:51:04.176313Z",
     "start_time": "2018-12-05T07:51:02.957308Z"
    }
   },
   "outputs": [
    {
     "data": {
      "text/html": [
       "<table style=\"border: 2px solid white;\">\n",
       "<tr>\n",
       "<td style=\"vertical-align: top; border: 0px solid white\">\n",
       "<h3>Client</h3>\n",
       "<ul>\n",
       "  <li><b>Scheduler: </b>tcp://172.17.0.3:8786\n",
       "  <li><b>Dashboard: </b><a href='http://172.17.0.3:8787/status' target='_blank'>http://172.17.0.3:8787/status</a>\n",
       "</ul>\n",
       "</td>\n",
       "<td style=\"vertical-align: top; border: 0px solid white\">\n",
       "<h3>Cluster</h3>\n",
       "<ul>\n",
       "  <li><b>Workers: </b>2</li>\n",
       "  <li><b>Cores: </b>16</li>\n",
       "  <li><b>Memory: </b>128.77 GB</li>\n",
       "</ul>\n",
       "</td>\n",
       "</tr>\n",
       "</table>"
      ],
      "text/plain": [
       "<Client: scheduler='tcp://172.17.0.3:8786' processes=0 cores=0>"
      ]
     },
     "execution_count": 2,
     "metadata": {},
     "output_type": "execute_result"
    }
   ],
   "source": [
    "client.restart()"
   ]
  },
  {
   "cell_type": "code",
   "execution_count": 27,
   "metadata": {
    "ExecuteTime": {
     "end_time": "2018-12-05T22:37:22.879285Z",
     "start_time": "2018-12-05T22:37:22.875542Z"
    }
   },
   "outputs": [],
   "source": [
    "def vectorize_row(row):\n",
    "    return concatenate_vectors(id2vector[row.question_id], id2vector[row.solution_id])"
   ]
  },
  {
   "cell_type": "code",
   "execution_count": 15,
   "metadata": {
    "ExecuteTime": {
     "end_time": "2018-12-05T07:29:46.521118Z",
     "start_time": "2018-12-05T07:29:33.756212Z"
    }
   },
   "outputs": [],
   "source": [
    "small_test_df = test_df\n",
    "\n",
    "test_dd = dd.from_pandas(small_test_df, npartitions=25)\n",
    "test_dd[\"vector\"] = test_dd.apply(vectorize_row, axis=1, meta=pd.Series(dtype='float32', name='vector'))\n",
    "# test_dd = test_dd.persist()"
   ]
  },
  {
   "cell_type": "code",
   "execution_count": 16,
   "metadata": {
    "ExecuteTime": {
     "end_time": "2018-12-05T07:30:18.982983Z",
     "start_time": "2018-12-05T07:30:18.924450Z"
    }
   },
   "outputs": [],
   "source": [
    "test_dd = test_dd.persist()"
   ]
  },
  {
   "cell_type": "code",
   "execution_count": 21,
   "metadata": {
    "ExecuteTime": {
     "end_time": "2018-12-05T07:40:37.481848Z",
     "start_time": "2018-12-05T07:40:37.453912Z"
    }
   },
   "outputs": [
    {
     "data": {
      "text/plain": [
       "[array([0.052948  , 0.03463123, 0.01406804, ..., 0.36523438, 0.40820312,\n",
       "        0.39257812], dtype=float32),\n",
       " array([0.052948  , 0.03463123, 0.01406804, ..., 0.35742188, 0.51171875,\n",
       "        0.5234375 ], dtype=float32),\n",
       " array([0.052948  , 0.03463123, 0.01406804, ..., 0.3046875 , 0.40820312,\n",
       "        0.41601562], dtype=float32),\n",
       " array([0.052948  , 0.03463123, 0.01406804, ..., 0.59375   , 0.52734375,\n",
       "        0.6640625 ], dtype=float32),\n",
       " array([0.052948  , 0.03463123, 0.01406804, ..., 0.38867188, 0.3203125 ,\n",
       "        0.578125  ], dtype=float32)]"
      ]
     },
     "execution_count": 21,
     "metadata": {},
     "output_type": "execute_result"
    }
   ],
   "source": [
    "# rdd.map(lambda row: vectorize_body(row[1], spark_w2v_dict.value)).collect()\n"
   ]
  },
  {
   "cell_type": "code",
   "execution_count": 91,
   "metadata": {
    "ExecuteTime": {
     "end_time": "2018-11-30T20:59:36.373474Z",
     "start_time": "2018-11-30T20:59:35.543663Z"
    },
    "scrolled": false
   },
   "outputs": [],
   "source": [
    "test_dd[\"vector\"] = test_dd.apply(vectorize_row, axis=1, meta=pd.Series(dtype='float32', name='vector'))"
   ]
  },
  {
   "cell_type": "code",
   "execution_count": 93,
   "metadata": {
    "ExecuteTime": {
     "end_time": "2018-11-30T21:01:08.156251Z",
     "start_time": "2018-11-30T21:01:03.799867Z"
    }
   },
   "outputs": [
    {
     "data": {
      "text/html": [
       "<div>\n",
       "<style scoped>\n",
       "    .dataframe tbody tr th:only-of-type {\n",
       "        vertical-align: middle;\n",
       "    }\n",
       "\n",
       "    .dataframe tbody tr th {\n",
       "        vertical-align: top;\n",
       "    }\n",
       "\n",
       "    .dataframe thead th {\n",
       "        text-align: right;\n",
       "    }\n",
       "</style>\n",
       "<table border=\"1\" class=\"dataframe\">\n",
       "  <thead>\n",
       "    <tr style=\"text-align: right;\">\n",
       "      <th></th>\n",
       "      <th>question_id</th>\n",
       "      <th>solution_id</th>\n",
       "      <th>target</th>\n",
       "      <th>vector</th>\n",
       "    </tr>\n",
       "  </thead>\n",
       "  <tbody>\n",
       "    <tr>\n",
       "      <th>0</th>\n",
       "      <td>e45509de-a086-5ba0-a268-9ec9f561736a</td>\n",
       "      <td>23b97fc0-e2a3-5aa0-8cc2-7f579ecffe78</td>\n",
       "      <td>1</td>\n",
       "      <td>[0.084625244, 0.021258883, 0.007941352, -0.010...</td>\n",
       "    </tr>\n",
       "    <tr>\n",
       "      <th>1</th>\n",
       "      <td>e45509de-a086-5ba0-a268-9ec9f561736a</td>\n",
       "      <td>3d13938b-bedc-5658-8fcd-89ad94a8687c</td>\n",
       "      <td>0</td>\n",
       "      <td>[0.084625244, 0.021258883, 0.007941352, -0.010...</td>\n",
       "    </tr>\n",
       "    <tr>\n",
       "      <th>2</th>\n",
       "      <td>e45509de-a086-5ba0-a268-9ec9f561736a</td>\n",
       "      <td>77421b0d-6b7b-5223-894f-7c149a2a11ad</td>\n",
       "      <td>0</td>\n",
       "      <td>[0.084625244, 0.021258883, 0.007941352, -0.010...</td>\n",
       "    </tr>\n",
       "    <tr>\n",
       "      <th>3</th>\n",
       "      <td>1ca9a1c4-3c70-5056-8f04-9291728455b9</td>\n",
       "      <td>9977be47-3477-55c8-8cf0-5ee5542aefbe</td>\n",
       "      <td>1</td>\n",
       "      <td>[-0.02550987, 0.03704721, 0.101571545, 0.09271...</td>\n",
       "    </tr>\n",
       "    <tr>\n",
       "      <th>4</th>\n",
       "      <td>1ca9a1c4-3c70-5056-8f04-9291728455b9</td>\n",
       "      <td>e0d48678-b127-5b7b-a26b-b84a027fec64</td>\n",
       "      <td>0</td>\n",
       "      <td>[-0.02550987, 0.03704721, 0.101571545, 0.09271...</td>\n",
       "    </tr>\n",
       "    <tr>\n",
       "      <th>5</th>\n",
       "      <td>1ca9a1c4-3c70-5056-8f04-9291728455b9</td>\n",
       "      <td>25fe17bc-22b3-52cf-91da-752f0ee55d7f</td>\n",
       "      <td>0</td>\n",
       "      <td>[-0.02550987, 0.03704721, 0.101571545, 0.09271...</td>\n",
       "    </tr>\n",
       "    <tr>\n",
       "      <th>6</th>\n",
       "      <td>1ca9a1c4-3c70-5056-8f04-9291728455b9</td>\n",
       "      <td>187362a9-1305-5079-ad25-ff9749ce0586</td>\n",
       "      <td>0</td>\n",
       "      <td>[-0.02550987, 0.03704721, 0.101571545, 0.09271...</td>\n",
       "    </tr>\n",
       "    <tr>\n",
       "      <th>7</th>\n",
       "      <td>f528ca88-1c71-5e11-b762-eb9ae3c626b2</td>\n",
       "      <td>1f128b52-b0a0-5fe6-86a1-71ab8a0f02a5</td>\n",
       "      <td>1</td>\n",
       "      <td>[0.054147575, -0.10364708, 0.049870417, 0.0237...</td>\n",
       "    </tr>\n",
       "    <tr>\n",
       "      <th>8</th>\n",
       "      <td>f528ca88-1c71-5e11-b762-eb9ae3c626b2</td>\n",
       "      <td>bf09fd32-88f1-59a3-831b-5f2a1b8bb880</td>\n",
       "      <td>1</td>\n",
       "      <td>[0.054147575, -0.10364708, 0.049870417, 0.0237...</td>\n",
       "    </tr>\n",
       "    <tr>\n",
       "      <th>9</th>\n",
       "      <td>f528ca88-1c71-5e11-b762-eb9ae3c626b2</td>\n",
       "      <td>ccba13ac-0bf1-5aa3-a900-3d0937d3e6cf</td>\n",
       "      <td>0</td>\n",
       "      <td>[0.054147575, -0.10364708, 0.049870417, 0.0237...</td>\n",
       "    </tr>\n",
       "  </tbody>\n",
       "</table>\n",
       "</div>"
      ],
      "text/plain": [
       "                            question_id                           solution_id  \\\n",
       "0  e45509de-a086-5ba0-a268-9ec9f561736a  23b97fc0-e2a3-5aa0-8cc2-7f579ecffe78   \n",
       "1  e45509de-a086-5ba0-a268-9ec9f561736a  3d13938b-bedc-5658-8fcd-89ad94a8687c   \n",
       "2  e45509de-a086-5ba0-a268-9ec9f561736a  77421b0d-6b7b-5223-894f-7c149a2a11ad   \n",
       "3  1ca9a1c4-3c70-5056-8f04-9291728455b9  9977be47-3477-55c8-8cf0-5ee5542aefbe   \n",
       "4  1ca9a1c4-3c70-5056-8f04-9291728455b9  e0d48678-b127-5b7b-a26b-b84a027fec64   \n",
       "5  1ca9a1c4-3c70-5056-8f04-9291728455b9  25fe17bc-22b3-52cf-91da-752f0ee55d7f   \n",
       "6  1ca9a1c4-3c70-5056-8f04-9291728455b9  187362a9-1305-5079-ad25-ff9749ce0586   \n",
       "7  f528ca88-1c71-5e11-b762-eb9ae3c626b2  1f128b52-b0a0-5fe6-86a1-71ab8a0f02a5   \n",
       "8  f528ca88-1c71-5e11-b762-eb9ae3c626b2  bf09fd32-88f1-59a3-831b-5f2a1b8bb880   \n",
       "9  f528ca88-1c71-5e11-b762-eb9ae3c626b2  ccba13ac-0bf1-5aa3-a900-3d0937d3e6cf   \n",
       "\n",
       "   target                                             vector  \n",
       "0       1  [0.084625244, 0.021258883, 0.007941352, -0.010...  \n",
       "1       0  [0.084625244, 0.021258883, 0.007941352, -0.010...  \n",
       "2       0  [0.084625244, 0.021258883, 0.007941352, -0.010...  \n",
       "3       1  [-0.02550987, 0.03704721, 0.101571545, 0.09271...  \n",
       "4       0  [-0.02550987, 0.03704721, 0.101571545, 0.09271...  \n",
       "5       0  [-0.02550987, 0.03704721, 0.101571545, 0.09271...  \n",
       "6       0  [-0.02550987, 0.03704721, 0.101571545, 0.09271...  \n",
       "7       1  [0.054147575, -0.10364708, 0.049870417, 0.0237...  \n",
       "8       1  [0.054147575, -0.10364708, 0.049870417, 0.0237...  \n",
       "9       0  [0.054147575, -0.10364708, 0.049870417, 0.0237...  "
      ]
     },
     "execution_count": 93,
     "metadata": {},
     "output_type": "execute_result"
    }
   ],
   "source": [
    "vector_df = test_dd.compute()\n",
    "vector_df.head(10)"
   ]
  },
  {
   "cell_type": "markdown",
   "metadata": {},
   "source": [
    "## Parallelization with PySpark\n",
    "Similar to the preceding Dask section, this is more prototyping code and can skipped."
   ]
  },
  {
   "cell_type": "code",
   "execution_count": 31,
   "metadata": {
    "ExecuteTime": {
     "end_time": "2018-12-05T08:17:53.359576Z",
     "start_time": "2018-12-05T08:17:52.616646Z"
    }
   },
   "outputs": [],
   "source": [
    "from pyspark import SparkContext, SparkConf\n",
    "# sc.stop()\n",
    "\n",
    "conf = SparkConf().setAppName(\"App\")\n",
    "conf = (conf.setMaster('local[8]')\n",
    "        .set('spark.driver.memory', '15G')\n",
    "        .set('spark.driver.maxResultSize', '0')\n",
    "        .set('spark.driver.host', 'localhost'))\n",
    "sc = SparkContext(conf=conf)\n",
    "# sc = SparkContext()\n",
    "# import os\n",
    "\n",
    "# memory = '4g'\n",
    "# pyspark_submit_args = ' --driver-memory ' + memory + ' pyspark-shell'\n",
    "# os.environ[\"PYSPARK_SUBMIT_ARGS\"] = pyspark_submit_args\n",
    "\n",
    "# sc = SparkContext(appName=\"Pi\")"
   ]
  },
  {
   "cell_type": "code",
   "execution_count": 11,
   "metadata": {
    "ExecuteTime": {
     "end_time": "2018-12-05T07:55:09.168854Z",
     "start_time": "2018-12-05T07:55:05.622596Z"
    }
   },
   "outputs": [],
   "source": [
    "spark_id2vector = sc.broadcast(id2vector)"
   ]
  },
  {
   "cell_type": "code",
   "execution_count": 33,
   "metadata": {
    "ExecuteTime": {
     "end_time": "2018-12-05T08:18:06.547081Z",
     "start_time": "2018-12-05T08:18:06.530857Z"
    }
   },
   "outputs": [
    {
     "ename": "AttributeError",
     "evalue": "'SparkSession' object has no attribute 'uiWebUrl'",
     "output_type": "error",
     "traceback": [
      "\u001b[0;31m---------------------------------------------------------------------------\u001b[0m",
      "\u001b[0;31mAttributeError\u001b[0m                            Traceback (most recent call last)",
      "\u001b[0;32m<ipython-input-33-e95d52bb5dbc>\u001b[0m in \u001b[0;36m<module>\u001b[0;34m\u001b[0m\n\u001b[0;32m----> 1\u001b[0;31m \u001b[0mspark\u001b[0m\u001b[0;34m.\u001b[0m\u001b[0muiWebUrl\u001b[0m\u001b[0;34m\u001b[0m\u001b[0m\n\u001b[0m",
      "\u001b[0;31mAttributeError\u001b[0m: 'SparkSession' object has no attribute 'uiWebUrl'"
     ]
    }
   ],
   "source": [
    "sc.uiWebUrl"
   ]
  },
  {
   "cell_type": "code",
   "execution_count": 61,
   "metadata": {
    "ExecuteTime": {
     "end_time": "2018-12-05T09:02:31.288164Z",
     "start_time": "2018-12-05T09:02:30.827597Z"
    }
   },
   "outputs": [],
   "source": [
    "spark.stop()"
   ]
  },
  {
   "cell_type": "code",
   "execution_count": 58,
   "metadata": {
    "ExecuteTime": {
     "end_time": "2018-12-05T08:53:08.722512Z",
     "start_time": "2018-12-05T08:53:08.581721Z"
    }
   },
   "outputs": [],
   "source": [
    "import pyspark\n",
    "from pyspark.sql import SparkSession\n",
    "import pandas as pd\n",
    "\n",
    "conf = SparkConf().setAppName(\"RankerNet2\")\n",
    "conf = (conf.setMaster('local[8]')\n",
    "        .set('spark.driver.memory', '150G')\n",
    "        .set('spark.driver.maxResultSize', '0')\n",
    "        .set('spark.driver.host', 'localhost'))\n",
    "\n",
    "spark = SparkSession.builder.config(conf=conf).getOrCreate()"
   ]
  },
  {
   "cell_type": "code",
   "execution_count": 50,
   "metadata": {
    "ExecuteTime": {
     "end_time": "2018-12-05T08:41:52.064675Z",
     "start_time": "2018-12-05T08:41:52.058901Z"
    }
   },
   "outputs": [],
   "source": [
    "from pyspark.sql.types import StructType, StringType, IntegerType, StructField, ArrayType, FloatType\n",
    "from pyspark.sql.functions import udf\n",
    "\n",
    "vectorize_udf = udf(lambda qid, sid: np.concatenate([id2vector[qid], id2vector[sid]]).tolist(), ArrayType(FloatType()))\n",
    "\n",
    "my_schema = StructType([StructField(\"question_id\", StringType(), False),\n",
    "                        StructField(\"solution_id\", StringType(), False),\n",
    "                        StructField(\"target\", IntegerType(), False)])"
   ]
  },
  {
   "cell_type": "code",
   "execution_count": 40,
   "metadata": {
    "ExecuteTime": {
     "end_time": "2018-12-05T08:26:42.309108Z",
     "start_time": "2018-12-05T08:26:30.263064Z"
    }
   },
   "outputs": [],
   "source": [
    "small_test_df = test_df[0:1000]\n",
    "df = spark.createDataFrame(small_test_df, schema=my_schema)\n",
    "df2 = df.withColumn(\"vector\", vectorize_udf(df.question_id, df.solution_id))"
   ]
  },
  {
   "cell_type": "code",
   "execution_count": 44,
   "metadata": {
    "ExecuteTime": {
     "end_time": "2018-12-05T08:32:22.324477Z",
     "start_time": "2018-12-05T08:32:16.781509Z"
    }
   },
   "outputs": [],
   "source": [
    "vector_list = df2.select(\"vector\").collect()\n",
    "vector_array = [row.vector for row in vector_list]"
   ]
  },
  {
   "cell_type": "markdown",
   "metadata": {
    "ExecuteTime": {
     "end_time": "2018-12-05T08:32:26.195231Z",
     "start_time": "2018-12-05T08:32:26.172510Z"
    }
   },
   "source": [
    "### Vectorizing the dataframes"
   ]
  },
  {
   "cell_type": "code",
   "execution_count": 59,
   "metadata": {
    "ExecuteTime": {
     "end_time": "2018-12-05T08:54:01.286114Z",
     "start_time": "2018-12-05T08:53:22.470789Z"
    }
   },
   "outputs": [],
   "source": [
    "test_vector_df = spark.createDataFrame(test_df, schema=my_schema)\n",
    "test_vector_df = test_vector_df.withColumn(\"vector\", vectorize_udf(test_vector_df.question_id, \n",
    "                                                                   test_vector_df.solution_id))"
   ]
  },
  {
   "cell_type": "code",
   "execution_count": 60,
   "metadata": {
    "ExecuteTime": {
     "end_time": "2018-12-05T08:55:56.914234Z",
     "start_time": "2018-12-05T08:54:01.288653Z"
    },
    "scrolled": true
   },
   "outputs": [
    {
     "ename": "Py4JJavaError",
     "evalue": "An error occurred while calling z:org.apache.spark.api.python.PythonRDD.readRDDFromFile.\n: java.lang.OutOfMemoryError: Java heap space\n\tat org.apache.spark.api.python.PythonRDD$.readRDDFromInputStream(PythonRDD.scala:188)\n\tat org.apache.spark.api.python.PythonRDD$.readRDDFromFile(PythonRDD.scala:175)\n\tat org.apache.spark.api.python.PythonRDD.readRDDFromFile(PythonRDD.scala)\n\tat sun.reflect.NativeMethodAccessorImpl.invoke0(Native Method)\n\tat sun.reflect.NativeMethodAccessorImpl.invoke(NativeMethodAccessorImpl.java:62)\n\tat sun.reflect.DelegatingMethodAccessorImpl.invoke(DelegatingMethodAccessorImpl.java:43)\n\tat java.lang.reflect.Method.invoke(Method.java:498)\n\tat py4j.reflection.MethodInvoker.invoke(MethodInvoker.java:244)\n\tat py4j.reflection.ReflectionEngine.invoke(ReflectionEngine.java:357)\n\tat py4j.Gateway.invoke(Gateway.java:282)\n\tat py4j.commands.AbstractCommand.invokeMethod(AbstractCommand.java:132)\n\tat py4j.commands.CallCommand.execute(CallCommand.java:79)\n\tat py4j.GatewayConnection.run(GatewayConnection.java:238)\n\tat java.lang.Thread.run(Thread.java:748)\n",
     "output_type": "error",
     "traceback": [
      "\u001b[0;31m---------------------------------------------------------------------------\u001b[0m",
      "\u001b[0;31mPy4JJavaError\u001b[0m                             Traceback (most recent call last)",
      "\u001b[0;32m<ipython-input-60-d96088ed7ab7>\u001b[0m in \u001b[0;36m<module>\u001b[0;34m\u001b[0m\n\u001b[0;32m----> 1\u001b[0;31m \u001b[0mtrain_vector_df\u001b[0m \u001b[0;34m=\u001b[0m \u001b[0mspark\u001b[0m\u001b[0;34m.\u001b[0m\u001b[0mcreateDataFrame\u001b[0m\u001b[0;34m(\u001b[0m\u001b[0mtrain_df\u001b[0m\u001b[0;34m,\u001b[0m \u001b[0mschema\u001b[0m\u001b[0;34m=\u001b[0m\u001b[0mmy_schema\u001b[0m\u001b[0;34m)\u001b[0m\u001b[0;34m\u001b[0m\u001b[0m\n\u001b[0m\u001b[1;32m      2\u001b[0m train_vector_df = train_vector_df.withColumn(\"vector\", vectorize_udf(train_vector_df.question_id, \n\u001b[1;32m      3\u001b[0m                                                                      train_vector_df.solution_id))\n",
      "\u001b[0;32m/usr/local/spark/python/pyspark/sql/session.py\u001b[0m in \u001b[0;36mcreateDataFrame\u001b[0;34m(self, data, schema, samplingRatio, verifySchema)\u001b[0m\n\u001b[1;32m    746\u001b[0m             \u001b[0mrdd\u001b[0m\u001b[0;34m,\u001b[0m \u001b[0mschema\u001b[0m \u001b[0;34m=\u001b[0m \u001b[0mself\u001b[0m\u001b[0;34m.\u001b[0m\u001b[0m_createFromRDD\u001b[0m\u001b[0;34m(\u001b[0m\u001b[0mdata\u001b[0m\u001b[0;34m.\u001b[0m\u001b[0mmap\u001b[0m\u001b[0;34m(\u001b[0m\u001b[0mprepare\u001b[0m\u001b[0;34m)\u001b[0m\u001b[0;34m,\u001b[0m \u001b[0mschema\u001b[0m\u001b[0;34m,\u001b[0m \u001b[0msamplingRatio\u001b[0m\u001b[0;34m)\u001b[0m\u001b[0;34m\u001b[0m\u001b[0m\n\u001b[1;32m    747\u001b[0m         \u001b[0;32melse\u001b[0m\u001b[0;34m:\u001b[0m\u001b[0;34m\u001b[0m\u001b[0m\n\u001b[0;32m--> 748\u001b[0;31m             \u001b[0mrdd\u001b[0m\u001b[0;34m,\u001b[0m \u001b[0mschema\u001b[0m \u001b[0;34m=\u001b[0m \u001b[0mself\u001b[0m\u001b[0;34m.\u001b[0m\u001b[0m_createFromLocal\u001b[0m\u001b[0;34m(\u001b[0m\u001b[0mmap\u001b[0m\u001b[0;34m(\u001b[0m\u001b[0mprepare\u001b[0m\u001b[0;34m,\u001b[0m \u001b[0mdata\u001b[0m\u001b[0;34m)\u001b[0m\u001b[0;34m,\u001b[0m \u001b[0mschema\u001b[0m\u001b[0;34m)\u001b[0m\u001b[0;34m\u001b[0m\u001b[0m\n\u001b[0m\u001b[1;32m    749\u001b[0m         \u001b[0mjrdd\u001b[0m \u001b[0;34m=\u001b[0m \u001b[0mself\u001b[0m\u001b[0;34m.\u001b[0m\u001b[0m_jvm\u001b[0m\u001b[0;34m.\u001b[0m\u001b[0mSerDeUtil\u001b[0m\u001b[0;34m.\u001b[0m\u001b[0mtoJavaArray\u001b[0m\u001b[0;34m(\u001b[0m\u001b[0mrdd\u001b[0m\u001b[0;34m.\u001b[0m\u001b[0m_to_java_object_rdd\u001b[0m\u001b[0;34m(\u001b[0m\u001b[0;34m)\u001b[0m\u001b[0;34m)\u001b[0m\u001b[0;34m\u001b[0m\u001b[0m\n\u001b[1;32m    750\u001b[0m         \u001b[0mjdf\u001b[0m \u001b[0;34m=\u001b[0m \u001b[0mself\u001b[0m\u001b[0;34m.\u001b[0m\u001b[0m_jsparkSession\u001b[0m\u001b[0;34m.\u001b[0m\u001b[0mapplySchemaToPythonRDD\u001b[0m\u001b[0;34m(\u001b[0m\u001b[0mjrdd\u001b[0m\u001b[0;34m.\u001b[0m\u001b[0mrdd\u001b[0m\u001b[0;34m(\u001b[0m\u001b[0;34m)\u001b[0m\u001b[0;34m,\u001b[0m \u001b[0mschema\u001b[0m\u001b[0;34m.\u001b[0m\u001b[0mjson\u001b[0m\u001b[0;34m(\u001b[0m\u001b[0;34m)\u001b[0m\u001b[0;34m)\u001b[0m\u001b[0;34m\u001b[0m\u001b[0m\n",
      "\u001b[0;32m/usr/local/spark/python/pyspark/sql/session.py\u001b[0m in \u001b[0;36m_createFromLocal\u001b[0;34m(self, data, schema)\u001b[0m\n\u001b[1;32m    428\u001b[0m         \u001b[0;31m# convert python objects to sql data\u001b[0m\u001b[0;34m\u001b[0m\u001b[0;34m\u001b[0m\u001b[0m\n\u001b[1;32m    429\u001b[0m         \u001b[0mdata\u001b[0m \u001b[0;34m=\u001b[0m \u001b[0;34m[\u001b[0m\u001b[0mschema\u001b[0m\u001b[0;34m.\u001b[0m\u001b[0mtoInternal\u001b[0m\u001b[0;34m(\u001b[0m\u001b[0mrow\u001b[0m\u001b[0;34m)\u001b[0m \u001b[0;32mfor\u001b[0m \u001b[0mrow\u001b[0m \u001b[0;32min\u001b[0m \u001b[0mdata\u001b[0m\u001b[0;34m]\u001b[0m\u001b[0;34m\u001b[0m\u001b[0m\n\u001b[0;32m--> 430\u001b[0;31m         \u001b[0;32mreturn\u001b[0m \u001b[0mself\u001b[0m\u001b[0;34m.\u001b[0m\u001b[0m_sc\u001b[0m\u001b[0;34m.\u001b[0m\u001b[0mparallelize\u001b[0m\u001b[0;34m(\u001b[0m\u001b[0mdata\u001b[0m\u001b[0;34m)\u001b[0m\u001b[0;34m,\u001b[0m \u001b[0mschema\u001b[0m\u001b[0;34m\u001b[0m\u001b[0m\n\u001b[0m\u001b[1;32m    431\u001b[0m \u001b[0;34m\u001b[0m\u001b[0m\n\u001b[1;32m    432\u001b[0m     \u001b[0;32mdef\u001b[0m \u001b[0m_get_numpy_record_dtype\u001b[0m\u001b[0;34m(\u001b[0m\u001b[0mself\u001b[0m\u001b[0;34m,\u001b[0m \u001b[0mrec\u001b[0m\u001b[0;34m)\u001b[0m\u001b[0;34m:\u001b[0m\u001b[0;34m\u001b[0m\u001b[0m\n",
      "\u001b[0;32m/usr/local/spark/python/pyspark/context.py\u001b[0m in \u001b[0;36mparallelize\u001b[0;34m(self, c, numSlices)\u001b[0m\n\u001b[1;32m    507\u001b[0m             \u001b[0;32mreturn\u001b[0m \u001b[0mself\u001b[0m\u001b[0;34m.\u001b[0m\u001b[0m_jvm\u001b[0m\u001b[0;34m.\u001b[0m\u001b[0mPythonParallelizeServer\u001b[0m\u001b[0;34m(\u001b[0m\u001b[0mself\u001b[0m\u001b[0;34m.\u001b[0m\u001b[0m_jsc\u001b[0m\u001b[0;34m.\u001b[0m\u001b[0msc\u001b[0m\u001b[0;34m(\u001b[0m\u001b[0;34m)\u001b[0m\u001b[0;34m,\u001b[0m \u001b[0mnumSlices\u001b[0m\u001b[0;34m)\u001b[0m\u001b[0;34m\u001b[0m\u001b[0m\n\u001b[1;32m    508\u001b[0m \u001b[0;34m\u001b[0m\u001b[0m\n\u001b[0;32m--> 509\u001b[0;31m         \u001b[0mjrdd\u001b[0m \u001b[0;34m=\u001b[0m \u001b[0mself\u001b[0m\u001b[0;34m.\u001b[0m\u001b[0m_serialize_to_jvm\u001b[0m\u001b[0;34m(\u001b[0m\u001b[0mc\u001b[0m\u001b[0;34m,\u001b[0m \u001b[0mserializer\u001b[0m\u001b[0;34m,\u001b[0m \u001b[0mreader_func\u001b[0m\u001b[0;34m,\u001b[0m \u001b[0mcreateRDDServer\u001b[0m\u001b[0;34m)\u001b[0m\u001b[0;34m\u001b[0m\u001b[0m\n\u001b[0m\u001b[1;32m    510\u001b[0m         \u001b[0;32mreturn\u001b[0m \u001b[0mRDD\u001b[0m\u001b[0;34m(\u001b[0m\u001b[0mjrdd\u001b[0m\u001b[0;34m,\u001b[0m \u001b[0mself\u001b[0m\u001b[0;34m,\u001b[0m \u001b[0mserializer\u001b[0m\u001b[0;34m)\u001b[0m\u001b[0;34m\u001b[0m\u001b[0m\n\u001b[1;32m    511\u001b[0m \u001b[0;34m\u001b[0m\u001b[0m\n",
      "\u001b[0;32m/usr/local/spark/python/pyspark/context.py\u001b[0m in \u001b[0;36m_serialize_to_jvm\u001b[0;34m(self, data, serializer, reader_func, createRDDServer)\u001b[0m\n\u001b[1;32m    542\u001b[0m                 \u001b[0;32mfinally\u001b[0m\u001b[0;34m:\u001b[0m\u001b[0;34m\u001b[0m\u001b[0m\n\u001b[1;32m    543\u001b[0m                     \u001b[0mtempFile\u001b[0m\u001b[0;34m.\u001b[0m\u001b[0mclose\u001b[0m\u001b[0;34m(\u001b[0m\u001b[0;34m)\u001b[0m\u001b[0;34m\u001b[0m\u001b[0m\n\u001b[0;32m--> 544\u001b[0;31m                 \u001b[0;32mreturn\u001b[0m \u001b[0mreader_func\u001b[0m\u001b[0;34m(\u001b[0m\u001b[0mtempFile\u001b[0m\u001b[0;34m.\u001b[0m\u001b[0mname\u001b[0m\u001b[0;34m)\u001b[0m\u001b[0;34m\u001b[0m\u001b[0m\n\u001b[0m\u001b[1;32m    545\u001b[0m             \u001b[0;32mfinally\u001b[0m\u001b[0;34m:\u001b[0m\u001b[0;34m\u001b[0m\u001b[0m\n\u001b[1;32m    546\u001b[0m                 \u001b[0;31m# we eagerily reads the file so we can delete right after.\u001b[0m\u001b[0;34m\u001b[0m\u001b[0;34m\u001b[0m\u001b[0m\n",
      "\u001b[0;32m/usr/local/spark/python/pyspark/context.py\u001b[0m in \u001b[0;36mreader_func\u001b[0;34m(temp_filename)\u001b[0m\n\u001b[1;32m    502\u001b[0m \u001b[0;34m\u001b[0m\u001b[0m\n\u001b[1;32m    503\u001b[0m         \u001b[0;32mdef\u001b[0m \u001b[0mreader_func\u001b[0m\u001b[0;34m(\u001b[0m\u001b[0mtemp_filename\u001b[0m\u001b[0;34m)\u001b[0m\u001b[0;34m:\u001b[0m\u001b[0;34m\u001b[0m\u001b[0m\n\u001b[0;32m--> 504\u001b[0;31m             \u001b[0;32mreturn\u001b[0m \u001b[0mself\u001b[0m\u001b[0;34m.\u001b[0m\u001b[0m_jvm\u001b[0m\u001b[0;34m.\u001b[0m\u001b[0mPythonRDD\u001b[0m\u001b[0;34m.\u001b[0m\u001b[0mreadRDDFromFile\u001b[0m\u001b[0;34m(\u001b[0m\u001b[0mself\u001b[0m\u001b[0;34m.\u001b[0m\u001b[0m_jsc\u001b[0m\u001b[0;34m,\u001b[0m \u001b[0mtemp_filename\u001b[0m\u001b[0;34m,\u001b[0m \u001b[0mnumSlices\u001b[0m\u001b[0;34m)\u001b[0m\u001b[0;34m\u001b[0m\u001b[0m\n\u001b[0m\u001b[1;32m    505\u001b[0m \u001b[0;34m\u001b[0m\u001b[0m\n\u001b[1;32m    506\u001b[0m         \u001b[0;32mdef\u001b[0m \u001b[0mcreateRDDServer\u001b[0m\u001b[0;34m(\u001b[0m\u001b[0;34m)\u001b[0m\u001b[0;34m:\u001b[0m\u001b[0;34m\u001b[0m\u001b[0m\n",
      "\u001b[0;32m/usr/local/spark/python/lib/py4j-0.10.7-src.zip/py4j/java_gateway.py\u001b[0m in \u001b[0;36m__call__\u001b[0;34m(self, *args)\u001b[0m\n\u001b[1;32m   1255\u001b[0m         \u001b[0manswer\u001b[0m \u001b[0;34m=\u001b[0m \u001b[0mself\u001b[0m\u001b[0;34m.\u001b[0m\u001b[0mgateway_client\u001b[0m\u001b[0;34m.\u001b[0m\u001b[0msend_command\u001b[0m\u001b[0;34m(\u001b[0m\u001b[0mcommand\u001b[0m\u001b[0;34m)\u001b[0m\u001b[0;34m\u001b[0m\u001b[0m\n\u001b[1;32m   1256\u001b[0m         return_value = get_return_value(\n\u001b[0;32m-> 1257\u001b[0;31m             answer, self.gateway_client, self.target_id, self.name)\n\u001b[0m\u001b[1;32m   1258\u001b[0m \u001b[0;34m\u001b[0m\u001b[0m\n\u001b[1;32m   1259\u001b[0m         \u001b[0;32mfor\u001b[0m \u001b[0mtemp_arg\u001b[0m \u001b[0;32min\u001b[0m \u001b[0mtemp_args\u001b[0m\u001b[0;34m:\u001b[0m\u001b[0;34m\u001b[0m\u001b[0m\n",
      "\u001b[0;32m/usr/local/spark/python/pyspark/sql/utils.py\u001b[0m in \u001b[0;36mdeco\u001b[0;34m(*a, **kw)\u001b[0m\n\u001b[1;32m     61\u001b[0m     \u001b[0;32mdef\u001b[0m \u001b[0mdeco\u001b[0m\u001b[0;34m(\u001b[0m\u001b[0;34m*\u001b[0m\u001b[0ma\u001b[0m\u001b[0;34m,\u001b[0m \u001b[0;34m**\u001b[0m\u001b[0mkw\u001b[0m\u001b[0;34m)\u001b[0m\u001b[0;34m:\u001b[0m\u001b[0;34m\u001b[0m\u001b[0m\n\u001b[1;32m     62\u001b[0m         \u001b[0;32mtry\u001b[0m\u001b[0;34m:\u001b[0m\u001b[0;34m\u001b[0m\u001b[0m\n\u001b[0;32m---> 63\u001b[0;31m             \u001b[0;32mreturn\u001b[0m \u001b[0mf\u001b[0m\u001b[0;34m(\u001b[0m\u001b[0;34m*\u001b[0m\u001b[0ma\u001b[0m\u001b[0;34m,\u001b[0m \u001b[0;34m**\u001b[0m\u001b[0mkw\u001b[0m\u001b[0;34m)\u001b[0m\u001b[0;34m\u001b[0m\u001b[0m\n\u001b[0m\u001b[1;32m     64\u001b[0m         \u001b[0;32mexcept\u001b[0m \u001b[0mpy4j\u001b[0m\u001b[0;34m.\u001b[0m\u001b[0mprotocol\u001b[0m\u001b[0;34m.\u001b[0m\u001b[0mPy4JJavaError\u001b[0m \u001b[0;32mas\u001b[0m \u001b[0me\u001b[0m\u001b[0;34m:\u001b[0m\u001b[0;34m\u001b[0m\u001b[0m\n\u001b[1;32m     65\u001b[0m             \u001b[0ms\u001b[0m \u001b[0;34m=\u001b[0m \u001b[0me\u001b[0m\u001b[0;34m.\u001b[0m\u001b[0mjava_exception\u001b[0m\u001b[0;34m.\u001b[0m\u001b[0mtoString\u001b[0m\u001b[0;34m(\u001b[0m\u001b[0;34m)\u001b[0m\u001b[0;34m\u001b[0m\u001b[0m\n",
      "\u001b[0;32m/usr/local/spark/python/lib/py4j-0.10.7-src.zip/py4j/protocol.py\u001b[0m in \u001b[0;36mget_return_value\u001b[0;34m(answer, gateway_client, target_id, name)\u001b[0m\n\u001b[1;32m    326\u001b[0m                 raise Py4JJavaError(\n\u001b[1;32m    327\u001b[0m                     \u001b[0;34m\"An error occurred while calling {0}{1}{2}.\\n\"\u001b[0m\u001b[0;34m.\u001b[0m\u001b[0;34m\u001b[0m\u001b[0m\n\u001b[0;32m--> 328\u001b[0;31m                     format(target_id, \".\", name), value)\n\u001b[0m\u001b[1;32m    329\u001b[0m             \u001b[0;32melse\u001b[0m\u001b[0;34m:\u001b[0m\u001b[0;34m\u001b[0m\u001b[0m\n\u001b[1;32m    330\u001b[0m                 raise Py4JError(\n",
      "\u001b[0;31mPy4JJavaError\u001b[0m: An error occurred while calling z:org.apache.spark.api.python.PythonRDD.readRDDFromFile.\n: java.lang.OutOfMemoryError: Java heap space\n\tat org.apache.spark.api.python.PythonRDD$.readRDDFromInputStream(PythonRDD.scala:188)\n\tat org.apache.spark.api.python.PythonRDD$.readRDDFromFile(PythonRDD.scala:175)\n\tat org.apache.spark.api.python.PythonRDD.readRDDFromFile(PythonRDD.scala)\n\tat sun.reflect.NativeMethodAccessorImpl.invoke0(Native Method)\n\tat sun.reflect.NativeMethodAccessorImpl.invoke(NativeMethodAccessorImpl.java:62)\n\tat sun.reflect.DelegatingMethodAccessorImpl.invoke(DelegatingMethodAccessorImpl.java:43)\n\tat java.lang.reflect.Method.invoke(Method.java:498)\n\tat py4j.reflection.MethodInvoker.invoke(MethodInvoker.java:244)\n\tat py4j.reflection.ReflectionEngine.invoke(ReflectionEngine.java:357)\n\tat py4j.Gateway.invoke(Gateway.java:282)\n\tat py4j.commands.AbstractCommand.invokeMethod(AbstractCommand.java:132)\n\tat py4j.commands.CallCommand.execute(CallCommand.java:79)\n\tat py4j.GatewayConnection.run(GatewayConnection.java:238)\n\tat java.lang.Thread.run(Thread.java:748)\n"
     ]
    }
   ],
   "source": [
    "train_vector_df = spark.createDataFrame(train_df, schema=my_schema)\n",
    "train_vector_df = train_vector_df.withColumn(\"vector\", vectorize_udf(train_vector_df.question_id, \n",
    "                                                                     train_vector_df.solution_id))"
   ]
  },
  {
   "cell_type": "markdown",
   "metadata": {},
   "source": [
    "## Adding vectors to the dataframes\n",
    "Now that the bodies have been vectorized and indexed, the next function will take a DataFrame of question_id-solution_id pairs and add the vector as a new column. "
   ]
  },
  {
   "cell_type": "code",
   "execution_count": 46,
   "metadata": {
    "ExecuteTime": {
     "end_time": "2018-12-06T00:11:53.009350Z",
     "start_time": "2018-12-06T00:11:52.993113Z"
    }
   },
   "outputs": [],
   "source": [
    "def prune(queries, skipped_questions):\n",
    "    skipped_question_ids = set(skipped_questions.keys())\n",
    "    return [query for query in queries if query[\"id\"] not in skipped_question_ids]\n",
    "    \n",
    "def add_vectors(dataframe, id2vector):\n",
    "    progress_bar = IntProgress(min=0, max=(len(dataframe) - 1), description='Adding vectors:', bar_style='info')\n",
    "    display(progress_bar)\n",
    "    print(f\"Adding {len(dataframe)} vectors.\")\n",
    "    vectors = []\n",
    "    for count, (index, row) in enumerate(dataframe.iterrows()):\n",
    "        if count % 10000 == 0:\n",
    "            progress_bar.value = count\n",
    "        vectors.append(concatenate_vectors(id2vector[row[\"question_id\"]], id2vector[row[\"solution_id\"]]))\n",
    "            \n",
    "            \n",
    "    progress_bar.value = len(dataframe) - 1\n",
    "    dataframe[\"vector\"] = pd.Series(vectors, index=dataframe.index)\n",
    "    return dataframe    "
   ]
  },
  {
   "cell_type": "code",
   "execution_count": 28,
   "metadata": {
    "ExecuteTime": {
     "end_time": "2018-12-04T23:11:24.959854Z",
     "start_time": "2018-12-04T23:11:24.931491Z"
    }
   },
   "outputs": [
    {
     "data": {
      "application/vnd.jupyter.widget-view+json": {
       "model_id": "1889a0155573489ca75f43c050e3a628",
       "version_major": 2,
       "version_minor": 0
      },
      "text/plain": [
       "IntProgress(value=0, bar_style='info', description='Adding vectors:', max=107)"
      ]
     },
     "metadata": {},
     "output_type": "display_data"
    },
    {
     "name": "stdout",
     "output_type": "stream",
     "text": [
      "Adding 108 vectors.\n"
     ]
    }
   ],
   "source": [
    "vector_df = add_vectors(test_df, id2vector)"
   ]
  },
  {
   "cell_type": "code",
   "execution_count": 29,
   "metadata": {
    "ExecuteTime": {
     "end_time": "2018-12-04T23:11:27.230210Z",
     "start_time": "2018-12-04T23:11:27.201467Z"
    }
   },
   "outputs": [
    {
     "data": {
      "text/html": [
       "<div>\n",
       "<style scoped>\n",
       "    .dataframe tbody tr th:only-of-type {\n",
       "        vertical-align: middle;\n",
       "    }\n",
       "\n",
       "    .dataframe tbody tr th {\n",
       "        vertical-align: top;\n",
       "    }\n",
       "\n",
       "    .dataframe thead th {\n",
       "        text-align: right;\n",
       "    }\n",
       "</style>\n",
       "<table border=\"1\" class=\"dataframe\">\n",
       "  <thead>\n",
       "    <tr style=\"text-align: right;\">\n",
       "      <th></th>\n",
       "      <th>question_id</th>\n",
       "      <th>solution_id</th>\n",
       "      <th>target</th>\n",
       "      <th>vector</th>\n",
       "    </tr>\n",
       "  </thead>\n",
       "  <tbody>\n",
       "    <tr>\n",
       "      <th>0</th>\n",
       "      <td>e45509de-a086-5ba0-a268-9ec9f561736a</td>\n",
       "      <td>23b97fc0-e2a3-5aa0-8cc2-7f579ecffe78</td>\n",
       "      <td>1</td>\n",
       "      <td>[0.084625244, 0.021258883, 0.007941352, -0.010...</td>\n",
       "    </tr>\n",
       "    <tr>\n",
       "      <th>1</th>\n",
       "      <td>e45509de-a086-5ba0-a268-9ec9f561736a</td>\n",
       "      <td>3d13938b-bedc-5658-8fcd-89ad94a8687c</td>\n",
       "      <td>0</td>\n",
       "      <td>[0.084625244, 0.021258883, 0.007941352, -0.010...</td>\n",
       "    </tr>\n",
       "    <tr>\n",
       "      <th>2</th>\n",
       "      <td>e45509de-a086-5ba0-a268-9ec9f561736a</td>\n",
       "      <td>77421b0d-6b7b-5223-894f-7c149a2a11ad</td>\n",
       "      <td>0</td>\n",
       "      <td>[0.084625244, 0.021258883, 0.007941352, -0.010...</td>\n",
       "    </tr>\n",
       "    <tr>\n",
       "      <th>3</th>\n",
       "      <td>1ca9a1c4-3c70-5056-8f04-9291728455b9</td>\n",
       "      <td>9977be47-3477-55c8-8cf0-5ee5542aefbe</td>\n",
       "      <td>1</td>\n",
       "      <td>[-0.02550987, 0.03704721, 0.101571545, 0.09271...</td>\n",
       "    </tr>\n",
       "    <tr>\n",
       "      <th>4</th>\n",
       "      <td>1ca9a1c4-3c70-5056-8f04-9291728455b9</td>\n",
       "      <td>e0d48678-b127-5b7b-a26b-b84a027fec64</td>\n",
       "      <td>0</td>\n",
       "      <td>[-0.02550987, 0.03704721, 0.101571545, 0.09271...</td>\n",
       "    </tr>\n",
       "    <tr>\n",
       "      <th>5</th>\n",
       "      <td>1ca9a1c4-3c70-5056-8f04-9291728455b9</td>\n",
       "      <td>25fe17bc-22b3-52cf-91da-752f0ee55d7f</td>\n",
       "      <td>0</td>\n",
       "      <td>[-0.02550987, 0.03704721, 0.101571545, 0.09271...</td>\n",
       "    </tr>\n",
       "    <tr>\n",
       "      <th>6</th>\n",
       "      <td>1ca9a1c4-3c70-5056-8f04-9291728455b9</td>\n",
       "      <td>187362a9-1305-5079-ad25-ff9749ce0586</td>\n",
       "      <td>0</td>\n",
       "      <td>[-0.02550987, 0.03704721, 0.101571545, 0.09271...</td>\n",
       "    </tr>\n",
       "    <tr>\n",
       "      <th>7</th>\n",
       "      <td>f528ca88-1c71-5e11-b762-eb9ae3c626b2</td>\n",
       "      <td>1f128b52-b0a0-5fe6-86a1-71ab8a0f02a5</td>\n",
       "      <td>1</td>\n",
       "      <td>[0.054147575, -0.10364708, 0.049870417, 0.0237...</td>\n",
       "    </tr>\n",
       "    <tr>\n",
       "      <th>8</th>\n",
       "      <td>f528ca88-1c71-5e11-b762-eb9ae3c626b2</td>\n",
       "      <td>bf09fd32-88f1-59a3-831b-5f2a1b8bb880</td>\n",
       "      <td>1</td>\n",
       "      <td>[0.054147575, -0.10364708, 0.049870417, 0.0237...</td>\n",
       "    </tr>\n",
       "    <tr>\n",
       "      <th>9</th>\n",
       "      <td>f528ca88-1c71-5e11-b762-eb9ae3c626b2</td>\n",
       "      <td>ccba13ac-0bf1-5aa3-a900-3d0937d3e6cf</td>\n",
       "      <td>0</td>\n",
       "      <td>[0.054147575, -0.10364708, 0.049870417, 0.0237...</td>\n",
       "    </tr>\n",
       "  </tbody>\n",
       "</table>\n",
       "</div>"
      ],
      "text/plain": [
       "                            question_id                           solution_id  \\\n",
       "0  e45509de-a086-5ba0-a268-9ec9f561736a  23b97fc0-e2a3-5aa0-8cc2-7f579ecffe78   \n",
       "1  e45509de-a086-5ba0-a268-9ec9f561736a  3d13938b-bedc-5658-8fcd-89ad94a8687c   \n",
       "2  e45509de-a086-5ba0-a268-9ec9f561736a  77421b0d-6b7b-5223-894f-7c149a2a11ad   \n",
       "3  1ca9a1c4-3c70-5056-8f04-9291728455b9  9977be47-3477-55c8-8cf0-5ee5542aefbe   \n",
       "4  1ca9a1c4-3c70-5056-8f04-9291728455b9  e0d48678-b127-5b7b-a26b-b84a027fec64   \n",
       "5  1ca9a1c4-3c70-5056-8f04-9291728455b9  25fe17bc-22b3-52cf-91da-752f0ee55d7f   \n",
       "6  1ca9a1c4-3c70-5056-8f04-9291728455b9  187362a9-1305-5079-ad25-ff9749ce0586   \n",
       "7  f528ca88-1c71-5e11-b762-eb9ae3c626b2  1f128b52-b0a0-5fe6-86a1-71ab8a0f02a5   \n",
       "8  f528ca88-1c71-5e11-b762-eb9ae3c626b2  bf09fd32-88f1-59a3-831b-5f2a1b8bb880   \n",
       "9  f528ca88-1c71-5e11-b762-eb9ae3c626b2  ccba13ac-0bf1-5aa3-a900-3d0937d3e6cf   \n",
       "\n",
       "   target                                             vector  \n",
       "0       1  [0.084625244, 0.021258883, 0.007941352, -0.010...  \n",
       "1       0  [0.084625244, 0.021258883, 0.007941352, -0.010...  \n",
       "2       0  [0.084625244, 0.021258883, 0.007941352, -0.010...  \n",
       "3       1  [-0.02550987, 0.03704721, 0.101571545, 0.09271...  \n",
       "4       0  [-0.02550987, 0.03704721, 0.101571545, 0.09271...  \n",
       "5       0  [-0.02550987, 0.03704721, 0.101571545, 0.09271...  \n",
       "6       0  [-0.02550987, 0.03704721, 0.101571545, 0.09271...  \n",
       "7       1  [0.054147575, -0.10364708, 0.049870417, 0.0237...  \n",
       "8       1  [0.054147575, -0.10364708, 0.049870417, 0.0237...  \n",
       "9       0  [0.054147575, -0.10364708, 0.049870417, 0.0237...  "
      ]
     },
     "execution_count": 29,
     "metadata": {},
     "output_type": "execute_result"
    }
   ],
   "source": [
    "vector_df.head(10)"
   ]
  },
  {
   "cell_type": "markdown",
   "metadata": {},
   "source": [
    "## Putting it all together to create the train/test sets "
   ]
  },
  {
   "cell_type": "code",
   "execution_count": 28,
   "metadata": {
    "ExecuteTime": {
     "end_time": "2018-12-05T22:37:58.061047Z",
     "start_time": "2018-12-05T22:37:22.881325Z"
    }
   },
   "outputs": [
    {
     "name": "stdout",
     "output_type": "stream",
     "text": [
      "Pulling 3561 docs.\n"
     ]
    },
    {
     "data": {
      "application/vnd.jupyter.widget-view+json": {
       "model_id": "34c37132c003422582900075cf881642",
       "version_major": 2,
       "version_minor": 0
      },
      "text/plain": [
       "IntProgress(value=0, bar_style='info', description='Pulling docs:', max=3561)"
      ]
     },
     "metadata": {},
     "output_type": "display_data"
    },
    {
     "name": "stdout",
     "output_type": "stream",
     "text": [
      "Pulled 3561 docs\n",
      "Found 113643 queries. Query limit: 5000\n"
     ]
    },
    {
     "data": {
      "application/vnd.jupyter.widget-view+json": {
       "model_id": "9cd707c193fa46898b220684146c9031",
       "version_major": 2,
       "version_minor": 0
      },
      "text/plain": [
       "IntProgress(value=0, bar_style='info', description='Pulling queries:', max=5000)"
      ]
     },
     "metadata": {},
     "output_type": "display_data"
    },
    {
     "name": "stdout",
     "output_type": "stream",
     "text": [
      "Reached limit\n",
      "Pulled 5000 queries, 6868 skipped\n",
      "Skipped reasons: Counter({'Linked to docs not included in model': 6639, 'Not long enough': 224, 'Non-english': 5})\n"
     ]
    }
   ],
   "source": [
    "queries, doc_id2body, question_id2body, skipped = pull_training_data(limit=5000)"
   ]
  },
  {
   "cell_type": "code",
   "execution_count": 29,
   "metadata": {
    "ExecuteTime": {
     "end_time": "2018-12-05T22:38:30.077507Z",
     "start_time": "2018-12-05T22:37:58.065390Z"
    },
    "scrolled": true
   },
   "outputs": [
    {
     "data": {
      "application/vnd.jupyter.widget-view+json": {
       "model_id": "4735f74ced8743ea9d251a14e808eb09",
       "version_major": 2,
       "version_minor": 0
      },
      "text/plain": [
       "IntProgress(value=0, bar_style='info', description='Vectorizing:', max=8560)"
      ]
     },
     "metadata": {},
     "output_type": "display_data"
    },
    {
     "name": "stderr",
     "output_type": "stream",
     "text": [
      "/opt/conda/lib/python3.6/site-packages/numpy/core/fromnumeric.py:2920: RuntimeWarning: Mean of empty slice.\n",
      "  out=out, **kwargs)\n",
      "/opt/conda/lib/python3.6/site-packages/numpy/core/_methods.py:85: RuntimeWarning: invalid value encountered in double_scalars\n",
      "  ret = ret.dtype.type(ret / rcount)\n"
     ]
    }
   ],
   "source": [
    "id2vector, skipped_docs, skipped_questions = get_id2vector(doc_id2body, question_id2body, model)"
   ]
  },
  {
   "cell_type": "code",
   "execution_count": 38,
   "metadata": {
    "ExecuteTime": {
     "end_time": "2018-12-05T03:22:08.242380Z",
     "start_time": "2018-12-05T03:22:07.432729Z"
    }
   },
   "outputs": [],
   "source": [
    "save(id2vector, \"id2vector.p\")\n",
    "save(skipped_docs, \"skipped_docs.p\")\n",
    "save(skipped_questions, \"skipped_questions.p\")"
   ]
  },
  {
   "cell_type": "code",
   "execution_count": 3,
   "metadata": {
    "ExecuteTime": {
     "end_time": "2018-12-05T16:58:12.455649Z",
     "start_time": "2018-12-05T16:58:11.046106Z"
    }
   },
   "outputs": [],
   "source": [
    "id2vector = load(\"id2vector.p\")"
   ]
  },
  {
   "cell_type": "code",
   "execution_count": 32,
   "metadata": {
    "ExecuteTime": {
     "end_time": "2018-12-05T22:38:41.915164Z",
     "start_time": "2018-12-05T22:38:41.908578Z"
    }
   },
   "outputs": [],
   "source": [
    "pruned_queries = prune(queries, skipped_questions)"
   ]
  },
  {
   "cell_type": "code",
   "execution_count": 33,
   "metadata": {
    "ExecuteTime": {
     "end_time": "2018-12-05T22:40:28.781832Z",
     "start_time": "2018-12-05T22:38:42.151996Z"
    }
   },
   "outputs": [
    {
     "name": "stdout",
     "output_type": "stream",
     "text": [
      "3677 queries in train set\n",
      "1226 queries in test set\n",
      "Date pivot point: 2018-08-28T08:13:42Z\n"
     ]
    },
    {
     "data": {
      "application/vnd.jupyter.widget-view+json": {
       "model_id": "c1d105cb1c6b4652b63dc3a920b4ac58",
       "version_major": 2,
       "version_minor": 0
      },
      "text/plain": [
       "IntProgress(value=0, bar_style='info', description='Adding queries:', max=3677)"
      ]
     },
     "metadata": {},
     "output_type": "display_data"
    },
    {
     "data": {
      "application/vnd.jupyter.widget-view+json": {
       "model_id": "a81e16bd650249a8ab9f08e97e73cf23",
       "version_major": 2,
       "version_minor": 0
      },
      "text/plain": [
       "IntProgress(value=0, bar_style='info', description='Adding queries:', max=1226)"
      ]
     },
     "metadata": {},
     "output_type": "display_data"
    }
   ],
   "source": [
    "date_pivot, train, test = split_train_test(pruned_queries, date_split_proportion=0.75)\n",
    "print(\"%d queries in train set\" % len(train))\n",
    "print(\"%d queries in test set\" % len(test))\n",
    "print(\"Date pivot point:\", date_pivot)\n",
    "\n",
    "train_df = create_dataframe(train, n=200)\n",
    "test_df = create_dataframe(test, n=200)"
   ]
  },
  {
   "cell_type": "code",
   "execution_count": 41,
   "metadata": {
    "ExecuteTime": {
     "end_time": "2018-12-05T03:47:48.587359Z",
     "start_time": "2018-12-05T03:47:40.810740Z"
    }
   },
   "outputs": [],
   "source": [
    "save(train_df, \"train_df.p\")\n",
    "save(test_df, \"test_df.p\")"
   ]
  },
  {
   "cell_type": "code",
   "execution_count": 4,
   "metadata": {
    "ExecuteTime": {
     "end_time": "2018-12-05T16:58:27.100308Z",
     "start_time": "2018-12-05T16:58:18.816404Z"
    }
   },
   "outputs": [],
   "source": [
    "train_df = load(\"train_df.p\")\n",
    "test_df = load(\"test_df.p\")"
   ]
  },
  {
   "cell_type": "code",
   "execution_count": 34,
   "metadata": {
    "ExecuteTime": {
     "end_time": "2018-12-05T22:41:54.741880Z",
     "start_time": "2018-12-05T22:40:28.784759Z"
    }
   },
   "outputs": [
    {
     "data": {
      "application/vnd.jupyter.widget-view+json": {
       "model_id": "8d5fbd6077ff4aa892a8dea52e06e41a",
       "version_major": 2,
       "version_minor": 0
      },
      "text/plain": [
       "IntProgress(value=0, bar_style='info', description='Adding vectors:', max=736642)"
      ]
     },
     "metadata": {},
     "output_type": "display_data"
    },
    {
     "name": "stdout",
     "output_type": "stream",
     "text": [
      "Adding 736643 vectors.\n"
     ]
    }
   ],
   "source": [
    "train_vector_df = add_vectors(train_df, id2vector)"
   ]
  },
  {
   "cell_type": "code",
   "execution_count": null,
   "metadata": {
    "ExecuteTime": {
     "end_time": "2018-12-02T01:34:29.918266Z",
     "start_time": "2018-12-02T01:33:51.194778Z"
    }
   },
   "outputs": [],
   "source": [
    "save(train_vector_df, \"train_vector_df.p\")"
   ]
  },
  {
   "cell_type": "code",
   "execution_count": 35,
   "metadata": {
    "ExecuteTime": {
     "end_time": "2018-12-05T22:42:23.387293Z",
     "start_time": "2018-12-05T22:41:54.743872Z"
    }
   },
   "outputs": [
    {
     "data": {
      "application/vnd.jupyter.widget-view+json": {
       "model_id": "90d9d3b005814acd91b532928a2ee01a",
       "version_major": 2,
       "version_minor": 0
      },
      "text/plain": [
       "IntProgress(value=0, bar_style='info', description='Adding vectors:', max=245654)"
      ]
     },
     "metadata": {},
     "output_type": "display_data"
    },
    {
     "name": "stdout",
     "output_type": "stream",
     "text": [
      "Adding 245655 vectors.\n"
     ]
    }
   ],
   "source": [
    "test_vector_df = add_vectors(test_df, id2vector)"
   ]
  },
  {
   "cell_type": "code",
   "execution_count": null,
   "metadata": {
    "ExecuteTime": {
     "end_time": "2018-12-01T08:37:36.526853Z",
     "start_time": "2018-12-01T08:37:36.512658Z"
    }
   },
   "outputs": [],
   "source": [
    "save(train_vector_df, \"train_vector_df.p\")\n",
    "save(test_vector_df, \"test_vector_df.p\")"
   ]
  },
  {
   "cell_type": "code",
   "execution_count": 21,
   "metadata": {
    "ExecuteTime": {
     "end_time": "2018-12-01T17:47:34.634778Z",
     "start_time": "2018-12-01T17:47:28.418087Z"
    }
   },
   "outputs": [],
   "source": [
    "train_vector_df = load(\"train_vector_df.p\")\n",
    "test_vector_df = load(\"test_vector_df.p\")"
   ]
  },
  {
   "cell_type": "markdown",
   "metadata": {},
   "source": [
    "# Creating RankerNet\n",
    "There are a few approaches we can take at this point. For now, I'll stick with `Sklearn` and use the [`MLPClassifier`](https://scikit-learn.org/stable/modules/generated/sklearn.neural_network.MLPClassifier.html) class to create a basic neural network. Other library options include `Keras` and/or `Tensorflow`, which will be discussed/explored at a later point."
   ]
  },
  {
   "cell_type": "markdown",
   "metadata": {},
   "source": [
    "## Multilayer Perceptron\n",
    "A [multilayer perceptron](https://scikit-learn.org/stable/modules/neural_networks_supervised.html#multi-layer-perceptron) (MLP) is a class of feedforward neural network that consists of at least three layers (an input layer, a hidden layer, and an output layer) and uses backpropogation for training. It uses an nonlinear activation function and so it can distinguish data that is not linearly separable. "
   ]
  },
  {
   "cell_type": "code",
   "execution_count": 36,
   "metadata": {
    "ExecuteTime": {
     "end_time": "2018-12-05T22:42:23.396157Z",
     "start_time": "2018-12-05T22:42:23.390398Z"
    }
   },
   "outputs": [],
   "source": [
    "from sklearn.neural_network import MLPClassifier"
   ]
  },
  {
   "cell_type": "markdown",
   "metadata": {},
   "source": [
    "## SKlearn Pipeline\n",
    "I'll use a [`Pipeline`](https://scikit-learn.org/stable/modules/generated/sklearn.pipeline.Pipeline.html) to implement any preprocessing steps and the model training/testing. Here's the SKlearn [User Guide](https://scikit-learn.org/stable/modules/compose.html#pipeline) for pipelines and [this blog post](https://www.kaggle.com/baghern/a-deep-dive-into-sklearn-pipelines) has a decent example of using `Pipeline`s.\n",
    "\n",
    "Essentially, I just need to provide a list of steps that need to be performed and then I can call the `fit()`, `transform()`, and `predict()` methods on the `Pipeline` object to do all of the steps in the pipeline. This also allows for straightforward hyperparameter optimization."
   ]
  },
  {
   "cell_type": "code",
   "execution_count": 37,
   "metadata": {
    "ExecuteTime": {
     "end_time": "2018-12-05T22:42:23.405728Z",
     "start_time": "2018-12-05T22:42:23.398783Z"
    }
   },
   "outputs": [],
   "source": [
    "from sklearn.pipeline import Pipeline\n",
    "from sklearn.preprocessing import StandardScaler\n",
    "\n",
    "def format_params(params):\n",
    "    results = {}\n",
    "    for name, value in params.items():\n",
    "        if \"__\" in name:\n",
    "            key = name.split(\"__\")[1]\n",
    "        else:\n",
    "            key = name\n",
    "        results[key] = value\n",
    "    return results\n",
    "\n",
    "\n",
    "def get_pipeline(params={}):\n",
    "    return Pipeline([\n",
    "        ('scaler', StandardScaler()),\n",
    "        ('neural_net', MLPClassifier(**format_params(params)))\n",
    "    ])"
   ]
  },
  {
   "cell_type": "code",
   "execution_count": 38,
   "metadata": {
    "ExecuteTime": {
     "end_time": "2018-12-06T00:10:06.889537Z",
     "start_time": "2018-12-05T22:42:23.407503Z"
    }
   },
   "outputs": [
    {
     "data": {
      "text/plain": [
       "Pipeline(memory=None,\n",
       "     steps=[('scaler', StandardScaler(copy=True, with_mean=True, with_std=True)), ('neural_net', MLPClassifier(activation='relu', alpha=0.0001, batch_size='auto', beta_1=0.9,\n",
       "       beta_2=0.999, early_stopping=False, epsilon=1e-08,\n",
       "       hidden_layer_sizes=(300, 150, 50), learning_rate='constant',\n",
       "    ...=True, solver='adam', tol=0.0001,\n",
       "       validation_fraction=0.1, verbose=False, warm_start=False))])"
      ]
     },
     "execution_count": 38,
     "metadata": {},
     "output_type": "execute_result"
    }
   ],
   "source": [
    "# pipeline = get_pipeline({\"hidden_layer_sizes\": (300, 150, 50), \"activation\": 'tanh'})\n",
    "pipeline = get_pipeline({\"hidden_layer_sizes\": (300, 150, 50)})\n",
    "pipeline.fit(train_vector_df[\"vector\"].values.tolist(), train_vector_df[\"target\"].values.tolist())"
   ]
  },
  {
   "cell_type": "code",
   "execution_count": 39,
   "metadata": {
    "ExecuteTime": {
     "end_time": "2018-12-06T00:10:25.338817Z",
     "start_time": "2018-12-06T00:10:06.891607Z"
    }
   },
   "outputs": [],
   "source": [
    "preds = [prediction[1] for prediction in pipeline.predict_proba(test_vector_df[\"vector\"].values.tolist())]"
   ]
  },
  {
   "cell_type": "code",
   "execution_count": 40,
   "metadata": {
    "ExecuteTime": {
     "end_time": "2018-12-06T00:10:25.415104Z",
     "start_time": "2018-12-06T00:10:25.340756Z"
    }
   },
   "outputs": [
    {
     "data": {
      "text/plain": [
       "[(1, 1.0803807240947396e-08),\n",
       " (0, 3.1770454387038627e-15),\n",
       " (0, 6.592083104447964e-10),\n",
       " (0, 9.402610255405655e-20),\n",
       " (0, 3.87812986283893e-07),\n",
       " (0, 6.970141502610595e-28),\n",
       " (0, 1.438499562391309e-08),\n",
       " (0, 1.0323411661835654e-14),\n",
       " (0, 1.5525127204273383e-28),\n",
       " (0, 5.059440135774606e-26),\n",
       " (0, 6.50079514069425e-18),\n",
       " (0, 0.0010634755253763803),\n",
       " (0, 2.0533869302603653e-16),\n",
       " (0, 7.70303458485169e-11),\n",
       " (0, 2.5895215889359785e-13),\n",
       " (0, 7.217047492493564e-05),\n",
       " (0, 2.7866803373842085e-10),\n",
       " (0, 7.892135904527992e-11),\n",
       " (0, 1.9835815280379971e-13),\n",
       " (0, 9.41585440415827e-06),\n",
       " (0, 6.987420768738698e-31),\n",
       " (0, 4.0524379705122816e-18),\n",
       " (0, 1.0019843898835443e-29),\n",
       " (0, 3.1052245717932197e-19),\n",
       " (0, 1.2297240764538454e-14),\n",
       " (0, 5.105512382501639e-06),\n",
       " (0, 2.885539906733892e-07),\n",
       " (0, 1.8469286047569797e-18),\n",
       " (0, 6.0738809368851115e-19),\n",
       " (0, 1.1553505393694857e-25),\n",
       " (0, 7.407657543177657e-14),\n",
       " (0, 2.5739958647981515e-13),\n",
       " (0, 1.0079974527174638e-15),\n",
       " (0, 0.0029108085589734096),\n",
       " (0, 1.8170536077822875e-15),\n",
       " (0, 2.1203531745755168e-12),\n",
       " (0, 1.3639672982994967e-14),\n",
       " (0, 2.901614336167827e-09),\n",
       " (0, 0.00010688660273174434),\n",
       " (0, 6.752439387582073e-19),\n",
       " (0, 0.0008679463157461893),\n",
       " (0, 8.249023227698633e-13),\n",
       " (0, 1.2592491780120789e-20),\n",
       " (0, 3.21208275241773e-29),\n",
       " (0, 6.8944194878953e-18),\n",
       " (0, 7.172672242342839e-06),\n",
       " (0, 0.0003002205791645656),\n",
       " (0, 1.0443117113164013e-10),\n",
       " (0, 3.947592464783602e-14),\n",
       " (0, 6.739924913760114e-17),\n",
       " (0, 1.7941232039923513e-10),\n",
       " (0, 1.167032294601272e-11),\n",
       " (0, 3.971105951184412e-09),\n",
       " (0, 5.9525418402479985e-12),\n",
       " (0, 2.609297984343607e-13),\n",
       " (0, 9.187611562996915e-09),\n",
       " (0, 1.6500523906096818e-26),\n",
       " (0, 0.00010810219713019611),\n",
       " (0, 9.664250928001226e-05),\n",
       " (0, 1.654499693709037e-11),\n",
       " (0, 0.00010832666546720781),\n",
       " (0, 1.8356287392755694e-14),\n",
       " (0, 2.6484225485899054e-19),\n",
       " (0, 1.8371182814082397e-08),\n",
       " (0, 1.9307243154000547e-21),\n",
       " (0, 1.5509654699099922e-11),\n",
       " (0, 7.811576005227653e-26),\n",
       " (0, 2.678435998402802e-11),\n",
       " (0, 4.3668507061371955e-11),\n",
       " (0, 1.5218336101973484e-14),\n",
       " (0, 8.73573259438276e-14),\n",
       " (0, 1.2360567608654276e-17),\n",
       " (0, 2.508283571117211e-21),\n",
       " (0, 1.9937012945263244e-20),\n",
       " (0, 2.038856131385974e-10),\n",
       " (0, 1.483297731359966e-08),\n",
       " (0, 1.2220403844132282e-08),\n",
       " (0, 3.9958126132285633e-25),\n",
       " (0, 1.8967156425056233e-19),\n",
       " (0, 9.626321451881862e-17),\n",
       " (0, 2.664151358029206e-14),\n",
       " (0, 1.7769803080688107e-13),\n",
       " (0, 4.321886538426494e-14),\n",
       " (0, 5.216807021672215e-05),\n",
       " (0, 6.353868573290389e-10),\n",
       " (0, 1.404016864238752e-11),\n",
       " (0, 1.2036998484147278e-16),\n",
       " (0, 7.403671428726594e-06),\n",
       " (0, 3.160778958145796e-07),\n",
       " (0, 1.0794826074392787e-07),\n",
       " (0, 6.912145118036873e-05),\n",
       " (0, 4.705674868849806e-19),\n",
       " (0, 4.9135709095171584e-08),\n",
       " (0, 1.0162129183697944e-13),\n",
       " (0, 4.1899733255006843e-13),\n",
       " (0, 1.0993598015118107e-07),\n",
       " (0, 6.397030457893807e-11),\n",
       " (0, 1.157045786034479e-15),\n",
       " (0, 6.69098188801419e-22),\n",
       " (0, 1.5102843018509e-19),\n",
       " (0, 1.1895512087251496e-06),\n",
       " (0, 2.5752199944026023e-08),\n",
       " (0, 1.9414739309598844e-15),\n",
       " (0, 6.379279826349549e-17),\n",
       " (0, 1.9121354991439602e-22),\n",
       " (0, 7.485511875149021e-09),\n",
       " (0, 7.72970055716757e-05),\n",
       " (0, 3.112963305311593e-23),\n",
       " (0, 8.136646864592597e-05),\n",
       " (0, 3.3125364490052784e-09),\n",
       " (0, 3.749415080453868e-15),\n",
       " (0, 8.941260753213609e-22),\n",
       " (0, 2.5117429104782228e-12),\n",
       " (0, 1.182335942523599e-18),\n",
       " (0, 4.066444425871345e-07),\n",
       " (0, 1.0481117543616992e-10),\n",
       " (0, 2.3868491048017597e-11),\n",
       " (0, 0.11930125595166893),\n",
       " (0, 4.4212008214779565e-16),\n",
       " (0, 1.3471162926848705e-10),\n",
       " (0, 7.692236530539085e-08),\n",
       " (0, 4.199376400984675e-14),\n",
       " (0, 7.492479688522665e-06),\n",
       " (0, 2.915541757196263e-16),\n",
       " (0, 1.7825733793393208e-25),\n",
       " (0, 9.64110947125242e-12),\n",
       " (0, 5.968228440634859e-09),\n",
       " (0, 5.709255463896754e-12),\n",
       " (0, 8.774148837123335e-15),\n",
       " (0, 3.381903194170655e-08),\n",
       " (0, 0.0006561369865247384),\n",
       " (0, 8.029525625511295e-06),\n",
       " (0, 1.220094318179769e-15),\n",
       " (0, 6.238181378337283e-20),\n",
       " (0, 7.564661464582143e-21),\n",
       " (0, 8.721586727006178e-06),\n",
       " (0, 4.905243953227144e-09),\n",
       " (0, 4.00165361342753e-16),\n",
       " (0, 5.0088183319158e-17),\n",
       " (0, 2.82365168774215e-11),\n",
       " (0, 1.1518415993271334e-07),\n",
       " (0, 1.2437549914823452e-15),\n",
       " (0, 2.5763280623741193e-23),\n",
       " (0, 2.5763280623741193e-23),\n",
       " (0, 1.8719574735046413e-18),\n",
       " (0, 1.726448419960488e-10),\n",
       " (0, 3.926424047893541e-23),\n",
       " (0, 2.600291486720011e-16),\n",
       " (0, 6.772907757047263e-09),\n",
       " (0, 1.9969384454427212e-13),\n",
       " (0, 1.0762335621327658e-06),\n",
       " (0, 8.567388914393981e-10),\n",
       " (0, 1.0177149604549069e-07),\n",
       " (0, 2.2113035236385093e-11),\n",
       " (0, 1.6881792410324946e-07),\n",
       " (0, 0.00746028914907139),\n",
       " (0, 3.3282235794511897e-10),\n",
       " (0, 1.7307213119452155e-09),\n",
       " (0, 5.9681350765247e-23),\n",
       " (0, 2.4346358514014276e-12),\n",
       " (0, 2.473700288922808e-22),\n",
       " (0, 4.890886625262792e-15),\n",
       " (0, 2.469625793421959e-07),\n",
       " (0, 9.602625613302621e-12),\n",
       " (0, 4.832014337335751e-12),\n",
       " (0, 1.5552820132497607e-16),\n",
       " (0, 7.236788354518452e-23),\n",
       " (0, 7.073018656264981e-13),\n",
       " (0, 1.9498074181581322e-26),\n",
       " (0, 6.891338248004208e-24),\n",
       " (0, 1.6171029811932416e-16),\n",
       " (0, 3.098622328911714e-07),\n",
       " (0, 1.1632746067158283e-07),\n",
       " (0, 2.5481713140239006e-14),\n",
       " (0, 1.2983699989787504e-17),\n",
       " (0, 9.464377588854177e-14),\n",
       " (0, 2.9191575944315096e-06),\n",
       " (0, 5.227256903298082e-18),\n",
       " (0, 1.6908108371452466e-12),\n",
       " (0, 4.180921757886598e-07),\n",
       " (0, 8.864644252879982e-14),\n",
       " (0, 1.4723825867468475e-13),\n",
       " (0, 1.0342266217613355e-22),\n",
       " (0, 1.6445160673275048e-16),\n",
       " (0, 9.862185154335936e-05),\n",
       " (0, 3.0888925178699706e-15),\n",
       " (0, 5.826325945648685e-11),\n",
       " (0, 2.583819199547713e-08),\n",
       " (0, 1.917025683472197e-21),\n",
       " (0, 1.8596085708651026e-16),\n",
       " (0, 2.1049639459033843e-10),\n",
       " (0, 1.0073216332312704e-06),\n",
       " (0, 1.8948119883402217e-06),\n",
       " (0, 9.135848550005234e-10),\n",
       " (0, 1.0959015252913775e-07),\n",
       " (0, 2.8194228119316974e-19),\n",
       " (0, 6.3696593025003175e-12),\n",
       " (0, 1.3372750602729298e-13),\n",
       " (0, 7.927266357352878e-09),\n",
       " (0, 6.286843554572638e-16),\n",
       " (1, 0.003612233853136401),\n",
       " (0, 4.531746328610955e-13),\n",
       " (0, 3.2763038708503496e-21),\n",
       " (0, 1.2872919060625978e-11),\n",
       " (0, 4.713229710997757e-19),\n",
       " (0, 0.7422921846657934),\n",
       " (0, 1.049441150440406e-06),\n",
       " (0, 0.48143008136621557),\n",
       " (0, 7.00184067606143e-23),\n",
       " (0, 1.8299032890164075e-13),\n",
       " (0, 9.43469398716261e-11),\n",
       " (0, 6.944391189158586e-07),\n",
       " (0, 9.653118466500595e-09),\n",
       " (0, 6.4359232700843606e-09),\n",
       " (0, 1.3868555163075438e-25),\n",
       " (0, 5.833582359216683e-16),\n",
       " (0, 1.0183676511892313e-14),\n",
       " (0, 3.402619013036255e-15),\n",
       " (0, 1.3328537990346373e-19),\n",
       " (0, 6.295791803034398e-16),\n",
       " (0, 8.709058413111744e-10),\n",
       " (0, 1.17483555465593e-20),\n",
       " (0, 1.9778318481680422e-10),\n",
       " (0, 2.355283290752613e-15),\n",
       " (0, 1.1936975223928348e-09),\n",
       " (0, 1.2095342041187624e-24),\n",
       " (0, 6.6076722163859575e-12),\n",
       " (0, 2.224682176260035e-05),\n",
       " (0, 0.028397856196531037),\n",
       " (0, 0.0006506915821645238),\n",
       " (0, 1.4760070175223613e-09),\n",
       " (0, 4.610361401825083e-16),\n",
       " (0, 1.3369552647370474e-18),\n",
       " (0, 7.072102975945573e-26),\n",
       " (0, 4.1218506196234877e-13),\n",
       " (0, 4.1222255933507215e-16),\n",
       " (0, 1.6907046019219212e-22),\n",
       " (0, 2.620234429084262e-13),\n",
       " (0, 1.9430254940348662e-22),\n",
       " (0, 1.1233071542724046e-20),\n",
       " (0, 9.629239901600452e-22),\n",
       " (0, 1.3038891974773532e-29),\n",
       " (0, 1.898842857596185e-13),\n",
       " (0, 5.528672359176612e-25),\n",
       " (0, 4.803460587884136e-18),\n",
       " (0, 1.3418383796024187e-11),\n",
       " (0, 2.693139827651959e-05),\n",
       " (0, 6.4273106260494e-09),\n",
       " (0, 9.331176008454725e-26),\n",
       " (0, 7.39430849762622e-08),\n",
       " (0, 4.971394696360059e-07),\n",
       " (0, 1.0039465865472672e-20),\n",
       " (0, 3.656365702000628e-14),\n",
       " (0, 2.747481932497016e-24),\n",
       " (0, 8.190730021424315e-17),\n",
       " (0, 1.2797369470832636e-16),\n",
       " (0, 1.1627556309919339e-09),\n",
       " (0, 4.496747515820095e-12),\n",
       " (0, 3.221579429157563e-13),\n",
       " (0, 4.3779521245285036e-26),\n",
       " (0, 1.8030868545698937e-19),\n",
       " (0, 3.0234515375889006e-09),\n",
       " (0, 6.374569524438296e-05),\n",
       " (0, 8.23340434083452e-12),\n",
       " (0, 5.124655046434163e-10),\n",
       " (0, 8.623616766067952e-08),\n",
       " (0, 4.5238595411977425e-19),\n",
       " (0, 5.018077323045142e-19),\n",
       " (0, 5.637520635824087e-15),\n",
       " (0, 1.8111089045385728e-11),\n",
       " (0, 4.729440046291161e-21),\n",
       " (0, 9.178597631674455e-23),\n",
       " (0, 2.4992222956255793e-15),\n",
       " (0, 5.1911131788594855e-06),\n",
       " (0, 1.0924784962337944e-24),\n",
       " (0, 2.6998369674846562e-18),\n",
       " (0, 2.248568554697931e-10),\n",
       " (0, 2.3630402843685218e-17),\n",
       " (0, 1.2122071855631193e-11),\n",
       " (0, 2.578885029224927e-16),\n",
       " (0, 2.2004276440687825e-14),\n",
       " (0, 4.4492686152395026e-13),\n",
       " (0, 4.414576887723712e-07),\n",
       " (0, 8.563678853928713e-11),\n",
       " (0, 1.5097521353518767e-12),\n",
       " (0, 2.381496059602683e-10),\n",
       " (0, 1.0664463468106295e-13),\n",
       " (0, 4.458442616843098e-22),\n",
       " (0, 7.608028569035644e-05),\n",
       " (0, 1.8739700410651487e-15),\n",
       " (0, 2.0401300034405478e-17),\n",
       " (0, 3.2377633544686825e-30),\n",
       " (0, 8.954973831200357e-15),\n",
       " (0, 3.979123081452745e-12),\n",
       " (0, 1.4502651400965902e-15),\n",
       " (0, 6.549521502351124e-16),\n",
       " (0, 4.742318485301501e-08),\n",
       " (0, 2.4909262670435462e-11),\n",
       " (0, 1.9752129135656653e-21),\n",
       " (0, 5.3829328422274995e-11),\n",
       " (0, 1.21544378260449e-05),\n",
       " (0, 0.039652833928902786),\n",
       " (0, 4.450661809176692e-19),\n",
       " (0, 1.2771722710528024e-11),\n",
       " (0, 1.943967845400346e-20),\n",
       " (0, 1.319078867175133e-30),\n",
       " (0, 0.04854249936795131),\n",
       " (0, 0.0013675291418204106),\n",
       " (0, 6.395194348416669e-21),\n",
       " (0, 2.8735575567670383e-05),\n",
       " (0, 4.114571026174617e-17),\n",
       " (0, 1.0607686947653318e-11),\n",
       " (0, 3.2545835968647447e-18),\n",
       " (0, 2.1981445930807856e-19),\n",
       " (0, 9.747955909284227e-10),\n",
       " (0, 1.953538101593885e-11),\n",
       " (0, 7.217942266473847e-16),\n",
       " (0, 1.312076749496662e-07),\n",
       " (0, 3.821824347009969e-14),\n",
       " (0, 2.4738409978363194e-11),\n",
       " (0, 9.453286108934665e-11),\n",
       " (0, 2.757653926949656e-11),\n",
       " (0, 4.63897408760665e-17),\n",
       " (0, 7.824883479971216e-05),\n",
       " (0, 1.4361475362514296e-14),\n",
       " (0, 3.299402245219426e-26),\n",
       " (0, 7.548143162702732e-10),\n",
       " (0, 3.285688625654777e-14),\n",
       " (0, 2.408517496091011e-19),\n",
       " (0, 3.372297437752232e-20),\n",
       " (0, 4.729078568850092e-21),\n",
       " (0, 5.707379789596519e-19),\n",
       " (0, 2.266180544744525e-18),\n",
       " (0, 1.8260491796602405e-22),\n",
       " (0, 2.9816946028897132e-30),\n",
       " (0, 2.266730924076365e-29),\n",
       " (0, 5.033912860857451e-24),\n",
       " (0, 1.4814500590200814e-12),\n",
       " (0, 3.7636561954018695e-09),\n",
       " (0, 1.1151813320832751e-10),\n",
       " (0, 1.7296163889484988e-13),\n",
       " (0, 1.491209390136807e-18),\n",
       " (0, 1.0390077697181093e-15),\n",
       " (0, 2.5961542912696718e-23),\n",
       " (0, 9.836454892327425e-12),\n",
       " (0, 0.0007628778444399431),\n",
       " (0, 0.0001455066384093334),\n",
       " (0, 0.00395820319071918),\n",
       " (0, 8.477947016271475e-27),\n",
       " (0, 2.8901102326166157e-16),\n",
       " (0, 1.8847696536463758e-18),\n",
       " (0, 1.3137100984704895e-17),\n",
       " (0, 1.1021731781649907e-12),\n",
       " (0, 2.3930865642582018e-14),\n",
       " (0, 1.3222258638217189e-23),\n",
       " (0, 1.3183484088785054e-17),\n",
       " (0, 1.157231521620993e-17),\n",
       " (0, 1.195230144070009e-07),\n",
       " (0, 2.2362374209170132e-15),\n",
       " (0, 1.3921980679149967e-13),\n",
       " (0, 2.317495801746337e-19),\n",
       " (0, 1.6485330011944504e-18),\n",
       " (0, 1.4631728672762073e-30),\n",
       " (0, 0.00012124058627870469),\n",
       " (0, 3.107021818436396e-11),\n",
       " (0, 6.249245415921455e-05),\n",
       " (0, 6.8969327109628154e-09),\n",
       " (0, 1.8946686076606514e-16),\n",
       " (0, 4.435215098133251e-15),\n",
       " (0, 2.8482831589992537e-19),\n",
       " (0, 2.5680979996556174e-12),\n",
       " (0, 9.443740690955521e-23),\n",
       " (0, 3.2771305572804537e-13),\n",
       " (0, 7.771028042479596e-11),\n",
       " (0, 4.115746518269373e-20),\n",
       " (0, 0.03647737078680329),\n",
       " (0, 1.1292060938388255e-20),\n",
       " (0, 7.125672263744226e-06),\n",
       " (0, 1.2733823407932424e-06),\n",
       " (0, 8.612581797315264e-22),\n",
       " (0, 1.136102589435442e-16),\n",
       " (0, 2.374427990061687e-12),\n",
       " (0, 2.603523183579867e-22),\n",
       " (0, 5.223642163128365e-09),\n",
       " (0, 8.438082630794458e-12),\n",
       " (0, 1.6972734751519212e-11),\n",
       " (0, 8.39729895283461e-12),\n",
       " (0, 1.7041069088031098e-08),\n",
       " (0, 3.7357414771675934e-08),\n",
       " (0, 3.7585614818596025e-05),\n",
       " (0, 4.574310515916028e-23),\n",
       " (0, 3.6690763122718347e-29),\n",
       " (0, 4.201965191192505e-21),\n",
       " (0, 6.799087361528943e-18),\n",
       " (0, 8.894059875757715e-12),\n",
       " (0, 3.420487905941413e-17),\n",
       " (0, 4.263116066389165e-17),\n",
       " (0, 0.8926874715427725),\n",
       " (0, 9.73660086361168e-12),\n",
       " (0, 3.1852861918742e-07),\n",
       " (0, 3.351220512509367e-22),\n",
       " (1, 0.28428093100440666),\n",
       " (1, 0.05095588249000707),\n",
       " (0, 1.0391197414434026e-10),\n",
       " (0, 6.97703930888102e-14),\n",
       " (0, 8.722864537189812e-10),\n",
       " (0, 1.2466735940221743e-10),\n",
       " (0, 1.4683745384353924e-08),\n",
       " (0, 2.6529592764882807e-08),\n",
       " (0, 1.479386454114119e-13),\n",
       " (0, 6.38953074135413e-15),\n",
       " (0, 8.43191866336577e-08),\n",
       " (0, 4.506094408382773e-06),\n",
       " (0, 2.713960127435771e-13),\n",
       " (0, 1.7263553881365128e-16),\n",
       " (0, 8.959008664047819e-18),\n",
       " (0, 2.9013659963657814e-14),\n",
       " (0, 1.848604118813399e-06),\n",
       " (0, 6.299686140551853e-20),\n",
       " (0, 1.4852443301090558e-21),\n",
       " (0, 3.508620537607381e-06),\n",
       " (0, 2.4071980574246627e-20),\n",
       " (0, 5.200686660387504e-17),\n",
       " (0, 2.8741810518261715e-24),\n",
       " (0, 4.965097709599689e-09),\n",
       " (0, 3.104735257705177e-08),\n",
       " (0, 5.0893824576259186e-15),\n",
       " (0, 5.305676319207325e-05),\n",
       " (0, 5.191720976362022e-15),\n",
       " (0, 4.8172028454164654e-11),\n",
       " (0, 1.150493710771318e-36),\n",
       " (0, 1.1002976101082006e-10),\n",
       " (0, 3.463067582486238e-24),\n",
       " (0, 1.4440297951090598e-15),\n",
       " (0, 2.7026697711484266e-20),\n",
       " (0, 0.37089491270460234),\n",
       " (0, 3.8790318454198795e-21),\n",
       " (0, 3.0402963278850167e-12),\n",
       " (0, 1.1026920148001385e-06),\n",
       " (0, 4.630424125302055e-25),\n",
       " (0, 5.750149815998477e-08),\n",
       " (0, 6.804168939683998e-08),\n",
       " (0, 2.362565308081704e-20),\n",
       " (0, 4.798362661110958e-37),\n",
       " (0, 3.516176214898494e-16),\n",
       " (0, 9.789060401213033e-15),\n",
       " (0, 2.333433141814736e-10),\n",
       " (0, 2.3654875546216656e-09),\n",
       " (0, 3.643745954532415e-26),\n",
       " (0, 3.044771789499247e-20),\n",
       " (0, 1.8790801118366347e-14),\n",
       " (0, 1.854483282909477e-11),\n",
       " (0, 2.8440966043377367e-13),\n",
       " (0, 3.107737374789504e-08),\n",
       " (0, 1.5711482852299075e-14),\n",
       " (0, 1.178809626566407e-16),\n",
       " (0, 2.0623274485469285e-05),\n",
       " (0, 1.31775968980709e-16),\n",
       " (0, 7.417439163068383e-07),\n",
       " (0, 4.060310693768229e-18),\n",
       " (0, 4.2461087791865425e-15),\n",
       " (0, 1.6887892866834534e-16),\n",
       " (0, 3.6711118529348566e-14),\n",
       " (0, 0.026063387456519378),\n",
       " (0, 4.277003678562313e-05),\n",
       " (0, 6.052169034134012e-07),\n",
       " (0, 1.1643524116622509e-07),\n",
       " (0, 5.506648282060442e-10),\n",
       " (0, 7.021256970566735e-10),\n",
       " (0, 6.661139192032674e-07),\n",
       " (0, 3.6983389876118994e-18),\n",
       " (0, 2.305068947881566e-31),\n",
       " (0, 1.009820151189598e-26),\n",
       " (0, 6.003233925126931e-22),\n",
       " (0, 3.070632361129411e-16),\n",
       " (0, 5.31331619263271e-12),\n",
       " (0, 8.030267224137855e-20),\n",
       " (0, 7.369280535332301e-10),\n",
       " (0, 1.964579626179042e-23),\n",
       " (0, 1.0660311607425558e-09),\n",
       " (0, 3.2385194073430893e-07),\n",
       " (0, 7.253733953071259e-08),\n",
       " (0, 2.4404567366124268e-17),\n",
       " (0, 5.507227652670064e-07),\n",
       " (0, 1.4994058358160858e-13),\n",
       " (0, 4.116879203218145e-18),\n",
       " (0, 1.3443350611221456e-11),\n",
       " (0, 1.9996531860520774e-10),\n",
       " (0, 5.4166099087817685e-18),\n",
       " (0, 1.419335906728541e-10),\n",
       " (0, 1.2497692734696669e-14),\n",
       " (0, 1.64392276021916e-18),\n",
       " (0, 1.4039082975308268e-29),\n",
       " (0, 6.046114243919075e-28),\n",
       " (0, 8.456543165829393e-13),\n",
       " (0, 2.393570020855038e-18),\n",
       " (0, 1.2720187759405491e-23),\n",
       " (0, 2.6206314658983483e-13),\n",
       " (0, 1.0621293987105234e-09),\n",
       " (0, 1.84360487011022e-10),\n",
       " (0, 5.365701704922993e-15),\n",
       " (0, 1.4729431861112492e-37),\n",
       " (0, 9.869052203611335e-26),\n",
       " (0, 4.932701302620608e-18),\n",
       " (0, 5.708805254152943e-18),\n",
       " (0, 1.2492729524717498e-10),\n",
       " (0, 1.4858049621397404e-09),\n",
       " (0, 1.1658398820353514e-14),\n",
       " (0, 1.4420555931583132e-09),\n",
       " (0, 7.46384351835577e-08),\n",
       " (0, 6.0703899018613655e-22),\n",
       " (0, 1.0729300683512538e-05),\n",
       " (0, 3.328984971177187e-13),\n",
       " (0, 1.961095460990744e-20),\n",
       " (0, 3.3933661747170805e-09),\n",
       " (0, 7.694129292171573e-05),\n",
       " (0, 1.92082012588259e-11),\n",
       " (0, 5.375333106831321e-19),\n",
       " (0, 1.706730748416062e-07),\n",
       " (0, 9.023349470425723e-07),\n",
       " (0, 6.275606420196101e-07),\n",
       " (0, 1.261360430520859e-24),\n",
       " (0, 1.6578767516559124e-19),\n",
       " (0, 1.421378269886668e-17),\n",
       " (0, 3.8949698760432954e-07),\n",
       " (0, 1.5798749522750103e-10),\n",
       " (0, 1.1929362299943285e-12),\n",
       " (0, 2.0724987567118024e-11),\n",
       " (0, 2.2467633503935044e-15),\n",
       " (0, 8.672754153547285e-19),\n",
       " (0, 5.551559319982252e-10),\n",
       " (0, 7.987831598191824e-15),\n",
       " (0, 2.608357561698665e-10),\n",
       " (0, 2.0887095643196973e-17),\n",
       " (0, 6.182103708834826e-28),\n",
       " (0, 1.7496236839047263e-24),\n",
       " (0, 6.386908185941249e-23),\n",
       " (0, 2.520979723396602e-05),\n",
       " (0, 1.1249783620189683e-09),\n",
       " (0, 6.968989606215366e-22),\n",
       " (0, 9.566019148761443e-14),\n",
       " (0, 4.498270080701483e-11),\n",
       " (0, 2.7521593505419034e-12),\n",
       " (0, 2.813303310507873e-12),\n",
       " (0, 9.728549378253955e-11),\n",
       " (0, 1.552930977012815e-05),\n",
       " (0, 1.377637524967226e-13),\n",
       " (0, 9.021742822289968e-10),\n",
       " (0, 5.128523505188965e-10),\n",
       " (0, 6.512451904355323e-09),\n",
       " (0, 1.043600348877726e-11),\n",
       " (0, 8.194440278752244e-17),\n",
       " (0, 3.3633467079671073e-17),\n",
       " (0, 1.5971980335072184e-13),\n",
       " (0, 2.861160954213046e-25),\n",
       " (0, 3.1354564003968515e-24),\n",
       " (0, 4.678890418517575e-10),\n",
       " (0, 6.707543566192304e-15),\n",
       " (0, 1.3309173344290993e-12),\n",
       " (0, 2.1797304243271093e-32),\n",
       " (0, 5.095433019686297e-17),\n",
       " (0, 2.9210420736044084e-13),\n",
       " (0, 6.366895822346526e-12),\n",
       " (0, 6.166311827268571e-23),\n",
       " (0, 3.39481299635336e-06),\n",
       " (0, 3.260492483395559e-06),\n",
       " (0, 2.7118968419922055e-09),\n",
       " (0, 4.89180726423699e-09),\n",
       " (0, 6.704711212706795e-06),\n",
       " (0, 2.2193237240017574e-19),\n",
       " (0, 4.915859696141948e-15),\n",
       " (0, 6.034780327126553e-13),\n",
       " (0, 2.2806012474078474e-19),\n",
       " (0, 1.6053841344259583e-12),\n",
       " (0, 6.943982857523065e-29),\n",
       " (0, 2.085833164222146e-26),\n",
       " (0, 9.569786144652184e-12),\n",
       " (0, 1.5739690477955683e-11),\n",
       " (0, 3.3737230856177503e-19),\n",
       " (0, 2.9532576251968014e-26),\n",
       " (0, 3.533735602849873e-14),\n",
       " (0, 2.8518811270368666e-08),\n",
       " (0, 5.549863445044627e-23),\n",
       " (0, 5.954068171227617e-06),\n",
       " (0, 4.628359809669974e-13),\n",
       " (0, 7.687201727750672e-12),\n",
       " (0, 0.00015131734505217364),\n",
       " (0, 6.748106363992307e-12),\n",
       " (0, 9.258719187321336e-09),\n",
       " (0, 1.0640345704513822e-12),\n",
       " (0, 3.6326568261962294e-13),\n",
       " (0, 3.445427237709866e-16),\n",
       " (0, 1.4255895781360414e-37),\n",
       " (0, 6.718943133541689e-14),\n",
       " (0, 5.641751954321566e-09),\n",
       " (0, 6.39866196116742e-07),\n",
       " (0, 2.6869227200342204e-35),\n",
       " (0, 6.281548326059528e-11),\n",
       " (0, 5.508405527505768e-10),\n",
       " (0, 3.6841981855085806e-08),\n",
       " (0, 3.5986499395476713e-12),\n",
       " (0, 3.041978829960518e-13),\n",
       " (1, 0.0031013309409891584),\n",
       " (1, 0.9999999772307059),\n",
       " (0, 5.048288735277055e-06),\n",
       " (0, 1.255975099456097e-13),\n",
       " (0, 0.00047528605006408943),\n",
       " (0, 2.2706639840823193e-19),\n",
       " (0, 3.8784851996208646e-08),\n",
       " (0, 0.00010163224225867955),\n",
       " (0, 1.8986211856598854e-10),\n",
       " (0, 9.925850420706815e-16),\n",
       " (0, 4.516532017935774e-16),\n",
       " (0, 1.3521494654320428e-09),\n",
       " (0, 3.936601688308299e-11),\n",
       " (0, 1.7905785143229353e-20),\n",
       " (0, 8.083883938519961e-21),\n",
       " (0, 2.7734212255384158e-11),\n",
       " (0, 0.015373121487293112),\n",
       " (0, 2.2450299536783883e-15),\n",
       " (0, 2.587283675804071e-16),\n",
       " (0, 6.905160172541195e-11),\n",
       " (0, 5.535954331341812e-13),\n",
       " (0, 3.0024909401219086e-10),\n",
       " (0, 2.2235770307233875e-16),\n",
       " (0, 4.050263191105122e-16),\n",
       " (0, 1.6178264093196885e-15),\n",
       " (0, 6.295434250511186e-20),\n",
       " (0, 1.0344309512553287e-17),\n",
       " (0, 5.752265873553826e-08),\n",
       " (0, 5.674685989611126e-09),\n",
       " (0, 3.061436793744241e-08),\n",
       " (0, 1.0219994434564147e-15),\n",
       " (0, 3.749979324048302e-21),\n",
       " (0, 2.005902250703998e-10),\n",
       " (0, 2.524508858382957e-08),\n",
       " (0, 3.1633345640011674e-11),\n",
       " (0, 8.898451260192654e-15),\n",
       " (0, 1.1918611497782775e-13),\n",
       " (0, 8.393186735344471e-21),\n",
       " (0, 4.82345569937876e-13),\n",
       " (0, 8.688177803745625e-05),\n",
       " (0, 7.803843655044315e-11),\n",
       " (0, 4.061189896074393e-15),\n",
       " (0, 3.0923831766203384e-29),\n",
       " (0, 1.995253838829962e-15),\n",
       " (0, 2.7936964420906153e-09),\n",
       " (0, 3.2314967501974874e-13),\n",
       " (0, 1.6229750515487852e-12),\n",
       " (0, 3.262741708438376e-10),\n",
       " (0, 7.622222388792912e-14),\n",
       " (0, 6.997652388654055e-17),\n",
       " (0, 7.920680047974492e-15),\n",
       " (0, 5.3556083260740825e-08),\n",
       " (0, 1.5720343532550338e-29),\n",
       " (0, 1.7226060591195837e-13),\n",
       " (0, 1.7390598223278283e-09),\n",
       " (0, 2.4472195873222518e-23),\n",
       " (0, 0.03214939170732699),\n",
       " (0, 6.646196476024828e-11),\n",
       " (0, 2.3468362668647286e-14),\n",
       " (0, 2.5996717414200794e-06),\n",
       " (0, 4.489816677186209e-15),\n",
       " (0, 4.200910342571507e-06),\n",
       " (0, 1.0372304261760705e-10),\n",
       " (0, 1.2806148411759924e-09),\n",
       " (0, 2.7256904877458607e-16),\n",
       " (0, 4.8704403140349595e-11),\n",
       " (0, 1.2532201097122912e-16),\n",
       " (0, 3.757452371876997e-07),\n",
       " (0, 6.492904463266649e-12),\n",
       " (0, 1.2709808743609208e-08),\n",
       " (0, 2.853249342241822e-14),\n",
       " (0, 0.0006819902593175127),\n",
       " (0, 8.568479657057612e-19),\n",
       " (0, 4.313617479907664e-14),\n",
       " (0, 1.2699070008209052e-11),\n",
       " (0, 3.181077749527147e-11),\n",
       " (0, 4.629580023994397e-12),\n",
       " (0, 9.917117239963626e-08),\n",
       " (0, 1.1367448752980245e-11),\n",
       " (0, 4.67538047954221e-15),\n",
       " (0, 1.628554979872e-12),\n",
       " (0, 6.980535093944318e-18),\n",
       " (0, 2.9450366270749397e-06),\n",
       " (0, 1.2370880541545375e-16),\n",
       " (0, 3.585456626406294e-19),\n",
       " (0, 1.3377357756821064e-18),\n",
       " (0, 1.4662938884211532e-15),\n",
       " (0, 5.535598782642176e-10),\n",
       " (0, 3.785473784471514e-28),\n",
       " (0, 1.5521515785091346e-09),\n",
       " (0, 8.042668743626787e-21),\n",
       " (0, 6.956640855809824e-13),\n",
       " (0, 9.94283520612257e-14),\n",
       " (0, 1.316473524392238e-10),\n",
       " (0, 5.255676241744735e-13),\n",
       " (0, 3.234550075727178e-26),\n",
       " (0, 2.6510741054949457e-12),\n",
       " (0, 1.2886783394886948e-09),\n",
       " (0, 1.8811216444318716e-10),\n",
       " (0, 1.4630249820835334e-16),\n",
       " (0, 6.457763755761204e-13),\n",
       " (0, 1.0588031439754024e-24),\n",
       " (0, 8.618282832054114e-15),\n",
       " (0, 2.9403424822341677e-13),\n",
       " (0, 5.6165945604112713e-11),\n",
       " (0, 3.140392473584055e-08),\n",
       " (0, 4.9052262045110444e-15),\n",
       " (0, 3.313712517252591e-10),\n",
       " (0, 2.8129413064152733e-15),\n",
       " (0, 3.3999910261110883e-25),\n",
       " (0, 5.908533418120202e-18),\n",
       " (0, 7.834650527180333e-05),\n",
       " (0, 1.6042060465867967e-08),\n",
       " (0, 3.0905786617982515e-09),\n",
       " (0, 3.990591583577565e-06),\n",
       " (0, 5.913596376311136e-29),\n",
       " (0, 1.673747217975914e-08),\n",
       " (0, 6.987565320490061e-23),\n",
       " (0, 9.575880542310547e-16),\n",
       " (0, 5.285068911440523e-13),\n",
       " (0, 1.621988597163688e-09),\n",
       " (0, 3.307747502093186e-10),\n",
       " (0, 1.8486594948068814e-17),\n",
       " (0, 0.00015756183993383577),\n",
       " (0, 0.00019687690812406444),\n",
       " (0, 1.122493622285257e-25),\n",
       " (0, 1.0736894527007843e-07),\n",
       " (0, 2.107238729712085e-12),\n",
       " (0, 1.7338574965435363e-20),\n",
       " (0, 7.682671831730355e-11),\n",
       " (0, 4.7716979496665836e-12),\n",
       " (0, 7.015338451595216e-17),\n",
       " (0, 7.344659515598426e-09),\n",
       " (0, 1.865462552163751e-15),\n",
       " (0, 6.75948789390305e-16),\n",
       " (0, 1.182797251697312e-12),\n",
       " (0, 2.8704712898095854e-14),\n",
       " (0, 1.2425815661985188e-17),\n",
       " (0, 5.721620885954691e-11),\n",
       " (0, 4.972200001660339e-25),\n",
       " (0, 1.7408024156572056e-21),\n",
       " (0, 1.7408024156572056e-21),\n",
       " (0, 9.307667385831607e-25),\n",
       " (0, 5.3890491224825356e-14),\n",
       " (0, 3.0875808595004502e-27),\n",
       " (0, 3.713573305430515e-14),\n",
       " (0, 1.468984386925921e-07),\n",
       " (0, 3.199361215346729e-17),\n",
       " (0, 2.3721250986182726e-17),\n",
       " (0, 8.039646456003614e-11),\n",
       " (0, 6.4158585187159565e-15),\n",
       " (0, 1.9135603629078477e-12),\n",
       " (0, 3.9891094948201656e-09),\n",
       " (0, 3.920017405762176e-11),\n",
       " (0, 3.059496219915603e-16),\n",
       " (0, 1.791467594142709e-06),\n",
       " (0, 7.670324411156681e-20),\n",
       " (0, 7.027376175986924e-12),\n",
       " (0, 2.9978602111237134e-13),\n",
       " (0, 2.313971907721851e-15),\n",
       " (0, 6.754636300115006e-20),\n",
       " (0, 2.884593272348525e-21),\n",
       " (0, 4.356083526366095e-27),\n",
       " (0, 2.528100765708536e-16),\n",
       " (0, 6.560083961995534e-10),\n",
       " (0, 5.848607185152066e-14),\n",
       " (0, 1.4907223530040613e-18),\n",
       " (0, 7.495387954217503e-06),\n",
       " (0, 9.89646539589006e-07),\n",
       " (0, 4.1015299160034663e-22),\n",
       " (0, 7.335934924426814e-07),\n",
       " (0, 1.3334179084774167e-19),\n",
       " (0, 2.8047031536653215e-19),\n",
       " (0, 2.175920041534502e-10),\n",
       " (0, 2.065604551941437e-11),\n",
       " (0, 2.7658288861013367e-18),\n",
       " (0, 6.262522451699887e-23),\n",
       " (0, 0.023928775248898942),\n",
       " (0, 6.597484414508923e-05),\n",
       " (0, 2.5037814158753822e-18),\n",
       " (0, 8.572399157032679e-18),\n",
       " (0, 7.0839753563727e-27),\n",
       " (0, 8.816190118462557e-22),\n",
       " (0, 4.8081171927490815e-20),\n",
       " (0, 1.5062193774536655e-16),\n",
       " (0, 4.0874302056904956e-16),\n",
       " (0, 2.0788526535929858e-10),\n",
       " (0, 1.5457731914386462e-21),\n",
       " (0, 1.861795163330669e-11),\n",
       " (0, 9.343846919958823e-16),\n",
       " (0, 6.115219877085533e-14),\n",
       " (0, 4.3500475535734516e-10),\n",
       " (0, 2.688602320067786e-12),\n",
       " (0, 1.4731161136520493e-10),\n",
       " (0, 1.7930939019707714e-23),\n",
       " (0, 1.1158199044275247e-12),\n",
       " (0, 1.3656895843356455e-07),\n",
       " (0, 3.298316387395285e-19),\n",
       " (0, 1.0269881382158346e-14),\n",
       " (0, 2.3214758549040715e-18),\n",
       " (0, 3.225814776419717e-09),\n",
       " (0, 2.3270550314682686e-15),\n",
       " (1, 0.2827718377540883),\n",
       " (0, 5.441561879347852e-06),\n",
       " (0, 2.3801941040855426e-06),\n",
       " (0, 1.9444593269545418e-08),\n",
       " (0, 1.6666317302597852e-20),\n",
       " (0, 1.222482459109046e-05),\n",
       " (0, 1.694466880050575e-21),\n",
       " (0, 3.150495458294341e-22),\n",
       " (0, 9.530675479690808e-07),\n",
       " (0, 4.0090635805099454e-10),\n",
       " (0, 0.006505608218875641),\n",
       " (0, 1.29077777154856e-06),\n",
       " (0, 8.718991790093922e-22),\n",
       " (0, 3.072896374568239e-09),\n",
       " (0, 1.2077623518672916e-07),\n",
       " (0, 5.943336714149774e-06),\n",
       " (0, 3.637752256729138e-05),\n",
       " (0, 7.247055547566963e-05),\n",
       " (0, 0.00022196783084319245),\n",
       " (0, 2.711865417859681e-14),\n",
       " (0, 0.0006084722922306073),\n",
       " (0, 2.45311510839645e-06),\n",
       " (0, 7.719651986749743e-13),\n",
       " (0, 0.0017655307660390507),\n",
       " (0, 6.820071097190458e-09),\n",
       " (0, 0.0043719476871645745),\n",
       " (0, 1.95024375401702e-08),\n",
       " (0, 4.492942272550404e-06),\n",
       " (0, 3.4168873879430535e-12),\n",
       " (0, 1.991378409826663e-12),\n",
       " (0, 3.844817570209267e-11),\n",
       " (0, 3.029906521277341e-08),\n",
       " (0, 6.179400934984233e-07),\n",
       " (0, 1.34933752469702e-12),\n",
       " (0, 0.045229218712960484),\n",
       " (0, 1.0065827103222276e-10),\n",
       " (0, 6.6281817409944155e-12),\n",
       " (0, 3.448268487952771e-05),\n",
       " (0, 1.956541529679122e-10),\n",
       " (0, 1.0356100027129947e-10),\n",
       " (0, 6.256266981593849e-08),\n",
       " (0, 1.8408173001239485e-12),\n",
       " (0, 3.6486972616321394e-08),\n",
       " (0, 2.273993095461366e-09),\n",
       " (0, 3.7572090628245304e-27),\n",
       " (0, 5.353763706786645e-07),\n",
       " (0, 3.7013061421589524e-26),\n",
       " (0, 9.737740247441576e-06),\n",
       " (0, 3.367299951787311e-10),\n",
       " (0, 5.561084329632142e-13),\n",
       " (0, 2.6896631456270093e-13),\n",
       " (0, 5.668363734091859e-11),\n",
       " (0, 0.02257600319098981),\n",
       " (0, 0.0025915869108543072),\n",
       " (0, 1.8996735186609453e-11),\n",
       " (0, 4.884763211752407e-13),\n",
       " (0, 6.00513142144358e-17),\n",
       " (0, 7.796481634485672e-23),\n",
       " (0, 2.007079494709703e-08),\n",
       " (0, 1.4434989443626362e-09),\n",
       " (0, 1.4863311118298068e-17),\n",
       " (0, 2.1372969739471393e-06),\n",
       " (0, 1.0541849726755413e-13),\n",
       " (0, 1.7261727699784372e-09),\n",
       " (0, 3.926451542644185e-17),\n",
       " (0, 3.819224640181756e-18),\n",
       " (0, 2.4046993417778384e-15),\n",
       " (0, 0.8742729836786234),\n",
       " (0, 7.91750401777199e-07),\n",
       " (0, 2.6862451839569603e-16),\n",
       " (0, 7.077255591888406e-12),\n",
       " (0, 1.3659705050221314e-17),\n",
       " (0, 2.8735770104977048e-15),\n",
       " (0, 7.176367975881905e-06),\n",
       " (0, 3.789124382100293e-11),\n",
       " (0, 3.266850087962608e-26),\n",
       " (0, 2.524527916515077e-10),\n",
       " (0, 0.00031793417261252076),\n",
       " (0, 1.6312587350991407e-05),\n",
       " (0, 2.181922520770436e-09),\n",
       " (0, 2.440539934946326e-09),\n",
       " (0, 3.6854315665000964e-17),\n",
       " (0, 1.513912334606648e-15),\n",
       " (0, 0.00601499485456885),\n",
       " (0, 7.75398288300702e-05),\n",
       " (0, 2.5167895145002574e-07),\n",
       " (0, 4.1621030735641185e-05),\n",
       " (0, 9.201822677138236e-10),\n",
       " (0, 4.495232382795997e-24),\n",
       " (0, 1.9548988038654586e-06),\n",
       " (0, 1.0515986288091048e-07),\n",
       " (0, 0.004827364902501676),\n",
       " (0, 1.022695846845866e-08),\n",
       " (0, 1.1372902174500787e-06),\n",
       " (0, 6.558736762642329e-05),\n",
       " (0, 5.7713235604950346e-05),\n",
       " (0, 8.521389850896501e-08),\n",
       " (0, 2.523129561761258e-10),\n",
       " (0, 1.0832841128637431e-14),\n",
       " (0, 1.3376895859540272e-10),\n",
       " (0, 1.4465804420993412e-05),\n",
       " (0, 9.603487441895124e-25),\n",
       " (0, 3.688774542563891e-19),\n",
       " (0, 2.22412983033054e-15),\n",
       " (0, 3.703062625600846e-21),\n",
       " (0, 0.00016705007812401496),\n",
       " (0, 3.0222076644510857e-09),\n",
       " (0, 4.956166676913948e-17),\n",
       " (0, 2.800824449670521e-09),\n",
       " (0, 1.0219231232539131e-14),\n",
       " (0, 0.0006131737652039617),\n",
       " (0, 0.0002019358950834189),\n",
       " (0, 3.027127448149345e-12),\n",
       " (0, 1.1674365269957533e-08),\n",
       " (0, 6.68047417599906e-09),\n",
       " (0, 1.650855547964171e-05),\n",
       " (0, 1.704319177119194e-26),\n",
       " (0, 4.531743130148691e-09),\n",
       " (0, 1.3358992179901501e-08),\n",
       " (0, 1.6840986311577487e-08),\n",
       " (0, 1.751584574959783e-07),\n",
       " (0, 0.0043880113077120735),\n",
       " (0, 2.5763641685089587e-09),\n",
       " (0, 3.278507020227066e-16),\n",
       " (0, 3.971894538508819e-05),\n",
       " (0, 1.512233525515025e-13),\n",
       " (0, 5.831788049970254e-10),\n",
       " (0, 7.622399933410984e-12),\n",
       " (0, 7.779665118078248e-13),\n",
       " (0, 5.918054532332022e-11),\n",
       " (0, 1.8241607314001924e-13),\n",
       " (0, 1.2220199466809352e-08),\n",
       " (0, 1.2774414408599582e-15),\n",
       " (0, 2.8440156263700045e-20),\n",
       " (0, 0.019569107080292223),\n",
       " (0, 5.455357060139821e-05),\n",
       " (0, 2.1600553510935562e-05),\n",
       " (0, 2.956117674304867e-10),\n",
       " (0, 3.472453781912715e-13),\n",
       " (0, 1.3045383207914643e-20),\n",
       " (0, 3.348144092171647e-14),\n",
       " (0, 1.3419300959269255e-17),\n",
       " (0, 1.3280323380804143e-12),\n",
       " (0, 1.450288703402014e-06),\n",
       " (0, 5.531420197929044e-14),\n",
       " (0, 7.219070935459703e-11),\n",
       " (0, 9.600137897441969e-17),\n",
       " (0, 2.8272452676140754e-22),\n",
       " (0, 9.126237890842347e-11),\n",
       " (0, 1.4960050719215798e-21),\n",
       " (0, 1.1010152495543785e-09),\n",
       " (0, 0.00033618373127043374),\n",
       " (0, 0.00018728559181481567),\n",
       " (0, 1.092569592415983e-08),\n",
       " (0, 6.293860864731557e-16),\n",
       " (0, 2.0425251418705493e-22),\n",
       " (0, 7.390526584146374e-05),\n",
       " (0, 2.1384194189566894e-08),\n",
       " (0, 1.1557127728772618e-10),\n",
       " (0, 2.3899717440029997e-14),\n",
       " (0, 2.242809997157787e-08),\n",
       " (0, 1.0255370482688733e-12),\n",
       " (0, 5.685141275265275e-05),\n",
       " (0, 0.02469249684195069),\n",
       " (0, 2.2670277614060098e-10),\n",
       " (0, 1.005783523128173e-11),\n",
       " (0, 2.9039199286787113e-13),\n",
       " (0, 2.391896833540027e-06),\n",
       " (0, 1.7325413335545745e-06),\n",
       " (0, 1.7866295156490798e-09),\n",
       " (0, 5.4702417478449094e-08),\n",
       " (0, 1.0906925039812534e-14),\n",
       " (0, 3.463779421215367e-09),\n",
       " (0, 2.0979851416213035e-12),\n",
       " (0, 1.9909226449504347e-21),\n",
       " (0, 6.902650608480168e-05),\n",
       " (0, 2.944643176734438e-15),\n",
       " (0, 8.972075691801575e-19),\n",
       " (0, 0.0013836185132831717),\n",
       " (0, 6.67999256582257e-05),\n",
       " (0, 6.322657475321785e-05),\n",
       " (0, 9.047137934701622e-14),\n",
       " (0, 1.6815565269013563e-07),\n",
       " (0, 3.5013519178503443e-07),\n",
       " (0, 3.4579437324319226e-11),\n",
       " (0, 0.008023664352324808),\n",
       " (0, 4.5015687806207503e-07),\n",
       " (0, 9.128412759635068e-08),\n",
       " (0, 1.3951306840950145e-09),\n",
       " (0, 1.7106335984797477e-16),\n",
       " (0, 5.264538835306273e-07),\n",
       " (0, 0.01610461894979361),\n",
       " (0, 3.407225134096501e-07),\n",
       " (0, 2.189053934113488e-17),\n",
       " (0, 5.685624587802049e-16),\n",
       " (0, 2.7051921124543308e-05),\n",
       " ...]"
      ]
     },
     "execution_count": 40,
     "metadata": {},
     "output_type": "execute_result"
    }
   ],
   "source": [
    "list(zip(test_vector_df[\"target\"], preds))"
   ]
  },
  {
   "cell_type": "markdown",
   "metadata": {},
   "source": [
    "## Hyperparameter Optimization\n",
    "We can perform a Grid Search on the pipeline to explore different possible hyperparameters. Here's an example:"
   ]
  },
  {
   "cell_type": "code",
   "execution_count": 681,
   "metadata": {
    "ExecuteTime": {
     "end_time": "2018-11-20T17:16:14.728050Z",
     "start_time": "2018-11-20T17:15:52.011172Z"
    }
   },
   "outputs": [
    {
     "name": "stdout",
     "output_type": "stream",
     "text": [
      "{'neural_net__hidden_layer_sizes': (400, 400)}\n"
     ]
    }
   ],
   "source": [
    "from sklearn.model_selection import GridSearchCV\n",
    "\n",
    "\n",
    "param_grid = [\n",
    "    {'neural_net__hidden_layer_sizes': [(100), (200), (300), (400), (500), (600),\n",
    "                                        (100, 100), (200, 200), (300, 300), (400, 400), (500, 500), (600, 600),\n",
    "                                        (100, 100, 100), (200, 200, 200), (300, 300, 300), (400, 400, 400), (500, 500, 500), (600, 600, 600)]}\n",
    "]\n",
    "\n",
    "clf = GridSearchCV(pipeline, param_grid)\n",
    "clf.fit(train_vector_df[\"vector\"].values.tolist(), train_vector_df[\"target\"].values.tolist())\n",
    "\n",
    "print(clf.best_params_)"
   ]
  },
  {
   "cell_type": "code",
   "execution_count": 697,
   "metadata": {
    "ExecuteTime": {
     "end_time": "2018-11-20T20:23:25.172563Z",
     "start_time": "2018-11-20T20:23:25.147077Z"
    }
   },
   "outputs": [
    {
     "name": "stderr",
     "output_type": "stream",
     "text": [
      "/opt/conda/lib/python3.6/site-packages/sklearn/utils/deprecation.py:122: FutureWarning: You are accessing a training score ('split0_train_score'), which will not be available by default any more in 0.21. If you need training scores, please set return_train_score=True\n",
      "  warnings.warn(*warn_args, **warn_kwargs)\n",
      "/opt/conda/lib/python3.6/site-packages/sklearn/utils/deprecation.py:122: FutureWarning: You are accessing a training score ('split1_train_score'), which will not be available by default any more in 0.21. If you need training scores, please set return_train_score=True\n",
      "  warnings.warn(*warn_args, **warn_kwargs)\n",
      "/opt/conda/lib/python3.6/site-packages/sklearn/utils/deprecation.py:122: FutureWarning: You are accessing a training score ('split2_train_score'), which will not be available by default any more in 0.21. If you need training scores, please set return_train_score=True\n",
      "  warnings.warn(*warn_args, **warn_kwargs)\n",
      "/opt/conda/lib/python3.6/site-packages/sklearn/utils/deprecation.py:122: FutureWarning: You are accessing a training score ('mean_train_score'), which will not be available by default any more in 0.21. If you need training scores, please set return_train_score=True\n",
      "  warnings.warn(*warn_args, **warn_kwargs)\n",
      "/opt/conda/lib/python3.6/site-packages/sklearn/utils/deprecation.py:122: FutureWarning: You are accessing a training score ('std_train_score'), which will not be available by default any more in 0.21. If you need training scores, please set return_train_score=True\n",
      "  warnings.warn(*warn_args, **warn_kwargs)\n"
     ]
    },
    {
     "data": {
      "text/plain": [
       "{'mean_fit_time': array([  85.28358436,  137.19048055,  179.32667653,  197.22606365,\n",
       "         176.17624585,  257.40973266,   86.85834074,  129.53255955,\n",
       "         161.16800904,  217.34247708,  238.99648921,  309.59553417,\n",
       "          65.48959605,  111.49512784,  165.51994316,  178.35987473,\n",
       "         255.22522998,  317.61601734]),\n",
       " 'std_fit_time': array([ 12.2410212 ,  26.25020271,  38.06406286,  27.07975006,\n",
       "         36.73464415,  33.5312888 ,  27.49287247,  21.9411497 ,\n",
       "         35.33171659,  17.28419037,  33.0826622 ,  24.32586396,\n",
       "          4.23772138,  10.70225734,  14.85757244,   0.19518029,\n",
       "         13.11577685,  14.29969914]),\n",
       " 'mean_score_time': array([ 0.86001571,  0.96925465,  1.14586496,  1.20358109,  1.28908491,\n",
       "         1.36947632,  0.89642302,  1.07871946,  1.26913913,  1.47742756,\n",
       "         1.68615905,  2.19113302,  0.93604954,  1.22336594,  1.49517131,\n",
       "         1.7696751 ,  2.0104359 ,  2.61416364]),\n",
       " 'std_score_time': array([ 0.00389001,  0.05807132,  0.06024758,  0.0528598 ,  0.04508497,\n",
       "         0.06154409,  0.02790813,  0.01513847,  0.06478671,  0.03376443,\n",
       "         0.06730244,  0.12351918,  0.01246087,  0.02873382,  0.02527036,\n",
       "         0.02559588,  0.03184498,  0.08444429]),\n",
       " 'param_neural_net__hidden_layer_sizes': masked_array(data = [100 200 300 400 500 600 (100, 100) (200, 200) (300, 300) (400, 400)\n",
       "  (500, 500) (600, 600) (100, 100, 100) (200, 200, 200) (300, 300, 300)\n",
       "  (400, 400, 400) (500, 500, 500) (600, 600, 600)],\n",
       "              mask = [False False False False False False False False False False False False\n",
       "  False False False False False False],\n",
       "        fill_value = ?),\n",
       " 'params': [{'neural_net__hidden_layer_sizes': 100},\n",
       "  {'neural_net__hidden_layer_sizes': 200},\n",
       "  {'neural_net__hidden_layer_sizes': 300},\n",
       "  {'neural_net__hidden_layer_sizes': 400},\n",
       "  {'neural_net__hidden_layer_sizes': 500},\n",
       "  {'neural_net__hidden_layer_sizes': 600},\n",
       "  {'neural_net__hidden_layer_sizes': (100, 100)},\n",
       "  {'neural_net__hidden_layer_sizes': (200, 200)},\n",
       "  {'neural_net__hidden_layer_sizes': (300, 300)},\n",
       "  {'neural_net__hidden_layer_sizes': (400, 400)},\n",
       "  {'neural_net__hidden_layer_sizes': (500, 500)},\n",
       "  {'neural_net__hidden_layer_sizes': (600, 600)},\n",
       "  {'neural_net__hidden_layer_sizes': (100, 100, 100)},\n",
       "  {'neural_net__hidden_layer_sizes': (200, 200, 200)},\n",
       "  {'neural_net__hidden_layer_sizes': (300, 300, 300)},\n",
       "  {'neural_net__hidden_layer_sizes': (400, 400, 400)},\n",
       "  {'neural_net__hidden_layer_sizes': (500, 500, 500)},\n",
       "  {'neural_net__hidden_layer_sizes': (600, 600, 600)}],\n",
       " 'split0_test_score': array([ 0.71888175,  0.75902894,  0.69122994,  0.66956351,  0.68741543,\n",
       "         0.72233533,  0.72465333,  0.73828924,  0.68333865,  0.71660159,\n",
       "         0.73177375,  0.71675267,  0.718003  ,  0.74477271,  0.73670724,\n",
       "         0.72564895,  0.73721788,  0.75321571]),\n",
       " 'split1_test_score': array([ 0.70649113,  0.71419281,  0.70544526,  0.68486532,  0.71482115,\n",
       "         0.67862498,  0.73526173,  0.7226637 ,  0.69380487,  0.71117   ,\n",
       "         0.72772151,  0.70576997,  0.72020012,  0.73016755,  0.72598348,\n",
       "         0.73392921,  0.70694298,  0.71980876]),\n",
       " 'split2_test_score': array([ 0.61902158,  0.59454082,  0.6173454 ,  0.6138426 ,  0.59781213,\n",
       "         0.63392651,  0.66048744,  0.69903452,  0.70167827,  0.70765763,\n",
       "         0.63159769,  0.67845735,  0.68843987,  0.69015538,  0.70528151,\n",
       "         0.66945795,  0.68880448,  0.66196732]),\n",
       " 'mean_test_score': array([ 0.68146482,  0.68925419,  0.6713402 ,  0.65609047,  0.6666829 ,\n",
       "         0.6782956 ,  0.70680083,  0.71999582,  0.69294059,  0.71180974,\n",
       "         0.69703098,  0.70032666,  0.708881  ,  0.72169855,  0.72265741,\n",
       "         0.7096787 ,  0.71098845,  0.71166393]),\n",
       " 'std_test_score': array([ 0.04444285,  0.0694288 ,  0.03861863,  0.03051993,  0.04996769,\n",
       "         0.0360935 ,  0.03303364,  0.01613632,  0.00751202,  0.00367927,\n",
       "         0.04629789,  0.01610083,  0.01448186,  0.0230876 ,  0.01304329,\n",
       "         0.02864056,  0.01997062,  0.03769457]),\n",
       " 'rank_test_score': array([14, 13, 16, 18, 17, 15,  9,  3, 12,  4, 11, 10,  8,  2,  1,  7,  6,\n",
       "         5], dtype=int32),\n",
       " 'split0_train_score': array([ 0.90683472,  0.92894119,  0.83532608,  0.75963407,  0.86218169,\n",
       "         0.90104204,  0.92582307,  0.9378384 ,  0.93298971,  0.94186822,\n",
       "         0.93748059,  0.93523357,  0.94121607,  0.95424738,  0.93934536,\n",
       "         0.93914439,  0.93555155,  0.9329631 ]),\n",
       " 'split1_train_score': array([ 0.93840038,  0.93321204,  0.92442098,  0.9005241 ,  0.92644046,\n",
       "         0.89839237,  0.96296465,  0.94996001,  0.89904724,  0.93214582,\n",
       "         0.93466775,  0.91232797,  0.95403901,  0.95364781,  0.95320604,\n",
       "         0.94105976,  0.937108  ,  0.94329414]),\n",
       " 'split2_train_score': array([ 0.92622749,  0.9091457 ,  0.91651523,  0.91046559,  0.91211345,\n",
       "         0.91852991,  0.9482619 ,  0.95673811,  0.95089611,  0.9542261 ,\n",
       "         0.93380562,  0.94460346,  0.95066359,  0.95491756,  0.95104115,\n",
       "         0.93028794,  0.94161722,  0.94608092]),\n",
       " 'mean_train_score': array([ 0.92382086,  0.92376631,  0.89208743,  0.85687459,  0.9002452 ,\n",
       "         0.90598811,  0.94568321,  0.94817884,  0.92764435,  0.94274671,\n",
       "         0.93531799,  0.93072167,  0.94863956,  0.95427092,  0.94786418,\n",
       "         0.9368307 ,  0.93809226,  0.94077939]),\n",
       " 'std_train_score': array([ 0.0129985 ,  0.01048433,  0.04026589,  0.06887911,  0.02754317,\n",
       "         0.00893412,  0.01527223,  0.0078179 ,  0.02150203,  0.00903561,\n",
       "         0.00156918,  0.01355716,  0.00542706,  0.00051864,  0.00608821,\n",
       "         0.00469204,  0.00257225,  0.00564283])}"
      ]
     },
     "execution_count": 697,
     "metadata": {},
     "output_type": "execute_result"
    }
   ],
   "source": [
    "clf.cv_results_"
   ]
  },
  {
   "cell_type": "code",
   "execution_count": 699,
   "metadata": {
    "ExecuteTime": {
     "end_time": "2018-11-20T20:25:54.561399Z",
     "start_time": "2018-11-20T20:25:54.545817Z"
    },
    "scrolled": true
   },
   "outputs": [
    {
     "data": {
      "text/plain": [
       "{'cv': None,\n",
       " 'error_score': 'raise',\n",
       " 'estimator__memory': None,\n",
       " 'estimator__steps': [('scaler',\n",
       "   StandardScaler(copy=True, with_mean=True, with_std=True)),\n",
       "  ('neural_net',\n",
       "   MLPRegressor(activation='relu', alpha=0.0001, batch_size='auto', beta_1=0.9,\n",
       "          beta_2=0.999, early_stopping=False, epsilon=1e-08,\n",
       "          hidden_layer_sizes=(300, 300), learning_rate='constant',\n",
       "          learning_rate_init=0.001, max_iter=200, momentum=0.9,\n",
       "          nesterovs_momentum=True, power_t=0.5, random_state=None,\n",
       "          shuffle=True, solver='adam', tol=0.0001, validation_fraction=0.1,\n",
       "          verbose=False, warm_start=False))],\n",
       " 'estimator__scaler': StandardScaler(copy=True, with_mean=True, with_std=True),\n",
       " 'estimator__neural_net': MLPRegressor(activation='relu', alpha=0.0001, batch_size='auto', beta_1=0.9,\n",
       "        beta_2=0.999, early_stopping=False, epsilon=1e-08,\n",
       "        hidden_layer_sizes=(300, 300), learning_rate='constant',\n",
       "        learning_rate_init=0.001, max_iter=200, momentum=0.9,\n",
       "        nesterovs_momentum=True, power_t=0.5, random_state=None,\n",
       "        shuffle=True, solver='adam', tol=0.0001, validation_fraction=0.1,\n",
       "        verbose=False, warm_start=False),\n",
       " 'estimator__scaler__copy': True,\n",
       " 'estimator__scaler__with_mean': True,\n",
       " 'estimator__scaler__with_std': True,\n",
       " 'estimator__neural_net__activation': 'relu',\n",
       " 'estimator__neural_net__alpha': 0.0001,\n",
       " 'estimator__neural_net__batch_size': 'auto',\n",
       " 'estimator__neural_net__beta_1': 0.9,\n",
       " 'estimator__neural_net__beta_2': 0.999,\n",
       " 'estimator__neural_net__early_stopping': False,\n",
       " 'estimator__neural_net__epsilon': 1e-08,\n",
       " 'estimator__neural_net__hidden_layer_sizes': (300, 300),\n",
       " 'estimator__neural_net__learning_rate': 'constant',\n",
       " 'estimator__neural_net__learning_rate_init': 0.001,\n",
       " 'estimator__neural_net__max_iter': 200,\n",
       " 'estimator__neural_net__momentum': 0.9,\n",
       " 'estimator__neural_net__nesterovs_momentum': True,\n",
       " 'estimator__neural_net__power_t': 0.5,\n",
       " 'estimator__neural_net__random_state': None,\n",
       " 'estimator__neural_net__shuffle': True,\n",
       " 'estimator__neural_net__solver': 'adam',\n",
       " 'estimator__neural_net__tol': 0.0001,\n",
       " 'estimator__neural_net__validation_fraction': 0.1,\n",
       " 'estimator__neural_net__verbose': False,\n",
       " 'estimator__neural_net__warm_start': False,\n",
       " 'estimator': Pipeline(memory=None,\n",
       "      steps=[('scaler', StandardScaler(copy=True, with_mean=True, with_std=True)), ('neural_net', MLPRegressor(activation='relu', alpha=0.0001, batch_size='auto', beta_1=0.9,\n",
       "        beta_2=0.999, early_stopping=False, epsilon=1e-08,\n",
       "        hidden_layer_sizes=(300, 300), learning_rate='constant',\n",
       "        le...=True, solver='adam', tol=0.0001, validation_fraction=0.1,\n",
       "        verbose=False, warm_start=False))]),\n",
       " 'fit_params': None,\n",
       " 'iid': True,\n",
       " 'n_jobs': 1,\n",
       " 'param_grid': [{'neural_net__hidden_layer_sizes': [100,\n",
       "    200,\n",
       "    300,\n",
       "    400,\n",
       "    500,\n",
       "    600,\n",
       "    (100, 100),\n",
       "    (200, 200),\n",
       "    (300, 300),\n",
       "    (400, 400),\n",
       "    (500, 500),\n",
       "    (600, 600),\n",
       "    (100, 100, 100),\n",
       "    (200, 200, 200),\n",
       "    (300, 300, 300),\n",
       "    (400, 400, 400),\n",
       "    (500, 500, 500),\n",
       "    (600, 600, 600)]}],\n",
       " 'pre_dispatch': '2*n_jobs',\n",
       " 'refit': True,\n",
       " 'return_train_score': 'warn',\n",
       " 'scoring': None,\n",
       " 'verbose': 0}"
      ]
     },
     "execution_count": 699,
     "metadata": {},
     "output_type": "execute_result"
    }
   ],
   "source": [
    "clf.get_params()"
   ]
  },
  {
   "cell_type": "code",
   "execution_count": 741,
   "metadata": {
    "ExecuteTime": {
     "end_time": "2018-11-20T20:45:30.890201Z",
     "start_time": "2018-11-20T20:38:07.450067Z"
    }
   },
   "outputs": [],
   "source": [
    "best_pipeline = get_pipeline(clf.best_params_)\n",
    "best_pipeline.fit(train_vector_df[\"vector\"].values.tolist(), train_vector_df[\"target\"].values.tolist())\n",
    "best_predictions = best_pipeline.predict(test_vector_df[\"vector\"].values.tolist())"
   ]
  },
  {
   "cell_type": "code",
   "execution_count": 742,
   "metadata": {
    "ExecuteTime": {
     "end_time": "2018-11-20T20:45:53.204091Z",
     "start_time": "2018-11-20T20:45:53.190472Z"
    }
   },
   "outputs": [
    {
     "data": {
      "text/plain": [
       "0.68421985088690807"
      ]
     },
     "execution_count": 742,
     "metadata": {},
     "output_type": "execute_result"
    }
   ],
   "source": [
    "r2_score(test_vector_df[\"target\"].values.tolist(), best_predictions)"
   ]
  },
  {
   "cell_type": "code",
   "execution_count": 791,
   "metadata": {
    "ExecuteTime": {
     "end_time": "2018-11-20T22:36:37.133437Z",
     "start_time": "2018-11-20T22:36:37.103566Z"
    }
   },
   "outputs": [
    {
     "data": {
      "text/plain": [
       "array([ 0.00276197])"
      ]
     },
     "execution_count": 791,
     "metadata": {},
     "output_type": "execute_result"
    }
   ],
   "source": [
    "best_pipeline.predict(test_vector_df[\"vector\"].values.tolist()[:1])"
   ]
  },
  {
   "cell_type": "markdown",
   "metadata": {},
   "source": [
    "## Evaluation\n",
    "Similar to Ranker, we'll use the PCT@5 metric to evaluate the performance of the neural network. For each of the positive instances in the test set, we'll use the neural network's prediction probability to rank how likely the top 200 solutions are to be matches, and we'll compute the percentage of cases where the top 5 ranked solutions contain at least one linked solution."
   ]
  },
  {
   "cell_type": "code",
   "execution_count": 65,
   "metadata": {
    "ExecuteTime": {
     "end_time": "2018-12-06T00:42:10.524811Z",
     "start_time": "2018-12-06T00:42:10.515273Z"
    }
   },
   "outputs": [],
   "source": [
    "from collections import Counter \n",
    "from heapq import nlargest\n",
    "\n",
    "def get_pct5(neural_net, test_vector_df):\n",
    "    num_vectors_counter = Counter()    \n",
    "    \n",
    "    progress_bar = IntProgress(min=0, max=len(test_vector_df), description='Progress:', bar_style='info')\n",
    "    display(progress_bar)\n",
    "\n",
    "    visited_questions = set()\n",
    "    questions = 0\n",
    "    successes = 0\n",
    "    for count, (index, row) in enumerate(test_vector_df[test_vector_df[\"target\"] == 1].iterrows()):\n",
    "        question_id = row[\"question_id\"]\n",
    "        if question_id not in visited_questions:\n",
    "            vectors = test_vector_df[test_vector_df[\"question_id\"] == question_id][\"vector\"].values.tolist()\n",
    "            num_vectors_counter.update([len(vectors)])\n",
    "            probas = [prediction[1] for prediction in neural_net.predict_proba(vectors)]\n",
    "            if 0 in nlargest(5, range(len(probas)), key=lambda idx: probas[idx]):\n",
    "                successes += 1\n",
    "            questions += 1\n",
    "        visited_questions.add(question_id)\n",
    "        if count+1 % 1000 == 0:\n",
    "            progress_bar.value = count+1\n",
    "\n",
    "    progress_bar.value = len(test_vector_df)\n",
    "    return successes, questions, num_vectors_counter\n",
    "        "
   ]
  },
  {
   "cell_type": "code",
   "execution_count": 66,
   "metadata": {
    "ExecuteTime": {
     "end_time": "2018-12-06T00:43:25.115943Z",
     "start_time": "2018-12-06T00:42:14.584583Z"
    }
   },
   "outputs": [
    {
     "data": {
      "application/vnd.jupyter.widget-view+json": {
       "model_id": "d17fb98300b24700ae8f479e79b6cc1b",
       "version_major": 2,
       "version_minor": 0
      },
      "text/plain": [
       "IntProgress(value=0, bar_style='info', description='Progress:', max=245655)"
      ]
     },
     "metadata": {},
     "output_type": "display_data"
    },
    {
     "name": "stdout",
     "output_type": "stream",
     "text": [
      "460/1226 = 0.37520391517128876\n"
     ]
    }
   ],
   "source": [
    "successes, questions, num_vectors_counter = get_pct5(pipeline, test_vector_df)\n",
    "print(f\"{successes}/{questions} = {successes/questions}\")"
   ]
  },
  {
   "cell_type": "code",
   "execution_count": 67,
   "metadata": {
    "ExecuteTime": {
     "end_time": "2018-12-06T00:43:25.134409Z",
     "start_time": "2018-12-06T00:43:25.124485Z"
    }
   },
   "outputs": [
    {
     "data": {
      "text/plain": [
       "Counter({200: 565, 201: 566, 202: 73, 204: 4, 203: 15, 2: 1, 65: 1, 215: 1})"
      ]
     },
     "execution_count": 67,
     "metadata": {},
     "output_type": "execute_result"
    }
   ],
   "source": [
    "num_vectors_counter"
   ]
  },
  {
   "cell_type": "code",
   "execution_count": 69,
   "metadata": {
    "ExecuteTime": {
     "end_time": "2018-12-06T00:44:19.200975Z",
     "start_time": "2018-12-06T00:44:19.190814Z"
    }
   },
   "outputs": [
    {
     "data": {
      "text/plain": [
       "1226"
      ]
     },
     "execution_count": 69,
     "metadata": {},
     "output_type": "execute_result"
    }
   ],
   "source": [
    "len(set(test_vector_df[\"question_id\"]))"
   ]
  },
  {
   "cell_type": "code",
   "execution_count": null,
   "metadata": {},
   "outputs": [],
   "source": []
  }
 ],
 "metadata": {
  "kernelspec": {
   "display_name": "Python 3",
   "language": "python",
   "name": "python3"
  },
  "language_info": {
   "codemirror_mode": {
    "name": "ipython",
    "version": 3
   },
   "file_extension": ".py",
   "mimetype": "text/x-python",
   "name": "python",
   "nbconvert_exporter": "python",
   "pygments_lexer": "ipython3",
   "version": "3.6.6"
  },
  "toc": {
   "base_numbering": 1,
   "nav_menu": {
    "height": "182px",
    "width": "468px"
   },
   "number_sections": true,
   "sideBar": true,
   "skip_h1_title": false,
   "title_cell": "Table of Contents",
   "title_sidebar": "Contents",
   "toc_cell": true,
   "toc_position": {
    "height": "calc(100% - 180px)",
    "left": "10px",
    "top": "150px",
    "width": "277.875px"
   },
   "toc_section_display": true,
   "toc_window_display": true
  }
 },
 "nbformat": 4,
 "nbformat_minor": 2
}
