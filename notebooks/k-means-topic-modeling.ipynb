{
 "cells": [
  {
   "cell_type": "markdown",
   "metadata": {},
   "source": [
    "# Topic Modeling with `k`-Means\n",
    "\n",
    "This notebook performs topic modeling on a set of VMware last-chance searches. We'll cluster using `k`-means on TF-IDF vectors.\n",
    "\n",
    "## Input Data"
   ]
  },
  {
   "cell_type": "code",
   "execution_count": 28,
   "metadata": {},
   "outputs": [],
   "source": [
    "import sys\n",
    "sys.path.append('..')\n",
    "\n",
    "from scripts import corpora"
   ]
  },
  {
   "cell_type": "code",
   "execution_count": 29,
   "metadata": {},
   "outputs": [],
   "source": [
    "last_week = corpora.load('../corpora/vmware-last-week')\n",
    "last_month = corpora.load('../corpora/vmware-last-month')\n",
    "last_six_months = corpora.load('../corpora/vmware-last-six-months')\n",
    "vsphere_65 = corpora.load('../corpora/vsphere-6.5-last-month')"
   ]
  },
  {
   "cell_type": "markdown",
   "metadata": {},
   "source": [
    "## Algorithm\n",
    "\n",
    "This code leverages Scikit-learn's KMeans and TfidfVectorizer classes."
   ]
  },
  {
   "cell_type": "code",
   "execution_count": 30,
   "metadata": {},
   "outputs": [],
   "source": [
    "from sklearn.cluster import KMeans\n",
    "from sklearn.feature_extraction.text import TfidfVectorizer\n",
    "from scipy.spatial import distance"
   ]
  },
  {
   "cell_type": "code",
   "execution_count": 31,
   "metadata": {},
   "outputs": [],
   "source": [
    "MIN_DF = 1\n",
    "MAX_DF = 0.1\n",
    "N_JOBS = -1   # use all available CPUs\n",
    "\n",
    "class TopicModeler:\n",
    "\n",
    "    def __init__(self, corpus, n_topics, key=None):\n",
    "        if not key:\n",
    "            key = lambda x: x\n",
    "        self.corpus = corpus\n",
    "        self.n_topics = n_topics\n",
    "        self.key = key\n",
    "        self.model, self.vectorizer = None, None\n",
    "\n",
    "    def run(self):\n",
    "        vectors = self.vectorize()\n",
    "        self.model = KMeans(n_clusters=self.n_topics, n_jobs=N_JOBS).fit(vectors)\n",
    "\n",
    "    def vectorize(self):\n",
    "        self.vectorizer = TfidfVectorizer(stop_words='english', min_df=MIN_DF, max_df=MAX_DF)\n",
    "        vectors = self.vectorizer.fit_transform([self.key(document) for document in self.corpus])\n",
    "        return vectors\n",
    "    \n",
    "    def find_centroid(self, topic_id):\n",
    "        return {term: self.model.cluster_centers_[topic_id][index]\n",
    "                for term, index in self.vectorizer.vocabulary_.items()}\n",
    "    \n",
    "    def get_cluster(self, topic_id):\n",
    "        return [document for index, document in enumerate(self.corpus)\n",
    "                if self.model.labels_[index] == topic_id]\n",
    "    \n",
    "    def get_key_terms(self, topic_id, n=5):\n",
    "        centroid = self.find_centroid(topic_id)\n",
    "        return sorted(centroid, key=centroid.get, reverse=True)[:n]\n",
    "    \n",
    "    def compute_distance(self, document, topic_id):\n",
    "        vector = self.vectorizer.transform([self.key(document)])\n",
    "        centroid = self.model.cluster_centers_[topic_id]\n",
    "        return distance.euclidean(vector.toarray(), centroid)"
   ]
  },
  {
   "cell_type": "markdown",
   "metadata": {},
   "source": [
    "## Graphing Helpers\n",
    "\n",
    "The following function displays a histogram of cluster size."
   ]
  },
  {
   "cell_type": "code",
   "execution_count": 32,
   "metadata": {},
   "outputs": [],
   "source": [
    "import matplotlib.pyplot as plt\n",
    "\n",
    "def show_count_histogram(modeler, title, bins=100):\n",
    "    labels = modeler.model.labels_.tolist()\n",
    "    plt.hist([labels.count(n) for n in range(modeler.n_topics)], bins=bins, color='grey')\n",
    "    plt.title(title)\n",
    "    plt.xlabel('Number of Searches')\n",
    "    plt.show()"
   ]
  },
  {
   "cell_type": "markdown",
   "metadata": {},
   "source": [
    "## Export Functions"
   ]
  },
  {
   "cell_type": "code",
   "execution_count": 33,
   "metadata": {},
   "outputs": [],
   "source": [
    "import csv\n",
    "import os\n",
    "\n",
    "from topic_modeling.naming import find_top_n_grams, find_best_sentence"
   ]
  },
  {
   "cell_type": "markdown",
   "metadata": {},
   "source": [
    "Firstly, let's write a function that exports a set of information about each topic. This function creates a CSV with the columms `Topic ID`, `Key Terms`, `Top Unigrams`, `Top Bigrams`, `Top Trigrams`, `Best Sentence`, and `Document Count`."
   ]
  },
  {
   "cell_type": "code",
   "execution_count": 34,
   "metadata": {},
   "outputs": [],
   "source": [
    "def export_topics(modeler, directory):\n",
    "    with open(os.path.join(directory, 'topics.csv'), 'w') as csvfile:\n",
    "        writer = csv.writer(csvfile)\n",
    "        writer.writerow(['Topic ID', 'Key Terms', 'Top Unigrams', 'Top Bigrams', 'Top Trigrams',\n",
    "                         'Best Sentence', 'Document Count'])\n",
    "        for n in range(modeler.n_topics):\n",
    "            documents = [search.body for search in modeler.get_cluster(n)]\n",
    "            key_terms = modeler.get_key_terms(n)\n",
    "            writer.writerow([\n",
    "                n,\n",
    "                ', '.join(key_terms),\n",
    "                ', '.join(find_top_n_grams(documents, 1)) if len(documents) < 20000 else '',\n",
    "                ', '.join(find_top_n_grams(documents, 2)) if len(documents) < 20000 else '',\n",
    "                ', '.join(find_top_n_grams(documents, 3)) if len(documents) < 20000 else '',\n",
    "                find_best_sentence(documents, key_terms) if len(documents) < 20000 else '',\n",
    "                len(documents)\n",
    "            ])"
   ]
  },
  {
   "cell_type": "markdown",
   "metadata": {},
   "source": [
    "Secondly, we'll create a function that exports topic assignments. This function writes a CSV with the columns `Topic ID`, `Session ID`, `Distance`, and `Body`."
   ]
  },
  {
   "cell_type": "code",
   "execution_count": 35,
   "metadata": {},
   "outputs": [],
   "source": [
    "def export_documents(modeler, directory):\n",
    "    with open(os.path.join(directory, 'documents.csv'), 'w') as csvfile:\n",
    "        writer = csv.writer(csvfile)\n",
    "        writer.writerow(['Topic ID', 'Session ID', 'Distance', 'Body'])\n",
    "        for n in range(modeler.n_topics):\n",
    "            for search in modeler.get_cluster(n):\n",
    "                distance = modeler.compute_distance(search, n)\n",
    "                writer.writerow([n, search.session_id, distance, search.body])"
   ]
  },
  {
   "cell_type": "markdown",
   "metadata": {},
   "source": [
    "## Last Week, 10 Topics"
   ]
  },
  {
   "cell_type": "code",
   "execution_count": 9,
   "metadata": {},
   "outputs": [],
   "source": [
    "modeler = TopicModeler(last_week, 10, key=lambda search: search.body)\n",
    "modeler.run()"
   ]
  },
  {
   "cell_type": "code",
   "execution_count": 10,
   "metadata": {},
   "outputs": [
    {
     "data": {
      "image/png": "[encoded data removed]",
      "text/plain": [
       "<Figure size 432x288 with 1 Axes>"
      ]
     },
     "metadata": {},
     "output_type": "display_data"
    }
   ],
   "source": [
    "show_count_histogram(modeler, \"Last Week, 10 Topics\")"
   ]
  },
  {
   "cell_type": "code",
   "execution_count": 11,
   "metadata": {},
   "outputs": [],
   "source": [
    "output_directory = '../output/k-means/last-week-10-topics/'\n",
    "os.makedirs(output_directory)\n",
    "export_topics(modeler, output_directory)\n",
    "export_documents(modeler, output_directory)"
   ]
  },
  {
   "cell_type": "markdown",
   "metadata": {},
   "source": [
    "## Last Week, 25 Topics"
   ]
  },
  {
   "cell_type": "code",
   "execution_count": 12,
   "metadata": {},
   "outputs": [],
   "source": [
    "modeler = TopicModeler(last_week, 25, key=lambda search: search.body)\n",
    "modeler.run()"
   ]
  },
  {
   "cell_type": "code",
   "execution_count": 13,
   "metadata": {},
   "outputs": [
    {
     "data": {
      "image/png": "[encoded data removed]",
      "text/plain": [
       "<Figure size 432x288 with 1 Axes>"
      ]
     },
     "metadata": {},
     "output_type": "display_data"
    }
   ],
   "source": [
    "show_count_histogram(modeler, \"Last Week, 25 Topics\")"
   ]
  },
  {
   "cell_type": "code",
   "execution_count": 14,
   "metadata": {},
   "outputs": [],
   "source": [
    "output_directory = '../output/k-means/last-week-25-topics/'\n",
    "os.makedirs(output_directory)\n",
    "export_topics(modeler, output_directory)\n",
    "export_documents(modeler, output_directory)"
   ]
  },
  {
   "cell_type": "markdown",
   "metadata": {},
   "source": [
    "## Last Week, 50 Topics"
   ]
  },
  {
   "cell_type": "code",
   "execution_count": 15,
   "metadata": {},
   "outputs": [],
   "source": [
    "modeler = TopicModeler(last_week, 50, key=lambda search: search.body)\n",
    "modeler.run()"
   ]
  },
  {
   "cell_type": "code",
   "execution_count": 16,
   "metadata": {},
   "outputs": [
    {
     "data": {
      "image/png": "[encoded data removed]",
      "text/plain": [
       "<Figure size 432x288 with 1 Axes>"
      ]
     },
     "metadata": {},
     "output_type": "display_data"
    }
   ],
   "source": [
    "show_count_histogram(modeler, \"Last Week, 50 Topics\")"
   ]
  },
  {
   "cell_type": "code",
   "execution_count": 17,
   "metadata": {},
   "outputs": [],
   "source": [
    "output_directory = '../output/k-means/last-week-50-topics/'\n",
    "os.makedirs(output_directory)\n",
    "export_topics(modeler, output_directory)\n",
    "export_documents(modeler, output_directory)"
   ]
  },
  {
   "cell_type": "markdown",
   "metadata": {},
   "source": [
    "## Last Week, 75 Topics"
   ]
  },
  {
   "cell_type": "code",
   "execution_count": 18,
   "metadata": {},
   "outputs": [],
   "source": [
    "modeler = TopicModeler(last_week, 75, key=lambda search: search.body)\n",
    "modeler.run()"
   ]
  },
  {
   "cell_type": "code",
   "execution_count": 19,
   "metadata": {},
   "outputs": [
    {
     "data": {
      "image/png": "[encoded data removed]",
      "text/plain": [
       "<Figure size 432x288 with 1 Axes>"
      ]
     },
     "metadata": {},
     "output_type": "display_data"
    }
   ],
   "source": [
    "show_count_histogram(modeler, \"Last Week, 75 Topics\")"
   ]
  },
  {
   "cell_type": "code",
   "execution_count": 20,
   "metadata": {},
   "outputs": [],
   "source": [
    "output_directory = '../output/k-means/last-week-75-topics/'\n",
    "os.makedirs(output_directory)\n",
    "export_topics(modeler, output_directory)\n",
    "export_documents(modeler, output_directory)"
   ]
  },
  {
   "cell_type": "markdown",
   "metadata": {},
   "source": [
    "## Last Week, 100 Topics"
   ]
  },
  {
   "cell_type": "code",
   "execution_count": 21,
   "metadata": {},
   "outputs": [],
   "source": [
    "modeler = TopicModeler(last_week, 100, key=lambda search: search.body)\n",
    "modeler.run()"
   ]
  },
  {
   "cell_type": "code",
   "execution_count": 22,
   "metadata": {},
   "outputs": [
    {
     "data": {
      "image/png": "[encoded data removed]",
      "text/plain": [
       "<Figure size 432x288 with 1 Axes>"
      ]
     },
     "metadata": {},
     "output_type": "display_data"
    }
   ],
   "source": [
    "show_count_histogram(modeler, \"Last Week, 100 Topics\")"
   ]
  },
  {
   "cell_type": "code",
   "execution_count": 23,
   "metadata": {},
   "outputs": [],
   "source": [
    "output_directory = '../output/k-means/last-week-100-topics/'\n",
    "os.makedirs(output_directory)\n",
    "export_topics(modeler, output_directory)\n",
    "export_documents(modeler, output_directory)"
   ]
  },
  {
   "cell_type": "markdown",
   "metadata": {},
   "source": [
    "## Last Month, 10 Topics"
   ]
  },
  {
   "cell_type": "code",
   "execution_count": 24,
   "metadata": {},
   "outputs": [],
   "source": [
    "modeler = TopicModeler(last_month, 10, key=lambda search: search.body)\n",
    "modeler.run()"
   ]
  },
  {
   "cell_type": "code",
   "execution_count": 25,
   "metadata": {
    "scrolled": true
   },
   "outputs": [
    {
     "data": {
      "image/png": "[encoded data removed]",
      "text/plain": [
       "<Figure size 432x288 with 1 Axes>"
      ]
     },
     "metadata": {},
     "output_type": "display_data"
    }
   ],
   "source": [
    "show_count_histogram(modeler, \"Last Month, 10 Topics\")"
   ]
  },
  {
   "cell_type": "code",
   "execution_count": 26,
   "metadata": {},
   "outputs": [],
   "source": [
    "output_directory = '../output/k-means/last-month-10-topics/'\n",
    "os.makedirs(output_directory)\n",
    "export_topics(modeler, output_directory)\n",
    "export_documents(modeler, output_directory)"
   ]
  },
  {
   "cell_type": "markdown",
   "metadata": {},
   "source": [
    "## Last Month, 25 Topics"
   ]
  },
  {
   "cell_type": "code",
   "execution_count": 27,
   "metadata": {},
   "outputs": [],
   "source": [
    "modeler = TopicModeler(last_month, 25, key=lambda search: search.body)\n",
    "modeler.run()"
   ]
  },
  {
   "cell_type": "code",
   "execution_count": 28,
   "metadata": {},
   "outputs": [
    {
     "data": {
      "image/png": "[encoded data removed]",
      "text/plain": [
       "<Figure size 432x288 with 1 Axes>"
      ]
     },
     "metadata": {},
     "output_type": "display_data"
    }
   ],
   "source": [
    "show_count_histogram(modeler, \"Last Month, 25 Topics\")"
   ]
  },
  {
   "cell_type": "code",
   "execution_count": 29,
   "metadata": {},
   "outputs": [],
   "source": [
    "output_directory = '../output/k-means/last-month-25-topics/'\n",
    "os.makedirs(output_directory)\n",
    "export_topics(modeler, output_directory)\n",
    "export_documents(modeler, output_directory)"
   ]
  },
  {
   "cell_type": "markdown",
   "metadata": {},
   "source": [
    "## Last Month, 50 Topics"
   ]
  },
  {
   "cell_type": "code",
   "execution_count": 30,
   "metadata": {},
   "outputs": [],
   "source": [
    "modeler = TopicModeler(last_month, 50, key=lambda search: search.body)\n",
    "modeler.run()"
   ]
  },
  {
   "cell_type": "code",
   "execution_count": 31,
   "metadata": {},
   "outputs": [
    {
     "data": {
      "image/png": "[encoded data removed]",
      "text/plain": [
       "<Figure size 432x288 with 1 Axes>"
      ]
     },
     "metadata": {},
     "output_type": "display_data"
    }
   ],
   "source": [
    "show_count_histogram(modeler, \"Last Month, 50 Topics\")"
   ]
  },
  {
   "cell_type": "code",
   "execution_count": 32,
   "metadata": {},
   "outputs": [],
   "source": [
    "output_directory = '../output/k-means/last-month-50-topics/'\n",
    "os.makedirs(output_directory)\n",
    "export_topics(modeler, output_directory)\n",
    "export_documents(modeler, output_directory)"
   ]
  },
  {
   "cell_type": "markdown",
   "metadata": {},
   "source": [
    "## Last Month, 75 Topics"
   ]
  },
  {
   "cell_type": "code",
   "execution_count": 33,
   "metadata": {},
   "outputs": [],
   "source": [
    "modeler = TopicModeler(last_month, 75, key=lambda search: search.body)\n",
    "modeler.run()"
   ]
  },
  {
   "cell_type": "code",
   "execution_count": 34,
   "metadata": {},
   "outputs": [
    {
     "data": {
      "image/png": "[encoded data removed]",
      "text/plain": [
       "<Figure size 432x288 with 1 Axes>"
      ]
     },
     "metadata": {},
     "output_type": "display_data"
    }
   ],
   "source": [
    "show_count_histogram(modeler, \"Last Month, 75 Topics\")"
   ]
  },
  {
   "cell_type": "code",
   "execution_count": 35,
   "metadata": {},
   "outputs": [],
   "source": [
    "output_directory = '../output/k-means/last-month-75-topics/'\n",
    "os.makedirs(output_directory)\n",
    "export_topics(modeler, output_directory)\n",
    "export_documents(modeler, output_directory)"
   ]
  },
  {
   "cell_type": "markdown",
   "metadata": {},
   "source": [
    "## Last Month, 100 Topics"
   ]
  },
  {
   "cell_type": "code",
   "execution_count": 36,
   "metadata": {},
   "outputs": [],
   "source": [
    "modeler = TopicModeler(last_month, 100, key=lambda search: search.body)\n",
    "modeler.run()"
   ]
  },
  {
   "cell_type": "code",
   "execution_count": 37,
   "metadata": {},
   "outputs": [
    {
     "data": {
      "image/png": "[encoded data removed]",
      "text/plain": [
       "<Figure size 432x288 with 1 Axes>"
      ]
     },
     "metadata": {},
     "output_type": "display_data"
    }
   ],
   "source": [
    "show_count_histogram(modeler, \"Last Month, 100 Topics\")"
   ]
  },
  {
   "cell_type": "code",
   "execution_count": 38,
   "metadata": {},
   "outputs": [],
   "source": [
    "output_directory = '../output/k-means/last-month-100-topics/'\n",
    "os.makedirs(output_directory)\n",
    "export_topics(modeler, output_directory)\n",
    "export_documents(modeler, output_directory)"
   ]
  },
  {
   "cell_type": "markdown",
   "metadata": {},
   "source": [
    "## vSphere 6.5, 10 Topics"
   ]
  },
  {
   "cell_type": "code",
   "execution_count": 9,
   "metadata": {},
   "outputs": [],
   "source": [
    "modeler = TopicModeler(vsphere_65, 10, key=lambda search: search.body)\n",
    "modeler.run()"
   ]
  },
  {
   "cell_type": "code",
   "execution_count": 10,
   "metadata": {},
   "outputs": [
    {
     "data": {
      "image/png": "[encoded data removed]",
      "text/plain": [
       "<Figure size 432x288 with 1 Axes>"
      ]
     },
     "metadata": {},
     "output_type": "display_data"
    }
   ],
   "source": [
    "show_count_histogram(modeler, \"vSphere 6.5 Last Month, 10 Topics\")"
   ]
  },
  {
   "cell_type": "code",
   "execution_count": null,
   "metadata": {},
   "outputs": [],
   "source": [
    "output_directory = '../output/k-means/vsphere-65-last-month-10-topics/'\n",
    "os.makedirs(output_directory)\n",
    "export_topics(modeler, output_directory)\n",
    "export_documents(modeler, output_directory)"
   ]
  },
  {
   "cell_type": "markdown",
   "metadata": {},
   "source": [
    "## vSphere 6.5, 25 Topics"
   ]
  },
  {
   "cell_type": "code",
   "execution_count": 12,
   "metadata": {},
   "outputs": [],
   "source": [
    "modeler = TopicModeler(vsphere_65, 25, key=lambda search: search.body)\n",
    "modeler.run()"
   ]
  },
  {
   "cell_type": "code",
   "execution_count": 13,
   "metadata": {},
   "outputs": [
    {
     "data": {
      "image/png": "[encoded data removed]",
      "text/plain": [
       "<Figure size 432x288 with 1 Axes>"
      ]
     },
     "metadata": {},
     "output_type": "display_data"
    }
   ],
   "source": [
    "show_count_histogram(modeler, \"vSphere 6.5 Last Month, 25 Topics\")"
   ]
  },
  {
   "cell_type": "code",
   "execution_count": null,
   "metadata": {},
   "outputs": [],
   "source": [
    "output_directory = '../output/k-means/vsphere-65-last-month-25-topics/'\n",
    "os.makedirs(output_directory)\n",
    "export_topics(modeler, output_directory)\n",
    "export_documents(modeler, output_directory)"
   ]
  },
  {
   "cell_type": "markdown",
   "metadata": {},
   "source": [
    "## vSphere 6.5, 50 Topics"
   ]
  },
  {
   "cell_type": "code",
   "execution_count": 15,
   "metadata": {},
   "outputs": [],
   "source": [
    "modeler = TopicModeler(vsphere_65, 50, key=lambda search: search.body)\n",
    "modeler.run()"
   ]
  },
  {
   "cell_type": "code",
   "execution_count": 16,
   "metadata": {},
   "outputs": [
    {
     "data": {
      "image/png": "[encoded data removed]",
      "text/plain": [
       "<Figure size 432x288 with 1 Axes>"
      ]
     },
     "metadata": {},
     "output_type": "display_data"
    }
   ],
   "source": [
    "show_count_histogram(modeler, \"vSphere 6.5 Last Month, 50 Topics\")"
   ]
  },
  {
   "cell_type": "code",
   "execution_count": null,
   "metadata": {},
   "outputs": [],
   "source": [
    "output_directory = '../output/k-means/vsphere-65-last-month-50-topics/'\n",
    "os.makedirs(output_directory)\n",
    "export_topics(modeler, output_directory)\n",
    "export_documents(modeler, output_directory)"
   ]
  },
  {
   "cell_type": "markdown",
   "metadata": {},
   "source": [
    "## vSphere 6.5, 75 Topics"
   ]
  },
  {
   "cell_type": "code",
   "execution_count": 22,
   "metadata": {},
   "outputs": [],
   "source": [
    "modeler = TopicModeler(vsphere_65, 75, key=lambda search: search.body)\n",
    "modeler.run()"
   ]
  },
  {
   "cell_type": "code",
   "execution_count": 23,
   "metadata": {},
   "outputs": [
    {
     "data": {
      "image/png": "[encoded data removed]",
      "text/plain": [
       "<Figure size 432x288 with 1 Axes>"
      ]
     },
     "metadata": {},
     "output_type": "display_data"
    }
   ],
   "source": [
    "show_count_histogram(modeler, \"vSphere 6.5 Last Month, 75 Topics\")"
   ]
  },
  {
   "cell_type": "code",
   "execution_count": null,
   "metadata": {},
   "outputs": [],
   "source": [
    "output_directory = '../output/k-means/vsphere-65-last-month-75-topics/'\n",
    "os.makedirs(output_directory)\n",
    "export_topics(modeler, output_directory)\n",
    "export_documents(modeler, output_directory)"
   ]
  },
  {
   "cell_type": "markdown",
   "metadata": {},
   "source": [
    "## vSphere 6.5, 100 Topics"
   ]
  },
  {
   "cell_type": "code",
   "execution_count": 25,
   "metadata": {},
   "outputs": [],
   "source": [
    "modeler = TopicModeler(vsphere_65, 100, key=lambda search: search.body)\n",
    "modeler.run()"
   ]
  },
  {
   "cell_type": "code",
   "execution_count": 26,
   "metadata": {},
   "outputs": [
    {
     "data": {
      "image/png": "[encoded data removed]",
      "text/plain": [
       "<Figure size 432x288 with 1 Axes>"
      ]
     },
     "metadata": {},
     "output_type": "display_data"
    }
   ],
   "source": [
    "show_count_histogram(modeler, \"vSphere 6.5 Last Month, 100 Topics\")"
   ]
  },
  {
   "cell_type": "code",
   "execution_count": null,
   "metadata": {},
   "outputs": [],
   "source": [
    "output_directory = '../output/k-means/vsphere-65-last-month-100-topics/'\n",
    "os.makedirs(output_directory)\n",
    "export_topics(modeler, output_directory)\n",
    "export_documents(modeler, output_directory)"
   ]
  }
 ],
 "metadata": {
  "kernelspec": {
   "display_name": "Python 3",
   "language": "python",
   "name": "python3"
  },
  "language_info": {
   "codemirror_mode": {
    "name": "ipython",
    "version": 3
   },
   "file_extension": ".py",
   "mimetype": "text/x-python",
   "name": "python",
   "nbconvert_exporter": "python",
   "pygments_lexer": "ipython3",
   "version": "3.6.5"
  }
 },
 "nbformat": 4,
 "nbformat_minor": 2
}
