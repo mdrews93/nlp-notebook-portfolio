{
 "cells": [
  {
   "cell_type": "markdown",
   "metadata": {},
   "source": [
    "# Retrieving Detailed Commit Info\n",
    "This notebook explores `pydriller` and the information that it mines from GitHub repositories, particularly when it comes to commits."
   ]
  },
  {
   "cell_type": "markdown",
   "metadata": {},
   "source": [
    "# Imports"
   ]
  },
  {
   "cell_type": "code",
   "execution_count": 7,
   "metadata": {},
   "outputs": [],
   "source": [
    "from networkxgmml import XGMMLReader\n",
    "import pandas as pd\n",
    "from pydriller import RepositoryMining"
   ]
  },
  {
   "cell_type": "markdown",
   "metadata": {},
   "source": [
    "# Load the graph"
   ]
  },
  {
   "cell_type": "code",
   "execution_count": 3,
   "metadata": {},
   "outputs": [],
   "source": [
    "graph_filename = \"data/12_02_graph.xgmml\"\n",
    "\n",
    "with open(graph_filename, \"rb\") as graph_file:\n",
    "     G = XGMMLReader(graph_file)"
   ]
  },
  {
   "cell_type": "markdown",
   "metadata": {},
   "source": [
    "# Create a dataframe of just the commits"
   ]
  },
  {
   "cell_type": "code",
   "execution_count": 6,
   "metadata": {},
   "outputs": [
    {
     "data": {
      "text/html": [
       "<div>\n",
       "<style scoped>\n",
       "    .dataframe tbody tr th:only-of-type {\n",
       "        vertical-align: middle;\n",
       "    }\n",
       "\n",
       "    .dataframe tbody tr th {\n",
       "        vertical-align: top;\n",
       "    }\n",
       "\n",
       "    .dataframe thead th {\n",
       "        text-align: right;\n",
       "    }\n",
       "</style>\n",
       "<table border=\"1\" class=\"dataframe\">\n",
       "  <thead>\n",
       "    <tr style=\"text-align: right;\">\n",
       "      <th></th>\n",
       "      <th>label</th>\n",
       "      <th>name</th>\n",
       "      <th>owner</th>\n",
       "      <th>repo_id</th>\n",
       "      <th>url</th>\n",
       "      <th>additions</th>\n",
       "      <th>author_key</th>\n",
       "      <th>closed_date</th>\n",
       "      <th>created_date</th>\n",
       "      <th>deletions</th>\n",
       "      <th>...</th>\n",
       "      <th>operation</th>\n",
       "      <th>body</th>\n",
       "      <th>published_date</th>\n",
       "      <th>tag</th>\n",
       "      <th>username</th>\n",
       "      <th>comment_key</th>\n",
       "      <th>content</th>\n",
       "      <th>date</th>\n",
       "      <th>hash</th>\n",
       "      <th>message</th>\n",
       "    </tr>\n",
       "    <tr>\n",
       "      <th>commit id</th>\n",
       "      <th></th>\n",
       "      <th></th>\n",
       "      <th></th>\n",
       "      <th></th>\n",
       "      <th></th>\n",
       "      <th></th>\n",
       "      <th></th>\n",
       "      <th></th>\n",
       "      <th></th>\n",
       "      <th></th>\n",
       "      <th></th>\n",
       "      <th></th>\n",
       "      <th></th>\n",
       "      <th></th>\n",
       "      <th></th>\n",
       "      <th></th>\n",
       "      <th></th>\n",
       "      <th></th>\n",
       "      <th></th>\n",
       "      <th></th>\n",
       "      <th></th>\n",
       "    </tr>\n",
       "  </thead>\n",
       "  <tbody>\n",
       "    <tr>\n",
       "      <th>commits/698ac82a-63f8-5c16-80ec-f533f9458123</th>\n",
       "      <td>Default-Label</td>\n",
       "      <td>master</td>\n",
       "      <td>kelektiv</td>\n",
       "      <td>d8433c8d-b38d-4b30-b4f6-6a3eb0b65f93</td>\n",
       "      <td>https://github.com/kelektiv/node-cron</td>\n",
       "      <td>1</td>\n",
       "      <td>null</td>\n",
       "      <td>2019-11-22T02:19:17+00:00</td>\n",
       "      <td>2016-12-31T22:40:41+00:00</td>\n",
       "      <td>1</td>\n",
       "      <td>...</td>\n",
       "      <td>MODIFY</td>\n",
       "      <td>@ncb000gt  removed in  commit `98dad71`</td>\n",
       "      <td>2017-02-19T17:51:10+00:00</td>\n",
       "      <td>v1.0.2</td>\n",
       "      <td>woyuen</td>\n",
       "      <td>null</td>\n",
       "      <td>+1</td>\n",
       "      <td>2010-04-13T05:32:04+00:00</td>\n",
       "      <td>0b3e87179cd862a8b2432ccce65be80dd52a2aeb</td>\n",
       "      <td>Init. Not working.  Signed-off-by: Nick Campbe...</td>\n",
       "    </tr>\n",
       "    <tr>\n",
       "      <th>commits/02b0d7f6-17dc-5592-8b8b-43161a93185a</th>\n",
       "      <td>Default-Label</td>\n",
       "      <td>master</td>\n",
       "      <td>kelektiv</td>\n",
       "      <td>d8433c8d-b38d-4b30-b4f6-6a3eb0b65f93</td>\n",
       "      <td>https://github.com/kelektiv/node-cron</td>\n",
       "      <td>1</td>\n",
       "      <td>null</td>\n",
       "      <td>2019-11-22T02:19:17+00:00</td>\n",
       "      <td>2016-12-31T22:40:41+00:00</td>\n",
       "      <td>1</td>\n",
       "      <td>...</td>\n",
       "      <td>MODIFY</td>\n",
       "      <td>@ncb000gt  removed in  commit `98dad71`</td>\n",
       "      <td>2017-02-19T17:51:10+00:00</td>\n",
       "      <td>v1.0.2</td>\n",
       "      <td>woyuen</td>\n",
       "      <td>null</td>\n",
       "      <td>+1</td>\n",
       "      <td>2010-04-15T05:17:39+00:00</td>\n",
       "      <td>fff5a24c47df08bd0edf47a26c2ca4ee18a14594</td>\n",
       "      <td>Added functional bcrypt algo with node hooks. ...</td>\n",
       "    </tr>\n",
       "    <tr>\n",
       "      <th>commits/7c0f6f9f-988c-50a6-b390-77382f6ce375</th>\n",
       "      <td>Default-Label</td>\n",
       "      <td>master</td>\n",
       "      <td>kelektiv</td>\n",
       "      <td>d8433c8d-b38d-4b30-b4f6-6a3eb0b65f93</td>\n",
       "      <td>https://github.com/kelektiv/node-cron</td>\n",
       "      <td>1</td>\n",
       "      <td>null</td>\n",
       "      <td>2019-11-22T02:19:17+00:00</td>\n",
       "      <td>2016-12-31T22:40:41+00:00</td>\n",
       "      <td>1</td>\n",
       "      <td>...</td>\n",
       "      <td>MODIFY</td>\n",
       "      <td>@ncb000gt  removed in  commit `98dad71`</td>\n",
       "      <td>2017-02-19T17:51:10+00:00</td>\n",
       "      <td>v1.0.2</td>\n",
       "      <td>woyuen</td>\n",
       "      <td>null</td>\n",
       "      <td>+1</td>\n",
       "      <td>2010-04-15T05:18:16+00:00</td>\n",
       "      <td>fcc1760e6b79a6369200fb37685122e503f5298a</td>\n",
       "      <td>Removed bCrypt.js, not using it anymore. Moved...</td>\n",
       "    </tr>\n",
       "    <tr>\n",
       "      <th>commits/63a3e10b-d557-54a9-bbea-4c0529776ca9</th>\n",
       "      <td>Default-Label</td>\n",
       "      <td>master</td>\n",
       "      <td>kelektiv</td>\n",
       "      <td>d8433c8d-b38d-4b30-b4f6-6a3eb0b65f93</td>\n",
       "      <td>https://github.com/kelektiv/node-cron</td>\n",
       "      <td>1</td>\n",
       "      <td>null</td>\n",
       "      <td>2019-11-22T02:19:17+00:00</td>\n",
       "      <td>2016-12-31T22:40:41+00:00</td>\n",
       "      <td>1</td>\n",
       "      <td>...</td>\n",
       "      <td>MODIFY</td>\n",
       "      <td>@ncb000gt  removed in  commit `98dad71`</td>\n",
       "      <td>2017-02-19T17:51:10+00:00</td>\n",
       "      <td>v1.0.2</td>\n",
       "      <td>woyuen</td>\n",
       "      <td>null</td>\n",
       "      <td>+1</td>\n",
       "      <td>2010-04-15T05:22:27+00:00</td>\n",
       "      <td>bc9125a0b93a157cdb24a01139e0a42c76a72b86</td>\n",
       "      <td>Line breaks, and license split out.  Signed-of...</td>\n",
       "    </tr>\n",
       "    <tr>\n",
       "      <th>commits/040dbf01-e8cf-5782-b62d-b06bd7ceb4c0</th>\n",
       "      <td>Default-Label</td>\n",
       "      <td>master</td>\n",
       "      <td>kelektiv</td>\n",
       "      <td>d8433c8d-b38d-4b30-b4f6-6a3eb0b65f93</td>\n",
       "      <td>https://github.com/kelektiv/node-cron</td>\n",
       "      <td>1</td>\n",
       "      <td>null</td>\n",
       "      <td>2019-11-22T02:19:17+00:00</td>\n",
       "      <td>2016-12-31T22:40:41+00:00</td>\n",
       "      <td>1</td>\n",
       "      <td>...</td>\n",
       "      <td>MODIFY</td>\n",
       "      <td>@ncb000gt  removed in  commit `98dad71`</td>\n",
       "      <td>2017-02-19T17:51:10+00:00</td>\n",
       "      <td>v1.0.2</td>\n",
       "      <td>woyuen</td>\n",
       "      <td>null</td>\n",
       "      <td>+1</td>\n",
       "      <td>2010-04-15T05:25:26+00:00</td>\n",
       "      <td>a58323d73ce39066be3f6e4b25298ab78082c8e0</td>\n",
       "      <td>Links in the markdown  Signed-off-by: Nick Cam...</td>\n",
       "    </tr>\n",
       "  </tbody>\n",
       "</table>\n",
       "<p>5 rows × 35 columns</p>\n",
       "</div>"
      ],
      "text/plain": [
       "                                                      label    name     owner  \\\n",
       "commit id                                                                       \n",
       "commits/698ac82a-63f8-5c16-80ec-f533f9458123  Default-Label  master  kelektiv   \n",
       "commits/02b0d7f6-17dc-5592-8b8b-43161a93185a  Default-Label  master  kelektiv   \n",
       "commits/7c0f6f9f-988c-50a6-b390-77382f6ce375  Default-Label  master  kelektiv   \n",
       "commits/63a3e10b-d557-54a9-bbea-4c0529776ca9  Default-Label  master  kelektiv   \n",
       "commits/040dbf01-e8cf-5782-b62d-b06bd7ceb4c0  Default-Label  master  kelektiv   \n",
       "\n",
       "                                                                           repo_id  \\\n",
       "commit id                                                                            \n",
       "commits/698ac82a-63f8-5c16-80ec-f533f9458123  d8433c8d-b38d-4b30-b4f6-6a3eb0b65f93   \n",
       "commits/02b0d7f6-17dc-5592-8b8b-43161a93185a  d8433c8d-b38d-4b30-b4f6-6a3eb0b65f93   \n",
       "commits/7c0f6f9f-988c-50a6-b390-77382f6ce375  d8433c8d-b38d-4b30-b4f6-6a3eb0b65f93   \n",
       "commits/63a3e10b-d557-54a9-bbea-4c0529776ca9  d8433c8d-b38d-4b30-b4f6-6a3eb0b65f93   \n",
       "commits/040dbf01-e8cf-5782-b62d-b06bd7ceb4c0  d8433c8d-b38d-4b30-b4f6-6a3eb0b65f93   \n",
       "\n",
       "                                                                                url  \\\n",
       "commit id                                                                             \n",
       "commits/698ac82a-63f8-5c16-80ec-f533f9458123  https://github.com/kelektiv/node-cron   \n",
       "commits/02b0d7f6-17dc-5592-8b8b-43161a93185a  https://github.com/kelektiv/node-cron   \n",
       "commits/7c0f6f9f-988c-50a6-b390-77382f6ce375  https://github.com/kelektiv/node-cron   \n",
       "commits/63a3e10b-d557-54a9-bbea-4c0529776ca9  https://github.com/kelektiv/node-cron   \n",
       "commits/040dbf01-e8cf-5782-b62d-b06bd7ceb4c0  https://github.com/kelektiv/node-cron   \n",
       "\n",
       "                                              additions author_key  \\\n",
       "commit id                                                            \n",
       "commits/698ac82a-63f8-5c16-80ec-f533f9458123          1       null   \n",
       "commits/02b0d7f6-17dc-5592-8b8b-43161a93185a          1       null   \n",
       "commits/7c0f6f9f-988c-50a6-b390-77382f6ce375          1       null   \n",
       "commits/63a3e10b-d557-54a9-bbea-4c0529776ca9          1       null   \n",
       "commits/040dbf01-e8cf-5782-b62d-b06bd7ceb4c0          1       null   \n",
       "\n",
       "                                                            closed_date  \\\n",
       "commit id                                                                 \n",
       "commits/698ac82a-63f8-5c16-80ec-f533f9458123  2019-11-22T02:19:17+00:00   \n",
       "commits/02b0d7f6-17dc-5592-8b8b-43161a93185a  2019-11-22T02:19:17+00:00   \n",
       "commits/7c0f6f9f-988c-50a6-b390-77382f6ce375  2019-11-22T02:19:17+00:00   \n",
       "commits/63a3e10b-d557-54a9-bbea-4c0529776ca9  2019-11-22T02:19:17+00:00   \n",
       "commits/040dbf01-e8cf-5782-b62d-b06bd7ceb4c0  2019-11-22T02:19:17+00:00   \n",
       "\n",
       "                                                           created_date  \\\n",
       "commit id                                                                 \n",
       "commits/698ac82a-63f8-5c16-80ec-f533f9458123  2016-12-31T22:40:41+00:00   \n",
       "commits/02b0d7f6-17dc-5592-8b8b-43161a93185a  2016-12-31T22:40:41+00:00   \n",
       "commits/7c0f6f9f-988c-50a6-b390-77382f6ce375  2016-12-31T22:40:41+00:00   \n",
       "commits/63a3e10b-d557-54a9-bbea-4c0529776ca9  2016-12-31T22:40:41+00:00   \n",
       "commits/040dbf01-e8cf-5782-b62d-b06bd7ceb4c0  2016-12-31T22:40:41+00:00   \n",
       "\n",
       "                                              deletions  ... operation  \\\n",
       "commit id                                                ...             \n",
       "commits/698ac82a-63f8-5c16-80ec-f533f9458123          1  ...    MODIFY   \n",
       "commits/02b0d7f6-17dc-5592-8b8b-43161a93185a          1  ...    MODIFY   \n",
       "commits/7c0f6f9f-988c-50a6-b390-77382f6ce375          1  ...    MODIFY   \n",
       "commits/63a3e10b-d557-54a9-bbea-4c0529776ca9          1  ...    MODIFY   \n",
       "commits/040dbf01-e8cf-5782-b62d-b06bd7ceb4c0          1  ...    MODIFY   \n",
       "\n",
       "                                                                                 body  \\\n",
       "commit id                                                                               \n",
       "commits/698ac82a-63f8-5c16-80ec-f533f9458123  @ncb000gt  removed in  commit `98dad71`   \n",
       "commits/02b0d7f6-17dc-5592-8b8b-43161a93185a  @ncb000gt  removed in  commit `98dad71`   \n",
       "commits/7c0f6f9f-988c-50a6-b390-77382f6ce375  @ncb000gt  removed in  commit `98dad71`   \n",
       "commits/63a3e10b-d557-54a9-bbea-4c0529776ca9  @ncb000gt  removed in  commit `98dad71`   \n",
       "commits/040dbf01-e8cf-5782-b62d-b06bd7ceb4c0  @ncb000gt  removed in  commit `98dad71`   \n",
       "\n",
       "                                                         published_date  \\\n",
       "commit id                                                                 \n",
       "commits/698ac82a-63f8-5c16-80ec-f533f9458123  2017-02-19T17:51:10+00:00   \n",
       "commits/02b0d7f6-17dc-5592-8b8b-43161a93185a  2017-02-19T17:51:10+00:00   \n",
       "commits/7c0f6f9f-988c-50a6-b390-77382f6ce375  2017-02-19T17:51:10+00:00   \n",
       "commits/63a3e10b-d557-54a9-bbea-4c0529776ca9  2017-02-19T17:51:10+00:00   \n",
       "commits/040dbf01-e8cf-5782-b62d-b06bd7ceb4c0  2017-02-19T17:51:10+00:00   \n",
       "\n",
       "                                                 tag username comment_key  \\\n",
       "commit id                                                                   \n",
       "commits/698ac82a-63f8-5c16-80ec-f533f9458123  v1.0.2   woyuen        null   \n",
       "commits/02b0d7f6-17dc-5592-8b8b-43161a93185a  v1.0.2   woyuen        null   \n",
       "commits/7c0f6f9f-988c-50a6-b390-77382f6ce375  v1.0.2   woyuen        null   \n",
       "commits/63a3e10b-d557-54a9-bbea-4c0529776ca9  v1.0.2   woyuen        null   \n",
       "commits/040dbf01-e8cf-5782-b62d-b06bd7ceb4c0  v1.0.2   woyuen        null   \n",
       "\n",
       "                                             content  \\\n",
       "commit id                                              \n",
       "commits/698ac82a-63f8-5c16-80ec-f533f9458123      +1   \n",
       "commits/02b0d7f6-17dc-5592-8b8b-43161a93185a      +1   \n",
       "commits/7c0f6f9f-988c-50a6-b390-77382f6ce375      +1   \n",
       "commits/63a3e10b-d557-54a9-bbea-4c0529776ca9      +1   \n",
       "commits/040dbf01-e8cf-5782-b62d-b06bd7ceb4c0      +1   \n",
       "\n",
       "                                                                   date  \\\n",
       "commit id                                                                 \n",
       "commits/698ac82a-63f8-5c16-80ec-f533f9458123  2010-04-13T05:32:04+00:00   \n",
       "commits/02b0d7f6-17dc-5592-8b8b-43161a93185a  2010-04-15T05:17:39+00:00   \n",
       "commits/7c0f6f9f-988c-50a6-b390-77382f6ce375  2010-04-15T05:18:16+00:00   \n",
       "commits/63a3e10b-d557-54a9-bbea-4c0529776ca9  2010-04-15T05:22:27+00:00   \n",
       "commits/040dbf01-e8cf-5782-b62d-b06bd7ceb4c0  2010-04-15T05:25:26+00:00   \n",
       "\n",
       "                                                                                  hash  \\\n",
       "commit id                                                                                \n",
       "commits/698ac82a-63f8-5c16-80ec-f533f9458123  0b3e87179cd862a8b2432ccce65be80dd52a2aeb   \n",
       "commits/02b0d7f6-17dc-5592-8b8b-43161a93185a  fff5a24c47df08bd0edf47a26c2ca4ee18a14594   \n",
       "commits/7c0f6f9f-988c-50a6-b390-77382f6ce375  fcc1760e6b79a6369200fb37685122e503f5298a   \n",
       "commits/63a3e10b-d557-54a9-bbea-4c0529776ca9  bc9125a0b93a157cdb24a01139e0a42c76a72b86   \n",
       "commits/040dbf01-e8cf-5782-b62d-b06bd7ceb4c0  a58323d73ce39066be3f6e4b25298ab78082c8e0   \n",
       "\n",
       "                                                                                        message  \n",
       "commit id                                                                                        \n",
       "commits/698ac82a-63f8-5c16-80ec-f533f9458123  Init. Not working.  Signed-off-by: Nick Campbe...  \n",
       "commits/02b0d7f6-17dc-5592-8b8b-43161a93185a  Added functional bcrypt algo with node hooks. ...  \n",
       "commits/7c0f6f9f-988c-50a6-b390-77382f6ce375  Removed bCrypt.js, not using it anymore. Moved...  \n",
       "commits/63a3e10b-d557-54a9-bbea-4c0529776ca9  Line breaks, and license split out.  Signed-of...  \n",
       "commits/040dbf01-e8cf-5782-b62d-b06bd7ceb4c0  Links in the markdown  Signed-off-by: Nick Cam...  \n",
       "\n",
       "[5 rows x 35 columns]"
      ]
     },
     "execution_count": 6,
     "metadata": {},
     "output_type": "execute_result"
    }
   ],
   "source": [
    "commits_df=pd.concat([pd.DataFrame([[u]+list(G.node[u].values())], columns=[\"commit id\"]+list(G.node[u].keys())) for u in G.nodes() if \"commits\" in u], \n",
    "                     ignore_index=True).set_index(\"commit id\")\n",
    "commits_df.head()"
   ]
  },
  {
   "cell_type": "code",
   "execution_count": 72,
   "metadata": {},
   "outputs": [
    {
     "data": {
      "text/plain": [
       "url\n",
       "https://github.com/kelektiv/node-cron    789\n",
       "dtype: int64"
      ]
     },
     "execution_count": 72,
     "metadata": {},
     "output_type": "execute_result"
    }
   ],
   "source": [
    "commits_df.groupby(\"url\").size()"
   ]
  },
  {
   "cell_type": "code",
   "execution_count": 67,
   "metadata": {},
   "outputs": [
    {
     "data": {
      "text/plain": [
       "789"
      ]
     },
     "execution_count": 67,
     "metadata": {},
     "output_type": "execute_result"
    }
   ],
   "source": [
    "len(commits_df)"
   ]
  },
  {
   "cell_type": "code",
   "execution_count": 68,
   "metadata": {},
   "outputs": [
    {
     "data": {
      "text/plain": [
       "411"
      ]
     },
     "execution_count": 68,
     "metadata": {},
     "output_type": "execute_result"
    }
   ],
   "source": [
    "len(commits)"
   ]
  },
  {
   "cell_type": "markdown",
   "metadata": {},
   "source": [
    "# Mine the commits\n",
    "These will be saved into a dictionary that maps the commit hash to the mined Commit object"
   ]
  },
  {
   "cell_type": "code",
   "execution_count": 8,
   "metadata": {},
   "outputs": [],
   "source": [
    "commits = {commit.hash: commit for commit in RepositoryMining('https://github.com/kelektiv/node-cron').traverse_commits()}"
   ]
  },
  {
   "cell_type": "code",
   "execution_count": 9,
   "metadata": {},
   "outputs": [
    {
     "data": {
      "text/plain": [
       "'0b3e87179cd862a8b2432ccce65be80dd52a2aeb'"
      ]
     },
     "execution_count": 9,
     "metadata": {},
     "output_type": "execute_result"
    }
   ],
   "source": [
    "commits_df.iloc[0].hash"
   ]
  },
  {
   "cell_type": "code",
   "execution_count": 66,
   "metadata": {},
   "outputs": [
    {
     "ename": "KeyError",
     "evalue": "'0b3e87179cd862a8b2432ccce65be80dd52a2aeb'",
     "output_type": "error",
     "traceback": [
      "\u001b[0;31m---------------------------------------------------------------------------\u001b[0m",
      "\u001b[0;31mKeyError\u001b[0m                                  Traceback (most recent call last)",
      "\u001b[0;32m<ipython-input-66-c0bd10c7dfbf>\u001b[0m in \u001b[0;36m<module>\u001b[0;34m\u001b[0m\n\u001b[0;32m----> 1\u001b[0;31m \u001b[0mcommits\u001b[0m\u001b[0;34m[\u001b[0m\u001b[0mcommits_df\u001b[0m\u001b[0;34m.\u001b[0m\u001b[0miloc\u001b[0m\u001b[0;34m[\u001b[0m\u001b[0;36m0\u001b[0m\u001b[0;34m]\u001b[0m\u001b[0;34m.\u001b[0m\u001b[0mhash\u001b[0m\u001b[0;34m]\u001b[0m\u001b[0;34m\u001b[0m\u001b[0m\n\u001b[0m",
      "\u001b[0;31mKeyError\u001b[0m: '0b3e87179cd862a8b2432ccce65be80dd52a2aeb'"
     ]
    }
   ],
   "source": [
    "commits[commits_df.iloc[0].hash]"
   ]
  },
  {
   "cell_type": "markdown",
   "metadata": {},
   "source": [
    "##### Ignore this for now, let's get a commit hash that exists in both datasets"
   ]
  },
  {
   "cell_type": "code",
   "execution_count": 23,
   "metadata": {},
   "outputs": [
    {
     "data": {
      "text/plain": [
       "'cb2a771ed5c2828e15f40ab32d59a163ee249e22'"
      ]
     },
     "execution_count": 23,
     "metadata": {},
     "output_type": "execute_result"
    }
   ],
   "source": [
    "shared_hash = list(set(commits.keys()) & set(commits_df[\"hash\"]))[0]\n",
    "shared_hash"
   ]
  },
  {
   "cell_type": "code",
   "execution_count": 24,
   "metadata": {},
   "outputs": [
    {
     "data": {
      "text/plain": [
       "<pydriller.domain.commit.Commit at 0x7f71ad287048>"
      ]
     },
     "execution_count": 24,
     "metadata": {},
     "output_type": "execute_result"
    }
   ],
   "source": [
    "commits[shared_hash]"
   ]
  },
  {
   "cell_type": "markdown",
   "metadata": {},
   "source": [
    "Documentation for [Commit](https://pydriller.readthedocs.io/en/latest/reference.html#pydriller.domain.commit.Commit)"
   ]
  },
  {
   "cell_type": "code",
   "execution_count": 27,
   "metadata": {},
   "outputs": [
    {
     "data": {
      "text/plain": [
       "['author',\n",
       " 'author_date',\n",
       " 'author_timezone',\n",
       " 'branches',\n",
       " 'committer',\n",
       " 'committer_date',\n",
       " 'committer_timezone',\n",
       " 'hash',\n",
       " 'in_main_branch',\n",
       " 'merge',\n",
       " 'modifications',\n",
       " 'msg',\n",
       " 'parents',\n",
       " 'project_name',\n",
       " 'project_path']"
      ]
     },
     "execution_count": 27,
     "metadata": {},
     "output_type": "execute_result"
    }
   ],
   "source": [
    "[attr for attr in dir(commits[shared_hash]) if not attr.startswith(\"_\")]"
   ]
  },
  {
   "cell_type": "code",
   "execution_count": 36,
   "metadata": {},
   "outputs": [
    {
     "data": {
      "text/plain": [
       "'cb2a771ed5c2828e15f40ab32d59a163ee249e22'"
      ]
     },
     "execution_count": 36,
     "metadata": {},
     "output_type": "execute_result"
    }
   ],
   "source": [
    "commits[shared_hash].hash"
   ]
  },
  {
   "cell_type": "code",
   "execution_count": 29,
   "metadata": {},
   "outputs": [
    {
     "data": {
      "text/plain": [
       "<pydriller.domain.developer.Developer at 0x7f71ad18f9b0>"
      ]
     },
     "execution_count": 29,
     "metadata": {},
     "output_type": "execute_result"
    }
   ],
   "source": [
    "commits[shared_hash].author"
   ]
  },
  {
   "cell_type": "code",
   "execution_count": 32,
   "metadata": {},
   "outputs": [
    {
     "data": {
      "text/plain": [
       "'added time function'"
      ]
     },
     "execution_count": 32,
     "metadata": {},
     "output_type": "execute_result"
    }
   ],
   "source": [
    "commits[shared_hash].msg"
   ]
  },
  {
   "cell_type": "markdown",
   "metadata": {},
   "source": [
    "# Mine the Modifications\n",
    "Each commit may have a list of Modifications, which detail the files changed within the commit"
   ]
  },
  {
   "cell_type": "code",
   "execution_count": 30,
   "metadata": {},
   "outputs": [],
   "source": [
    "modifications = {commit.hash: commit.modifications for commit in RepositoryMining('https://github.com/kelektiv/node-cron').traverse_commits()}"
   ]
  },
  {
   "cell_type": "code",
   "execution_count": 31,
   "metadata": {},
   "outputs": [
    {
     "data": {
      "text/plain": [
       "[<pydriller.domain.commit.Modification at 0x7f71acf85ef0>,\n",
       " <pydriller.domain.commit.Modification at 0x7f71acf85e48>]"
      ]
     },
     "execution_count": 31,
     "metadata": {},
     "output_type": "execute_result"
    }
   ],
   "source": [
    "modifications[shared_hash]"
   ]
  },
  {
   "cell_type": "markdown",
   "metadata": {},
   "source": [
    "Documentation for [Modification](https://pydriller.readthedocs.io/en/latest/modifications.html)"
   ]
  },
  {
   "cell_type": "code",
   "execution_count": 34,
   "metadata": {},
   "outputs": [
    {
     "data": {
      "text/plain": [
       "['added',\n",
       " 'change_type',\n",
       " 'complexity',\n",
       " 'diff',\n",
       " 'filename',\n",
       " 'methods',\n",
       " 'new_path',\n",
       " 'nloc',\n",
       " 'old_path',\n",
       " 'removed',\n",
       " 'source_code',\n",
       " 'source_code_before',\n",
       " 'token_count']"
      ]
     },
     "execution_count": 34,
     "metadata": {},
     "output_type": "execute_result"
    }
   ],
   "source": [
    "[attr for attr in dir(modifications[shared_hash][0]) if not attr.startswith(\"_\")]"
   ]
  },
  {
   "cell_type": "code",
   "execution_count": 37,
   "metadata": {},
   "outputs": [
    {
     "data": {
      "text/plain": [
       "['cron.js', 'package.json']"
      ]
     },
     "execution_count": 37,
     "metadata": {},
     "output_type": "execute_result"
    }
   ],
   "source": [
    "[modification.filename for modification in modifications[shared_hash]]"
   ]
  },
  {
   "cell_type": "code",
   "execution_count": 38,
   "metadata": {},
   "outputs": [
    {
     "data": {
      "text/plain": [
       "[<ModificationType.MODIFY: 5>, <ModificationType.MODIFY: 5>]"
      ]
     },
     "execution_count": 38,
     "metadata": {},
     "output_type": "execute_result"
    }
   ],
   "source": [
    "[modification.change_type for modification in modifications[shared_hash]]"
   ]
  },
  {
   "cell_type": "code",
   "execution_count": 39,
   "metadata": {},
   "outputs": [
    {
     "data": {
      "text/plain": [
       "[43, 0]"
      ]
     },
     "execution_count": 39,
     "metadata": {},
     "output_type": "execute_result"
    }
   ],
   "source": [
    "[modification.complexity for modification in modifications[shared_hash]]"
   ]
  },
  {
   "cell_type": "code",
   "execution_count": 64,
   "metadata": {},
   "outputs": [
    {
     "name": "stdout",
     "output_type": "stream",
     "text": [
      "@@ -312,14 +312,19 @@ exports.job = function(cronTime, onComplete)\n",
      "   return new CronJob(cronTime, onComplete);\n",
      " }\n",
      " \n",
      "+exports.time = function(cronTime)\n",
      "+{\n",
      "+    return new CronTime(cronTime);\n",
      "+}\n",
      "+\n",
      " exports.sendAt = function(cronTime)\n",
      " {\n",
      "-    return new CronTime(cronTime).sendAt();\n",
      "+    return exports.time(cronTime).sendAt();\n",
      " }\n",
      " \n",
      " exports.timeout = function(cronTime)\n",
      " {\n",
      "-    return new CronTime(cronTime).timeout();\n",
      "+    return exports.time(cronTime).timeout();\n",
      " }\n",
      " \n",
      " \n",
      "\n"
     ]
    }
   ],
   "source": [
    "print(modifications[shared_hash][0].diff)"
   ]
  },
  {
   "cell_type": "code",
   "execution_count": 42,
   "metadata": {},
   "outputs": [
    {
     "data": {
      "text/plain": [
       "[183, 37]"
      ]
     },
     "execution_count": 42,
     "metadata": {},
     "output_type": "execute_result"
    }
   ],
   "source": [
    "[modification.nloc for modification in modifications[shared_hash]]"
   ]
  },
  {
   "cell_type": "code",
   "execution_count": 43,
   "metadata": {},
   "outputs": [
    {
     "data": {
      "text/plain": [
       "[7, 1]"
      ]
     },
     "execution_count": 43,
     "metadata": {},
     "output_type": "execute_result"
    }
   ],
   "source": [
    "[modification.added for modification in modifications[shared_hash]]"
   ]
  },
  {
   "cell_type": "code",
   "execution_count": 44,
   "metadata": {},
   "outputs": [
    {
     "data": {
      "text/plain": [
       "[2, 1]"
      ]
     },
     "execution_count": 44,
     "metadata": {},
     "output_type": "execute_result"
    }
   ],
   "source": [
    "[modification.removed for modification in modifications[shared_hash]]"
   ]
  },
  {
   "cell_type": "code",
   "execution_count": 45,
   "metadata": {
    "scrolled": true
   },
   "outputs": [
    {
     "name": "stdout",
     "output_type": "stream",
     "text": [
      "/**\n",
      " * cron.js\n",
      " * ---\n",
      " * VERSION 0.1\n",
      " * ---\n",
      " * @author James Padolsey\n",
      " * ---\n",
      " * Dual licensed under the MIT and GPL licenses.\n",
      " *    - http://www.opensource.org/licenses/mit-license.php\n",
      " *    - http://www.gnu.org/copyleft/gpl.html\n",
      " */\n",
      "\n",
      "\n",
      "function CronTime(time) {\n",
      "\n",
      "  this.source = time;\n",
      "\n",
      "  this.second     = {};\n",
      "  this.minute     = {};\n",
      "  this.hour       = {};\n",
      "  this.dayOfWeek  = {};\n",
      "  this.dayOfMonth = {};\n",
      "  this.month      = {};\n",
      "\n",
      "  this._parse();\n",
      "\n",
      "};\n",
      "\n",
      "CronTime.map = ['second', 'minute', 'hour', 'dayOfMonth', 'month', 'dayOfWeek'];\n",
      "CronTime.constraints = [ [0, 59], [0, 59], [0, 23], [1, 31], [0, 11], [1, 7] ];\n",
      "CronTime.aliases = {\n",
      "    jan:0, feb:1, mar:2, apr:3, may:4, jun:5, jul:6, aug:7, sep:8, oct:9, nov:10, dec:11,\n",
      "    sun:1, mon:2, tue:3, wed:4, thu:5, fri:6, sat:7\n",
      "};\n",
      "\n",
      "\n",
      "CronTime.prototype = {\n",
      "\n",
      "  /**\n",
      "   * calculates the next send time\n",
      "   */\n",
      "\n",
      "  sendAt: function(start) {\n",
      "\n",
      "    var date = start ? start : new Date();\n",
      "\n",
      "    //add 1 second so next time isn't now (can cause timeout to be 0)\n",
      "    date.setSeconds(date.getSeconds() + 1);\n",
      "    \n",
      "    var i = 1000;\n",
      "\n",
      "\n",
      "    //sanity check\n",
      "    while(--i)\n",
      "    {\n",
      "      if (!(date.getMonth() in this.month)) {\n",
      "        date.setMonth(date.getMonth()+1);\n",
      "        date.setDate(1);\n",
      "        date.setHours(0);\n",
      "        date.setMinutes(0);\n",
      "        continue;\n",
      "      }\n",
      "      if (!(date.getDate() in this.dayOfMonth)) {\n",
      "        date.setDate(date.getDate()+1);\n",
      "        date.setHours(0);\n",
      "        date.setMinutes(0);\n",
      "        continue;\n",
      "      }\n",
      "      if (!(date.getDay()+1 in this.dayOfWeek)) {\n",
      "        date.setDate(date.getDate()+1);\n",
      "        date.setHours(0);\n",
      "        date.setMinutes(0);\n",
      "        continue;\n",
      "      }\n",
      "      if (!(date.getHours() in this.hour)) {\n",
      "        date.setHours(date.getHours()+1);\n",
      "        date.setMinutes(0);\n",
      "        continue;\n",
      "      }\n",
      "      if (!(date.getMinutes() in this.minute)) {\n",
      "        date.setMinutes(date.getMinutes()+1);\n",
      "        date.setSeconds(0);\n",
      "        continue;\n",
      "      }\n",
      "\n",
      "      if(!(date.getSeconds() in this.second)) {\n",
      "        date.setSeconds(date.getSeconds()+1);\n",
      "        continue;\n",
      "      }\n",
      "\n",
      "      break;\n",
      "    }\n",
      "\n",
      "\n",
      "\n",
      "\n",
      "    return date;\n",
      "  },\n",
      "\n",
      "  /**\n",
      "   */\n",
      "\n",
      "\n",
      "  timeout: function()\n",
      "  {\n",
      "    return Math.max(0, this.sendAt().getTime() - Date.now());\n",
      "  },\n",
      "\n",
      "  /** \n",
      "   * writes out a cron string\n",
      "   */\n",
      "\n",
      "  toString: function()\n",
      "  {\n",
      "    return [ this._wcOrAll('second'), \n",
      "    this._wcOrAll('minute'), \n",
      "    this._wcOrAll('hour'), \n",
      "    this._wcOrAll('dayOfMonth'), \n",
      "    this._wcOrAll('month'), \n",
      "    this._wcOrAll('dayOfWeek') ].join(' ');\n",
      "  },\n",
      "\n",
      "  /**\n",
      "   */\n",
      "\n",
      "  toJSON: function()\n",
      "  {\n",
      "    return this.toString();\n",
      "  },\n",
      "\n",
      "  /**\n",
      "   * wildcard, or all params in array (for to string)\n",
      "   */\n",
      "\n",
      "  '_wcOrAll': function(type)\n",
      "  {\n",
      "    if(this._hasAll(type)) return '*';\n",
      "\n",
      "    var all = [];\n",
      "    for(var time in this[type])\n",
      "    {\n",
      "      all.push(time);\n",
      "    }\n",
      "\n",
      "    return all.join(',');\n",
      "  },\n",
      "\n",
      "  /**\n",
      "   */\n",
      "\n",
      "  '_hasAll': function(type)\n",
      "  {\n",
      "    var constrain = CronTime.constraints[CronTime.map.indexOf(type)];\n",
      "\n",
      "    for(var i = constrain[0], n = constrain[1]; i < n; i++)\n",
      "    {\n",
      "      if(!(i in this[type])) return false;\n",
      "    }\n",
      "\n",
      "    return true;\n",
      "\n",
      "  },\n",
      "\n",
      "\n",
      "  /**\n",
      "   */\n",
      "\n",
      "  _parse: function() {\n",
      "\n",
      "    var aliases = CronTime.aliases,\n",
      "    source = this.source.replace(/[a-z]{1,3}/ig, function(alias){\n",
      "\n",
      "      alias = alias.toLowerCase();\n",
      "\n",
      "      if (alias in aliases) {\n",
      "        return aliases[alias];\n",
      "      }\n",
      "\n",
      "      throw new Error('Unknown alias: ' + alias);\n",
      "\n",
      "    }),\n",
      "    split = source.replace(/^\\s\\s*|\\s\\s*$/g, '').split(/\\s+/),\n",
      "    cur, len = 6;\n",
      "    \n",
      "    while (len--) {\n",
      "      cur = split[len] || '*';\n",
      "      this._parseField(cur, CronTime.map[len], CronTime.constraints[len]);\n",
      "    }\n",
      "\n",
      "  },\n",
      "\n",
      "  /**\n",
      "   */\n",
      "\n",
      "  _parseField: function(field, type, constraints) {\n",
      "\n",
      "    var rangePattern = /(\\d+?)(?:-(\\d+?))?(?:\\/(\\d+?))?(?:,|$)/g,\n",
      "    typeObj = this[type],\n",
      "    diff,\n",
      "    low = constraints[0],\n",
      "    high = constraints[1];\n",
      "\n",
      "    // * is a shortcut to [lower-upper] range\n",
      "    field = field.replace(/\\*/g,  low + '-' + high);\n",
      "\n",
      "    if (field.match(rangePattern)) {\n",
      "\n",
      "      field.replace(rangePattern, function($0, lower, upper, step) {\n",
      "\n",
      "                      step = parseInt(step) || 1;\n",
      "\n",
      "                      // Positive integer higher than constraints[0]\n",
      "                      lower = Math.max(low, ~~Math.abs(lower));\n",
      "\n",
      "                      // Positive integer lower than constraints[1]\n",
      "                      upper = upper ? Math.min(high, ~~Math.abs(upper)) : lower;\n",
      "\n",
      "                      // Count from the lower barrier to the upper\n",
      "                      pointer = lower;\n",
      "\n",
      "                      do {\n",
      "                          typeObj[pointer] = true\n",
      "                          pointer += step;\n",
      "                      } while(pointer <= upper);\n",
      "\n",
      "                    });\n",
      "\n",
      "    } else {\n",
      "\n",
      "      throw new Error('Field (' + field + ') cannot be parsed');\n",
      "\n",
      "    }\n",
      "\n",
      "  }\n",
      "};\n",
      "\n",
      "\n",
      "\n",
      "function CronJob(cronTime, onComplete) {\n",
      "\n",
      "  this._callbacks = [];\n",
      "  this.cronTime   = new CronTime(cronTime);\n",
      "\n",
      "  this.addCallback(onComplete);\n",
      "\n",
      "  this.start();\n",
      "}\n",
      "\n",
      "CronJob.prototype = {\n",
      "\n",
      "\n",
      "  /**\n",
      "   */\n",
      "\n",
      "  addCallback: function(callback) {\n",
      "\n",
      "    //only functions\n",
      "    if(typeof callback == 'function') this._callbacks.push(callback);\n",
      "  },\n",
      "\n",
      "  /**\n",
      "   */\n",
      "\n",
      "  _callback: function() {\n",
      "\n",
      "    for (var i = this._callbacks.length; i--;) { \n",
      "\n",
      "      //send this so the callback can call this.stop();\n",
      "      this._callbacks[i].call(this);\n",
      "    }\n",
      "  },\n",
      "\n",
      "\n",
      "  /**\n",
      "   */\n",
      "\n",
      "  start: function() {\n",
      "\n",
      "    if(this.running) return;\n",
      "    this.running = true;  \n",
      "\n",
      "\n",
      "    this._timeout = setTimeout(function(self)\n",
      "    {\n",
      "        \n",
      "      self.running = false;\n",
      "      \n",
      "      //start before calling back so the callbacks have the ability to stop the cron job\n",
      "      self.start();\n",
      "\n",
      "      self._callback();\n",
      "\n",
      "\n",
      "    }, this.cronTime.timeout(), this);\n",
      "\n",
      "  },\n",
      "\n",
      "  /**\n",
      "   */\n",
      "\n",
      "\n",
      "  stop: function()\n",
      "  {\n",
      "    clearTimeout(this._timeout);\n",
      "  }\n",
      "\n",
      "};\n",
      "\n",
      "\n",
      "exports.job = function(cronTime, onComplete)\n",
      "{\n",
      "  return new CronJob(cronTime, onComplete);\n",
      "}\n",
      "\n",
      "exports.time = function(cronTime)\n",
      "{\n",
      "    return new CronTime(cronTime);\n",
      "}\n",
      "\n",
      "exports.sendAt = function(cronTime)\n",
      "{\n",
      "    return exports.time(cronTime).sendAt();\n",
      "}\n",
      "\n",
      "exports.timeout = function(cronTime)\n",
      "{\n",
      "    return exports.time(cronTime).timeout();\n",
      "}\n",
      "\n",
      "\n",
      "exports.CronJob = CronJob;\n",
      "exports.CronTime = CronTime;\n",
      "\n",
      "\n"
     ]
    }
   ],
   "source": [
    "print(modifications[shared_hash][0].source_code)"
   ]
  },
  {
   "cell_type": "code",
   "execution_count": 46,
   "metadata": {},
   "outputs": [
    {
     "data": {
      "text/plain": [
       "[<pydriller.domain.commit.Method at 0x7f71acf980f0>,\n",
       " <pydriller.domain.commit.Method at 0x7f71acf98b70>,\n",
       " <pydriller.domain.commit.Method at 0x7f71acf98ef0>,\n",
       " <pydriller.domain.commit.Method at 0x7f71acf98160>,\n",
       " <pydriller.domain.commit.Method at 0x7f71acf98d68>,\n",
       " <pydriller.domain.commit.Method at 0x7f71acf98438>,\n",
       " <pydriller.domain.commit.Method at 0x7f71acf98208>,\n",
       " <pydriller.domain.commit.Method at 0x7f71acf98a90>,\n",
       " <pydriller.domain.commit.Method at 0x7f71acf98f98>,\n",
       " <pydriller.domain.commit.Method at 0x7f71acf98860>,\n",
       " <pydriller.domain.commit.Method at 0x7f71ad73abe0>,\n",
       " <pydriller.domain.commit.Method at 0x7f71ad73a438>,\n",
       " <pydriller.domain.commit.Method at 0x7f71ad73aa90>,\n",
       " <pydriller.domain.commit.Method at 0x7f71ad73a940>,\n",
       " <pydriller.domain.commit.Method at 0x7f71ad73acc0>,\n",
       " <pydriller.domain.commit.Method at 0x7f71ad73aeb8>,\n",
       " <pydriller.domain.commit.Method at 0x7f71ad73aa20>,\n",
       " <pydriller.domain.commit.Method at 0x7f71ad73ae10>,\n",
       " <pydriller.domain.commit.Method at 0x7f71ad73a128>,\n",
       " <pydriller.domain.commit.Method at 0x7f71ad73ac18>,\n",
       " <pydriller.domain.commit.Method at 0x7f71ad73a748>]"
      ]
     },
     "execution_count": 46,
     "metadata": {},
     "output_type": "execute_result"
    }
   ],
   "source": [
    "modifications[shared_hash][0].methods"
   ]
  },
  {
   "cell_type": "code",
   "execution_count": 47,
   "metadata": {},
   "outputs": [
    {
     "data": {
      "text/plain": [
       "['complexity',\n",
       " 'end_line',\n",
       " 'fan_in',\n",
       " 'fan_out',\n",
       " 'filename',\n",
       " 'general_fan_out',\n",
       " 'length',\n",
       " 'long_name',\n",
       " 'name',\n",
       " 'nloc',\n",
       " 'parameters',\n",
       " 'start_line',\n",
       " 'token_count',\n",
       " 'top_nesting_level']"
      ]
     },
     "execution_count": 47,
     "metadata": {},
     "output_type": "execute_result"
    }
   ],
   "source": [
    "[attr for attr in dir(modifications[shared_hash][0].methods[0]) if not attr.startswith(\"_\")]"
   ]
  },
  {
   "cell_type": "code",
   "execution_count": 48,
   "metadata": {},
   "outputs": [
    {
     "data": {
      "text/plain": [
       "[1, 9, 1, 1, 1, 3, 3, 2, 3, 4, 2, 1, 2, 2, 1, 2, 1, 1, 1, 1, 1]"
      ]
     },
     "execution_count": 48,
     "metadata": {},
     "output_type": "execute_result"
    }
   ],
   "source": [
    "[method.complexity for method in modifications[shared_hash][0].methods]"
   ]
  },
  {
   "cell_type": "code",
   "execution_count": 65,
   "metadata": {},
   "outputs": [
    {
     "data": {
      "text/plain": [
       "[('cron.js', 'CronTime ( time )', 'CronTime', ['time']),\n",
       " ('cron.js', 'sendAt ( start )', 'sendAt', ['start']),\n",
       " ('cron.js', 'timeout ( )', 'timeout', []),\n",
       " ('cron.js', 'toString ( )', 'toString', []),\n",
       " ('cron.js', 'toJSON ( )', 'toJSON', []),\n",
       " ('cron.js', \"'_wcOrAll' ( type )\", \"'_wcOrAll'\", ['type']),\n",
       " ('cron.js', \"'_hasAll' ( type )\", \"'_hasAll'\", ['type']),\n",
       " ('cron.js', 'function ( alias )', 'function', ['alias']),\n",
       " ('cron.js', '_parse ( )', '_parse', []),\n",
       " ('cron.js',\n",
       "  'function ( $0 , lower , upper , step )',\n",
       "  'function',\n",
       "  ['$0', 'lower', 'upper', 'step']),\n",
       " ('cron.js',\n",
       "  '_parseField ( field , type , constraints )',\n",
       "  '_parseField',\n",
       "  ['field', 'type', 'constraints']),\n",
       " ('cron.js',\n",
       "  'CronJob ( cronTime , onComplete )',\n",
       "  'CronJob',\n",
       "  ['cronTime', 'onComplete']),\n",
       " ('cron.js', 'addCallback ( callback )', 'addCallback', ['callback']),\n",
       " ('cron.js', '_callback ( )', '_callback', []),\n",
       " ('cron.js', 'function ( self )', 'function', ['self']),\n",
       " ('cron.js', 'start ( )', 'start', []),\n",
       " ('cron.js', 'stop ( )', 'stop', []),\n",
       " ('cron.js',\n",
       "  'exports.job ( cronTime , onComplete )',\n",
       "  'exports.job',\n",
       "  ['cronTime', 'onComplete']),\n",
       " ('cron.js', 'exports.time ( cronTime )', 'exports.time', ['cronTime']),\n",
       " ('cron.js', 'exports.sendAt ( cronTime )', 'exports.sendAt', ['cronTime']),\n",
       " ('cron.js', 'exports.timeout ( cronTime )', 'exports.timeout', ['cronTime'])]"
      ]
     },
     "execution_count": 65,
     "metadata": {},
     "output_type": "execute_result"
    }
   ],
   "source": [
    "[(method.filename, method.long_name, method.name, method.parameters) for method in modifications[shared_hash][0].methods]"
   ]
  },
  {
   "cell_type": "code",
   "execution_count": 53,
   "metadata": {},
   "outputs": [
    {
     "data": {
      "text/plain": [
       "[(14, 27),\n",
       " (43, 98),\n",
       " (104, 107),\n",
       " (113, 121),\n",
       " (126, 129),\n",
       " (135, 146),\n",
       " (151, 162),\n",
       " (171, 181),\n",
       " (168, 190),\n",
       " (208, 226),\n",
       " (195, 234),\n",
       " (239, 247),\n",
       " (255, 259),\n",
       " (264, 271),\n",
       " (283, 294),\n",
       " (277, 296),\n",
       " (302, 305),\n",
       " (310, 313),\n",
       " (315, 318),\n",
       " (320, 323),\n",
       " (325, 328)]"
      ]
     },
     "execution_count": 53,
     "metadata": {},
     "output_type": "execute_result"
    }
   ],
   "source": [
    "[(method.start_line, method.end_line) for method in modifications[shared_hash][0].methods]"
   ]
  },
  {
   "cell_type": "code",
   "execution_count": 55,
   "metadata": {},
   "outputs": [
    {
     "data": {
      "text/plain": [
       "[(0, 0),\n",
       " (0, 0),\n",
       " (0, 0),\n",
       " (0, 0),\n",
       " (0, 0),\n",
       " (0, 0),\n",
       " (0, 0),\n",
       " (0, 0),\n",
       " (0, 0),\n",
       " (0, 0),\n",
       " (0, 0),\n",
       " (0, 0),\n",
       " (0, 0),\n",
       " (0, 0),\n",
       " (0, 0),\n",
       " (0, 0),\n",
       " (0, 0),\n",
       " (0, 0),\n",
       " (0, 0),\n",
       " (0, 0),\n",
       " (0, 0)]"
      ]
     },
     "execution_count": 55,
     "metadata": {},
     "output_type": "execute_result"
    }
   ],
   "source": [
    "[(method.fan_in, method.fan_out) for method in modifications[shared_hash][0].methods]"
   ]
  },
  {
   "cell_type": "markdown",
   "metadata": {},
   "source": [
    "(I have no idea what fan in and fan out is ¯\\\\\\_(ツ)_/¯)"
   ]
  },
  {
   "cell_type": "code",
   "execution_count": 52,
   "metadata": {},
   "outputs": [
    {
     "data": {
      "text/plain": [
       "[10, 43, 4, 9, 4, 10, 9, 7, 10, 10, 13, 6, 3, 5, 6, 5, 4, 4, 4, 4, 4]"
      ]
     },
     "execution_count": 52,
     "metadata": {},
     "output_type": "execute_result"
    }
   ],
   "source": [
    "[method.nloc for method in modifications[shared_hash][0].methods]"
   ]
  },
  {
   "cell_type": "code",
   "execution_count": 58,
   "metadata": {},
   "outputs": [
    {
     "data": {
      "text/plain": [
       "[59,\n",
       " 304,\n",
       " 28,\n",
       " 54,\n",
       " 11,\n",
       " 50,\n",
       " 66,\n",
       " 36,\n",
       " 86,\n",
       " 84,\n",
       " 89,\n",
       " 37,\n",
       " 21,\n",
       " 33,\n",
       " 23,\n",
       " 38,\n",
       " 11,\n",
       " 16,\n",
       " 12,\n",
       " 17,\n",
       " 17]"
      ]
     },
     "execution_count": 58,
     "metadata": {},
     "output_type": "execute_result"
    }
   ],
   "source": [
    "[method.token_count for method in modifications[shared_hash][0].methods]"
   ]
  },
  {
   "cell_type": "code",
   "execution_count": 59,
   "metadata": {},
   "outputs": [
    {
     "data": {
      "text/plain": [
       "[0, 0, 0, 0, 0, 0, 0, 0, 0, 0, 0, 0, 0, 0, 0, 0, 0, 0, 0, 0, 0]"
      ]
     },
     "execution_count": 59,
     "metadata": {},
     "output_type": "execute_result"
    }
   ],
   "source": [
    "[method.top_nesting_level for method in modifications[shared_hash][0].methods]"
   ]
  }
 ],
 "metadata": {
  "kernelspec": {
   "display_name": "Python 3",
   "language": "python",
   "name": "python3"
  },
  "language_info": {
   "codemirror_mode": {
    "name": "ipython",
    "version": 3
   },
   "file_extension": ".py",
   "mimetype": "text/x-python",
   "name": "python",
   "nbconvert_exporter": "python",
   "pygments_lexer": "ipython3",
   "version": "3.6.6"
  }
 },
 "nbformat": 4,
 "nbformat_minor": 4
}
