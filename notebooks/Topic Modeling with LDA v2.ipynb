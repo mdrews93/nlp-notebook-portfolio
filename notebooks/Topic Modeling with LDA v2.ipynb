{
 "cells": [
  {
   "cell_type": "markdown",
   "metadata": {},
   "source": [
    "# Overview\n",
    "The previous attempt at topic modeling via LDA ultimately used the cosine similarity between documents and the topic vectors and then assigned each document to the topic that resulted in the highest similarity. The .csv file that displayed the documents and their assigned topic ID showed the documents in decreasing order of the simiarity between the document and the topic. However, when showing these documents, the highest scored documents may not be related and this can damage the credibility of the topic modeling from the user's perspective. To improve the presentation of the top documents in the cluster, once the documents have been assigned to their cluster, the centroid document will be found and then the top `N` documents will be the ones closest to the centroid. This will refine the topics in a way that hones in on a particular subset of documents within the topic that are particularly similar.\n",
    "\n",
    "### Advantages\n",
    "* Improved perceived coherence between topic documents\n",
    "    * Top `n-grams` can be retrieved from just these top documents so they are also relevant to what is displayed\n",
    "* Relatively easy to implement given the current approach\n",
    "\n",
    "### Disadvantages\n",
    "* This essentially finds the tightest subcluster within a topic and without further modification, the other subclusters will be ignored\n",
    "* The top key terms for a topic may include terms from the neglected subclusters, potentially causing some confusion\n",
    "    * Perhaps the key terms can be modified to just include those that are present in the top documents?\n",
    "    \n",
    "    \n",
    "## Approach\n",
    "The approach will be the same as the previous experiment in `Topic Modeling with LDA`, but a new function will be added that finds the centroid document within a list of documents and returns the top `N` documents closest to the centroid (including the centroid). Furthermore, the top n-grams and \"Best Sentence\" will be computed from that new set of top documents. The code from the previous notebook will be restructed into a `LDATopicModeler` class to closer resemble the other notebook that uses K-means. \n",
    "\n",
    "### Potential improvements\n",
    "* Instead of a hard cutoff of `N` documents, add all documents within some threshold distance. This will allow all of the documents that are close to the centroid to be added and topics can have varying sizes. \n",
    "    "
   ]
  },
  {
   "cell_type": "code",
   "execution_count": 1,
   "metadata": {},
   "outputs": [
    {
     "name": "stdout",
     "output_type": "stream",
     "text": [
      "[nltk_data] Downloading package punkt to /home/michael/nltk_data...\n",
      "[nltk_data]   Package punkt is already up-to-date!\n",
      "Populating the interactive namespace from numpy and matplotlib\n"
     ]
    }
   ],
   "source": [
    "import os\n",
    "import sys\n",
    "module_path = os.path.abspath(os.path.join('..'))\n",
    "if module_path not in sys.path:\n",
    "    sys.path.append(module_path)\n",
    "    \n",
    "import scripts.corpora as corpora\n",
    "from topic_modeling.lda_helpers import get_top_words, get_doc_counts_per_topic,\\\n",
    "                                       get_top_topics, get_top_n_grams\n",
    "from topic_modeling.lda_helpers import get_topic_centroid_idx, get_closest_docs_indices, keep_top_n_features\n",
    "from topic_modeling.naming import find_best_sentence\n",
    "\n",
    "import pandas as pd\n",
    "import matplotlib.pyplot as plt\n",
    "%matplotlib inline\n",
    "plt.style.use('fivethirtyeight')\n",
    "%pylab inline\n",
    "pylab.rcParams['figure.figsize'] = (25, 6)\n",
    "\n",
    "from sklearn.feature_extraction.text import CountVectorizer, TfidfVectorizer\n",
    "from sklearn.decomposition import LatentDirichletAllocation\n",
    "import numpy as np\n",
    "from collections import defaultdict\n",
    "\n",
    "from time import time\n",
    "\n",
    "import numpy as np\n"
   ]
  },
  {
   "cell_type": "code",
   "execution_count": 2,
   "metadata": {},
   "outputs": [],
   "source": [
    "MIN_DF = 1\n",
    "MAX_DF = 0.1\n",
    "N_JOBS = -1   # use all available CPUs\n",
    "\n",
    "class LDATopicModeler:\n",
    "\n",
    "    # epsilon is the minimum similarity for including a document\n",
    "    def __init__(self, corpus, n_topics, epsilon=0, max_features=None, key=None):\n",
    "        if not key:\n",
    "            key = lambda x: x\n",
    "        self.corpus = corpus\n",
    "        self.n_topics = n_topics\n",
    "        self.epsilon = epsilon\n",
    "        self.key = key\n",
    "        self.max_features = max_features\n",
    "        self.bodies = [self.key(document) for document in self.corpus]\n",
    "        self.topic_bodies = None\n",
    "        self.model, self.vectorizer = None, None\n",
    "        self.topic_df = None\n",
    "        self.document_df = None\n",
    "\n",
    "    #DONE\n",
    "    def run(self):\n",
    "        print(\"Starting training for {} topics.\".format(self.n_topics))\n",
    "        \n",
    "        start = time()\n",
    "        vectors = self.vectorize(self.max_features)\n",
    "        print(\"Vectors extracted in %0.3fs.\" % (time() - start))\n",
    "        \n",
    "        t0 = time()\n",
    "        self.model = LatentDirichletAllocation(n_components=self.n_topics, \n",
    "                                               max_iter=5,\n",
    "                                               learning_method='online',\n",
    "                                               learning_offset=50.,\n",
    "                                               random_state=0,\n",
    "                                               n_jobs=N_JOBS,\n",
    "                                              ).fit(vectors)\n",
    "        # Normalize topic vectors\n",
    "        self.model.components_ = self.model.components_ / self.model.components_.sum(axis=1)[:, np.newaxis]\n",
    "        \n",
    "        # keep top 25% of features\n",
    "        num_features_to_keep = math.ceil(self.model.components_.shape[1]/4)\n",
    "        self.model.components_ = keep_top_n_features(self.model.components_, num_features_to_keep)\n",
    "        print(\"Model fit in  %0.3fs.\" % (time() - t0))\n",
    "       \n",
    "        t0 = time()\n",
    "        self.topic_df = self.create_topic_df()\n",
    "        print(\"Topic dataframe created in  %0.3fs.\" % (time() - t0))\n",
    "        \n",
    "        t0 = time()\n",
    "        self.document_df = self.create_document_df()\n",
    "        print(\"Document dataframe created in  %0.3fs.\" % (time() - t0))\n",
    "        \n",
    "        t0 = time()\n",
    "        self.add_top_n_grams()\n",
    "        print(\"Top n-grams computed in  %0.3fs.\" % (time() - t0))\n",
    "        \n",
    "        self.add_best_sentences()\n",
    "        print(\"Process completed in  %0.3fs.\" % (time() - start))\n",
    "\n",
    "    #DONE\n",
    "    def vectorize(self, max_features):\n",
    "        self.vectorizer = CountVectorizer(max_df=MAX_DF, min_df=MIN_DF,\n",
    "                                          max_features=max_features,\n",
    "                                          stop_words='english'\n",
    "                                         )      \n",
    "        vectors = self.vectorizer.fit_transform(self.bodies)\n",
    "        return vectors\n",
    "    \n",
    "    \n",
    "    def create_topic_df(self, num_top_words=5, verbose=False):\n",
    "        tf_feature_names = self.vectorizer.get_feature_names()\n",
    "        top_words = get_top_words(self.model, tf_feature_names, num_top_words)\n",
    "        \n",
    "        if verbose:\n",
    "            for topic_idx, words in enumerate(top_words):\n",
    "                print(\"Topic #{}: {}\".format(topic_idx, words))\n",
    "        \n",
    "        sizes = get_doc_counts_per_topic(self.bodies, \n",
    "                                         self.model, \n",
    "                                         self.vectorizer, \n",
    "                                         hard_clustering=True)\n",
    "        #plot_doc_counts(sizes)\n",
    "        return pd.DataFrame({\"Key terms\": top_words,\n",
    "                             \"Size\": [val for _, val in sorted(sizes.items())]})\n",
    "    \n",
    "    \n",
    "    def create_document_df(self):\n",
    "\n",
    "        ranked_bodies = []\n",
    "        ranked_scores = []\n",
    "        ranked_topic_ids = []\n",
    "        \n",
    "        self.topic_bodies = {}\n",
    "        self.topic_centroids = {}\n",
    "        for idx in range(self.n_topics):\n",
    "            self.topic_bodies[idx] = []\n",
    "            \n",
    "        for body in self.bodies:\n",
    "            topic, scores = get_top_topics(body, self.model, self.vectorizer, hard_clustering=True)\n",
    "            self.topic_bodies[topic[0]].append(body)\n",
    "            \n",
    "        for topic_idx, bodies in self.topic_bodies.items():\n",
    "            try:\n",
    "                tdm = TfidfVectorizer(stop_words='english').fit_transform(bodies)\n",
    "                centroid_idx = get_topic_centroid_idx(tdm)\n",
    "                ranked_indices, scores = get_closest_docs_indices(tdm, centroid_idx)\n",
    "                ranked_bodies.extend([bodies[i] for i in ranked_indices[0]])\n",
    "                ranked_scores.extend([(-scores[0][i]) for i in ranked_indices[0]])\n",
    "                ranked_topic_ids.extend([topic_idx]*len(bodies))\n",
    "            except:\n",
    "                pass\n",
    "\n",
    "        document_df = pd.DataFrame(\n",
    "                                {\"Topic ID\": ranked_topic_ids,\n",
    "                                 \"body\": ranked_bodies,\n",
    "                                 \"Score\": ranked_scores\n",
    "                                })\n",
    "        return document_df\n",
    "    \n",
    "    def add_top_n_grams(self):\n",
    "\n",
    "        top_1_grams = []\n",
    "        top_2_grams = []\n",
    "        top_3_grams = []\n",
    "        for topic_idx in range(self.n_topics):          \n",
    "            bodies = self.document_df[\\\n",
    "                                      (self.document_df[\"Topic ID\"]==topic_idx) & \n",
    "                                      (self.document_df[\"Score\"]>self.epsilon)\\\n",
    "                                     ][\"body\"].tolist()\n",
    "            top_1_grams.append(get_top_n_grams(bodies, 1, 5))\n",
    "            top_2_grams.append(get_top_n_grams(bodies, 2, 5))\n",
    "            top_3_grams.append(get_top_n_grams(bodies, 3, 5))\n",
    "\n",
    "        self.topic_df[\"Top 1-grams\"] = top_1_grams\n",
    "        self.topic_df[\"Top 2-grams\"] = top_2_grams\n",
    "        self.topic_df[\"Top 3-grams\"] = top_3_grams\n",
    "        \n",
    "    def add_best_sentences(self):\n",
    "        #get best sentence\n",
    "\n",
    "        best_sentences = {}\n",
    "        for idx in range(self.n_topics):\n",
    "            best_sentences[idx] = \"\"\n",
    "        for topic_idx in range(self.n_topics):\n",
    "            try: \n",
    "                top = self.document_df[(self.document_df[\"Topic ID\"]==topic_idx) &\n",
    "                                        (self.document_df[\"Score\"]>=.99)][\"body\"].tolist()[0]\n",
    "                best_sentences[topic_idx] = top\n",
    "            \n",
    "            except Exception as err:\n",
    "                print(\"Failed for topic {}: {}\".format(topic_idx, err))\n",
    "\n",
    "        self.topic_df[\"Best sentence\"] = best_sentences.values()\n",
    "\n",
    "        \n",
    "def export_documents(modeler, directory):\n",
    "    modeler.document_df = modeler.document_df[[\"Topic ID\", \"Score\", \"body\"]]\n",
    "    modeler.document_df.to_csv(directory + \"documents-LDA.csv\", index=False)\n",
    "    \n",
    "def export_topics(modeler, directory):\n",
    "    modeler.topic_df.index.name = 'Topic ID'\n",
    "    modeler.topic_df.to_csv(directory+\"topics-LDA.csv\")"
   ]
  },
  {
   "cell_type": "markdown",
   "metadata": {},
   "source": [
    "## Input Data"
   ]
  },
  {
   "cell_type": "code",
   "execution_count": 3,
   "metadata": {},
   "outputs": [],
   "source": [
    "last_week = corpora.load('../corpora/vmware-last-week')\n",
    "last_month = corpora.load('../corpora/vmware-last-month')\n",
    "last_six_months = corpora.load('../corpora/vmware-last-six-months')\n",
    "vsphere_65 = corpora.load('../corpora/vsphere-6.5-last-month')"
   ]
  },
  {
   "cell_type": "code",
   "execution_count": 4,
   "metadata": {},
   "outputs": [],
   "source": [
    "def show_count_histogram(modeler, title, bins=100):\n",
    "    labels = modeler.document_df[\"Topic ID\"].tolist()\n",
    "    plt.hist([labels.count(n) for n in range(modeler.n_topics)], bins=bins, color='grey')\n",
    "    plt.title(title)\n",
    "    plt.xlabel('Number of Searches')\n",
    "    plt.show()"
   ]
  },
  {
   "cell_type": "markdown",
   "metadata": {},
   "source": [
    "## Vsphere 6.5 Last Month 10 Topics"
   ]
  },
  {
   "cell_type": "code",
   "execution_count": 5,
   "metadata": {},
   "outputs": [
    {
     "name": "stdout",
     "output_type": "stream",
     "text": [
      "Starting training for 10 topics.\n",
      "Vectors extracted in 0.097s.\n",
      "Model fit in  7.488s.\n",
      "Topic dataframe created in  8.589s.\n",
      "Document dataframe created in  8.701s.\n",
      "Top n-grams computed in  0.729s.\n",
      "Process completed in  25.621s.\n"
     ]
    }
   ],
   "source": [
    "modeler = LDATopicModeler(vsphere_65, 10, key=lambda search: search.body)\n",
    "modeler.run()"
   ]
  },
  {
   "cell_type": "code",
   "execution_count": 6,
   "metadata": {},
   "outputs": [
    {
     "data": {
      "image/png": "[encoded data removed]",
      "text/plain": [
       "<Figure size 432x288 with 1 Axes>"
      ]
     },
     "metadata": {},
     "output_type": "display_data"
    }
   ],
   "source": [
    "show_count_histogram(modeler, \"vSphere Last Month, 10 Topics\")"
   ]
  },
  {
   "cell_type": "code",
   "execution_count": 7,
   "metadata": {},
   "outputs": [
    {
     "data": {
      "text/html": [
       "<div>\n",
       "<style scoped>\n",
       "    .dataframe tbody tr th:only-of-type {\n",
       "        vertical-align: middle;\n",
       "    }\n",
       "\n",
       "    .dataframe tbody tr th {\n",
       "        vertical-align: top;\n",
       "    }\n",
       "\n",
       "    .dataframe thead tr th {\n",
       "        text-align: left;\n",
       "    }\n",
       "\n",
       "    .dataframe thead tr:last-of-type th {\n",
       "        text-align: right;\n",
       "    }\n",
       "</style>\n",
       "<table border=\"1\" class=\"dataframe\">\n",
       "  <thead>\n",
       "    <tr>\n",
       "      <th></th>\n",
       "      <th>body</th>\n",
       "    </tr>\n",
       "    <tr>\n",
       "      <th></th>\n",
       "      <th>count</th>\n",
       "    </tr>\n",
       "    <tr>\n",
       "      <th>Topic ID</th>\n",
       "      <th></th>\n",
       "    </tr>\n",
       "  </thead>\n",
       "  <tbody>\n",
       "    <tr>\n",
       "      <th>0</th>\n",
       "      <td>19</td>\n",
       "    </tr>\n",
       "    <tr>\n",
       "      <th>1</th>\n",
       "      <td>32</td>\n",
       "    </tr>\n",
       "    <tr>\n",
       "      <th>2</th>\n",
       "      <td>8</td>\n",
       "    </tr>\n",
       "    <tr>\n",
       "      <th>3</th>\n",
       "      <td>57</td>\n",
       "    </tr>\n",
       "    <tr>\n",
       "      <th>4</th>\n",
       "      <td>805</td>\n",
       "    </tr>\n",
       "    <tr>\n",
       "      <th>5</th>\n",
       "      <td>49</td>\n",
       "    </tr>\n",
       "    <tr>\n",
       "      <th>6</th>\n",
       "      <td>59</td>\n",
       "    </tr>\n",
       "    <tr>\n",
       "      <th>7</th>\n",
       "      <td>38</td>\n",
       "    </tr>\n",
       "    <tr>\n",
       "      <th>8</th>\n",
       "      <td>21</td>\n",
       "    </tr>\n",
       "    <tr>\n",
       "      <th>9</th>\n",
       "      <td>10</td>\n",
       "    </tr>\n",
       "  </tbody>\n",
       "</table>\n",
       "</div>"
      ],
      "text/plain": [
       "          body\n",
       "         count\n",
       "Topic ID      \n",
       "0           19\n",
       "1           32\n",
       "2            8\n",
       "3           57\n",
       "4          805\n",
       "5           49\n",
       "6           59\n",
       "7           38\n",
       "8           21\n",
       "9           10"
      ]
     },
     "execution_count": 7,
     "metadata": {},
     "output_type": "execute_result"
    }
   ],
   "source": [
    "modeler.document_df[modeler.document_df[\"Score\"]>0][[\"Topic ID\", \"body\"]].groupby([\"Topic ID\"]).agg(['count'])"
   ]
  },
  {
   "cell_type": "code",
   "execution_count": 8,
   "metadata": {},
   "outputs": [
    {
     "data": {
      "text/plain": [
       "1098"
      ]
     },
     "execution_count": 8,
     "metadata": {},
     "output_type": "execute_result"
    }
   ],
   "source": [
    "len(modeler.document_df[modeler.document_df[\"Score\"]>0])"
   ]
  },
  {
   "cell_type": "code",
   "execution_count": 9,
   "metadata": {},
   "outputs": [
    {
     "data": {
      "text/html": [
       "<div>\n",
       "<style scoped>\n",
       "    .dataframe tbody tr th:only-of-type {\n",
       "        vertical-align: middle;\n",
       "    }\n",
       "\n",
       "    .dataframe tbody tr th {\n",
       "        vertical-align: top;\n",
       "    }\n",
       "\n",
       "    .dataframe thead th {\n",
       "        text-align: right;\n",
       "    }\n",
       "</style>\n",
       "<table border=\"1\" class=\"dataframe\">\n",
       "  <thead>\n",
       "    <tr style=\"text-align: right;\">\n",
       "      <th></th>\n",
       "      <th>Key terms</th>\n",
       "      <th>Size</th>\n",
       "      <th>Top 1-grams</th>\n",
       "      <th>Top 2-grams</th>\n",
       "      <th>Top 3-grams</th>\n",
       "      <th>Best sentence</th>\n",
       "    </tr>\n",
       "  </thead>\n",
       "  <tbody>\n",
       "    <tr>\n",
       "      <th>0</th>\n",
       "      <td>usr lib downloads tls packages</td>\n",
       "      <td>26</td>\n",
       "      <td>[host, tls, error, scratch, esxi]</td>\n",
       "      <td>[syncronize host, esxi host, usr lib, scratch ...</td>\n",
       "      <td>[profile applying syslog, host profile applyin...</td>\n",
       "      <td>Getting alarm on ESXi server\\n\\nAlarm Definiti...</td>\n",
       "    </tr>\n",
       "    <tr>\n",
       "      <th>1</th>\n",
       "      <td>loading el backup v00 hostname</td>\n",
       "      <td>49</td>\n",
       "      <td>[vcenter, hosts, server, backup, disconnected]</td>\n",
       "      <td>[vcenter server, hosts disconnecting, host dis...</td>\n",
       "      <td>[vmware remote console, vcenter server reslovi...</td>\n",
       "      <td>Vcenter randomly stops communicating with host...</td>\n",
       "    </tr>\n",
       "    <tr>\n",
       "      <th>2</th>\n",
       "      <td>duplicate key mem virtualcenter insert</td>\n",
       "      <td>13</td>\n",
       "      <td>[esxi, loops, server, duplicate, vrops]</td>\n",
       "      <td>[esxi loops, duplicate datacenter, datacenter ...</td>\n",
       "      <td>[duplicate datacenter vrops, enable configure ...</td>\n",
       "      <td>Hi, after migrating from vcenter server 5.5 on...</td>\n",
       "    </tr>\n",
       "    <tr>\n",
       "      <th>3</th>\n",
       "      <td>screen purple dell hdd crash</td>\n",
       "      <td>89</td>\n",
       "      <td>[purple, screen, esxi, host, death]</td>\n",
       "      <td>[purple screen, screen death, vmware esxi, esx...</td>\n",
       "      <td>[purple screen death, esxi purple screen, got ...</td>\n",
       "      <td>ESXi 6.5 Purple Screen</td>\n",
       "    </tr>\n",
       "    <tr>\n",
       "      <th>4</th>\n",
       "      <td>failed cluster vsphere file vms</td>\n",
       "      <td>1082</td>\n",
       "      <td>[host, vcenter, vm, esxi, server]</td>\n",
       "      <td>[vcenter server, esxi host, need help, virtual...</td>\n",
       "      <td>[vcenter server appliance, kb vmware com, vsph...</td>\n",
       "      <td>Esxi host become unresponsive from the vcenter...</td>\n",
       "    </tr>\n",
       "    <tr>\n",
       "      <th>5</th>\n",
       "      <td>0x0 data device dev disk</td>\n",
       "      <td>72</td>\n",
       "      <td>[host, storage, data, disk, lost]</td>\n",
       "      <td>[lost connectivity, vmfs versions, storage con...</td>\n",
       "      <td>[oracle license vmware, lost access lun, usb d...</td>\n",
       "      <td>VMware ESXi, 6.5.0, 5310538 host is showing Is...</td>\n",
       "    </tr>\n",
       "    <tr>\n",
       "      <th>6</th>\n",
       "      <td>java org service web http</td>\n",
       "      <td>67</td>\n",
       "      <td>[service, vmware, vcenter, 503, connect]</td>\n",
       "      <td>[service unavailable, 503 service, failed conn...</td>\n",
       "      <td>[503 service unavailable, unavailable failed c...</td>\n",
       "      <td>I get this error when accessing vCenter via an...</td>\n",
       "    </tr>\n",
       "    <tr>\n",
       "      <th>7</th>\n",
       "      <td>2018 04 16 vmx 09</td>\n",
       "      <td>44</td>\n",
       "      <td>[2018, 04, error, host, warning]</td>\n",
       "      <td>[2018 04, 04 2018, vmx i125, originator 6876, ...</td>\n",
       "      <td>[originator 6876 sub, vmware certified warning...</td>\n",
       "      <td>Config: \\n- ESXi 6.5 build 7967591\\n- vCenter ...</td>\n",
       "    </tr>\n",
       "    <tr>\n",
       "      <th>8</th>\n",
       "      <td>test tasks bootbank create heartbeat</td>\n",
       "      <td>38</td>\n",
       "      <td>[test, testtest, case, need, storage]</td>\n",
       "      <td>[test test, test testtest, test case, alerts s...</td>\n",
       "      <td>[test test test, understand test mail, test ma...</td>\n",
       "      <td>Test</td>\n",
       "    </tr>\n",
       "    <tr>\n",
       "      <th>9</th>\n",
       "      <td>shared 18 6980 fsys beremote</td>\n",
       "      <td>14</td>\n",
       "      <td>[vm, shared, false, host, log]</td>\n",
       "      <td>[vm gpu, power vm, gpu passthrough, shared sto...</td>\n",
       "      <td>[vm gpu passthrough, power vm gpu, pulled log ...</td>\n",
       "      <td>Assistance moving vm from local disk to shared...</td>\n",
       "    </tr>\n",
       "  </tbody>\n",
       "</table>\n",
       "</div>"
      ],
      "text/plain": [
       "                                Key terms  Size  \\\n",
       "0          usr lib downloads tls packages    26   \n",
       "1          loading el backup v00 hostname    49   \n",
       "2  duplicate key mem virtualcenter insert    13   \n",
       "3            screen purple dell hdd crash    89   \n",
       "4         failed cluster vsphere file vms  1082   \n",
       "5                0x0 data device dev disk    72   \n",
       "6               java org service web http    67   \n",
       "7                       2018 04 16 vmx 09    44   \n",
       "8    test tasks bootbank create heartbeat    38   \n",
       "9            shared 18 6980 fsys beremote    14   \n",
       "\n",
       "                                      Top 1-grams  \\\n",
       "0               [host, tls, error, scratch, esxi]   \n",
       "1  [vcenter, hosts, server, backup, disconnected]   \n",
       "2         [esxi, loops, server, duplicate, vrops]   \n",
       "3             [purple, screen, esxi, host, death]   \n",
       "4               [host, vcenter, vm, esxi, server]   \n",
       "5               [host, storage, data, disk, lost]   \n",
       "6        [service, vmware, vcenter, 503, connect]   \n",
       "7                [2018, 04, error, host, warning]   \n",
       "8           [test, testtest, case, need, storage]   \n",
       "9                  [vm, shared, false, host, log]   \n",
       "\n",
       "                                         Top 2-grams  \\\n",
       "0  [syncronize host, esxi host, usr lib, scratch ...   \n",
       "1  [vcenter server, hosts disconnecting, host dis...   \n",
       "2  [esxi loops, duplicate datacenter, datacenter ...   \n",
       "3  [purple screen, screen death, vmware esxi, esx...   \n",
       "4  [vcenter server, esxi host, need help, virtual...   \n",
       "5  [lost connectivity, vmfs versions, storage con...   \n",
       "6  [service unavailable, 503 service, failed conn...   \n",
       "7  [2018 04, 04 2018, vmx i125, originator 6876, ...   \n",
       "8  [test test, test testtest, test case, alerts s...   \n",
       "9  [vm gpu, power vm, gpu passthrough, shared sto...   \n",
       "\n",
       "                                         Top 3-grams  \\\n",
       "0  [profile applying syslog, host profile applyin...   \n",
       "1  [vmware remote console, vcenter server reslovi...   \n",
       "2  [duplicate datacenter vrops, enable configure ...   \n",
       "3  [purple screen death, esxi purple screen, got ...   \n",
       "4  [vcenter server appliance, kb vmware com, vsph...   \n",
       "5  [oracle license vmware, lost access lun, usb d...   \n",
       "6  [503 service unavailable, unavailable failed c...   \n",
       "7  [originator 6876 sub, vmware certified warning...   \n",
       "8  [test test test, understand test mail, test ma...   \n",
       "9  [vm gpu passthrough, power vm gpu, pulled log ...   \n",
       "\n",
       "                                       Best sentence  \n",
       "0  Getting alarm on ESXi server\\n\\nAlarm Definiti...  \n",
       "1  Vcenter randomly stops communicating with host...  \n",
       "2  Hi, after migrating from vcenter server 5.5 on...  \n",
       "3                             ESXi 6.5 Purple Screen  \n",
       "4  Esxi host become unresponsive from the vcenter...  \n",
       "5  VMware ESXi, 6.5.0, 5310538 host is showing Is...  \n",
       "6  I get this error when accessing vCenter via an...  \n",
       "7  Config: \\n- ESXi 6.5 build 7967591\\n- vCenter ...  \n",
       "8                                               Test  \n",
       "9  Assistance moving vm from local disk to shared...  "
      ]
     },
     "execution_count": 9,
     "metadata": {},
     "output_type": "execute_result"
    }
   ],
   "source": [
    "modeler.topic_df"
   ]
  },
  {
   "cell_type": "code",
   "execution_count": 10,
   "metadata": {},
   "outputs": [],
   "source": [
    "output_directory = '../output/lda-v2-centroid-top/vsphere-10-topics/'\n",
    "try:\n",
    "    os.makedirs(output_directory)\n",
    "except:\n",
    "    pass\n",
    "export_topics(modeler, output_directory)\n",
    "export_documents(modeler, output_directory)"
   ]
  },
  {
   "cell_type": "markdown",
   "metadata": {},
   "source": [
    "## vSphere 6.5 Last Month 25 Topics"
   ]
  },
  {
   "cell_type": "code",
   "execution_count": 11,
   "metadata": {},
   "outputs": [
    {
     "name": "stdout",
     "output_type": "stream",
     "text": [
      "Starting training for 25 topics.\n",
      "Vectors extracted in 0.095s.\n",
      "Model fit in  13.624s.\n",
      "Topic dataframe created in  20.845s.\n",
      "Document dataframe created in  20.744s.\n",
      "Top n-grams computed in  0.766s.\n",
      "Process completed in  56.110s.\n"
     ]
    },
    {
     "data": {
      "image/png": "[encoded data removed]",
      "text/plain": [
       "<Figure size 432x288 with 1 Axes>"
      ]
     },
     "metadata": {},
     "output_type": "display_data"
    }
   ],
   "source": [
    "modeler = LDATopicModeler(vsphere_65, 25, key=lambda search: search.body)\n",
    "modeler.run()\n",
    "\n",
    "output_directory = '../output/lda-v2-centroid-top/vsphere-25-topics/'\n",
    "try:\n",
    "    os.makedirs(output_directory)\n",
    "except:\n",
    "    pass\n",
    "export_topics(modeler, output_directory)\n",
    "export_documents(modeler, output_directory)\n",
    "\n",
    "show_count_histogram(modeler, \"vSphere Last Month, 25 Topics\")"
   ]
  },
  {
   "cell_type": "markdown",
   "metadata": {},
   "source": [
    "## vSphere 6.5 Last Month 50 Topics"
   ]
  },
  {
   "cell_type": "code",
   "execution_count": 12,
   "metadata": {},
   "outputs": [
    {
     "name": "stdout",
     "output_type": "stream",
     "text": [
      "Starting training for 50 topics.\n",
      "Vectors extracted in 0.093s.\n",
      "Model fit in  21.529s.\n",
      "Topic dataframe created in  40.475s.\n",
      "Document dataframe created in  40.560s.\n",
      "Top n-grams computed in  0.880s.\n",
      "Failed for topic 16: list index out of range\n",
      "Failed for topic 23: list index out of range\n",
      "Failed for topic 47: list index out of range\n",
      "Process completed in  103.618s.\n"
     ]
    },
    {
     "data": {
      "image/png": "[encoded data removed]",
      "text/plain": [
       "<Figure size 432x288 with 1 Axes>"
      ]
     },
     "metadata": {},
     "output_type": "display_data"
    }
   ],
   "source": [
    "modeler = LDATopicModeler(vsphere_65, 50, key=lambda search: search.body)\n",
    "modeler.run()\n",
    "\n",
    "output_directory = '../output/lda-v2-centroid-top/vsphere-50-topics/'\n",
    "try:\n",
    "    os.makedirs(output_directory)\n",
    "except:\n",
    "    pass\n",
    "export_topics(modeler, output_directory)\n",
    "export_documents(modeler, output_directory)\n",
    "\n",
    "show_count_histogram(modeler, \"vSphere Last Month, 50 Topics\")"
   ]
  },
  {
   "cell_type": "markdown",
   "metadata": {},
   "source": [
    "## vSphere 6.5 Last Month 75 Topics"
   ]
  },
  {
   "cell_type": "code",
   "execution_count": 13,
   "metadata": {},
   "outputs": [
    {
     "name": "stdout",
     "output_type": "stream",
     "text": [
      "Starting training for 75 topics.\n",
      "Vectors extracted in 0.096s.\n",
      "Model fit in  31.600s.\n",
      "Topic dataframe created in  61.654s.\n",
      "Document dataframe created in  61.984s.\n",
      "Top n-grams computed in  1.089s.\n",
      "Failed for topic 3: list index out of range\n",
      "Failed for topic 15: list index out of range\n",
      "Failed for topic 24: list index out of range\n",
      "Failed for topic 27: list index out of range\n",
      "Failed for topic 35: list index out of range\n",
      "Failed for topic 53: list index out of range\n",
      "Failed for topic 54: list index out of range\n",
      "Failed for topic 55: list index out of range\n",
      "Failed for topic 57: list index out of range\n",
      "Failed for topic 63: list index out of range\n",
      "Failed for topic 65: list index out of range\n",
      "Failed for topic 67: list index out of range\n",
      "Failed for topic 71: list index out of range\n",
      "Process completed in  156.538s.\n"
     ]
    },
    {
     "data": {
      "image/png": "[encoded data removed]",
      "text/plain": [
       "<Figure size 432x288 with 1 Axes>"
      ]
     },
     "metadata": {},
     "output_type": "display_data"
    }
   ],
   "source": [
    "modeler = LDATopicModeler(vsphere_65, 75, key=lambda search: search.body)\n",
    "modeler.run()\n",
    "\n",
    "output_directory = '../output/lda-v2-centroid-top/vsphere-75-topics/'\n",
    "try:\n",
    "    os.makedirs(output_directory)\n",
    "except:\n",
    "    pass\n",
    "export_topics(modeler, output_directory)\n",
    "export_documents(modeler, output_directory)\n",
    "\n",
    "show_count_histogram(modeler, \"vSphere Last Month, 75 Topics\")"
   ]
  },
  {
   "cell_type": "markdown",
   "metadata": {},
   "source": [
    "## vSphere 6.5 Last Month 100 Topics"
   ]
  },
  {
   "cell_type": "code",
   "execution_count": 14,
   "metadata": {},
   "outputs": [
    {
     "name": "stdout",
     "output_type": "stream",
     "text": [
      "Starting training for 100 topics.\n",
      "Vectors extracted in 0.092s.\n",
      "Model fit in  43.480s.\n",
      "Topic dataframe created in  81.905s.\n",
      "Document dataframe created in  82.258s.\n",
      "Top n-grams computed in  1.074s.\n",
      "Failed for topic 2: list index out of range\n",
      "Failed for topic 7: list index out of range\n",
      "Failed for topic 8: list index out of range\n",
      "Failed for topic 12: list index out of range\n",
      "Failed for topic 13: list index out of range\n",
      "Failed for topic 21: list index out of range\n",
      "Failed for topic 25: list index out of range\n",
      "Failed for topic 27: list index out of range\n",
      "Failed for topic 30: list index out of range\n",
      "Failed for topic 31: list index out of range\n",
      "Failed for topic 37: list index out of range\n",
      "Failed for topic 41: list index out of range\n",
      "Failed for topic 42: list index out of range\n",
      "Failed for topic 46: list index out of range\n",
      "Failed for topic 49: list index out of range\n",
      "Failed for topic 50: list index out of range\n",
      "Failed for topic 52: list index out of range\n",
      "Failed for topic 54: list index out of range\n",
      "Failed for topic 59: list index out of range\n",
      "Failed for topic 60: list index out of range\n",
      "Failed for topic 67: list index out of range\n",
      "Failed for topic 69: list index out of range\n",
      "Failed for topic 73: list index out of range\n",
      "Failed for topic 75: list index out of range\n",
      "Failed for topic 79: list index out of range\n",
      "Failed for topic 85: list index out of range\n",
      "Failed for topic 90: list index out of range\n",
      "Failed for topic 93: list index out of range\n",
      "Failed for topic 95: list index out of range\n",
      "Failed for topic 98: list index out of range\n",
      "Process completed in  208.967s.\n"
     ]
    },
    {
     "data": {
      "image/png": "[encoded data removed]",
      "text/plain": [
       "<Figure size 432x288 with 1 Axes>"
      ]
     },
     "metadata": {},
     "output_type": "display_data"
    }
   ],
   "source": [
    "modeler = LDATopicModeler(vsphere_65, 100, key=lambda search: search.body)\n",
    "modeler.run()\n",
    "\n",
    "output_directory = '../output/lda-v2-centroid-top/vsphere-100-topics/'\n",
    "try:\n",
    "    os.makedirs(output_directory)\n",
    "except:\n",
    "    pass\n",
    "export_topics(modeler, output_directory)\n",
    "export_documents(modeler, output_directory)\n",
    "\n",
    "show_count_histogram(modeler, \"vSphere Last Month, 100 Topics\")"
   ]
  }
 ],
 "metadata": {
  "kernelspec": {
   "display_name": "Python 3",
   "language": "python",
   "name": "python3"
  },
  "language_info": {
   "codemirror_mode": {
    "name": "ipython",
    "version": 3
   },
   "file_extension": ".py",
   "mimetype": "text/x-python",
   "name": "python",
   "nbconvert_exporter": "python",
   "pygments_lexer": "ipython3",
   "version": "3.5.2"
  }
 },
 "nbformat": 4,
 "nbformat_minor": 2
}
