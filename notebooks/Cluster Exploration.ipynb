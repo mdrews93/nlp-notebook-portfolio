{
 "cells": [
  {
   "cell_type": "markdown",
   "metadata": {},
   "source": [
    "# Exploring Clusters"
   ]
  },
  {
   "cell_type": "markdown",
   "metadata": {},
   "source": [
    "## Overview\n",
    "This ticket covers manual exploration of the ticket clustering output. One of the important steps of topic modeling is taking a deep dive into the output clusters to do a sanity check and ensure that the resulting topics are sensible. Some of the important fields to look at will be the title, description, and any other fields that could give a sense of good clustering (like do all the issues in this cluster have the same label, for example).\n",
    "\n",
    "This exploration can also help us determine whether we need to increase/decrease the number of clusters in the algorithm. If a large cluster exists with more than one clear topic/focus then increasing the number of topics could split those up into more coherent clusters."
   ]
  },
  {
   "cell_type": "markdown",
   "metadata": {},
   "source": [
    "## Deliverables\n",
    "A new Jupyter notebook containing the exploration that shows the different ticket clusters, highlights some really good or really poor examples, and recommends any modifications to the clustering step (like adding/removing clusters)"
   ]
  },
  {
   "cell_type": "markdown",
   "metadata": {},
   "source": [
    "## Imports"
   ]
  },
  {
   "cell_type": "code",
   "execution_count": 68,
   "metadata": {},
   "outputs": [
    {
     "name": "stdout",
     "output_type": "stream",
     "text": [
      "Collecting gap-stat\n",
      "\u001b[?25l  Downloading https://files.pythonhosted.org/packages/cb/17/964d9b6525900e829220696b6743a8cedc229db5fc4deb1bf577f35017cd/gap_stat-1.7.1-cp36-cp36m-manylinux1_x86_64.whl (1.6MB)\n",
      "\u001b[K    100% |████████████████████████████████| 1.6MB 6.1MB/s ta 0:00:01\n",
      "\u001b[?25hRequirement already satisfied: numpy in /opt/conda/lib/python3.6/site-packages (from gap-stat) (1.17.4)\n",
      "Requirement already satisfied: scipy in /opt/conda/lib/python3.6/site-packages (from gap-stat) (1.3.2)\n",
      "Requirement already satisfied: pandas in /opt/conda/lib/python3.6/site-packages (from gap-stat) (0.25.3)\n",
      "Requirement already satisfied: pytz>=2017.2 in /opt/conda/lib/python3.6/site-packages (from pandas->gap-stat) (2018.6)\n",
      "Requirement already satisfied: python-dateutil>=2.6.1 in /opt/conda/lib/python3.6/site-packages (from pandas->gap-stat) (2.7.4)\n",
      "Requirement already satisfied: six>=1.5 in /opt/conda/lib/python3.6/site-packages (from python-dateutil>=2.6.1->pandas->gap-stat) (1.13.0)\n",
      "Installing collected packages: gap-stat\n",
      "Successfully installed gap-stat-1.7.1\n"
     ]
    }
   ],
   "source": [
    "!pip install gap-stat\n",
    "!pip install yellowbrick --user\n",
    "!pip install OpenEnsembles"
   ]
  },
  {
   "cell_type": "code",
   "execution_count": 230,
   "metadata": {},
   "outputs": [],
   "source": [
    "import re\n",
    "\n",
    "from it_topic_naming import ITTopicNamer\n",
    "import pandas as pd\n",
    "import numpy as np\n",
    "from sklearn_pandas import DataFrameMapper\n",
    "from sklearn.cluster import KMeans\n",
    "from sklearn import metrics, pipeline, preprocessing\n",
    "from sklearn.feature_extraction.text import CountVectorizer, TfidfTransformer\n",
    "from sklearn.decomposition import PCA\n",
    "import matplotlib.pyplot as plt\n",
    "from gap_statistic import OptimalK\n",
    "from yellowbrick.cluster import KElbowVisualizer\n",
    "import networkx as nx\n",
    "from networkxgmml import XGMMLReader\n",
    "from collections import defaultdict\n",
    "import openensembles as oe"
   ]
  },
  {
   "cell_type": "markdown",
   "metadata": {},
   "source": [
    "# Import Data"
   ]
  },
  {
   "cell_type": "markdown",
   "metadata": {},
   "source": [
    "## ```repo_graph```"
   ]
  },
  {
   "cell_type": "code",
   "execution_count": 143,
   "metadata": {},
   "outputs": [],
   "source": [
    "def get_repo_graph(filename):\n",
    "    with open(filename, \"rb\") as graph_file:\n",
    "        return XGMMLReader(graph_file) \n",
    "\n",
    "repo_graph = get_repo_graph(\"data/12_02_graph.xgmml\")"
   ]
  },
  {
   "cell_type": "code",
   "execution_count": 144,
   "metadata": {},
   "outputs": [
    {
     "name": "stdout",
     "output_type": "stream",
     "text": [
      "Name: \n",
      "Type: DiGraph\n",
      "Number of nodes: 9566\n",
      "Number of edges: 28250\n",
      "Average in degree:   2.9532\n",
      "Average out degree:   2.9532\n"
     ]
    }
   ],
   "source": [
    "print(nx.info(repo_graph))"
   ]
  },
  {
   "cell_type": "markdown",
   "metadata": {},
   "source": [
    "## ```repo_df```"
   ]
  },
  {
   "cell_type": "code",
   "execution_count": 49,
   "metadata": {},
   "outputs": [],
   "source": [
    "repo_df = pd.read_pickle(\"data/all_repo_df\")"
   ]
  },
  {
   "cell_type": "code",
   "execution_count": 50,
   "metadata": {
    "scrolled": true
   },
   "outputs": [
    {
     "data": {
      "text/html": [
       "<div>\n",
       "<style scoped>\n",
       "    .dataframe tbody tr th:only-of-type {\n",
       "        vertical-align: middle;\n",
       "    }\n",
       "\n",
       "    .dataframe tbody tr th {\n",
       "        vertical-align: top;\n",
       "    }\n",
       "\n",
       "    .dataframe thead th {\n",
       "        text-align: right;\n",
       "    }\n",
       "</style>\n",
       "<table border=\"1\" class=\"dataframe\">\n",
       "  <thead>\n",
       "    <tr style=\"text-align: right;\">\n",
       "      <th></th>\n",
       "      <th>label</th>\n",
       "      <th>name</th>\n",
       "      <th>owner</th>\n",
       "      <th>repo_id</th>\n",
       "      <th>url</th>\n",
       "      <th>closed_date</th>\n",
       "      <th>created_date</th>\n",
       "      <th>description</th>\n",
       "      <th>id</th>\n",
       "      <th>number</th>\n",
       "      <th>status</th>\n",
       "      <th>title</th>\n",
       "      <th>updated_date</th>\n",
       "      <th>body</th>\n",
       "      <th># of Comments</th>\n",
       "      <th>Average Length of Comments</th>\n",
       "      <th>label_names</th>\n",
       "      <th>issue_duration</th>\n",
       "    </tr>\n",
       "    <tr>\n",
       "      <th>issue_id</th>\n",
       "      <th></th>\n",
       "      <th></th>\n",
       "      <th></th>\n",
       "      <th></th>\n",
       "      <th></th>\n",
       "      <th></th>\n",
       "      <th></th>\n",
       "      <th></th>\n",
       "      <th></th>\n",
       "      <th></th>\n",
       "      <th></th>\n",
       "      <th></th>\n",
       "      <th></th>\n",
       "      <th></th>\n",
       "      <th></th>\n",
       "      <th></th>\n",
       "      <th></th>\n",
       "      <th></th>\n",
       "    </tr>\n",
       "  </thead>\n",
       "  <tbody>\n",
       "    <tr>\n",
       "      <th>issues/6aedf8a0-9534-5e49-9f32-dd84a403f643</th>\n",
       "      <td>Default-Label</td>\n",
       "      <td>ready</td>\n",
       "      <td>kelektiv</td>\n",
       "      <td>d8433c8d-b38d-4b30-b4f6-6a3eb0b65f93</td>\n",
       "      <td>https://github.com/kelektiv/node-cron</td>\n",
       "      <td>2010-12-03 22:31:59-05:00</td>\n",
       "      <td>2010-11-19 00:13:24-05:00</td>\n",
       "      <td>On Mac OS X (at least 10.6.4+), there's no nee...</td>\n",
       "      <td>427508</td>\n",
       "      <td>1</td>\n",
       "      <td>closed</td>\n",
       "      <td>Mac OS X support for compilation</td>\n",
       "      <td>2014-07-17 10:50:53-04:00</td>\n",
       "      <td>This doesn't work for me (Linux), but I'll add...</td>\n",
       "      <td>24.0</td>\n",
       "      <td>9.33333</td>\n",
       "      <td>[none]</td>\n",
       "      <td>14 days 22:18:35</td>\n",
       "    </tr>\n",
       "    <tr>\n",
       "      <th>issues/6036d01e-bee1-5a3c-a423-37db00e22778</th>\n",
       "      <td>Default-Label</td>\n",
       "      <td>ready</td>\n",
       "      <td>kelektiv</td>\n",
       "      <td>d8433c8d-b38d-4b30-b4f6-6a3eb0b65f93</td>\n",
       "      <td>https://github.com/kelektiv/node-cron</td>\n",
       "      <td>2012-09-25 21:11:53-04:00</td>\n",
       "      <td>2012-09-23 00:59:59-04:00</td>\n",
       "      <td>Updated the readme.md file to reflect the need...</td>\n",
       "      <td>7064741</td>\n",
       "      <td>108</td>\n",
       "      <td>closed</td>\n",
       "      <td>Updated readme.md to reflect requirements for ...</td>\n",
       "      <td>2012-09-25 21:11:53-04:00</td>\n",
       "      <td>Please collapse these commits into one. , Yep,...</td>\n",
       "      <td>4.0</td>\n",
       "      <td>11.75</td>\n",
       "      <td>[none]</td>\n",
       "      <td>2 days 20:11:54</td>\n",
       "    </tr>\n",
       "    <tr>\n",
       "      <th>issues/f8aefd85-8c03-519e-82dc-cca0388363b4</th>\n",
       "      <td>Default-Label</td>\n",
       "      <td>ready</td>\n",
       "      <td>kelektiv</td>\n",
       "      <td>d8433c8d-b38d-4b30-b4f6-6a3eb0b65f93</td>\n",
       "      <td>https://github.com/kelektiv/node-cron</td>\n",
       "      <td>2012-11-04 03:27:49-05:00</td>\n",
       "      <td>2012-10-02 00:58:27-04:00</td>\n",
       "      <td>This should make the version requirement for w...</td>\n",
       "      <td>7280739</td>\n",
       "      <td>116</td>\n",
       "      <td>closed</td>\n",
       "      <td>updated readme for 64bit windows install</td>\n",
       "      <td>2014-06-18 13:41:07-04:00</td>\n",
       "      <td></td>\n",
       "      <td>1.0</td>\n",
       "      <td>1</td>\n",
       "      <td>[none]</td>\n",
       "      <td>33 days 03:29:22</td>\n",
       "    </tr>\n",
       "    <tr>\n",
       "      <th>issues/fce88d5c-2e92-560b-a9cb-1d9dfdc9249a</th>\n",
       "      <td>Default-Label</td>\n",
       "      <td>ready</td>\n",
       "      <td>kelektiv</td>\n",
       "      <td>d8433c8d-b38d-4b30-b4f6-6a3eb0b65f93</td>\n",
       "      <td>https://github.com/kelektiv/node-cron</td>\n",
       "      <td>2013-04-28 22:06:45-04:00</td>\n",
       "      <td>2013-04-27 20:28:46-04:00</td>\n",
       "      <td>Support for domains so that async method will ...</td>\n",
       "      <td>13725651</td>\n",
       "      <td>162</td>\n",
       "      <td>closed</td>\n",
       "      <td>Add support for domains</td>\n",
       "      <td>2013-04-28 22:06:45-04:00</td>\n",
       "      <td>Bind to domain doesn't need to be exposed. But...</td>\n",
       "      <td>3.0</td>\n",
       "      <td>35.3333</td>\n",
       "      <td>[none]</td>\n",
       "      <td>1 days 01:37:59</td>\n",
       "    </tr>\n",
       "    <tr>\n",
       "      <th>issues/d45a91b7-8c5d-5343-8cc7-4cbea8e818ff</th>\n",
       "      <td>Default-Label</td>\n",
       "      <td>ready</td>\n",
       "      <td>kelektiv</td>\n",
       "      <td>d8433c8d-b38d-4b30-b4f6-6a3eb0b65f93</td>\n",
       "      <td>https://github.com/kelektiv/node-cron</td>\n",
       "      <td>2013-04-29 14:11:53-04:00</td>\n",
       "      <td>2013-04-28 22:07:06-04:00</td>\n",
       "      <td>Support for domains so that async method will ...</td>\n",
       "      <td>13741381</td>\n",
       "      <td>163</td>\n",
       "      <td>closed</td>\n",
       "      <td>support for domains</td>\n",
       "      <td>2014-07-29 01:20:13-04:00</td>\n",
       "      <td>@ncb000gt Looks good to you? LGTM.  There is a...</td>\n",
       "      <td>6.0</td>\n",
       "      <td>51.6667</td>\n",
       "      <td>[none]</td>\n",
       "      <td>0 days 16:04:47</td>\n",
       "    </tr>\n",
       "  </tbody>\n",
       "</table>\n",
       "</div>"
      ],
      "text/plain": [
       "                                                     label   name     owner  \\\n",
       "issue_id                                                                      \n",
       "issues/6aedf8a0-9534-5e49-9f32-dd84a403f643  Default-Label  ready  kelektiv   \n",
       "issues/6036d01e-bee1-5a3c-a423-37db00e22778  Default-Label  ready  kelektiv   \n",
       "issues/f8aefd85-8c03-519e-82dc-cca0388363b4  Default-Label  ready  kelektiv   \n",
       "issues/fce88d5c-2e92-560b-a9cb-1d9dfdc9249a  Default-Label  ready  kelektiv   \n",
       "issues/d45a91b7-8c5d-5343-8cc7-4cbea8e818ff  Default-Label  ready  kelektiv   \n",
       "\n",
       "                                                                          repo_id  \\\n",
       "issue_id                                                                            \n",
       "issues/6aedf8a0-9534-5e49-9f32-dd84a403f643  d8433c8d-b38d-4b30-b4f6-6a3eb0b65f93   \n",
       "issues/6036d01e-bee1-5a3c-a423-37db00e22778  d8433c8d-b38d-4b30-b4f6-6a3eb0b65f93   \n",
       "issues/f8aefd85-8c03-519e-82dc-cca0388363b4  d8433c8d-b38d-4b30-b4f6-6a3eb0b65f93   \n",
       "issues/fce88d5c-2e92-560b-a9cb-1d9dfdc9249a  d8433c8d-b38d-4b30-b4f6-6a3eb0b65f93   \n",
       "issues/d45a91b7-8c5d-5343-8cc7-4cbea8e818ff  d8433c8d-b38d-4b30-b4f6-6a3eb0b65f93   \n",
       "\n",
       "                                                                               url  \\\n",
       "issue_id                                                                             \n",
       "issues/6aedf8a0-9534-5e49-9f32-dd84a403f643  https://github.com/kelektiv/node-cron   \n",
       "issues/6036d01e-bee1-5a3c-a423-37db00e22778  https://github.com/kelektiv/node-cron   \n",
       "issues/f8aefd85-8c03-519e-82dc-cca0388363b4  https://github.com/kelektiv/node-cron   \n",
       "issues/fce88d5c-2e92-560b-a9cb-1d9dfdc9249a  https://github.com/kelektiv/node-cron   \n",
       "issues/d45a91b7-8c5d-5343-8cc7-4cbea8e818ff  https://github.com/kelektiv/node-cron   \n",
       "\n",
       "                                                           closed_date  \\\n",
       "issue_id                                                                 \n",
       "issues/6aedf8a0-9534-5e49-9f32-dd84a403f643  2010-12-03 22:31:59-05:00   \n",
       "issues/6036d01e-bee1-5a3c-a423-37db00e22778  2012-09-25 21:11:53-04:00   \n",
       "issues/f8aefd85-8c03-519e-82dc-cca0388363b4  2012-11-04 03:27:49-05:00   \n",
       "issues/fce88d5c-2e92-560b-a9cb-1d9dfdc9249a  2013-04-28 22:06:45-04:00   \n",
       "issues/d45a91b7-8c5d-5343-8cc7-4cbea8e818ff  2013-04-29 14:11:53-04:00   \n",
       "\n",
       "                                                         created_date  \\\n",
       "issue_id                                                                \n",
       "issues/6aedf8a0-9534-5e49-9f32-dd84a403f643 2010-11-19 00:13:24-05:00   \n",
       "issues/6036d01e-bee1-5a3c-a423-37db00e22778 2012-09-23 00:59:59-04:00   \n",
       "issues/f8aefd85-8c03-519e-82dc-cca0388363b4 2012-10-02 00:58:27-04:00   \n",
       "issues/fce88d5c-2e92-560b-a9cb-1d9dfdc9249a 2013-04-27 20:28:46-04:00   \n",
       "issues/d45a91b7-8c5d-5343-8cc7-4cbea8e818ff 2013-04-28 22:07:06-04:00   \n",
       "\n",
       "                                                                                   description  \\\n",
       "issue_id                                                                                         \n",
       "issues/6aedf8a0-9534-5e49-9f32-dd84a403f643  On Mac OS X (at least 10.6.4+), there's no nee...   \n",
       "issues/6036d01e-bee1-5a3c-a423-37db00e22778  Updated the readme.md file to reflect the need...   \n",
       "issues/f8aefd85-8c03-519e-82dc-cca0388363b4  This should make the version requirement for w...   \n",
       "issues/fce88d5c-2e92-560b-a9cb-1d9dfdc9249a  Support for domains so that async method will ...   \n",
       "issues/d45a91b7-8c5d-5343-8cc7-4cbea8e818ff  Support for domains so that async method will ...   \n",
       "\n",
       "                                                   id number  status  \\\n",
       "issue_id                                                               \n",
       "issues/6aedf8a0-9534-5e49-9f32-dd84a403f643    427508      1  closed   \n",
       "issues/6036d01e-bee1-5a3c-a423-37db00e22778   7064741    108  closed   \n",
       "issues/f8aefd85-8c03-519e-82dc-cca0388363b4   7280739    116  closed   \n",
       "issues/fce88d5c-2e92-560b-a9cb-1d9dfdc9249a  13725651    162  closed   \n",
       "issues/d45a91b7-8c5d-5343-8cc7-4cbea8e818ff  13741381    163  closed   \n",
       "\n",
       "                                                                                         title  \\\n",
       "issue_id                                                                                         \n",
       "issues/6aedf8a0-9534-5e49-9f32-dd84a403f643                   Mac OS X support for compilation   \n",
       "issues/6036d01e-bee1-5a3c-a423-37db00e22778  Updated readme.md to reflect requirements for ...   \n",
       "issues/f8aefd85-8c03-519e-82dc-cca0388363b4           updated readme for 64bit windows install   \n",
       "issues/fce88d5c-2e92-560b-a9cb-1d9dfdc9249a                            Add support for domains   \n",
       "issues/d45a91b7-8c5d-5343-8cc7-4cbea8e818ff                                support for domains   \n",
       "\n",
       "                                                         updated_date  \\\n",
       "issue_id                                                                \n",
       "issues/6aedf8a0-9534-5e49-9f32-dd84a403f643 2014-07-17 10:50:53-04:00   \n",
       "issues/6036d01e-bee1-5a3c-a423-37db00e22778 2012-09-25 21:11:53-04:00   \n",
       "issues/f8aefd85-8c03-519e-82dc-cca0388363b4 2014-06-18 13:41:07-04:00   \n",
       "issues/fce88d5c-2e92-560b-a9cb-1d9dfdc9249a 2013-04-28 22:06:45-04:00   \n",
       "issues/d45a91b7-8c5d-5343-8cc7-4cbea8e818ff 2014-07-29 01:20:13-04:00   \n",
       "\n",
       "                                                                                          body  \\\n",
       "issue_id                                                                                         \n",
       "issues/6aedf8a0-9534-5e49-9f32-dd84a403f643  This doesn't work for me (Linux), but I'll add...   \n",
       "issues/6036d01e-bee1-5a3c-a423-37db00e22778  Please collapse these commits into one. , Yep,...   \n",
       "issues/f8aefd85-8c03-519e-82dc-cca0388363b4                                                      \n",
       "issues/fce88d5c-2e92-560b-a9cb-1d9dfdc9249a  Bind to domain doesn't need to be exposed. But...   \n",
       "issues/d45a91b7-8c5d-5343-8cc7-4cbea8e818ff  @ncb000gt Looks good to you? LGTM.  There is a...   \n",
       "\n",
       "                                             # of Comments  \\\n",
       "issue_id                                                     \n",
       "issues/6aedf8a0-9534-5e49-9f32-dd84a403f643           24.0   \n",
       "issues/6036d01e-bee1-5a3c-a423-37db00e22778            4.0   \n",
       "issues/f8aefd85-8c03-519e-82dc-cca0388363b4            1.0   \n",
       "issues/fce88d5c-2e92-560b-a9cb-1d9dfdc9249a            3.0   \n",
       "issues/d45a91b7-8c5d-5343-8cc7-4cbea8e818ff            6.0   \n",
       "\n",
       "                                            Average Length of Comments  \\\n",
       "issue_id                                                                 \n",
       "issues/6aedf8a0-9534-5e49-9f32-dd84a403f643                    9.33333   \n",
       "issues/6036d01e-bee1-5a3c-a423-37db00e22778                      11.75   \n",
       "issues/f8aefd85-8c03-519e-82dc-cca0388363b4                          1   \n",
       "issues/fce88d5c-2e92-560b-a9cb-1d9dfdc9249a                    35.3333   \n",
       "issues/d45a91b7-8c5d-5343-8cc7-4cbea8e818ff                    51.6667   \n",
       "\n",
       "                                            label_names    issue_duration  \n",
       "issue_id                                                                   \n",
       "issues/6aedf8a0-9534-5e49-9f32-dd84a403f643      [none]  14 days 22:18:35  \n",
       "issues/6036d01e-bee1-5a3c-a423-37db00e22778      [none]   2 days 20:11:54  \n",
       "issues/f8aefd85-8c03-519e-82dc-cca0388363b4      [none]  33 days 03:29:22  \n",
       "issues/fce88d5c-2e92-560b-a9cb-1d9dfdc9249a      [none]   1 days 01:37:59  \n",
       "issues/d45a91b7-8c5d-5343-8cc7-4cbea8e818ff      [none]   0 days 16:04:47  "
      ]
     },
     "execution_count": 50,
     "metadata": {},
     "output_type": "execute_result"
    }
   ],
   "source": [
    "repo_df.head()"
   ]
  },
  {
   "cell_type": "code",
   "execution_count": 140,
   "metadata": {},
   "outputs": [],
   "source": [
    "repo_df[\"combined_text\"]= repo_df[\"description\"]+\", \"+repo_df[\"title\"]+\", \"+repo_df[\"body\"]"
   ]
  },
  {
   "cell_type": "markdown",
   "metadata": {},
   "source": [
    "## Get adjacency matrix"
   ]
  },
  {
   "cell_type": "code",
   "execution_count": 147,
   "metadata": {},
   "outputs": [],
   "source": [
    "def create_adjacency_df(repo_graph, node_types):\n",
    "    adj_df = nx.to_pandas_adjacency(repo_graph)\n",
    "    adj_df = adj_df.loc[[idx for idx in adj_df.index if \"issue\" in idx]]\n",
    "    adj_df.index.name = \"issue_id\"\n",
    "    adj_df = adj_df[[col for col in adj_df.columns if col.split(\"/\")[0] in node_types]]\n",
    "    for index in adj_df.index:\n",
    "        adj_df.at[index, index] = 1\n",
    "    return adj_df"
   ]
  },
  {
   "cell_type": "markdown",
   "metadata": {},
   "source": [
    "## Get files changes df"
   ]
  },
  {
   "cell_type": "code",
   "execution_count": 256,
   "metadata": {},
   "outputs": [],
   "source": [
    "## get commits\n",
    "from RepoClusters import get_commits_df\n",
    "from pydriller import RepositoryMining"
   ]
  },
  {
   "cell_type": "code",
   "execution_count": 249,
   "metadata": {},
   "outputs": [],
   "source": [
    "commits_df=get_commits_df(repo_graph)"
   ]
  },
  {
   "cell_type": "code",
   "execution_count": 258,
   "metadata": {},
   "outputs": [],
   "source": [
    "url = \"https://github.com/kelektiv/node.bcrypt.js\"\n",
    "hash_to_commits = {commit.hash: commit \n",
    "                   for commit in RepositoryMining(url, only_no_merge=True).traverse_commits()}\n",
    "hash_to_mods = {commit.hash: commit.modifications \n",
    "                for commit in RepositoryMining(url, only_no_merge=True).traverse_commits()}"
   ]
  },
  {
   "cell_type": "code",
   "execution_count": 251,
   "metadata": {},
   "outputs": [],
   "source": [
    "def get_changed_filenames(commit_hash):\n",
    "    try:\n",
    "        return [mod.filename for mod in hash_to_mods[commit_hash] if commit_hash in hash_to_mods]\n",
    "    except KeyError: \n",
    "        pass"
   ]
  },
  {
   "cell_type": "code",
   "execution_count": 259,
   "metadata": {},
   "outputs": [],
   "source": [
    "commits_df[\"files_changed\"]=commits_df[\"hash\"].apply(lambda commit_hash: get_changed_filenames(commit_hash))"
   ]
  },
  {
   "cell_type": "code",
   "execution_count": 262,
   "metadata": {},
   "outputs": [],
   "source": [
    "import itertools\n",
    "joined_commits = pd.DataFrame(commits_df.groupby(\"issue_id\").agg({\"files_changed\": lambda bodies: list(itertools.chain.from_iterable(filter(None, bodies))) }))"
   ]
  },
  {
   "cell_type": "code",
   "execution_count": 264,
   "metadata": {},
   "outputs": [],
   "source": [
    "repo_df=repo_df.merge(joined_commits, on=\"issue_id\", how=\"left\")"
   ]
  },
  {
   "cell_type": "code",
   "execution_count": 271,
   "metadata": {},
   "outputs": [],
   "source": [
    "for row in repo_df.loc[repo_df[\"files_changed\"].isna(), \"files_changed\"].index:\n",
    "    repo_df.at[row, \"files_changed\"] = []"
   ]
  },
  {
   "cell_type": "markdown",
   "metadata": {},
   "source": [
    "# Features & Vectorization"
   ]
  },
  {
   "cell_type": "markdown",
   "metadata": {},
   "source": [
    "## Full Feature List\n",
    "- Label Names\n",
    "- Number of Comments\n",
    "- Status\n",
    "- Description: Length \n",
    "- Description: Number of Headers\n",
    "- Description: Number of URLs\n",
    "- Description: Number of Code Blocks\n",
    "- Description: TFIDF\n",
    "- Title: Length\n",
    "- Title: TFIDF\n",
    "- Comment Bodies: Number of Headers\n",
    "- Comment Bodies: Number of URLs\n",
    "- Comment Bodies: Number of Code Blocks\n",
    "- Comment Bodies: TDIDF\n",
    "- Combined Description, Title, Comment Body: TDIDF\n",
    "- Adjacency Matrix: Connection to pull_request, other issues, commits\n",
    "- files_changed_df: if an issue has a commit, the files changes from the commit will be reflected in the matrix"
   ]
  },
  {
   "cell_type": "markdown",
   "metadata": {},
   "source": [
    "## Feature Functions"
   ]
  },
  {
   "cell_type": "code",
   "execution_count": 148,
   "metadata": {},
   "outputs": [],
   "source": [
    "def count(series):\n",
    "    return np.array([len(item) for item in series]).reshape(-1, 1)\n",
    "\n",
    "def body_length(series):\n",
    "    return np.array([len(str(item[0]).split()) for item in series]).reshape(-1, 1)\n",
    "\n",
    "def num_headers(series):\n",
    "    return np.array([len(re.findall(\"##\", str(item))) for item in series]).reshape(-1, 1)\n",
    "\n",
    "def num_urls(series):\n",
    "    return np.array([len(re.findall(\"https://\", str(item))) for item in series]).reshape(-1, 1)\n",
    "\n",
    "def num_code_blocks(series):\n",
    "    return np.array([len(re.findall(\"{code}\", str(item))) for item in series]).reshape(-1, 1)    "
   ]
  },
  {
   "cell_type": "code",
   "execution_count": null,
   "metadata": {},
   "outputs": [],
   "source": [
    "    (['description'], [preprocessing.FunctionTransformer(body_length, validate=False),\n",
    "                      preprocessing.MinMaxScaler()], {'alias': \"Description Length\"}),\n",
    "    ('description', [preprocessing.FunctionTransformer(num_headers, validate=False),\n",
    "                     preprocessing.MinMaxScaler()], {'alias': \"Num Headers\"}),\n",
    "    ('description', [preprocessing.FunctionTransformer(num_urls, validate=False),\n",
    "                     preprocessing.MinMaxScaler()], {'alias': \"Num URLs\"}),\n",
    "    ('description', [preprocessing.FunctionTransformer(num_code_blocks, validate=False),\n",
    "                     preprocessing.MinMaxScaler()], {'alias': \"Num Code Blocks\"}),\n",
    "    ('description', [CountVectorizer(min_df=2, max_df=0.95), \n",
    "                     TfidfTransformer()], {\"alias\": \"Tfidf_description\"}),\n",
    "    ('title', [CountVectorizer(max_df=0.95), \n",
    "               TfidfTransformer()], {\"alias\": \"Tfidf_title\"}),\n",
    "    (['title'], [preprocessing.FunctionTransformer(body_length, validate=False),\n",
    "                     preprocessing.MinMaxScaler()], {'alias': \"Title Length\"}),\n",
    "    ('body', [CountVectorizer(max_df=0.95), \n",
    "               TfidfTransformer()], {\"alias\": \"Tfidf_comment_body\"}),\n",
    "    ('body', [preprocessing.FunctionTransformer(num_headers, validate=False),\n",
    "                     preprocessing.MinMaxScaler()], {'alias': \"Num Headers: Comment\"}),\n",
    "    ('body', [preprocessing.FunctionTransformer(num_urls, validate=False),\n",
    "                     preprocessing.MinMaxScaler()], {'alias': \"Num URLs: Comment\"}),\n",
    "    ('body', [preprocessing.FunctionTransformer(num_code_blocks, validate=False),\n",
    "                     preprocessing.MinMaxScaler()], {'alias': \"Num Code Blocks: Comment\"}),"
   ]
  },
  {
   "cell_type": "markdown",
   "metadata": {},
   "source": [
    "## Selecting the features with DataFrameMapper"
   ]
  },
  {
   "cell_type": "code",
   "execution_count": 503,
   "metadata": {},
   "outputs": [],
   "source": [
    "mapper = DataFrameMapper([\n",
    "    ('label_names', preprocessing.MultiLabelBinarizer()),\n",
    "    ('files_changed',preprocessing.MultiLabelBinarizer()),\n",
    "    ('# of Comments', [preprocessing.FunctionTransformer(reshape_array, validate=False),\n",
    "                      preprocessing.MinMaxScaler()], {'alias': \"Num Comments\"}),\n",
    "    (['status'], preprocessing.OneHotEncoder()),\n",
    "    ('combined_text', [CountVectorizer(max_df=0.95), \n",
    "               TfidfTransformer()], {\"alias\": \"Tfidf_combined_text\"}),\n",
    "    ('combined_text', [preprocessing.FunctionTransformer(num_headers, validate=False),\n",
    "                     preprocessing.MinMaxScaler()], {'alias': \"Num Headers: combined_text\"}),\n",
    "    ('combined_text', [preprocessing.FunctionTransformer(num_urls, validate=False),\n",
    "                     preprocessing.MinMaxScaler()], {'alias': \"Num URLs: combined_text\"}),\n",
    "    ('combined_text', [preprocessing.FunctionTransformer(num_code_blocks, validate=False),\n",
    "                     preprocessing.MinMaxScaler()], {'alias': \"Num Code Blocks: combined_text\"}),\n",
    "], df_out=True)"
   ]
  },
  {
   "cell_type": "code",
   "execution_count": 504,
   "metadata": {},
   "outputs": [],
   "source": [
    "repo_ids = list(repo_df.groupby(\"repo_id\").groups.keys())"
   ]
  },
  {
   "cell_type": "code",
   "execution_count": 505,
   "metadata": {},
   "outputs": [],
   "source": [
    "vectors_df = mapper.fit_transform(repo_df.groupby(\"repo_id\").get_group(repo_ids[1]))"
   ]
  },
  {
   "cell_type": "code",
   "execution_count": 506,
   "metadata": {
    "scrolled": true
   },
   "outputs": [
    {
     "data": {
      "text/html": [
       "<div>\n",
       "<style scoped>\n",
       "    .dataframe tbody tr th:only-of-type {\n",
       "        vertical-align: middle;\n",
       "    }\n",
       "\n",
       "    .dataframe tbody tr th {\n",
       "        vertical-align: top;\n",
       "    }\n",
       "\n",
       "    .dataframe thead th {\n",
       "        text-align: right;\n",
       "    }\n",
       "</style>\n",
       "<table border=\"1\" class=\"dataframe\">\n",
       "  <thead>\n",
       "    <tr style=\"text-align: right;\">\n",
       "      <th></th>\n",
       "      <th>label_names_bug</th>\n",
       "      <th>label_names_cleanup</th>\n",
       "      <th>label_names_feature</th>\n",
       "      <th>label_names_in progress</th>\n",
       "      <th>label_names_napi</th>\n",
       "      <th>label_names_none</th>\n",
       "      <th>label_names_question</th>\n",
       "      <th>label_names_windows</th>\n",
       "      <th>files_changed_.editorconfig</th>\n",
       "      <th>files_changed_.travis.yml</th>\n",
       "      <th>...</th>\n",
       "      <th>Tfidf_combined_text_你可以用第二个方法</th>\n",
       "      <th>Tfidf_combined_text_同时后面的插入等操作也没有运行</th>\n",
       "      <th>Tfidf_combined_text_在保存数据前对密码加盐加密</th>\n",
       "      <th>Tfidf_combined_text_我想使用bcrypt</th>\n",
       "      <th>Tfidf_combined_text_无法识别的命令行选项</th>\n",
       "      <th>Tfidf_combined_text_错误</th>\n",
       "      <th>Tfidf_combined_text_시경</th>\n",
       "      <th>Num Headers: combined_text</th>\n",
       "      <th>Num URLs: combined_text</th>\n",
       "      <th>Num Code Blocks: combined_text</th>\n",
       "    </tr>\n",
       "    <tr>\n",
       "      <th>issue_id</th>\n",
       "      <th></th>\n",
       "      <th></th>\n",
       "      <th></th>\n",
       "      <th></th>\n",
       "      <th></th>\n",
       "      <th></th>\n",
       "      <th></th>\n",
       "      <th></th>\n",
       "      <th></th>\n",
       "      <th></th>\n",
       "      <th></th>\n",
       "      <th></th>\n",
       "      <th></th>\n",
       "      <th></th>\n",
       "      <th></th>\n",
       "      <th></th>\n",
       "      <th></th>\n",
       "      <th></th>\n",
       "      <th></th>\n",
       "      <th></th>\n",
       "      <th></th>\n",
       "    </tr>\n",
       "  </thead>\n",
       "  <tbody>\n",
       "    <tr>\n",
       "      <th>issues/6aedf8a0-9534-5e49-9f32-dd84a403f643</th>\n",
       "      <td>0</td>\n",
       "      <td>0</td>\n",
       "      <td>0</td>\n",
       "      <td>0</td>\n",
       "      <td>0</td>\n",
       "      <td>1</td>\n",
       "      <td>0</td>\n",
       "      <td>0</td>\n",
       "      <td>0</td>\n",
       "      <td>0</td>\n",
       "      <td>...</td>\n",
       "      <td>0.0</td>\n",
       "      <td>0.0</td>\n",
       "      <td>0.0</td>\n",
       "      <td>0.0</td>\n",
       "      <td>0.0</td>\n",
       "      <td>0.0</td>\n",
       "      <td>0.000000</td>\n",
       "      <td>0.000000</td>\n",
       "      <td>0.000000</td>\n",
       "      <td>0.0</td>\n",
       "    </tr>\n",
       "    <tr>\n",
       "      <th>issues/6036d01e-bee1-5a3c-a423-37db00e22778</th>\n",
       "      <td>0</td>\n",
       "      <td>0</td>\n",
       "      <td>0</td>\n",
       "      <td>0</td>\n",
       "      <td>0</td>\n",
       "      <td>1</td>\n",
       "      <td>0</td>\n",
       "      <td>0</td>\n",
       "      <td>0</td>\n",
       "      <td>0</td>\n",
       "      <td>...</td>\n",
       "      <td>0.0</td>\n",
       "      <td>0.0</td>\n",
       "      <td>0.0</td>\n",
       "      <td>0.0</td>\n",
       "      <td>0.0</td>\n",
       "      <td>0.0</td>\n",
       "      <td>0.000000</td>\n",
       "      <td>0.000000</td>\n",
       "      <td>0.000000</td>\n",
       "      <td>0.0</td>\n",
       "    </tr>\n",
       "    <tr>\n",
       "      <th>issues/f8aefd85-8c03-519e-82dc-cca0388363b4</th>\n",
       "      <td>0</td>\n",
       "      <td>0</td>\n",
       "      <td>0</td>\n",
       "      <td>0</td>\n",
       "      <td>0</td>\n",
       "      <td>1</td>\n",
       "      <td>0</td>\n",
       "      <td>0</td>\n",
       "      <td>0</td>\n",
       "      <td>0</td>\n",
       "      <td>...</td>\n",
       "      <td>0.0</td>\n",
       "      <td>0.0</td>\n",
       "      <td>0.0</td>\n",
       "      <td>0.0</td>\n",
       "      <td>0.0</td>\n",
       "      <td>0.0</td>\n",
       "      <td>0.000000</td>\n",
       "      <td>0.000000</td>\n",
       "      <td>0.000000</td>\n",
       "      <td>0.0</td>\n",
       "    </tr>\n",
       "    <tr>\n",
       "      <th>issues/fce88d5c-2e92-560b-a9cb-1d9dfdc9249a</th>\n",
       "      <td>0</td>\n",
       "      <td>0</td>\n",
       "      <td>0</td>\n",
       "      <td>0</td>\n",
       "      <td>0</td>\n",
       "      <td>1</td>\n",
       "      <td>0</td>\n",
       "      <td>0</td>\n",
       "      <td>0</td>\n",
       "      <td>0</td>\n",
       "      <td>...</td>\n",
       "      <td>0.0</td>\n",
       "      <td>0.0</td>\n",
       "      <td>0.0</td>\n",
       "      <td>0.0</td>\n",
       "      <td>0.0</td>\n",
       "      <td>0.0</td>\n",
       "      <td>0.000000</td>\n",
       "      <td>0.027778</td>\n",
       "      <td>0.010846</td>\n",
       "      <td>0.0</td>\n",
       "    </tr>\n",
       "    <tr>\n",
       "      <th>issues/d45a91b7-8c5d-5343-8cc7-4cbea8e818ff</th>\n",
       "      <td>0</td>\n",
       "      <td>0</td>\n",
       "      <td>0</td>\n",
       "      <td>0</td>\n",
       "      <td>0</td>\n",
       "      <td>1</td>\n",
       "      <td>0</td>\n",
       "      <td>0</td>\n",
       "      <td>0</td>\n",
       "      <td>0</td>\n",
       "      <td>...</td>\n",
       "      <td>0.0</td>\n",
       "      <td>0.0</td>\n",
       "      <td>0.0</td>\n",
       "      <td>0.0</td>\n",
       "      <td>0.0</td>\n",
       "      <td>0.0</td>\n",
       "      <td>0.000000</td>\n",
       "      <td>0.000000</td>\n",
       "      <td>0.000000</td>\n",
       "      <td>0.0</td>\n",
       "    </tr>\n",
       "    <tr>\n",
       "      <th>...</th>\n",
       "      <td>...</td>\n",
       "      <td>...</td>\n",
       "      <td>...</td>\n",
       "      <td>...</td>\n",
       "      <td>...</td>\n",
       "      <td>...</td>\n",
       "      <td>...</td>\n",
       "      <td>...</td>\n",
       "      <td>...</td>\n",
       "      <td>...</td>\n",
       "      <td>...</td>\n",
       "      <td>...</td>\n",
       "      <td>...</td>\n",
       "      <td>...</td>\n",
       "      <td>...</td>\n",
       "      <td>...</td>\n",
       "      <td>...</td>\n",
       "      <td>...</td>\n",
       "      <td>...</td>\n",
       "      <td>...</td>\n",
       "      <td>...</td>\n",
       "    </tr>\n",
       "    <tr>\n",
       "      <th>issues/057db976-df8d-5a60-bb9c-af70319976b2</th>\n",
       "      <td>0</td>\n",
       "      <td>0</td>\n",
       "      <td>0</td>\n",
       "      <td>0</td>\n",
       "      <td>0</td>\n",
       "      <td>1</td>\n",
       "      <td>0</td>\n",
       "      <td>0</td>\n",
       "      <td>0</td>\n",
       "      <td>0</td>\n",
       "      <td>...</td>\n",
       "      <td>0.0</td>\n",
       "      <td>0.0</td>\n",
       "      <td>0.0</td>\n",
       "      <td>0.0</td>\n",
       "      <td>0.0</td>\n",
       "      <td>0.0</td>\n",
       "      <td>0.000000</td>\n",
       "      <td>0.000000</td>\n",
       "      <td>0.000000</td>\n",
       "      <td>0.0</td>\n",
       "    </tr>\n",
       "    <tr>\n",
       "      <th>issues/2d9d9160-f858-5491-a370-1e7c9b5c1a03</th>\n",
       "      <td>0</td>\n",
       "      <td>0</td>\n",
       "      <td>0</td>\n",
       "      <td>0</td>\n",
       "      <td>0</td>\n",
       "      <td>1</td>\n",
       "      <td>0</td>\n",
       "      <td>0</td>\n",
       "      <td>0</td>\n",
       "      <td>0</td>\n",
       "      <td>...</td>\n",
       "      <td>0.0</td>\n",
       "      <td>0.0</td>\n",
       "      <td>0.0</td>\n",
       "      <td>0.0</td>\n",
       "      <td>0.0</td>\n",
       "      <td>0.0</td>\n",
       "      <td>0.000000</td>\n",
       "      <td>0.000000</td>\n",
       "      <td>0.004338</td>\n",
       "      <td>0.0</td>\n",
       "    </tr>\n",
       "    <tr>\n",
       "      <th>issues/c181f2ba-33eb-5aa5-8372-2cdda4689a3c</th>\n",
       "      <td>0</td>\n",
       "      <td>0</td>\n",
       "      <td>0</td>\n",
       "      <td>0</td>\n",
       "      <td>0</td>\n",
       "      <td>1</td>\n",
       "      <td>0</td>\n",
       "      <td>0</td>\n",
       "      <td>0</td>\n",
       "      <td>0</td>\n",
       "      <td>...</td>\n",
       "      <td>0.0</td>\n",
       "      <td>0.0</td>\n",
       "      <td>0.0</td>\n",
       "      <td>0.0</td>\n",
       "      <td>0.0</td>\n",
       "      <td>0.0</td>\n",
       "      <td>0.398694</td>\n",
       "      <td>0.000000</td>\n",
       "      <td>0.004338</td>\n",
       "      <td>0.0</td>\n",
       "    </tr>\n",
       "    <tr>\n",
       "      <th>issues/ddc307da-3f7a-5a0d-a7a8-b84a960c7f99</th>\n",
       "      <td>0</td>\n",
       "      <td>0</td>\n",
       "      <td>0</td>\n",
       "      <td>0</td>\n",
       "      <td>0</td>\n",
       "      <td>1</td>\n",
       "      <td>0</td>\n",
       "      <td>0</td>\n",
       "      <td>0</td>\n",
       "      <td>0</td>\n",
       "      <td>...</td>\n",
       "      <td>0.0</td>\n",
       "      <td>0.0</td>\n",
       "      <td>0.0</td>\n",
       "      <td>0.0</td>\n",
       "      <td>0.0</td>\n",
       "      <td>0.0</td>\n",
       "      <td>0.000000</td>\n",
       "      <td>0.000000</td>\n",
       "      <td>0.002169</td>\n",
       "      <td>0.0</td>\n",
       "    </tr>\n",
       "    <tr>\n",
       "      <th>issues/3d530a7a-b0e3-5d3e-8129-d120a98abd7a</th>\n",
       "      <td>0</td>\n",
       "      <td>0</td>\n",
       "      <td>0</td>\n",
       "      <td>0</td>\n",
       "      <td>0</td>\n",
       "      <td>1</td>\n",
       "      <td>0</td>\n",
       "      <td>0</td>\n",
       "      <td>0</td>\n",
       "      <td>0</td>\n",
       "      <td>...</td>\n",
       "      <td>0.0</td>\n",
       "      <td>0.0</td>\n",
       "      <td>0.0</td>\n",
       "      <td>0.0</td>\n",
       "      <td>0.0</td>\n",
       "      <td>0.0</td>\n",
       "      <td>0.000000</td>\n",
       "      <td>0.000000</td>\n",
       "      <td>0.000000</td>\n",
       "      <td>0.0</td>\n",
       "    </tr>\n",
       "  </tbody>\n",
       "</table>\n",
       "<p>768 rows × 17291 columns</p>\n",
       "</div>"
      ],
      "text/plain": [
       "                                             label_names_bug  \\\n",
       "issue_id                                                       \n",
       "issues/6aedf8a0-9534-5e49-9f32-dd84a403f643                0   \n",
       "issues/6036d01e-bee1-5a3c-a423-37db00e22778                0   \n",
       "issues/f8aefd85-8c03-519e-82dc-cca0388363b4                0   \n",
       "issues/fce88d5c-2e92-560b-a9cb-1d9dfdc9249a                0   \n",
       "issues/d45a91b7-8c5d-5343-8cc7-4cbea8e818ff                0   \n",
       "...                                                      ...   \n",
       "issues/057db976-df8d-5a60-bb9c-af70319976b2                0   \n",
       "issues/2d9d9160-f858-5491-a370-1e7c9b5c1a03                0   \n",
       "issues/c181f2ba-33eb-5aa5-8372-2cdda4689a3c                0   \n",
       "issues/ddc307da-3f7a-5a0d-a7a8-b84a960c7f99                0   \n",
       "issues/3d530a7a-b0e3-5d3e-8129-d120a98abd7a                0   \n",
       "\n",
       "                                             label_names_cleanup  \\\n",
       "issue_id                                                           \n",
       "issues/6aedf8a0-9534-5e49-9f32-dd84a403f643                    0   \n",
       "issues/6036d01e-bee1-5a3c-a423-37db00e22778                    0   \n",
       "issues/f8aefd85-8c03-519e-82dc-cca0388363b4                    0   \n",
       "issues/fce88d5c-2e92-560b-a9cb-1d9dfdc9249a                    0   \n",
       "issues/d45a91b7-8c5d-5343-8cc7-4cbea8e818ff                    0   \n",
       "...                                                          ...   \n",
       "issues/057db976-df8d-5a60-bb9c-af70319976b2                    0   \n",
       "issues/2d9d9160-f858-5491-a370-1e7c9b5c1a03                    0   \n",
       "issues/c181f2ba-33eb-5aa5-8372-2cdda4689a3c                    0   \n",
       "issues/ddc307da-3f7a-5a0d-a7a8-b84a960c7f99                    0   \n",
       "issues/3d530a7a-b0e3-5d3e-8129-d120a98abd7a                    0   \n",
       "\n",
       "                                             label_names_feature  \\\n",
       "issue_id                                                           \n",
       "issues/6aedf8a0-9534-5e49-9f32-dd84a403f643                    0   \n",
       "issues/6036d01e-bee1-5a3c-a423-37db00e22778                    0   \n",
       "issues/f8aefd85-8c03-519e-82dc-cca0388363b4                    0   \n",
       "issues/fce88d5c-2e92-560b-a9cb-1d9dfdc9249a                    0   \n",
       "issues/d45a91b7-8c5d-5343-8cc7-4cbea8e818ff                    0   \n",
       "...                                                          ...   \n",
       "issues/057db976-df8d-5a60-bb9c-af70319976b2                    0   \n",
       "issues/2d9d9160-f858-5491-a370-1e7c9b5c1a03                    0   \n",
       "issues/c181f2ba-33eb-5aa5-8372-2cdda4689a3c                    0   \n",
       "issues/ddc307da-3f7a-5a0d-a7a8-b84a960c7f99                    0   \n",
       "issues/3d530a7a-b0e3-5d3e-8129-d120a98abd7a                    0   \n",
       "\n",
       "                                             label_names_in progress  \\\n",
       "issue_id                                                               \n",
       "issues/6aedf8a0-9534-5e49-9f32-dd84a403f643                        0   \n",
       "issues/6036d01e-bee1-5a3c-a423-37db00e22778                        0   \n",
       "issues/f8aefd85-8c03-519e-82dc-cca0388363b4                        0   \n",
       "issues/fce88d5c-2e92-560b-a9cb-1d9dfdc9249a                        0   \n",
       "issues/d45a91b7-8c5d-5343-8cc7-4cbea8e818ff                        0   \n",
       "...                                                              ...   \n",
       "issues/057db976-df8d-5a60-bb9c-af70319976b2                        0   \n",
       "issues/2d9d9160-f858-5491-a370-1e7c9b5c1a03                        0   \n",
       "issues/c181f2ba-33eb-5aa5-8372-2cdda4689a3c                        0   \n",
       "issues/ddc307da-3f7a-5a0d-a7a8-b84a960c7f99                        0   \n",
       "issues/3d530a7a-b0e3-5d3e-8129-d120a98abd7a                        0   \n",
       "\n",
       "                                             label_names_napi  \\\n",
       "issue_id                                                        \n",
       "issues/6aedf8a0-9534-5e49-9f32-dd84a403f643                 0   \n",
       "issues/6036d01e-bee1-5a3c-a423-37db00e22778                 0   \n",
       "issues/f8aefd85-8c03-519e-82dc-cca0388363b4                 0   \n",
       "issues/fce88d5c-2e92-560b-a9cb-1d9dfdc9249a                 0   \n",
       "issues/d45a91b7-8c5d-5343-8cc7-4cbea8e818ff                 0   \n",
       "...                                                       ...   \n",
       "issues/057db976-df8d-5a60-bb9c-af70319976b2                 0   \n",
       "issues/2d9d9160-f858-5491-a370-1e7c9b5c1a03                 0   \n",
       "issues/c181f2ba-33eb-5aa5-8372-2cdda4689a3c                 0   \n",
       "issues/ddc307da-3f7a-5a0d-a7a8-b84a960c7f99                 0   \n",
       "issues/3d530a7a-b0e3-5d3e-8129-d120a98abd7a                 0   \n",
       "\n",
       "                                             label_names_none  \\\n",
       "issue_id                                                        \n",
       "issues/6aedf8a0-9534-5e49-9f32-dd84a403f643                 1   \n",
       "issues/6036d01e-bee1-5a3c-a423-37db00e22778                 1   \n",
       "issues/f8aefd85-8c03-519e-82dc-cca0388363b4                 1   \n",
       "issues/fce88d5c-2e92-560b-a9cb-1d9dfdc9249a                 1   \n",
       "issues/d45a91b7-8c5d-5343-8cc7-4cbea8e818ff                 1   \n",
       "...                                                       ...   \n",
       "issues/057db976-df8d-5a60-bb9c-af70319976b2                 1   \n",
       "issues/2d9d9160-f858-5491-a370-1e7c9b5c1a03                 1   \n",
       "issues/c181f2ba-33eb-5aa5-8372-2cdda4689a3c                 1   \n",
       "issues/ddc307da-3f7a-5a0d-a7a8-b84a960c7f99                 1   \n",
       "issues/3d530a7a-b0e3-5d3e-8129-d120a98abd7a                 1   \n",
       "\n",
       "                                             label_names_question  \\\n",
       "issue_id                                                            \n",
       "issues/6aedf8a0-9534-5e49-9f32-dd84a403f643                     0   \n",
       "issues/6036d01e-bee1-5a3c-a423-37db00e22778                     0   \n",
       "issues/f8aefd85-8c03-519e-82dc-cca0388363b4                     0   \n",
       "issues/fce88d5c-2e92-560b-a9cb-1d9dfdc9249a                     0   \n",
       "issues/d45a91b7-8c5d-5343-8cc7-4cbea8e818ff                     0   \n",
       "...                                                           ...   \n",
       "issues/057db976-df8d-5a60-bb9c-af70319976b2                     0   \n",
       "issues/2d9d9160-f858-5491-a370-1e7c9b5c1a03                     0   \n",
       "issues/c181f2ba-33eb-5aa5-8372-2cdda4689a3c                     0   \n",
       "issues/ddc307da-3f7a-5a0d-a7a8-b84a960c7f99                     0   \n",
       "issues/3d530a7a-b0e3-5d3e-8129-d120a98abd7a                     0   \n",
       "\n",
       "                                             label_names_windows  \\\n",
       "issue_id                                                           \n",
       "issues/6aedf8a0-9534-5e49-9f32-dd84a403f643                    0   \n",
       "issues/6036d01e-bee1-5a3c-a423-37db00e22778                    0   \n",
       "issues/f8aefd85-8c03-519e-82dc-cca0388363b4                    0   \n",
       "issues/fce88d5c-2e92-560b-a9cb-1d9dfdc9249a                    0   \n",
       "issues/d45a91b7-8c5d-5343-8cc7-4cbea8e818ff                    0   \n",
       "...                                                          ...   \n",
       "issues/057db976-df8d-5a60-bb9c-af70319976b2                    0   \n",
       "issues/2d9d9160-f858-5491-a370-1e7c9b5c1a03                    0   \n",
       "issues/c181f2ba-33eb-5aa5-8372-2cdda4689a3c                    0   \n",
       "issues/ddc307da-3f7a-5a0d-a7a8-b84a960c7f99                    0   \n",
       "issues/3d530a7a-b0e3-5d3e-8129-d120a98abd7a                    0   \n",
       "\n",
       "                                             files_changed_.editorconfig  \\\n",
       "issue_id                                                                   \n",
       "issues/6aedf8a0-9534-5e49-9f32-dd84a403f643                            0   \n",
       "issues/6036d01e-bee1-5a3c-a423-37db00e22778                            0   \n",
       "issues/f8aefd85-8c03-519e-82dc-cca0388363b4                            0   \n",
       "issues/fce88d5c-2e92-560b-a9cb-1d9dfdc9249a                            0   \n",
       "issues/d45a91b7-8c5d-5343-8cc7-4cbea8e818ff                            0   \n",
       "...                                                                  ...   \n",
       "issues/057db976-df8d-5a60-bb9c-af70319976b2                            0   \n",
       "issues/2d9d9160-f858-5491-a370-1e7c9b5c1a03                            0   \n",
       "issues/c181f2ba-33eb-5aa5-8372-2cdda4689a3c                            0   \n",
       "issues/ddc307da-3f7a-5a0d-a7a8-b84a960c7f99                            0   \n",
       "issues/3d530a7a-b0e3-5d3e-8129-d120a98abd7a                            0   \n",
       "\n",
       "                                             files_changed_.travis.yml  ...  \\\n",
       "issue_id                                                                ...   \n",
       "issues/6aedf8a0-9534-5e49-9f32-dd84a403f643                          0  ...   \n",
       "issues/6036d01e-bee1-5a3c-a423-37db00e22778                          0  ...   \n",
       "issues/f8aefd85-8c03-519e-82dc-cca0388363b4                          0  ...   \n",
       "issues/fce88d5c-2e92-560b-a9cb-1d9dfdc9249a                          0  ...   \n",
       "issues/d45a91b7-8c5d-5343-8cc7-4cbea8e818ff                          0  ...   \n",
       "...                                                                ...  ...   \n",
       "issues/057db976-df8d-5a60-bb9c-af70319976b2                          0  ...   \n",
       "issues/2d9d9160-f858-5491-a370-1e7c9b5c1a03                          0  ...   \n",
       "issues/c181f2ba-33eb-5aa5-8372-2cdda4689a3c                          0  ...   \n",
       "issues/ddc307da-3f7a-5a0d-a7a8-b84a960c7f99                          0  ...   \n",
       "issues/3d530a7a-b0e3-5d3e-8129-d120a98abd7a                          0  ...   \n",
       "\n",
       "                                             Tfidf_combined_text_你可以用第二个方法  \\\n",
       "issue_id                                                                     \n",
       "issues/6aedf8a0-9534-5e49-9f32-dd84a403f643                            0.0   \n",
       "issues/6036d01e-bee1-5a3c-a423-37db00e22778                            0.0   \n",
       "issues/f8aefd85-8c03-519e-82dc-cca0388363b4                            0.0   \n",
       "issues/fce88d5c-2e92-560b-a9cb-1d9dfdc9249a                            0.0   \n",
       "issues/d45a91b7-8c5d-5343-8cc7-4cbea8e818ff                            0.0   \n",
       "...                                                                    ...   \n",
       "issues/057db976-df8d-5a60-bb9c-af70319976b2                            0.0   \n",
       "issues/2d9d9160-f858-5491-a370-1e7c9b5c1a03                            0.0   \n",
       "issues/c181f2ba-33eb-5aa5-8372-2cdda4689a3c                            0.0   \n",
       "issues/ddc307da-3f7a-5a0d-a7a8-b84a960c7f99                            0.0   \n",
       "issues/3d530a7a-b0e3-5d3e-8129-d120a98abd7a                            0.0   \n",
       "\n",
       "                                             Tfidf_combined_text_同时后面的插入等操作也没有运行  \\\n",
       "issue_id                                                                           \n",
       "issues/6aedf8a0-9534-5e49-9f32-dd84a403f643                                  0.0   \n",
       "issues/6036d01e-bee1-5a3c-a423-37db00e22778                                  0.0   \n",
       "issues/f8aefd85-8c03-519e-82dc-cca0388363b4                                  0.0   \n",
       "issues/fce88d5c-2e92-560b-a9cb-1d9dfdc9249a                                  0.0   \n",
       "issues/d45a91b7-8c5d-5343-8cc7-4cbea8e818ff                                  0.0   \n",
       "...                                                                          ...   \n",
       "issues/057db976-df8d-5a60-bb9c-af70319976b2                                  0.0   \n",
       "issues/2d9d9160-f858-5491-a370-1e7c9b5c1a03                                  0.0   \n",
       "issues/c181f2ba-33eb-5aa5-8372-2cdda4689a3c                                  0.0   \n",
       "issues/ddc307da-3f7a-5a0d-a7a8-b84a960c7f99                                  0.0   \n",
       "issues/3d530a7a-b0e3-5d3e-8129-d120a98abd7a                                  0.0   \n",
       "\n",
       "                                             Tfidf_combined_text_在保存数据前对密码加盐加密  \\\n",
       "issue_id                                                                         \n",
       "issues/6aedf8a0-9534-5e49-9f32-dd84a403f643                                0.0   \n",
       "issues/6036d01e-bee1-5a3c-a423-37db00e22778                                0.0   \n",
       "issues/f8aefd85-8c03-519e-82dc-cca0388363b4                                0.0   \n",
       "issues/fce88d5c-2e92-560b-a9cb-1d9dfdc9249a                                0.0   \n",
       "issues/d45a91b7-8c5d-5343-8cc7-4cbea8e818ff                                0.0   \n",
       "...                                                                        ...   \n",
       "issues/057db976-df8d-5a60-bb9c-af70319976b2                                0.0   \n",
       "issues/2d9d9160-f858-5491-a370-1e7c9b5c1a03                                0.0   \n",
       "issues/c181f2ba-33eb-5aa5-8372-2cdda4689a3c                                0.0   \n",
       "issues/ddc307da-3f7a-5a0d-a7a8-b84a960c7f99                                0.0   \n",
       "issues/3d530a7a-b0e3-5d3e-8129-d120a98abd7a                                0.0   \n",
       "\n",
       "                                             Tfidf_combined_text_我想使用bcrypt  \\\n",
       "issue_id                                                                      \n",
       "issues/6aedf8a0-9534-5e49-9f32-dd84a403f643                             0.0   \n",
       "issues/6036d01e-bee1-5a3c-a423-37db00e22778                             0.0   \n",
       "issues/f8aefd85-8c03-519e-82dc-cca0388363b4                             0.0   \n",
       "issues/fce88d5c-2e92-560b-a9cb-1d9dfdc9249a                             0.0   \n",
       "issues/d45a91b7-8c5d-5343-8cc7-4cbea8e818ff                             0.0   \n",
       "...                                                                     ...   \n",
       "issues/057db976-df8d-5a60-bb9c-af70319976b2                             0.0   \n",
       "issues/2d9d9160-f858-5491-a370-1e7c9b5c1a03                             0.0   \n",
       "issues/c181f2ba-33eb-5aa5-8372-2cdda4689a3c                             0.0   \n",
       "issues/ddc307da-3f7a-5a0d-a7a8-b84a960c7f99                             0.0   \n",
       "issues/3d530a7a-b0e3-5d3e-8129-d120a98abd7a                             0.0   \n",
       "\n",
       "                                             Tfidf_combined_text_无法识别的命令行选项  \\\n",
       "issue_id                                                                      \n",
       "issues/6aedf8a0-9534-5e49-9f32-dd84a403f643                             0.0   \n",
       "issues/6036d01e-bee1-5a3c-a423-37db00e22778                             0.0   \n",
       "issues/f8aefd85-8c03-519e-82dc-cca0388363b4                             0.0   \n",
       "issues/fce88d5c-2e92-560b-a9cb-1d9dfdc9249a                             0.0   \n",
       "issues/d45a91b7-8c5d-5343-8cc7-4cbea8e818ff                             0.0   \n",
       "...                                                                     ...   \n",
       "issues/057db976-df8d-5a60-bb9c-af70319976b2                             0.0   \n",
       "issues/2d9d9160-f858-5491-a370-1e7c9b5c1a03                             0.0   \n",
       "issues/c181f2ba-33eb-5aa5-8372-2cdda4689a3c                             0.0   \n",
       "issues/ddc307da-3f7a-5a0d-a7a8-b84a960c7f99                             0.0   \n",
       "issues/3d530a7a-b0e3-5d3e-8129-d120a98abd7a                             0.0   \n",
       "\n",
       "                                             Tfidf_combined_text_错误  \\\n",
       "issue_id                                                              \n",
       "issues/6aedf8a0-9534-5e49-9f32-dd84a403f643                     0.0   \n",
       "issues/6036d01e-bee1-5a3c-a423-37db00e22778                     0.0   \n",
       "issues/f8aefd85-8c03-519e-82dc-cca0388363b4                     0.0   \n",
       "issues/fce88d5c-2e92-560b-a9cb-1d9dfdc9249a                     0.0   \n",
       "issues/d45a91b7-8c5d-5343-8cc7-4cbea8e818ff                     0.0   \n",
       "...                                                             ...   \n",
       "issues/057db976-df8d-5a60-bb9c-af70319976b2                     0.0   \n",
       "issues/2d9d9160-f858-5491-a370-1e7c9b5c1a03                     0.0   \n",
       "issues/c181f2ba-33eb-5aa5-8372-2cdda4689a3c                     0.0   \n",
       "issues/ddc307da-3f7a-5a0d-a7a8-b84a960c7f99                     0.0   \n",
       "issues/3d530a7a-b0e3-5d3e-8129-d120a98abd7a                     0.0   \n",
       "\n",
       "                                             Tfidf_combined_text_시경  \\\n",
       "issue_id                                                              \n",
       "issues/6aedf8a0-9534-5e49-9f32-dd84a403f643                0.000000   \n",
       "issues/6036d01e-bee1-5a3c-a423-37db00e22778                0.000000   \n",
       "issues/f8aefd85-8c03-519e-82dc-cca0388363b4                0.000000   \n",
       "issues/fce88d5c-2e92-560b-a9cb-1d9dfdc9249a                0.000000   \n",
       "issues/d45a91b7-8c5d-5343-8cc7-4cbea8e818ff                0.000000   \n",
       "...                                                             ...   \n",
       "issues/057db976-df8d-5a60-bb9c-af70319976b2                0.000000   \n",
       "issues/2d9d9160-f858-5491-a370-1e7c9b5c1a03                0.000000   \n",
       "issues/c181f2ba-33eb-5aa5-8372-2cdda4689a3c                0.398694   \n",
       "issues/ddc307da-3f7a-5a0d-a7a8-b84a960c7f99                0.000000   \n",
       "issues/3d530a7a-b0e3-5d3e-8129-d120a98abd7a                0.000000   \n",
       "\n",
       "                                             Num Headers: combined_text  \\\n",
       "issue_id                                                                  \n",
       "issues/6aedf8a0-9534-5e49-9f32-dd84a403f643                    0.000000   \n",
       "issues/6036d01e-bee1-5a3c-a423-37db00e22778                    0.000000   \n",
       "issues/f8aefd85-8c03-519e-82dc-cca0388363b4                    0.000000   \n",
       "issues/fce88d5c-2e92-560b-a9cb-1d9dfdc9249a                    0.027778   \n",
       "issues/d45a91b7-8c5d-5343-8cc7-4cbea8e818ff                    0.000000   \n",
       "...                                                                 ...   \n",
       "issues/057db976-df8d-5a60-bb9c-af70319976b2                    0.000000   \n",
       "issues/2d9d9160-f858-5491-a370-1e7c9b5c1a03                    0.000000   \n",
       "issues/c181f2ba-33eb-5aa5-8372-2cdda4689a3c                    0.000000   \n",
       "issues/ddc307da-3f7a-5a0d-a7a8-b84a960c7f99                    0.000000   \n",
       "issues/3d530a7a-b0e3-5d3e-8129-d120a98abd7a                    0.000000   \n",
       "\n",
       "                                             Num URLs: combined_text  \\\n",
       "issue_id                                                               \n",
       "issues/6aedf8a0-9534-5e49-9f32-dd84a403f643                 0.000000   \n",
       "issues/6036d01e-bee1-5a3c-a423-37db00e22778                 0.000000   \n",
       "issues/f8aefd85-8c03-519e-82dc-cca0388363b4                 0.000000   \n",
       "issues/fce88d5c-2e92-560b-a9cb-1d9dfdc9249a                 0.010846   \n",
       "issues/d45a91b7-8c5d-5343-8cc7-4cbea8e818ff                 0.000000   \n",
       "...                                                              ...   \n",
       "issues/057db976-df8d-5a60-bb9c-af70319976b2                 0.000000   \n",
       "issues/2d9d9160-f858-5491-a370-1e7c9b5c1a03                 0.004338   \n",
       "issues/c181f2ba-33eb-5aa5-8372-2cdda4689a3c                 0.004338   \n",
       "issues/ddc307da-3f7a-5a0d-a7a8-b84a960c7f99                 0.002169   \n",
       "issues/3d530a7a-b0e3-5d3e-8129-d120a98abd7a                 0.000000   \n",
       "\n",
       "                                             Num Code Blocks: combined_text  \n",
       "issue_id                                                                     \n",
       "issues/6aedf8a0-9534-5e49-9f32-dd84a403f643                             0.0  \n",
       "issues/6036d01e-bee1-5a3c-a423-37db00e22778                             0.0  \n",
       "issues/f8aefd85-8c03-519e-82dc-cca0388363b4                             0.0  \n",
       "issues/fce88d5c-2e92-560b-a9cb-1d9dfdc9249a                             0.0  \n",
       "issues/d45a91b7-8c5d-5343-8cc7-4cbea8e818ff                             0.0  \n",
       "...                                                                     ...  \n",
       "issues/057db976-df8d-5a60-bb9c-af70319976b2                             0.0  \n",
       "issues/2d9d9160-f858-5491-a370-1e7c9b5c1a03                             0.0  \n",
       "issues/c181f2ba-33eb-5aa5-8372-2cdda4689a3c                             0.0  \n",
       "issues/ddc307da-3f7a-5a0d-a7a8-b84a960c7f99                             0.0  \n",
       "issues/3d530a7a-b0e3-5d3e-8129-d120a98abd7a                             0.0  \n",
       "\n",
       "[768 rows x 17291 columns]"
      ]
     },
     "execution_count": 506,
     "metadata": {},
     "output_type": "execute_result"
    }
   ],
   "source": [
    "vectors_df"
   ]
  },
  {
   "cell_type": "markdown",
   "metadata": {},
   "source": [
    "## Combine ```vectors_df```,```adj_matrix```, and ```files_changed_df```"
   ]
  },
  {
   "cell_type": "code",
   "execution_count": 507,
   "metadata": {},
   "outputs": [],
   "source": [
    "node_types =[\"pull_requests\", \"issues\", \"commits\"]\n",
    "adj_matrix = create_adjacency_df(repo_graph, node_types)"
   ]
  },
  {
   "cell_type": "code",
   "execution_count": 508,
   "metadata": {
    "scrolled": true
   },
   "outputs": [],
   "source": [
    "vectors_df=vectors_df.merge(adj_matrix, on=\"issue_id\", how=\"left\")"
   ]
  },
  {
   "cell_type": "code",
   "execution_count": 509,
   "metadata": {},
   "outputs": [
    {
     "data": {
      "text/plain": [
       "(768, 19529)"
      ]
     },
     "execution_count": 509,
     "metadata": {},
     "output_type": "execute_result"
    }
   ],
   "source": [
    "vectors_df.shape"
   ]
  },
  {
   "cell_type": "code",
   "execution_count": 308,
   "metadata": {},
   "outputs": [
    {
     "name": "stderr",
     "output_type": "stream",
     "text": [
      "/home/jovyan/work/experiments/Experiment with Ticket Clustering/RepoClusters.py:77: SettingWithCopyWarning: \n",
      "A value is trying to be set on a copy of a slice from a DataFrame.\n",
      "Try using .loc[row_indexer,col_indexer] = value instead\n",
      "\n",
      "See the caveats in the documentation: http://pandas.pydata.org/pandas-docs/stable/user_guide/indexing.html#returning-a-view-versus-a-copy\n",
      "  \n"
     ]
    },
    {
     "data": {
      "text/html": [
       "<div>\n",
       "<style scoped>\n",
       "    .dataframe tbody tr th:only-of-type {\n",
       "        vertical-align: middle;\n",
       "    }\n",
       "\n",
       "    .dataframe tbody tr th {\n",
       "        vertical-align: top;\n",
       "    }\n",
       "\n",
       "    .dataframe thead th {\n",
       "        text-align: right;\n",
       "    }\n",
       "</style>\n",
       "<table border=\"1\" class=\"dataframe\">\n",
       "  <thead>\n",
       "    <tr style=\"text-align: right;\">\n",
       "      <th></th>\n",
       "      <th>label</th>\n",
       "      <th>name</th>\n",
       "      <th>owner</th>\n",
       "      <th>repo_id</th>\n",
       "      <th>url</th>\n",
       "      <th>closed_date</th>\n",
       "      <th>created_date</th>\n",
       "      <th>description</th>\n",
       "      <th>id</th>\n",
       "      <th>number</th>\n",
       "      <th>status</th>\n",
       "      <th>title</th>\n",
       "      <th>updated_date</th>\n",
       "      <th>body</th>\n",
       "      <th># of Comments</th>\n",
       "      <th>Average Length of Comments</th>\n",
       "      <th>label_names</th>\n",
       "      <th>issue_duration</th>\n",
       "      <th>cluster_id</th>\n",
       "    </tr>\n",
       "    <tr>\n",
       "      <th>issue_id</th>\n",
       "      <th></th>\n",
       "      <th></th>\n",
       "      <th></th>\n",
       "      <th></th>\n",
       "      <th></th>\n",
       "      <th></th>\n",
       "      <th></th>\n",
       "      <th></th>\n",
       "      <th></th>\n",
       "      <th></th>\n",
       "      <th></th>\n",
       "      <th></th>\n",
       "      <th></th>\n",
       "      <th></th>\n",
       "      <th></th>\n",
       "      <th></th>\n",
       "      <th></th>\n",
       "      <th></th>\n",
       "      <th></th>\n",
       "    </tr>\n",
       "  </thead>\n",
       "  <tbody>\n",
       "    <tr>\n",
       "      <th>issues/87b2f454-d7ef-5a61-bf2f-002c62a05111</th>\n",
       "      <td>Default-Label</td>\n",
       "      <td>ready</td>\n",
       "      <td>kelektiv</td>\n",
       "      <td>82668c86-65fa-4bec-a9ad-3e3143df8ccb</td>\n",
       "      <td>https://github.com/kelektiv/node-cron</td>\n",
       "      <td>2010-09-17 02:34:40-04:00</td>\n",
       "      <td>2010-09-16 19:18:52-04:00</td>\n",
       "      <td>Hi, I just added exports.CronTime = CronTime s...</td>\n",
       "      <td>319973</td>\n",
       "      <td>1</td>\n",
       "      <td>closed</td>\n",
       "      <td>Accessing CronTime</td>\n",
       "      <td>2010-09-16 19:34:40-04:00</td>\n",
       "      <td>Looks like a good addition to me. Thanks!</td>\n",
       "      <td>2.0</td>\n",
       "      <td>4.5</td>\n",
       "      <td>[none]</td>\n",
       "      <td>0 days 07:15:48</td>\n",
       "      <td>3</td>\n",
       "    </tr>\n",
       "    <tr>\n",
       "      <th>issues/d76660ed-d1df-548b-a40f-4aec1ff0b11c</th>\n",
       "      <td>Default-Label</td>\n",
       "      <td>ready</td>\n",
       "      <td>kelektiv</td>\n",
       "      <td>82668c86-65fa-4bec-a9ad-3e3143df8ccb</td>\n",
       "      <td>https://github.com/kelektiv/node-cron</td>\n",
       "      <td>2011-09-25 17:20:05-04:00</td>\n",
       "      <td>2011-09-23 03:53:51-04:00</td>\n",
       "      <td></td>\n",
       "      <td>1720332</td>\n",
       "      <td>10</td>\n",
       "      <td>closed</td>\n",
       "      <td>Primarily Calculate cron time vs setInterval</td>\n",
       "      <td>2014-07-23 03:33:57-04:00</td>\n",
       "      <td>This looks great.  However, I don't see any ad...</td>\n",
       "      <td>8.0</td>\n",
       "      <td>67.25</td>\n",
       "      <td>[none]</td>\n",
       "      <td>2 days 13:26:14</td>\n",
       "      <td>1</td>\n",
       "    </tr>\n",
       "    <tr>\n",
       "      <th>issues/f092a337-12d7-5844-b4ce-1e0157f56f86</th>\n",
       "      <td>Default-Label</td>\n",
       "      <td>ready</td>\n",
       "      <td>kelektiv</td>\n",
       "      <td>82668c86-65fa-4bec-a9ad-3e3143df8ccb</td>\n",
       "      <td>https://github.com/kelektiv/node-cron</td>\n",
       "      <td>2014-10-14 19:41:33-04:00</td>\n",
       "      <td>2014-09-29 20:33:49-04:00</td>\n",
       "      <td>This fix issue #112.</td>\n",
       "      <td>44352506</td>\n",
       "      <td>114</td>\n",
       "      <td>closed</td>\n",
       "      <td>Exec commands for onTick &amp; onComplete</td>\n",
       "      <td>2014-10-14 20:45:48-04:00</td>\n",
       "      <td>Sorry this took so long. I thought I'd looked ...</td>\n",
       "      <td>4.0</td>\n",
       "      <td>8.25</td>\n",
       "      <td>[none]</td>\n",
       "      <td>14 days 23:07:44</td>\n",
       "      <td>2</td>\n",
       "    </tr>\n",
       "    <tr>\n",
       "      <th>issues/206aceef-033b-5aaa-a764-b6f2d0aceb48</th>\n",
       "      <td>Default-Label</td>\n",
       "      <td>ready</td>\n",
       "      <td>kelektiv</td>\n",
       "      <td>82668c86-65fa-4bec-a9ad-3e3143df8ccb</td>\n",
       "      <td>https://github.com/kelektiv/node-cron</td>\n",
       "      <td>2014-11-11 02:35:46-05:00</td>\n",
       "      <td>2014-10-12 02:50:54-04:00</td>\n",
       "      <td>Hi,  The `_getNextDateFrom` function entered a...</td>\n",
       "      <td>45568234</td>\n",
       "      <td>118</td>\n",
       "      <td>closed</td>\n",
       "      <td>Updated _getNextDateFrom to handle an edge cas...</td>\n",
       "      <td>2014-11-11 02:35:46-05:00</td>\n",
       "      <td>So, the real issue there had to do with the se...</td>\n",
       "      <td>2.0</td>\n",
       "      <td>21.5</td>\n",
       "      <td>[none]</td>\n",
       "      <td>30 days 00:44:52</td>\n",
       "      <td>1</td>\n",
       "    </tr>\n",
       "    <tr>\n",
       "      <th>issues/f06118f2-8b20-57de-b471-b8681d83c1f9</th>\n",
       "      <td>Default-Label</td>\n",
       "      <td>ready</td>\n",
       "      <td>kelektiv</td>\n",
       "      <td>82668c86-65fa-4bec-a9ad-3e3143df8ccb</td>\n",
       "      <td>https://github.com/kelektiv/node-cron</td>\n",
       "      <td>2014-11-11 04:00:37-05:00</td>\n",
       "      <td>2014-11-08 06:15:50-05:00</td>\n",
       "      <td>For compatibility with Node 0.11.x and Windows...</td>\n",
       "      <td>48157238</td>\n",
       "      <td>122</td>\n",
       "      <td>closed</td>\n",
       "      <td>Replace the time module with moment-timezone</td>\n",
       "      <td>2014-11-11 12:47:47-05:00</td>\n",
       "      <td>@ncb000gt  removed in  commit `98dad71`, Altho...</td>\n",
       "      <td>8.0</td>\n",
       "      <td>15.625</td>\n",
       "      <td>[none]</td>\n",
       "      <td>2 days 21:44:47</td>\n",
       "      <td>3</td>\n",
       "    </tr>\n",
       "    <tr>\n",
       "      <th>...</th>\n",
       "      <td>...</td>\n",
       "      <td>...</td>\n",
       "      <td>...</td>\n",
       "      <td>...</td>\n",
       "      <td>...</td>\n",
       "      <td>...</td>\n",
       "      <td>...</td>\n",
       "      <td>...</td>\n",
       "      <td>...</td>\n",
       "      <td>...</td>\n",
       "      <td>...</td>\n",
       "      <td>...</td>\n",
       "      <td>...</td>\n",
       "      <td>...</td>\n",
       "      <td>...</td>\n",
       "      <td>...</td>\n",
       "      <td>...</td>\n",
       "      <td>...</td>\n",
       "      <td>...</td>\n",
       "    </tr>\n",
       "    <tr>\n",
       "      <th>issues/6c7e0ca4-4802-547f-ab72-530cf765dabe</th>\n",
       "      <td>Default-Label</td>\n",
       "      <td>ready</td>\n",
       "      <td>kelektiv</td>\n",
       "      <td>82668c86-65fa-4bec-a9ad-3e3143df8ccb</td>\n",
       "      <td>https://github.com/kelektiv/node-cron</td>\n",
       "      <td>2019-08-25 09:48:34-04:00</td>\n",
       "      <td>2019-08-25 09:42:29-04:00</td>\n",
       "      <td>I don't know how to run it every x seconds.</td>\n",
       "      <td>484911300</td>\n",
       "      <td>436</td>\n",
       "      <td>closed</td>\n",
       "      <td>Sorry to ask: where is the documentation?</td>\n",
       "      <td>2019-08-25 09:48:34-04:00</td>\n",
       "      <td></td>\n",
       "      <td>0.0</td>\n",
       "      <td></td>\n",
       "      <td>[none]</td>\n",
       "      <td>0 days 00:06:05</td>\n",
       "      <td>3</td>\n",
       "    </tr>\n",
       "    <tr>\n",
       "      <th>issues/8cbe0d77-b705-5ef9-a870-4e5600828ed8</th>\n",
       "      <td>Default-Label</td>\n",
       "      <td>ready</td>\n",
       "      <td>kelektiv</td>\n",
       "      <td>82668c86-65fa-4bec-a9ad-3e3143df8ccb</td>\n",
       "      <td>https://github.com/kelektiv/node-cron</td>\n",
       "      <td>2019-09-07 13:59:36-04:00</td>\n",
       "      <td>2019-09-07 08:06:01-04:00</td>\n",
       "      <td>When installing on latest version of moleculer...</td>\n",
       "      <td>490607104</td>\n",
       "      <td>437</td>\n",
       "      <td>closed</td>\n",
       "      <td>npm WARN moleculer-cron@0.0.2 requires a peer ...</td>\n",
       "      <td>2019-09-07 13:59:36-04:00</td>\n",
       "      <td>I updated the dependencies in this package and...</td>\n",
       "      <td>1.0</td>\n",
       "      <td>47</td>\n",
       "      <td>[none]</td>\n",
       "      <td>0 days 05:53:35</td>\n",
       "      <td>4</td>\n",
       "    </tr>\n",
       "    <tr>\n",
       "      <th>issues/56122d45-3b22-503e-a10a-ce13afd4bb9d</th>\n",
       "      <td>Default-Label</td>\n",
       "      <td>ready</td>\n",
       "      <td>kelektiv</td>\n",
       "      <td>82668c86-65fa-4bec-a9ad-3e3143df8ccb</td>\n",
       "      <td>https://github.com/kelektiv/node-cron</td>\n",
       "      <td></td>\n",
       "      <td>2019-09-25 21:41:51-04:00</td>\n",
       "      <td>The API documentation hasn't changed much sinc...</td>\n",
       "      <td>498538247</td>\n",
       "      <td>441</td>\n",
       "      <td>open</td>\n",
       "      <td>Rework the API Documentation so that it's more...</td>\n",
       "      <td>2019-10-11 12:50:19-04:00</td>\n",
       "      <td>Would love to create PR for this, That would b...</td>\n",
       "      <td>5.0</td>\n",
       "      <td>14.4</td>\n",
       "      <td>[Hacktoberfest]</td>\n",
       "      <td></td>\n",
       "      <td>0</td>\n",
       "    </tr>\n",
       "    <tr>\n",
       "      <th>issues/c610346e-013e-5377-818f-ba02c1a7deb0</th>\n",
       "      <td>Default-Label</td>\n",
       "      <td>ready</td>\n",
       "      <td>kelektiv</td>\n",
       "      <td>82668c86-65fa-4bec-a9ad-3e3143df8ccb</td>\n",
       "      <td>https://github.com/kelektiv/node-cron</td>\n",
       "      <td></td>\n",
       "      <td>2019-10-21 11:54:42-04:00</td>\n",
       "      <td>Hello,  I noticed `utcOffset` isn't in the con...</td>\n",
       "      <td>509913690</td>\n",
       "      <td>446</td>\n",
       "      <td>open</td>\n",
       "      <td>Add utcOffset to constructor in docs</td>\n",
       "      <td>2019-10-21 11:54:42-04:00</td>\n",
       "      <td></td>\n",
       "      <td>0.0</td>\n",
       "      <td></td>\n",
       "      <td>[none]</td>\n",
       "      <td></td>\n",
       "      <td>0</td>\n",
       "    </tr>\n",
       "    <tr>\n",
       "      <th>issues/0cfcc2af-e451-5dc6-ba01-df3064fb116d</th>\n",
       "      <td>Default-Label</td>\n",
       "      <td>ready</td>\n",
       "      <td>kelektiv</td>\n",
       "      <td>82668c86-65fa-4bec-a9ad-3e3143df8ccb</td>\n",
       "      <td>https://github.com/kelektiv/node-cron</td>\n",
       "      <td></td>\n",
       "      <td>2019-11-12 06:50:37-05:00</td>\n",
       "      <td>Sorry I'm pretty new to work with cron, I set ...</td>\n",
       "      <td>521362585</td>\n",
       "      <td>447</td>\n",
       "      <td>open</td>\n",
       "      <td>cron stop after change server time</td>\n",
       "      <td>2019-11-22 19:56:48-05:00</td>\n",
       "      <td>The first job should run from minute 16 - 17 a...</td>\n",
       "      <td>1.0</td>\n",
       "      <td>94</td>\n",
       "      <td>[none]</td>\n",
       "      <td></td>\n",
       "      <td>0</td>\n",
       "    </tr>\n",
       "  </tbody>\n",
       "</table>\n",
       "<p>448 rows × 19 columns</p>\n",
       "</div>"
      ],
      "text/plain": [
       "                                                     label   name     owner  \\\n",
       "issue_id                                                                      \n",
       "issues/87b2f454-d7ef-5a61-bf2f-002c62a05111  Default-Label  ready  kelektiv   \n",
       "issues/d76660ed-d1df-548b-a40f-4aec1ff0b11c  Default-Label  ready  kelektiv   \n",
       "issues/f092a337-12d7-5844-b4ce-1e0157f56f86  Default-Label  ready  kelektiv   \n",
       "issues/206aceef-033b-5aaa-a764-b6f2d0aceb48  Default-Label  ready  kelektiv   \n",
       "issues/f06118f2-8b20-57de-b471-b8681d83c1f9  Default-Label  ready  kelektiv   \n",
       "...                                                    ...    ...       ...   \n",
       "issues/6c7e0ca4-4802-547f-ab72-530cf765dabe  Default-Label  ready  kelektiv   \n",
       "issues/8cbe0d77-b705-5ef9-a870-4e5600828ed8  Default-Label  ready  kelektiv   \n",
       "issues/56122d45-3b22-503e-a10a-ce13afd4bb9d  Default-Label  ready  kelektiv   \n",
       "issues/c610346e-013e-5377-818f-ba02c1a7deb0  Default-Label  ready  kelektiv   \n",
       "issues/0cfcc2af-e451-5dc6-ba01-df3064fb116d  Default-Label  ready  kelektiv   \n",
       "\n",
       "                                                                          repo_id  \\\n",
       "issue_id                                                                            \n",
       "issues/87b2f454-d7ef-5a61-bf2f-002c62a05111  82668c86-65fa-4bec-a9ad-3e3143df8ccb   \n",
       "issues/d76660ed-d1df-548b-a40f-4aec1ff0b11c  82668c86-65fa-4bec-a9ad-3e3143df8ccb   \n",
       "issues/f092a337-12d7-5844-b4ce-1e0157f56f86  82668c86-65fa-4bec-a9ad-3e3143df8ccb   \n",
       "issues/206aceef-033b-5aaa-a764-b6f2d0aceb48  82668c86-65fa-4bec-a9ad-3e3143df8ccb   \n",
       "issues/f06118f2-8b20-57de-b471-b8681d83c1f9  82668c86-65fa-4bec-a9ad-3e3143df8ccb   \n",
       "...                                                                           ...   \n",
       "issues/6c7e0ca4-4802-547f-ab72-530cf765dabe  82668c86-65fa-4bec-a9ad-3e3143df8ccb   \n",
       "issues/8cbe0d77-b705-5ef9-a870-4e5600828ed8  82668c86-65fa-4bec-a9ad-3e3143df8ccb   \n",
       "issues/56122d45-3b22-503e-a10a-ce13afd4bb9d  82668c86-65fa-4bec-a9ad-3e3143df8ccb   \n",
       "issues/c610346e-013e-5377-818f-ba02c1a7deb0  82668c86-65fa-4bec-a9ad-3e3143df8ccb   \n",
       "issues/0cfcc2af-e451-5dc6-ba01-df3064fb116d  82668c86-65fa-4bec-a9ad-3e3143df8ccb   \n",
       "\n",
       "                                                                               url  \\\n",
       "issue_id                                                                             \n",
       "issues/87b2f454-d7ef-5a61-bf2f-002c62a05111  https://github.com/kelektiv/node-cron   \n",
       "issues/d76660ed-d1df-548b-a40f-4aec1ff0b11c  https://github.com/kelektiv/node-cron   \n",
       "issues/f092a337-12d7-5844-b4ce-1e0157f56f86  https://github.com/kelektiv/node-cron   \n",
       "issues/206aceef-033b-5aaa-a764-b6f2d0aceb48  https://github.com/kelektiv/node-cron   \n",
       "issues/f06118f2-8b20-57de-b471-b8681d83c1f9  https://github.com/kelektiv/node-cron   \n",
       "...                                                                            ...   \n",
       "issues/6c7e0ca4-4802-547f-ab72-530cf765dabe  https://github.com/kelektiv/node-cron   \n",
       "issues/8cbe0d77-b705-5ef9-a870-4e5600828ed8  https://github.com/kelektiv/node-cron   \n",
       "issues/56122d45-3b22-503e-a10a-ce13afd4bb9d  https://github.com/kelektiv/node-cron   \n",
       "issues/c610346e-013e-5377-818f-ba02c1a7deb0  https://github.com/kelektiv/node-cron   \n",
       "issues/0cfcc2af-e451-5dc6-ba01-df3064fb116d  https://github.com/kelektiv/node-cron   \n",
       "\n",
       "                                                           closed_date  \\\n",
       "issue_id                                                                 \n",
       "issues/87b2f454-d7ef-5a61-bf2f-002c62a05111  2010-09-17 02:34:40-04:00   \n",
       "issues/d76660ed-d1df-548b-a40f-4aec1ff0b11c  2011-09-25 17:20:05-04:00   \n",
       "issues/f092a337-12d7-5844-b4ce-1e0157f56f86  2014-10-14 19:41:33-04:00   \n",
       "issues/206aceef-033b-5aaa-a764-b6f2d0aceb48  2014-11-11 02:35:46-05:00   \n",
       "issues/f06118f2-8b20-57de-b471-b8681d83c1f9  2014-11-11 04:00:37-05:00   \n",
       "...                                                                ...   \n",
       "issues/6c7e0ca4-4802-547f-ab72-530cf765dabe  2019-08-25 09:48:34-04:00   \n",
       "issues/8cbe0d77-b705-5ef9-a870-4e5600828ed8  2019-09-07 13:59:36-04:00   \n",
       "issues/56122d45-3b22-503e-a10a-ce13afd4bb9d                              \n",
       "issues/c610346e-013e-5377-818f-ba02c1a7deb0                              \n",
       "issues/0cfcc2af-e451-5dc6-ba01-df3064fb116d                              \n",
       "\n",
       "                                                         created_date  \\\n",
       "issue_id                                                                \n",
       "issues/87b2f454-d7ef-5a61-bf2f-002c62a05111 2010-09-16 19:18:52-04:00   \n",
       "issues/d76660ed-d1df-548b-a40f-4aec1ff0b11c 2011-09-23 03:53:51-04:00   \n",
       "issues/f092a337-12d7-5844-b4ce-1e0157f56f86 2014-09-29 20:33:49-04:00   \n",
       "issues/206aceef-033b-5aaa-a764-b6f2d0aceb48 2014-10-12 02:50:54-04:00   \n",
       "issues/f06118f2-8b20-57de-b471-b8681d83c1f9 2014-11-08 06:15:50-05:00   \n",
       "...                                                               ...   \n",
       "issues/6c7e0ca4-4802-547f-ab72-530cf765dabe 2019-08-25 09:42:29-04:00   \n",
       "issues/8cbe0d77-b705-5ef9-a870-4e5600828ed8 2019-09-07 08:06:01-04:00   \n",
       "issues/56122d45-3b22-503e-a10a-ce13afd4bb9d 2019-09-25 21:41:51-04:00   \n",
       "issues/c610346e-013e-5377-818f-ba02c1a7deb0 2019-10-21 11:54:42-04:00   \n",
       "issues/0cfcc2af-e451-5dc6-ba01-df3064fb116d 2019-11-12 06:50:37-05:00   \n",
       "\n",
       "                                                                                   description  \\\n",
       "issue_id                                                                                         \n",
       "issues/87b2f454-d7ef-5a61-bf2f-002c62a05111  Hi, I just added exports.CronTime = CronTime s...   \n",
       "issues/d76660ed-d1df-548b-a40f-4aec1ff0b11c                                                      \n",
       "issues/f092a337-12d7-5844-b4ce-1e0157f56f86                              This fix issue #112.    \n",
       "issues/206aceef-033b-5aaa-a764-b6f2d0aceb48  Hi,  The `_getNextDateFrom` function entered a...   \n",
       "issues/f06118f2-8b20-57de-b471-b8681d83c1f9  For compatibility with Node 0.11.x and Windows...   \n",
       "...                                                                                        ...   \n",
       "issues/6c7e0ca4-4802-547f-ab72-530cf765dabe        I don't know how to run it every x seconds.   \n",
       "issues/8cbe0d77-b705-5ef9-a870-4e5600828ed8  When installing on latest version of moleculer...   \n",
       "issues/56122d45-3b22-503e-a10a-ce13afd4bb9d  The API documentation hasn't changed much sinc...   \n",
       "issues/c610346e-013e-5377-818f-ba02c1a7deb0  Hello,  I noticed `utcOffset` isn't in the con...   \n",
       "issues/0cfcc2af-e451-5dc6-ba01-df3064fb116d  Sorry I'm pretty new to work with cron, I set ...   \n",
       "\n",
       "                                                    id number  status  \\\n",
       "issue_id                                                                \n",
       "issues/87b2f454-d7ef-5a61-bf2f-002c62a05111     319973      1  closed   \n",
       "issues/d76660ed-d1df-548b-a40f-4aec1ff0b11c    1720332     10  closed   \n",
       "issues/f092a337-12d7-5844-b4ce-1e0157f56f86   44352506    114  closed   \n",
       "issues/206aceef-033b-5aaa-a764-b6f2d0aceb48   45568234    118  closed   \n",
       "issues/f06118f2-8b20-57de-b471-b8681d83c1f9   48157238    122  closed   \n",
       "...                                                ...    ...     ...   \n",
       "issues/6c7e0ca4-4802-547f-ab72-530cf765dabe  484911300    436  closed   \n",
       "issues/8cbe0d77-b705-5ef9-a870-4e5600828ed8  490607104    437  closed   \n",
       "issues/56122d45-3b22-503e-a10a-ce13afd4bb9d  498538247    441    open   \n",
       "issues/c610346e-013e-5377-818f-ba02c1a7deb0  509913690    446    open   \n",
       "issues/0cfcc2af-e451-5dc6-ba01-df3064fb116d  521362585    447    open   \n",
       "\n",
       "                                                                                         title  \\\n",
       "issue_id                                                                                         \n",
       "issues/87b2f454-d7ef-5a61-bf2f-002c62a05111                                 Accessing CronTime   \n",
       "issues/d76660ed-d1df-548b-a40f-4aec1ff0b11c       Primarily Calculate cron time vs setInterval   \n",
       "issues/f092a337-12d7-5844-b4ce-1e0157f56f86              Exec commands for onTick & onComplete   \n",
       "issues/206aceef-033b-5aaa-a764-b6f2d0aceb48  Updated _getNextDateFrom to handle an edge cas...   \n",
       "issues/f06118f2-8b20-57de-b471-b8681d83c1f9       Replace the time module with moment-timezone   \n",
       "...                                                                                        ...   \n",
       "issues/6c7e0ca4-4802-547f-ab72-530cf765dabe          Sorry to ask: where is the documentation?   \n",
       "issues/8cbe0d77-b705-5ef9-a870-4e5600828ed8  npm WARN moleculer-cron@0.0.2 requires a peer ...   \n",
       "issues/56122d45-3b22-503e-a10a-ce13afd4bb9d  Rework the API Documentation so that it's more...   \n",
       "issues/c610346e-013e-5377-818f-ba02c1a7deb0              Add utcOffset to constructor in docs    \n",
       "issues/0cfcc2af-e451-5dc6-ba01-df3064fb116d                 cron stop after change server time   \n",
       "\n",
       "                                                         updated_date  \\\n",
       "issue_id                                                                \n",
       "issues/87b2f454-d7ef-5a61-bf2f-002c62a05111 2010-09-16 19:34:40-04:00   \n",
       "issues/d76660ed-d1df-548b-a40f-4aec1ff0b11c 2014-07-23 03:33:57-04:00   \n",
       "issues/f092a337-12d7-5844-b4ce-1e0157f56f86 2014-10-14 20:45:48-04:00   \n",
       "issues/206aceef-033b-5aaa-a764-b6f2d0aceb48 2014-11-11 02:35:46-05:00   \n",
       "issues/f06118f2-8b20-57de-b471-b8681d83c1f9 2014-11-11 12:47:47-05:00   \n",
       "...                                                               ...   \n",
       "issues/6c7e0ca4-4802-547f-ab72-530cf765dabe 2019-08-25 09:48:34-04:00   \n",
       "issues/8cbe0d77-b705-5ef9-a870-4e5600828ed8 2019-09-07 13:59:36-04:00   \n",
       "issues/56122d45-3b22-503e-a10a-ce13afd4bb9d 2019-10-11 12:50:19-04:00   \n",
       "issues/c610346e-013e-5377-818f-ba02c1a7deb0 2019-10-21 11:54:42-04:00   \n",
       "issues/0cfcc2af-e451-5dc6-ba01-df3064fb116d 2019-11-22 19:56:48-05:00   \n",
       "\n",
       "                                                                                          body  \\\n",
       "issue_id                                                                                         \n",
       "issues/87b2f454-d7ef-5a61-bf2f-002c62a05111         Looks like a good addition to me. Thanks!    \n",
       "issues/d76660ed-d1df-548b-a40f-4aec1ff0b11c  This looks great.  However, I don't see any ad...   \n",
       "issues/f092a337-12d7-5844-b4ce-1e0157f56f86  Sorry this took so long. I thought I'd looked ...   \n",
       "issues/206aceef-033b-5aaa-a764-b6f2d0aceb48  So, the real issue there had to do with the se...   \n",
       "issues/f06118f2-8b20-57de-b471-b8681d83c1f9  @ncb000gt  removed in  commit `98dad71`, Altho...   \n",
       "...                                                                                        ...   \n",
       "issues/6c7e0ca4-4802-547f-ab72-530cf765dabe                                                      \n",
       "issues/8cbe0d77-b705-5ef9-a870-4e5600828ed8  I updated the dependencies in this package and...   \n",
       "issues/56122d45-3b22-503e-a10a-ce13afd4bb9d  Would love to create PR for this, That would b...   \n",
       "issues/c610346e-013e-5377-818f-ba02c1a7deb0                                                      \n",
       "issues/0cfcc2af-e451-5dc6-ba01-df3064fb116d  The first job should run from minute 16 - 17 a...   \n",
       "\n",
       "                                             # of Comments  \\\n",
       "issue_id                                                     \n",
       "issues/87b2f454-d7ef-5a61-bf2f-002c62a05111            2.0   \n",
       "issues/d76660ed-d1df-548b-a40f-4aec1ff0b11c            8.0   \n",
       "issues/f092a337-12d7-5844-b4ce-1e0157f56f86            4.0   \n",
       "issues/206aceef-033b-5aaa-a764-b6f2d0aceb48            2.0   \n",
       "issues/f06118f2-8b20-57de-b471-b8681d83c1f9            8.0   \n",
       "...                                                    ...   \n",
       "issues/6c7e0ca4-4802-547f-ab72-530cf765dabe            0.0   \n",
       "issues/8cbe0d77-b705-5ef9-a870-4e5600828ed8            1.0   \n",
       "issues/56122d45-3b22-503e-a10a-ce13afd4bb9d            5.0   \n",
       "issues/c610346e-013e-5377-818f-ba02c1a7deb0            0.0   \n",
       "issues/0cfcc2af-e451-5dc6-ba01-df3064fb116d            1.0   \n",
       "\n",
       "                                            Average Length of Comments  \\\n",
       "issue_id                                                                 \n",
       "issues/87b2f454-d7ef-5a61-bf2f-002c62a05111                        4.5   \n",
       "issues/d76660ed-d1df-548b-a40f-4aec1ff0b11c                      67.25   \n",
       "issues/f092a337-12d7-5844-b4ce-1e0157f56f86                       8.25   \n",
       "issues/206aceef-033b-5aaa-a764-b6f2d0aceb48                       21.5   \n",
       "issues/f06118f2-8b20-57de-b471-b8681d83c1f9                     15.625   \n",
       "...                                                                ...   \n",
       "issues/6c7e0ca4-4802-547f-ab72-530cf765dabe                              \n",
       "issues/8cbe0d77-b705-5ef9-a870-4e5600828ed8                         47   \n",
       "issues/56122d45-3b22-503e-a10a-ce13afd4bb9d                       14.4   \n",
       "issues/c610346e-013e-5377-818f-ba02c1a7deb0                              \n",
       "issues/0cfcc2af-e451-5dc6-ba01-df3064fb116d                         94   \n",
       "\n",
       "                                                 label_names  \\\n",
       "issue_id                                                       \n",
       "issues/87b2f454-d7ef-5a61-bf2f-002c62a05111           [none]   \n",
       "issues/d76660ed-d1df-548b-a40f-4aec1ff0b11c           [none]   \n",
       "issues/f092a337-12d7-5844-b4ce-1e0157f56f86           [none]   \n",
       "issues/206aceef-033b-5aaa-a764-b6f2d0aceb48           [none]   \n",
       "issues/f06118f2-8b20-57de-b471-b8681d83c1f9           [none]   \n",
       "...                                                      ...   \n",
       "issues/6c7e0ca4-4802-547f-ab72-530cf765dabe           [none]   \n",
       "issues/8cbe0d77-b705-5ef9-a870-4e5600828ed8           [none]   \n",
       "issues/56122d45-3b22-503e-a10a-ce13afd4bb9d  [Hacktoberfest]   \n",
       "issues/c610346e-013e-5377-818f-ba02c1a7deb0           [none]   \n",
       "issues/0cfcc2af-e451-5dc6-ba01-df3064fb116d           [none]   \n",
       "\n",
       "                                               issue_duration  cluster_id  \n",
       "issue_id                                                                   \n",
       "issues/87b2f454-d7ef-5a61-bf2f-002c62a05111   0 days 07:15:48           3  \n",
       "issues/d76660ed-d1df-548b-a40f-4aec1ff0b11c   2 days 13:26:14           1  \n",
       "issues/f092a337-12d7-5844-b4ce-1e0157f56f86  14 days 23:07:44           2  \n",
       "issues/206aceef-033b-5aaa-a764-b6f2d0aceb48  30 days 00:44:52           1  \n",
       "issues/f06118f2-8b20-57de-b471-b8681d83c1f9   2 days 21:44:47           3  \n",
       "...                                                       ...         ...  \n",
       "issues/6c7e0ca4-4802-547f-ab72-530cf765dabe   0 days 00:06:05           3  \n",
       "issues/8cbe0d77-b705-5ef9-a870-4e5600828ed8   0 days 05:53:35           4  \n",
       "issues/56122d45-3b22-503e-a10a-ce13afd4bb9d                             0  \n",
       "issues/c610346e-013e-5377-818f-ba02c1a7deb0                             0  \n",
       "issues/0cfcc2af-e451-5dc6-ba01-df3064fb116d                             0  \n",
       "\n",
       "[448 rows x 19 columns]"
      ]
     },
     "execution_count": 308,
     "metadata": {},
     "output_type": "execute_result"
    }
   ],
   "source": [
    "from RepoClusters import RepoClusters\n",
    "repoClusters = RepoClusters(\"data/12_02_graph.xgmml\")\n",
    "repoClusters.vectorize().cluster(k=5)\n",
    "repo_ids = repoClusters.get_repo_ids()\n",
    "repoClusters.get_clustered_repo_df(repo_ids[0])"
   ]
  },
  {
   "cell_type": "markdown",
   "metadata": {},
   "source": [
    "# Determine the # of Clusters"
   ]
  },
  {
   "cell_type": "code",
   "execution_count": 342,
   "metadata": {},
   "outputs": [],
   "source": [
    "from sklearn.cluster import AgglomerativeClustering\n",
    "from sklearn import decomposition"
   ]
  },
  {
   "cell_type": "code",
   "execution_count": 346,
   "metadata": {},
   "outputs": [],
   "source": [
    "kmeans_model = KMeans(random_state=0)\n",
    "hierarchical_model = AgglomerativeClustering(affinity='euclidean', linkage='ward')\n",
    "##skipped knn does not do well with high dimensionality\n",
    "\n",
    "models = [kmeans_model, hierarchical_model, pca_model]\n",
    "\n",
    "def elbow_method(model, df, metric, k_range):\n",
    "    visualizer = KElbowVisualizer(model, k=k_range, metric=metric, timings=False)\n",
    "    visualizer.fit(df)    \n",
    "    visualizer.poof()"
   ]
  },
  {
   "cell_type": "markdown",
   "metadata": {},
   "source": [
    "## Silhouette  Method"
   ]
  },
  {
   "cell_type": "code",
   "execution_count": 345,
   "metadata": {},
   "outputs": [
    {
     "data": {
      "image/png": "[encoded data removed]",
      "text/plain": [
       "<Figure size 576x396 with 1 Axes>"
      ]
     },
     "metadata": {},
     "output_type": "display_data"
    },
    {
     "name": "stderr",
     "output_type": "stream",
     "text": [
      "/home/jovyan/.local/lib/python3.6/site-packages/yellowbrick/utils/kneed.py:182: YellowbrickWarning: No \"knee\" or \"elbow point\" detected This could be due to bad clustering, no actual clusters being formed etc.\n",
      "  warnings.warn(warning_message, YellowbrickWarning)\n",
      "/home/jovyan/.local/lib/python3.6/site-packages/yellowbrick/utils/kneed.py:140: YellowbrickWarning: No 'knee' or 'elbow point' detected This could be due to bad clustering, no actual clusters being formed etc.\n",
      "  warnings.warn(warning_message, YellowbrickWarning)\n",
      "/home/jovyan/.local/lib/python3.6/site-packages/yellowbrick/cluster/elbow.py:343: YellowbrickWarning: No 'knee' or 'elbow' point detected, pass `locate_elbow=False` to remove the warning\n",
      "  warnings.warn(warning_message, YellowbrickWarning)\n"
     ]
    },
    {
     "data": {
      "image/png": "[encoded data removed]",
      "text/plain": [
       "<Figure size 576x396 with 1 Axes>"
      ]
     },
     "metadata": {},
     "output_type": "display_data"
    },
    {
     "ename": "YellowbrickTypeError",
     "evalue": "The supplied model is not a clustering estimator; try a classifier or regression score visualizer instead!",
     "output_type": "error",
     "traceback": [
      "\u001b[0;31m---------------------------------------------------------------------------\u001b[0m",
      "\u001b[0;31mYellowbrickTypeError\u001b[0m                      Traceback (most recent call last)",
      "\u001b[0;32m<ipython-input-345-7aa176ae1d8f>\u001b[0m in \u001b[0;36m<module>\u001b[0;34m\u001b[0m\n\u001b[1;32m      1\u001b[0m \u001b[0;32mfor\u001b[0m \u001b[0mmodel\u001b[0m \u001b[0;32min\u001b[0m \u001b[0mmodels\u001b[0m\u001b[0;34m:\u001b[0m\u001b[0;34m\u001b[0m\u001b[0m\n\u001b[0;32m----> 2\u001b[0;31m     \u001b[0melbow_method\u001b[0m\u001b[0;34m(\u001b[0m\u001b[0mmodel\u001b[0m\u001b[0;34m,\u001b[0m \u001b[0mvectors_df\u001b[0m\u001b[0;34m,\u001b[0m \u001b[0;34m\"silhouette\"\u001b[0m\u001b[0;34m,\u001b[0m \u001b[0;34m(\u001b[0m\u001b[0;36m2\u001b[0m\u001b[0;34m,\u001b[0m\u001b[0;36m20\u001b[0m\u001b[0;34m)\u001b[0m\u001b[0;34m)\u001b[0m\u001b[0;34m\u001b[0m\u001b[0m\n\u001b[0m",
      "\u001b[0;32m<ipython-input-344-f12abcf377a8>\u001b[0m in \u001b[0;36melbow_method\u001b[0;34m(model, df, metric, k_range)\u001b[0m\n\u001b[1;32m      7\u001b[0m \u001b[0;34m\u001b[0m\u001b[0m\n\u001b[1;32m      8\u001b[0m \u001b[0;32mdef\u001b[0m \u001b[0melbow_method\u001b[0m\u001b[0;34m(\u001b[0m\u001b[0mmodel\u001b[0m\u001b[0;34m,\u001b[0m \u001b[0mdf\u001b[0m\u001b[0;34m,\u001b[0m \u001b[0mmetric\u001b[0m\u001b[0;34m,\u001b[0m \u001b[0mk_range\u001b[0m\u001b[0;34m)\u001b[0m\u001b[0;34m:\u001b[0m\u001b[0;34m\u001b[0m\u001b[0m\n\u001b[0;32m----> 9\u001b[0;31m     \u001b[0mvisualizer\u001b[0m \u001b[0;34m=\u001b[0m \u001b[0mKElbowVisualizer\u001b[0m\u001b[0;34m(\u001b[0m\u001b[0mmodel\u001b[0m\u001b[0;34m,\u001b[0m \u001b[0mk\u001b[0m\u001b[0;34m=\u001b[0m\u001b[0mk_range\u001b[0m\u001b[0;34m,\u001b[0m \u001b[0mmetric\u001b[0m\u001b[0;34m=\u001b[0m\u001b[0mmetric\u001b[0m\u001b[0;34m,\u001b[0m \u001b[0mtimings\u001b[0m\u001b[0;34m=\u001b[0m\u001b[0;32mFalse\u001b[0m\u001b[0;34m)\u001b[0m\u001b[0;34m\u001b[0m\u001b[0m\n\u001b[0m\u001b[1;32m     10\u001b[0m     \u001b[0mvisualizer\u001b[0m\u001b[0;34m.\u001b[0m\u001b[0mfit\u001b[0m\u001b[0;34m(\u001b[0m\u001b[0mdf\u001b[0m\u001b[0;34m)\u001b[0m\u001b[0;34m\u001b[0m\u001b[0m\n\u001b[1;32m     11\u001b[0m     \u001b[0mvisualizer\u001b[0m\u001b[0;34m.\u001b[0m\u001b[0mpoof\u001b[0m\u001b[0;34m(\u001b[0m\u001b[0;34m)\u001b[0m\u001b[0;34m\u001b[0m\u001b[0m\n",
      "\u001b[0;32m~/.local/lib/python3.6/site-packages/yellowbrick/cluster/elbow.py\u001b[0m in \u001b[0;36m__init__\u001b[0;34m(self, model, ax, k, metric, timings, locate_elbow, **kwargs)\u001b[0m\n\u001b[1;32m    245\u001b[0m         \u001b[0;34m**\u001b[0m\u001b[0mkwargs\u001b[0m\u001b[0;34m\u001b[0m\u001b[0m\n\u001b[1;32m    246\u001b[0m     ):\n\u001b[0;32m--> 247\u001b[0;31m         \u001b[0msuper\u001b[0m\u001b[0;34m(\u001b[0m\u001b[0mKElbowVisualizer\u001b[0m\u001b[0;34m,\u001b[0m \u001b[0mself\u001b[0m\u001b[0;34m)\u001b[0m\u001b[0;34m.\u001b[0m\u001b[0m__init__\u001b[0m\u001b[0;34m(\u001b[0m\u001b[0mmodel\u001b[0m\u001b[0;34m,\u001b[0m \u001b[0max\u001b[0m\u001b[0;34m=\u001b[0m\u001b[0max\u001b[0m\u001b[0;34m,\u001b[0m \u001b[0;34m**\u001b[0m\u001b[0mkwargs\u001b[0m\u001b[0;34m)\u001b[0m\u001b[0;34m\u001b[0m\u001b[0m\n\u001b[0m\u001b[1;32m    248\u001b[0m \u001b[0;34m\u001b[0m\u001b[0m\n\u001b[1;32m    249\u001b[0m         \u001b[0;31m# Get the scoring method\u001b[0m\u001b[0;34m\u001b[0m\u001b[0;34m\u001b[0m\u001b[0m\n",
      "\u001b[0;32m~/.local/lib/python3.6/site-packages/yellowbrick/cluster/base.py\u001b[0m in \u001b[0;36m__init__\u001b[0;34m(self, model, ax, fig, force_model, **kwargs)\u001b[0m\n\u001b[1;32m     44\u001b[0m         \u001b[0;32mif\u001b[0m \u001b[0;32mnot\u001b[0m \u001b[0mforce_model\u001b[0m \u001b[0;32mand\u001b[0m \u001b[0;32mnot\u001b[0m \u001b[0misclusterer\u001b[0m\u001b[0;34m(\u001b[0m\u001b[0mmodel\u001b[0m\u001b[0;34m)\u001b[0m\u001b[0;34m:\u001b[0m\u001b[0;34m\u001b[0m\u001b[0m\n\u001b[1;32m     45\u001b[0m             raise YellowbrickTypeError(\n\u001b[0;32m---> 46\u001b[0;31m                 \u001b[0;34m\"The supplied model is not a clustering estimator; try a \"\u001b[0m\u001b[0;34m\u001b[0m\u001b[0m\n\u001b[0m\u001b[1;32m     47\u001b[0m                 \u001b[0;34m\"classifier or regression score visualizer instead!\"\u001b[0m\u001b[0;34m\u001b[0m\u001b[0m\n\u001b[1;32m     48\u001b[0m             )\n",
      "\u001b[0;31mYellowbrickTypeError\u001b[0m: The supplied model is not a clustering estimator; try a classifier or regression score visualizer instead!"
     ]
    }
   ],
   "source": [
    "for model in models: \n",
    "    elbow_method(model, vectors_df, \"silhouette\", (2,20))"
   ]
  },
  {
   "cell_type": "markdown",
   "metadata": {},
   "source": [
    "## Elbow Method"
   ]
  },
  {
   "cell_type": "code",
   "execution_count": 336,
   "metadata": {},
   "outputs": [
    {
     "data": {
      "image/png": "[encoded data removed]",
      "text/plain": [
       "<Figure size 576x396 with 1 Axes>"
      ]
     },
     "metadata": {},
     "output_type": "display_data"
    }
   ],
   "source": [
    "elbow_method(model, vectors_df, \"distortion\", (2,20))"
   ]
  },
  {
   "cell_type": "markdown",
   "metadata": {},
   "source": [
    "## Gap Statistic"
   ]
  },
  {
   "cell_type": "code",
   "execution_count": 219,
   "metadata": {},
   "outputs": [],
   "source": [
    "def optimalK(data, nrefs, maxClusters):\n",
    "    \"\"\"\n",
    "    Calculates KMeans optimal K using Gap Statistic from Tibshirani, Walther, Hastie\n",
    "    Params:\n",
    "        data: ndarry of shape (n_samples, n_features)\n",
    "        nrefs: number of sample reference datasets to create\n",
    "        maxClusters: Maximum number of clusters to test for\n",
    "    Returns: (gaps, optimalK)\n",
    "    \"\"\"\n",
    "    gaps = np.zeros((len(range(1, maxClusters)),))\n",
    "    resultsdf = pd.DataFrame({'clusterCount':[], 'gap':[]})\n",
    "    for gap_index, k in enumerate(range(1, maxClusters)):\n",
    "\n",
    "        # Holder for reference dispersion results\n",
    "        refDisps = np.zeros(nrefs)\n",
    "\n",
    "        # For n references, generate random sample and perform kmeans getting resulting dispersion of each loop\n",
    "        for i in range(nrefs):\n",
    "            \n",
    "            # Create new random reference set\n",
    "            randomReference = np.random.random_sample(size=data.shape)\n",
    "            \n",
    "            # Fit to it\n",
    "            km = KMeans(k)\n",
    "            km.fit(randomReference)\n",
    "            \n",
    "            refDisp = km.inertia_\n",
    "            refDisps[i] = refDisp\n",
    "\n",
    "        # Fit cluster to original data and create dispersion\n",
    "        km = KMeans(k)\n",
    "        km.fit(data)\n",
    "        \n",
    "        origDisp = km.inertia_\n",
    "\n",
    "        # Calculate gap statistic\n",
    "        gap = np.log(np.mean(refDisps)) - np.log(origDisp)\n",
    "\n",
    "        # Assign this loop's gap statistic to gaps\n",
    "        gaps[gap_index] = gap\n",
    "        \n",
    "        resultsdf = resultsdf.append({'clusterCount':k, 'gap':gap}, ignore_index=True)\n",
    "\n",
    "    return (gaps.argmax() + 1, resultsdf)  # Plus 1 because index of 0 means 1 cluster is optimal, index 2 = 3 clusters are optimal"
   ]
  },
  {
   "cell_type": "code",
   "execution_count": 289,
   "metadata": {},
   "outputs": [
    {
     "name": "stdout",
     "output_type": "stream",
     "text": [
      "Optimal k is: 18\n"
     ]
    }
   ],
   "source": [
    "k, gapdf = optimalK(vectors_df, nrefs=5, maxClusters=20)\n",
    "print ('Optimal k is: '+str( k))"
   ]
  },
  {
   "cell_type": "code",
   "execution_count": 290,
   "metadata": {},
   "outputs": [
    {
     "data": {
      "image/png": "[encoded data removed]",
      "text/plain": [
       "<Figure size 576x396 with 1 Axes>"
      ]
     },
     "metadata": {},
     "output_type": "display_data"
    }
   ],
   "source": [
    "plt.plot(gapdf.clusterCount, gapdf.gap, linewidth=3)\n",
    "plt.scatter(gapdf[gapdf.clusterCount == k].clusterCount, gapdf[gapdf.clusterCount == k].gap, s=250, c='r')\n",
    "plt.grid(True)\n",
    "plt.xlabel('Cluster Count')\n",
    "plt.ylabel('Gap Value')\n",
    "plt.title('Gap Values by Cluster Count')\n",
    "plt.show()"
   ]
  },
  {
   "cell_type": "markdown",
   "metadata": {},
   "source": [
    "# Decide n_cluster & run kmeans"
   ]
  },
  {
   "cell_type": "code",
   "execution_count": 291,
   "metadata": {},
   "outputs": [],
   "source": [
    "kmeans = KMeans(n_clusters=6, random_state=1).fit(vectors_df)\n",
    "preds = kmeans.predict(vectors_df)"
   ]
  },
  {
   "cell_type": "markdown",
   "metadata": {},
   "source": [
    "# Add topic name to clusters"
   ]
  },
  {
   "cell_type": "code",
   "execution_count": 292,
   "metadata": {},
   "outputs": [],
   "source": [
    "def get_topic_names(preds, col):\n",
    "    print(\"Example \"+str(col))\n",
    "    print(repo_df.loc[vectors_df.index[0]][col])\n",
    "    print(82 * '_')\n",
    "    \n",
    "    tid_to_descriptions = defaultdict(list)\n",
    "    for idx, pred in enumerate(preds):\n",
    "        tid_to_descriptions[pred].append(repo_df.loc[vectors_df.index[idx]][col])\n",
    "    \n",
    "    print(\"Cluster Counts\")\n",
    "    {print(str(tid) +\": \"+str(len(descriptions))) for tid, descriptions in tid_to_descriptions.items()}\n",
    "    print(82 * \"_\")\n",
    "    \n",
    "    topic_namer = ITTopicNamer(tid_to_descriptions, num_top_keyphrases=3, topic_name_min_df=1)\n",
    "    topic_names = topic_namer.get_all_topic_names()\n",
    "    print(\"Topic Names\")\n",
    "    for key,value in topic_names.items():\n",
    "        print(str(key)+\": \"+ str(value))\n",
    "    print(82 * \"_\")"
   ]
  },
  {
   "cell_type": "markdown",
   "metadata": {},
   "source": [
    "### Topic names for descriptions only"
   ]
  },
  {
   "cell_type": "code",
   "execution_count": 293,
   "metadata": {},
   "outputs": [
    {
     "name": "stdout",
     "output_type": "stream",
     "text": [
      "Example description\n",
      "On Mac OS X (at least 10.6.4+), there's no need for libbsd for arc4random. I've basically added an exception in wscript and in bcrypt.cc to avoid the dependency and include for random.h on OS X, which makes it compile successfully. \n",
      "__________________________________________________________________________________\n",
      "Cluster Counts\n",
      "6: 97\n",
      "2: 218\n",
      "5: 35\n",
      "1: 23\n",
      "9: 68\n",
      "8: 7\n",
      "7: 16\n",
      "10: 43\n",
      "14: 5\n",
      "13: 87\n",
      "3: 48\n",
      "0: 27\n",
      "11: 25\n",
      "12: 58\n",
      "4: 11\n",
      "__________________________________________________________________________________\n",
      "Topic Names\n",
      "6: Gyp Verb Check Python Version Using, Gyp Verb Check Python Version, Verb Check Python Version Using\n",
      "2: Build Type Release Gyp Verb, Gyp Verb Build Type Release, Verb Build Type Release Gyp\n",
      "5: Build Error Gyp Err! Stack, Instantiation of Function Template Specialization, Function Call, Expected Single Argument\n",
      "1: Npm Owner Ls Bcrypt Error, Error Npm Owner Ls Bcrypt, Likely Additional Logging Output Above. Npm\n",
      "9: Npm Error Log for Lines Telling, Correct Dependencies Installed to Build, Read Your Npm Error Log\n",
      "8: Npm Install Fallback to Source Compile, Install Fallback to Source Compile, Npm Install Fallback to Source\n",
      "7: Pull Request Fixes Vulnerable Dependencies, Pull Request Fixes Vulnerable, Request Fixes Vulnerable Dependencies\n",
      "10: Install Bcrypt Npm WARN, Ok Npm WARN OPTIONAL, Exceeds Maximum Object Size\n",
      "14: Ubuntu on Virtual Box Died, Windows Compatibility Is Done. Implemented Gyp, Reading Instructions Capabilities\n",
      "13: Npm Info Attempt Registry Request Try, PM Npm Info Attempt Registry Request, Npm Info Retry Registry Request Attempt\n",
      "3: Error Npm Owner Ls Bcrypt, Likely Additional Logging Output Above. Npm, Npm Owner Ls Bcrypt 414 Error\n",
      "0: Silly Cache Add Parsed Spec Result, Verbose installManyTop Reading Scoped Package Data, Silly Cache Add Parsed Spec\n",
      "11: Make > Gyp Info Spawn Args, X64 > Gyp Info Spawn Make, Unpacked Tree Remote: Npm WARN installMany\n",
      "12: Make Gyp Info Spawn Args, X64 Gyp Info Spawn Python, X64 Gyp Info Spawn Make\n",
      "4: Tried to Hash a Password Async, Hash a Password Async and Providing, Password Async and Providing a String\n",
      "__________________________________________________________________________________\n"
     ]
    }
   ],
   "source": [
    "get_topic_names(preds, \"description\")"
   ]
  },
  {
   "cell_type": "markdown",
   "metadata": {},
   "source": [
    "### Topic names for title, desciptions, and comment body"
   ]
  },
  {
   "cell_type": "code",
   "execution_count": 294,
   "metadata": {},
   "outputs": [
    {
     "name": "stdout",
     "output_type": "stream",
     "text": [
      "Example combined_text\n",
      "On Mac OS X (at least 10.6.4+), there's no need for libbsd for arc4random. I've basically added an exception in wscript and in bcrypt.cc to avoid the dependency and include for random.h on OS X, which makes it compile successfully. , Mac OS X support for compilation, This doesn't work for me (Linux), but I'll add in some conditionals. Thanks for the changes. :) , Aw :( Can't understand why not, it seemed like it would literally only target OS X. Oh well, sorry about that! , I tried this on my home machine and it worked fine. I suspect I blew something up on my laptop when I tried it then. I pulled and pushed the code into master. Can you try it once more to make sure master works for you? If so I'll push 0.1.1 to npm. :)  Thanks for the contribution! , Works great! Can't wait to drop the copy we have in our repository :-D , Perfect. Will publish when I get home. , Ah, one more thing. I really appreciate the mention in the README, but `Salazar Cardozo' is actually all my last name, so it would be awesome if you could put the Salazar in.  Thanks again for integrating this! , I wondered. I knew I should have put the full name I saw in your GH profile. Lesson learned. :) Will change. , Hehehe. No worries -- my government/credit-card-company-issued ids only get it right about half the time, so I'm just taking advantage of the opportunity to easily ask someone to fix it :-D \n",
      "__________________________________________________________________________________\n",
      "Cluster Counts\n",
      "6: 97\n",
      "2: 218\n",
      "5: 35\n",
      "1: 23\n",
      "9: 68\n",
      "8: 7\n",
      "7: 16\n",
      "10: 43\n",
      "14: 5\n",
      "13: 87\n",
      "3: 48\n",
      "0: 27\n",
      "11: 25\n",
      "12: 58\n",
      "4: 11\n",
      "__________________________________________________________________________________\n",
      "Topic Names\n",
      "6: Gyp Verb Check Python Version Using, Password Hash Compare Returns False, Installed Gyp Verb Install Version\n",
      "2: Verb Build Type Release Gyp, Build Type Release Gyp Verb, Gyp Verb Build Type Release\n",
      "5: Use Npm Install Bcrypt Npm Http, Add Builds-Deps Run Npm Rebuild Bcrypt, Use Npm Install Bcrypt\n",
      "1: Likely Additional Logging Output Above. Npm, Install Failed Rollback Npm Info Uninstall, Just Tried Npm Installing Bcrypt: Gyp\n",
      "9: Bcrypt Build Directory Using the Path, Version 8.11.1, Azure Web App Failing, Node Version 8.11.1, Azure Web App\n",
      "8: Npm Install Fallback to Source Compile, Just Tried to Install Latest Bcrypt, Tried to Install Latest Bcrypt Module\n",
      "7: Pull Request Fixes Vulnerable Dependencies, Pull Request Fixes Vulnerable, Fix Broken Binary Downloads\n",
      "10: X64 Gyp Info Spawn Args, Make Gyp Info Spawn Args, X64 Gyp Info Spawn Make\n",
      "14: New EncodeBinary Method 2. Npm Test, Install Bcrypt Npm Http, Npm Install Bcrypt Npm Http\n",
      "13: Npm Info Attempt Registry Request Try, PM Npm Info Attempt Registry Request, Npm Info Retry Registry Request Attempt\n",
      "3: Directory Gyp Verb Command Configure, X64 Gyp Verb Command Rebuild, Error Npm Owner Ls Bcrypt\n",
      "0: Verbose installManyTop Reading Scoped Package Data, Silly Cache Add Parsed Spec, Verbose Cache Add Spec Bcrypt\n",
      "11: X64 Gyp Info Spawn Python, Make Gyp Info Spawn Args, Python Gyp Info Spawn Args\n",
      "12: Make Gyp Info Spawn Args, X64 Gyp Info Spawn Python, X64 Gyp Info Spawn Make\n",
      "4: Compare Bcrypt Hashed Password and Plaintext, Compare Bcrypt Hashed Password, String Comparison Based Security\n",
      "__________________________________________________________________________________\n"
     ]
    }
   ],
   "source": [
    "get_topic_names(preds, \"combined_text\")"
   ]
  },
  {
   "cell_type": "markdown",
   "metadata": {},
   "source": [
    "Using files_changed as a label for the cluster, produce metrics based on the quality of data. "
   ]
  },
  {
   "cell_type": "markdown",
   "metadata": {},
   "source": [
    "# Visualize Clusters"
   ]
  },
  {
   "cell_type": "code",
   "execution_count": 226,
   "metadata": {},
   "outputs": [],
   "source": [
    "def get_cluster_graph(kmeans,vectors_df):\n",
    "    # Visualize the results on PCA-reduced data\n",
    "\n",
    "    reduced_data = PCA(n_components=2).fit_transform(vectors_df)\n",
    "    kmeans.fit(reduced_data)\n",
    "\n",
    "    # Step size of the mesh. Decrease to increase the quality of the VQ.\n",
    "    h = .02     # point in the mesh [x_min, x_max]x[y_min, y_max].\n",
    "\n",
    "    # Plot the decision boundary. For that, we will assign a color to each\n",
    "    x_min, x_max = reduced_data[:, 0].min() - 1, reduced_data[:, 0].max() + 1\n",
    "    y_min, y_max = reduced_data[:, 1].min() - 1, reduced_data[:, 1].max() + 1\n",
    "    xx, yy = np.meshgrid(np.arange(x_min, x_max, h), np.arange(y_min, y_max, h))\n",
    "\n",
    "    # Obtain labels for each point in mesh. Use last trained model.\n",
    "    Z = kmeans.predict(np.c_[xx.ravel(), yy.ravel()])\n",
    "\n",
    "    # Put the result into a color plot\n",
    "    Z = Z.reshape(xx.shape)\n",
    "    plt.figure(1)\n",
    "    plt.clf()\n",
    "    plt.imshow(Z, interpolation='nearest',\n",
    "           extent=(xx.min(), xx.max(), yy.min(), yy.max()),\n",
    "           cmap=plt.cm.Paired,\n",
    "           aspect='auto', origin='lower')\n",
    "\n",
    "    plt.plot(reduced_data[:, 0], reduced_data[:, 1], 'k.', markersize=2)\n",
    "    # Plot the centroids as a white X\n",
    "    centroids = kmeans.cluster_centers_\n",
    "    plt.scatter(centroids[:, 0], centroids[:, 1],\n",
    "            marker='x', s=169, linewidths=3,\n",
    "            color='w', zorder=10)\n",
    "    plt.title('K-means clustering (PCA-reduced data)\\n'\n",
    "          'Centroids are marked with white cross')\n",
    "    plt.xlim(x_min, x_max)\n",
    "    plt.ylim(y_min, y_max)\n",
    "    plt.xticks(())\n",
    "    plt.yticks(())\n",
    "    plt.show()"
   ]
  },
  {
   "cell_type": "code",
   "execution_count": 295,
   "metadata": {},
   "outputs": [
    {
     "data": {
      "image/png": "[encoded data removed]",
      "text/plain": [
       "<Figure size 576x396 with 1 Axes>"
      ]
     },
     "metadata": {},
     "output_type": "display_data"
    }
   ],
   "source": [
    "get_cluster_graph(kmeans, vectors_df)"
   ]
  },
  {
   "cell_type": "markdown",
   "metadata": {},
   "source": [
    "# Cluster Statistics"
   ]
  },
  {
   "cell_type": "code",
   "execution_count": 510,
   "metadata": {},
   "outputs": [],
   "source": [
    "from sklearn import metrics\n",
    "from sklearn import datasets\n",
    "import pandas as pd\n",
    "from sklearn.cluster import KMeans, AgglomerativeClustering, AffinityPropagation, SpectralClustering\n",
    "\n",
    "def cluster_stats_sil(k, X):\n",
    "    method_names = ['K-means', 'Affinity', 'Spectral', 'Agglomerative']\n",
    "    df=pd.DataFrame(index=method_names)\n",
    "    df.index.names = ['Methods']\n",
    "    for i in range(2,int(k)):\n",
    "        algorithms = []\n",
    "        algorithms.append(KMeans(n_clusters=i, random_state=1))\n",
    "        algorithms.append(AffinityPropagation())\n",
    "        algorithms.append(SpectralClustering(n_clusters=i, random_state=1,\n",
    "                                     affinity='nearest_neighbors'))\n",
    "        algorithms.append(AgglomerativeClustering(n_clusters=i))\n",
    "        \n",
    "        data=[]\n",
    "        for algo in algorithms:\n",
    "            algo.fit(X)\n",
    "            data.append(({\n",
    "                str(i) : metrics.silhouette_score(X, algo.labels_, metric='euclidean',\n",
    "                                      sample_size=300)}))\n",
    "        \n",
    "        results = pd.DataFrame(data=data, columns=[str(i)], index=method_names)\n",
    "        results.index.names = ['Methods']\n",
    "        df = df.merge(results, on=\"Methods\", how=\"left\")\n",
    "        \n",
    "    return df"
   ]
  },
  {
   "cell_type": "code",
   "execution_count": 511,
   "metadata": {},
   "outputs": [],
   "source": [
    "cluster_df_sil=cluster_stats_sil(15, vectors_df)"
   ]
  },
  {
   "cell_type": "code",
   "execution_count": 512,
   "metadata": {},
   "outputs": [
    {
     "data": {
      "text/html": [
       "<div>\n",
       "<style scoped>\n",
       "    .dataframe tbody tr th:only-of-type {\n",
       "        vertical-align: middle;\n",
       "    }\n",
       "\n",
       "    .dataframe tbody tr th {\n",
       "        vertical-align: top;\n",
       "    }\n",
       "\n",
       "    .dataframe thead th {\n",
       "        text-align: right;\n",
       "    }\n",
       "</style>\n",
       "<table border=\"1\" class=\"dataframe\">\n",
       "  <thead>\n",
       "    <tr style=\"text-align: right;\">\n",
       "      <th></th>\n",
       "      <th>2</th>\n",
       "      <th>3</th>\n",
       "      <th>4</th>\n",
       "      <th>5</th>\n",
       "      <th>6</th>\n",
       "      <th>7</th>\n",
       "      <th>8</th>\n",
       "      <th>9</th>\n",
       "      <th>10</th>\n",
       "      <th>11</th>\n",
       "      <th>12</th>\n",
       "      <th>13</th>\n",
       "      <th>14</th>\n",
       "    </tr>\n",
       "    <tr>\n",
       "      <th>Methods</th>\n",
       "      <th></th>\n",
       "      <th></th>\n",
       "      <th></th>\n",
       "      <th></th>\n",
       "      <th></th>\n",
       "      <th></th>\n",
       "      <th></th>\n",
       "      <th></th>\n",
       "      <th></th>\n",
       "      <th></th>\n",
       "      <th></th>\n",
       "      <th></th>\n",
       "      <th></th>\n",
       "    </tr>\n",
       "  </thead>\n",
       "  <tbody>\n",
       "    <tr>\n",
       "      <th>K-means</th>\n",
       "      <td>0.151390</td>\n",
       "      <td>0.003564</td>\n",
       "      <td>0.009766</td>\n",
       "      <td>-0.013670</td>\n",
       "      <td>0.012327</td>\n",
       "      <td>0.015671</td>\n",
       "      <td>0.005847</td>\n",
       "      <td>0.003009</td>\n",
       "      <td>-0.012177</td>\n",
       "      <td>-0.012147</td>\n",
       "      <td>0.006866</td>\n",
       "      <td>-0.003212</td>\n",
       "      <td>0.011210</td>\n",
       "    </tr>\n",
       "    <tr>\n",
       "      <th>Affinity</th>\n",
       "      <td>0.010185</td>\n",
       "      <td>0.015099</td>\n",
       "      <td>0.007608</td>\n",
       "      <td>0.003285</td>\n",
       "      <td>0.010576</td>\n",
       "      <td>0.008527</td>\n",
       "      <td>0.002301</td>\n",
       "      <td>0.005770</td>\n",
       "      <td>0.009360</td>\n",
       "      <td>0.011279</td>\n",
       "      <td>0.002409</td>\n",
       "      <td>0.010543</td>\n",
       "      <td>0.000730</td>\n",
       "    </tr>\n",
       "    <tr>\n",
       "      <th>Spectral</th>\n",
       "      <td>0.172948</td>\n",
       "      <td>-0.029398</td>\n",
       "      <td>0.003837</td>\n",
       "      <td>0.025533</td>\n",
       "      <td>-0.005805</td>\n",
       "      <td>0.023432</td>\n",
       "      <td>-0.013852</td>\n",
       "      <td>-0.004280</td>\n",
       "      <td>-0.023479</td>\n",
       "      <td>-0.015047</td>\n",
       "      <td>-0.014228</td>\n",
       "      <td>-0.016874</td>\n",
       "      <td>-0.023373</td>\n",
       "    </tr>\n",
       "    <tr>\n",
       "      <th>Agglomerative</th>\n",
       "      <td>0.155938</td>\n",
       "      <td>-0.039372</td>\n",
       "      <td>-0.038473</td>\n",
       "      <td>-0.018562</td>\n",
       "      <td>-0.021766</td>\n",
       "      <td>-0.036046</td>\n",
       "      <td>-0.042189</td>\n",
       "      <td>-0.035539</td>\n",
       "      <td>-0.024390</td>\n",
       "      <td>-0.015822</td>\n",
       "      <td>-0.016551</td>\n",
       "      <td>-0.013100</td>\n",
       "      <td>-0.021201</td>\n",
       "    </tr>\n",
       "  </tbody>\n",
       "</table>\n",
       "</div>"
      ],
      "text/plain": [
       "                      2         3         4         5         6         7  \\\n",
       "Methods                                                                     \n",
       "K-means        0.151390  0.003564  0.009766 -0.013670  0.012327  0.015671   \n",
       "Affinity       0.010185  0.015099  0.007608  0.003285  0.010576  0.008527   \n",
       "Spectral       0.172948 -0.029398  0.003837  0.025533 -0.005805  0.023432   \n",
       "Agglomerative  0.155938 -0.039372 -0.038473 -0.018562 -0.021766 -0.036046   \n",
       "\n",
       "                      8         9        10        11        12        13  \\\n",
       "Methods                                                                     \n",
       "K-means        0.005847  0.003009 -0.012177 -0.012147  0.006866 -0.003212   \n",
       "Affinity       0.002301  0.005770  0.009360  0.011279  0.002409  0.010543   \n",
       "Spectral      -0.013852 -0.004280 -0.023479 -0.015047 -0.014228 -0.016874   \n",
       "Agglomerative -0.042189 -0.035539 -0.024390 -0.015822 -0.016551 -0.013100   \n",
       "\n",
       "                     14  \n",
       "Methods                  \n",
       "K-means        0.011210  \n",
       "Affinity       0.000730  \n",
       "Spectral      -0.023373  \n",
       "Agglomerative -0.021201  "
      ]
     },
     "execution_count": 512,
     "metadata": {},
     "output_type": "execute_result"
    }
   ],
   "source": [
    "cluster_df_sil"
   ]
  },
  {
   "cell_type": "code",
   "execution_count": 513,
   "metadata": {},
   "outputs": [],
   "source": [
    "cluster_melt_sil = cluster_df_sil.stack().reset_index()\n",
    "cluster_melt_sil.columns = [\"Methods\", \"K Level\", \"Silhouette Score\"]"
   ]
  },
  {
   "cell_type": "code",
   "execution_count": 514,
   "metadata": {
    "jupyter": {
     "source_hidden": true
    }
   },
   "outputs": [
    {
     "data": {
      "application/vnd.plotly.v1+json": {
       "config": {
        "plotlyServerURL": "https://plot.ly"
       },
       "data": [
        {
         "hoverlabel": {
          "namelength": 0
         },
         "hovertemplate": "<b>%{hovertext}</b><br><br>Methods=K-means<br>K Level=%{x}<br>Silhouette Score=%{y}",
         "hovertext": [
          "K-means",
          "K-means",
          "K-means",
          "K-means",
          "K-means",
          "K-means",
          "K-means",
          "K-means",
          "K-means",
          "K-means",
          "K-means",
          "K-means",
          "K-means"
         ],
         "legendgroup": "Methods=K-means",
         "line": {
          "color": "#636efa",
          "dash": "solid"
         },
         "mode": "lines",
         "name": "Methods=K-means",
         "showlegend": true,
         "type": "scatter",
         "x": [
          "2",
          "3",
          "4",
          "5",
          "6",
          "7",
          "8",
          "9",
          "10",
          "11",
          "12",
          "13",
          "14"
         ],
         "xaxis": "x",
         "y": [
          0.15138959706281876,
          0.0035638470293546387,
          0.009765944902478691,
          -0.013669834651798931,
          0.012326668556357804,
          0.015671412147284458,
          0.0058474940180969865,
          0.003009183784540166,
          -0.012176702884671684,
          -0.012147055185617936,
          0.006866384540117988,
          -0.0032119937816921943,
          0.011210272268797583
         ],
         "yaxis": "y"
        },
        {
         "hoverlabel": {
          "namelength": 0
         },
         "hovertemplate": "<b>%{hovertext}</b><br><br>Methods=Affinity<br>K Level=%{x}<br>Silhouette Score=%{y}",
         "hovertext": [
          "Affinity",
          "Affinity",
          "Affinity",
          "Affinity",
          "Affinity",
          "Affinity",
          "Affinity",
          "Affinity",
          "Affinity",
          "Affinity",
          "Affinity",
          "Affinity",
          "Affinity"
         ],
         "legendgroup": "Methods=Affinity",
         "line": {
          "color": "#EF553B",
          "dash": "solid"
         },
         "mode": "lines",
         "name": "Methods=Affinity",
         "showlegend": true,
         "type": "scatter",
         "x": [
          "2",
          "3",
          "4",
          "5",
          "6",
          "7",
          "8",
          "9",
          "10",
          "11",
          "12",
          "13",
          "14"
         ],
         "xaxis": "x",
         "y": [
          0.010184906094361998,
          0.015098754257702494,
          0.0076081414824782645,
          0.0032848077311118697,
          0.010576459366819314,
          0.008527480958702822,
          0.002301053657401449,
          0.0057698975818428885,
          0.009359754160350162,
          0.01127933591240122,
          0.0024093113053350766,
          0.010543036098426146,
          0.0007301817088988938
         ],
         "yaxis": "y"
        },
        {
         "hoverlabel": {
          "namelength": 0
         },
         "hovertemplate": "<b>%{hovertext}</b><br><br>Methods=Spectral<br>K Level=%{x}<br>Silhouette Score=%{y}",
         "hovertext": [
          "Spectral",
          "Spectral",
          "Spectral",
          "Spectral",
          "Spectral",
          "Spectral",
          "Spectral",
          "Spectral",
          "Spectral",
          "Spectral",
          "Spectral",
          "Spectral",
          "Spectral"
         ],
         "legendgroup": "Methods=Spectral",
         "line": {
          "color": "#00cc96",
          "dash": "solid"
         },
         "mode": "lines",
         "name": "Methods=Spectral",
         "showlegend": true,
         "type": "scatter",
         "x": [
          "2",
          "3",
          "4",
          "5",
          "6",
          "7",
          "8",
          "9",
          "10",
          "11",
          "12",
          "13",
          "14"
         ],
         "xaxis": "x",
         "y": [
          0.1729483505379921,
          -0.02939753366822973,
          0.003836877749706528,
          0.025532516855528025,
          -0.005805170065793844,
          0.023431962708303906,
          -0.01385212641718594,
          -0.0042800736799527735,
          -0.02347928743226611,
          -0.015047300925911115,
          -0.014228272193754013,
          -0.016873899134914428,
          -0.02337299931879626
         ],
         "yaxis": "y"
        },
        {
         "hoverlabel": {
          "namelength": 0
         },
         "hovertemplate": "<b>%{hovertext}</b><br><br>Methods=Agglomerative<br>K Level=%{x}<br>Silhouette Score=%{y}",
         "hovertext": [
          "Agglomerative",
          "Agglomerative",
          "Agglomerative",
          "Agglomerative",
          "Agglomerative",
          "Agglomerative",
          "Agglomerative",
          "Agglomerative",
          "Agglomerative",
          "Agglomerative",
          "Agglomerative",
          "Agglomerative",
          "Agglomerative"
         ],
         "legendgroup": "Methods=Agglomerative",
         "line": {
          "color": "#ab63fa",
          "dash": "solid"
         },
         "mode": "lines",
         "name": "Methods=Agglomerative",
         "showlegend": true,
         "type": "scatter",
         "x": [
          "2",
          "3",
          "4",
          "5",
          "6",
          "7",
          "8",
          "9",
          "10",
          "11",
          "12",
          "13",
          "14"
         ],
         "xaxis": "x",
         "y": [
          0.15593843388825998,
          -0.03937155885663542,
          -0.03847320456429536,
          -0.01856158367196785,
          -0.02176602991376355,
          -0.036045823614976345,
          -0.04218860989104698,
          -0.03553922096928819,
          -0.02439003388516964,
          -0.01582151232752814,
          -0.016550550914084392,
          -0.013100024323010061,
          -0.02120060993628264
         ],
         "yaxis": "y"
        },
        {
         "mode": "markers",
         "showlegend": false,
         "type": "scatter",
         "x": [
          "2",
          "3",
          "4",
          "5",
          "6",
          "7",
          "8",
          "9",
          "10",
          "11",
          "12",
          "13",
          "14",
          "2",
          "3",
          "4",
          "5",
          "6",
          "7",
          "8",
          "9",
          "10",
          "11",
          "12",
          "13",
          "14",
          "2",
          "3",
          "4",
          "5",
          "6",
          "7",
          "8",
          "9",
          "10",
          "11",
          "12",
          "13",
          "14",
          "2",
          "3",
          "4",
          "5",
          "6",
          "7",
          "8",
          "9",
          "10",
          "11",
          "12",
          "13",
          "14"
         ],
         "y": [
          0.15138959706281876,
          0.0035638470293546387,
          0.009765944902478691,
          -0.013669834651798931,
          0.012326668556357804,
          0.015671412147284458,
          0.0058474940180969865,
          0.003009183784540166,
          -0.012176702884671684,
          -0.012147055185617936,
          0.006866384540117988,
          -0.0032119937816921943,
          0.011210272268797583,
          0.010184906094361998,
          0.015098754257702494,
          0.0076081414824782645,
          0.0032848077311118697,
          0.010576459366819314,
          0.008527480958702822,
          0.002301053657401449,
          0.0057698975818428885,
          0.009359754160350162,
          0.01127933591240122,
          0.0024093113053350766,
          0.010543036098426146,
          0.0007301817088988938,
          0.1729483505379921,
          -0.02939753366822973,
          0.003836877749706528,
          0.025532516855528025,
          -0.005805170065793844,
          0.023431962708303906,
          -0.01385212641718594,
          -0.0042800736799527735,
          -0.02347928743226611,
          -0.015047300925911115,
          -0.014228272193754013,
          -0.016873899134914428,
          -0.02337299931879626,
          0.15593843388825998,
          -0.03937155885663542,
          -0.03847320456429536,
          -0.01856158367196785,
          -0.02176602991376355,
          -0.036045823614976345,
          -0.04218860989104698,
          -0.03553922096928819,
          -0.02439003388516964,
          -0.01582151232752814,
          -0.016550550914084392,
          -0.013100024323010061,
          -0.02120060993628264
         ]
        }
       ],
       "layout": {
        "autosize": true,
        "legend": {
         "tracegroupgap": 0
        },
        "margin": {
         "t": 60
        },
        "template": {
         "data": {
          "bar": [
           {
            "error_x": {
             "color": "#2a3f5f"
            },
            "error_y": {
             "color": "#2a3f5f"
            },
            "marker": {
             "line": {
              "color": "white",
              "width": 0.5
             }
            },
            "type": "bar"
           }
          ],
          "barpolar": [
           {
            "marker": {
             "line": {
              "color": "white",
              "width": 0.5
             }
            },
            "type": "barpolar"
           }
          ],
          "carpet": [
           {
            "aaxis": {
             "endlinecolor": "#2a3f5f",
             "gridcolor": "#C8D4E3",
             "linecolor": "#C8D4E3",
             "minorgridcolor": "#C8D4E3",
             "startlinecolor": "#2a3f5f"
            },
            "baxis": {
             "endlinecolor": "#2a3f5f",
             "gridcolor": "#C8D4E3",
             "linecolor": "#C8D4E3",
             "minorgridcolor": "#C8D4E3",
             "startlinecolor": "#2a3f5f"
            },
            "type": "carpet"
           }
          ],
          "choropleth": [
           {
            "colorbar": {
             "outlinewidth": 0,
             "ticks": ""
            },
            "type": "choropleth"
           }
          ],
          "contour": [
           {
            "colorbar": {
             "outlinewidth": 0,
             "ticks": ""
            },
            "colorscale": [
             [
              0,
              "#0d0887"
             ],
             [
              0.1111111111111111,
              "#46039f"
             ],
             [
              0.2222222222222222,
              "#7201a8"
             ],
             [
              0.3333333333333333,
              "#9c179e"
             ],
             [
              0.4444444444444444,
              "#bd3786"
             ],
             [
              0.5555555555555556,
              "#d8576b"
             ],
             [
              0.6666666666666666,
              "#ed7953"
             ],
             [
              0.7777777777777778,
              "#fb9f3a"
             ],
             [
              0.8888888888888888,
              "#fdca26"
             ],
             [
              1,
              "#f0f921"
             ]
            ],
            "type": "contour"
           }
          ],
          "contourcarpet": [
           {
            "colorbar": {
             "outlinewidth": 0,
             "ticks": ""
            },
            "type": "contourcarpet"
           }
          ],
          "heatmap": [
           {
            "colorbar": {
             "outlinewidth": 0,
             "ticks": ""
            },
            "colorscale": [
             [
              0,
              "#0d0887"
             ],
             [
              0.1111111111111111,
              "#46039f"
             ],
             [
              0.2222222222222222,
              "#7201a8"
             ],
             [
              0.3333333333333333,
              "#9c179e"
             ],
             [
              0.4444444444444444,
              "#bd3786"
             ],
             [
              0.5555555555555556,
              "#d8576b"
             ],
             [
              0.6666666666666666,
              "#ed7953"
             ],
             [
              0.7777777777777778,
              "#fb9f3a"
             ],
             [
              0.8888888888888888,
              "#fdca26"
             ],
             [
              1,
              "#f0f921"
             ]
            ],
            "type": "heatmap"
           }
          ],
          "heatmapgl": [
           {
            "colorbar": {
             "outlinewidth": 0,
             "ticks": ""
            },
            "colorscale": [
             [
              0,
              "#0d0887"
             ],
             [
              0.1111111111111111,
              "#46039f"
             ],
             [
              0.2222222222222222,
              "#7201a8"
             ],
             [
              0.3333333333333333,
              "#9c179e"
             ],
             [
              0.4444444444444444,
              "#bd3786"
             ],
             [
              0.5555555555555556,
              "#d8576b"
             ],
             [
              0.6666666666666666,
              "#ed7953"
             ],
             [
              0.7777777777777778,
              "#fb9f3a"
             ],
             [
              0.8888888888888888,
              "#fdca26"
             ],
             [
              1,
              "#f0f921"
             ]
            ],
            "type": "heatmapgl"
           }
          ],
          "histogram": [
           {
            "marker": {
             "colorbar": {
              "outlinewidth": 0,
              "ticks": ""
             }
            },
            "type": "histogram"
           }
          ],
          "histogram2d": [
           {
            "colorbar": {
             "outlinewidth": 0,
             "ticks": ""
            },
            "colorscale": [
             [
              0,
              "#0d0887"
             ],
             [
              0.1111111111111111,
              "#46039f"
             ],
             [
              0.2222222222222222,
              "#7201a8"
             ],
             [
              0.3333333333333333,
              "#9c179e"
             ],
             [
              0.4444444444444444,
              "#bd3786"
             ],
             [
              0.5555555555555556,
              "#d8576b"
             ],
             [
              0.6666666666666666,
              "#ed7953"
             ],
             [
              0.7777777777777778,
              "#fb9f3a"
             ],
             [
              0.8888888888888888,
              "#fdca26"
             ],
             [
              1,
              "#f0f921"
             ]
            ],
            "type": "histogram2d"
           }
          ],
          "histogram2dcontour": [
           {
            "colorbar": {
             "outlinewidth": 0,
             "ticks": ""
            },
            "colorscale": [
             [
              0,
              "#0d0887"
             ],
             [
              0.1111111111111111,
              "#46039f"
             ],
             [
              0.2222222222222222,
              "#7201a8"
             ],
             [
              0.3333333333333333,
              "#9c179e"
             ],
             [
              0.4444444444444444,
              "#bd3786"
             ],
             [
              0.5555555555555556,
              "#d8576b"
             ],
             [
              0.6666666666666666,
              "#ed7953"
             ],
             [
              0.7777777777777778,
              "#fb9f3a"
             ],
             [
              0.8888888888888888,
              "#fdca26"
             ],
             [
              1,
              "#f0f921"
             ]
            ],
            "type": "histogram2dcontour"
           }
          ],
          "mesh3d": [
           {
            "colorbar": {
             "outlinewidth": 0,
             "ticks": ""
            },
            "type": "mesh3d"
           }
          ],
          "parcoords": [
           {
            "line": {
             "colorbar": {
              "outlinewidth": 0,
              "ticks": ""
             }
            },
            "type": "parcoords"
           }
          ],
          "pie": [
           {
            "automargin": true,
            "type": "pie"
           }
          ],
          "scatter": [
           {
            "marker": {
             "colorbar": {
              "outlinewidth": 0,
              "ticks": ""
             }
            },
            "type": "scatter"
           }
          ],
          "scatter3d": [
           {
            "line": {
             "colorbar": {
              "outlinewidth": 0,
              "ticks": ""
             }
            },
            "marker": {
             "colorbar": {
              "outlinewidth": 0,
              "ticks": ""
             }
            },
            "type": "scatter3d"
           }
          ],
          "scattercarpet": [
           {
            "marker": {
             "colorbar": {
              "outlinewidth": 0,
              "ticks": ""
             }
            },
            "type": "scattercarpet"
           }
          ],
          "scattergeo": [
           {
            "marker": {
             "colorbar": {
              "outlinewidth": 0,
              "ticks": ""
             }
            },
            "type": "scattergeo"
           }
          ],
          "scattergl": [
           {
            "marker": {
             "colorbar": {
              "outlinewidth": 0,
              "ticks": ""
             }
            },
            "type": "scattergl"
           }
          ],
          "scattermapbox": [
           {
            "marker": {
             "colorbar": {
              "outlinewidth": 0,
              "ticks": ""
             }
            },
            "type": "scattermapbox"
           }
          ],
          "scatterpolar": [
           {
            "marker": {
             "colorbar": {
              "outlinewidth": 0,
              "ticks": ""
             }
            },
            "type": "scatterpolar"
           }
          ],
          "scatterpolargl": [
           {
            "marker": {
             "colorbar": {
              "outlinewidth": 0,
              "ticks": ""
             }
            },
            "type": "scatterpolargl"
           }
          ],
          "scatterternary": [
           {
            "marker": {
             "colorbar": {
              "outlinewidth": 0,
              "ticks": ""
             }
            },
            "type": "scatterternary"
           }
          ],
          "surface": [
           {
            "colorbar": {
             "outlinewidth": 0,
             "ticks": ""
            },
            "colorscale": [
             [
              0,
              "#0d0887"
             ],
             [
              0.1111111111111111,
              "#46039f"
             ],
             [
              0.2222222222222222,
              "#7201a8"
             ],
             [
              0.3333333333333333,
              "#9c179e"
             ],
             [
              0.4444444444444444,
              "#bd3786"
             ],
             [
              0.5555555555555556,
              "#d8576b"
             ],
             [
              0.6666666666666666,
              "#ed7953"
             ],
             [
              0.7777777777777778,
              "#fb9f3a"
             ],
             [
              0.8888888888888888,
              "#fdca26"
             ],
             [
              1,
              "#f0f921"
             ]
            ],
            "type": "surface"
           }
          ],
          "table": [
           {
            "cells": {
             "fill": {
              "color": "#EBF0F8"
             },
             "line": {
              "color": "white"
             }
            },
            "header": {
             "fill": {
              "color": "#C8D4E3"
             },
             "line": {
              "color": "white"
             }
            },
            "type": "table"
           }
          ]
         },
         "layout": {
          "annotationdefaults": {
           "arrowcolor": "#2a3f5f",
           "arrowhead": 0,
           "arrowwidth": 1
          },
          "coloraxis": {
           "colorbar": {
            "outlinewidth": 0,
            "ticks": ""
           }
          },
          "colorscale": {
           "diverging": [
            [
             0,
             "#8e0152"
            ],
            [
             0.1,
             "#c51b7d"
            ],
            [
             0.2,
             "#de77ae"
            ],
            [
             0.3,
             "#f1b6da"
            ],
            [
             0.4,
             "#fde0ef"
            ],
            [
             0.5,
             "#f7f7f7"
            ],
            [
             0.6,
             "#e6f5d0"
            ],
            [
             0.7,
             "#b8e186"
            ],
            [
             0.8,
             "#7fbc41"
            ],
            [
             0.9,
             "#4d9221"
            ],
            [
             1,
             "#276419"
            ]
           ],
           "sequential": [
            [
             0,
             "#0d0887"
            ],
            [
             0.1111111111111111,
             "#46039f"
            ],
            [
             0.2222222222222222,
             "#7201a8"
            ],
            [
             0.3333333333333333,
             "#9c179e"
            ],
            [
             0.4444444444444444,
             "#bd3786"
            ],
            [
             0.5555555555555556,
             "#d8576b"
            ],
            [
             0.6666666666666666,
             "#ed7953"
            ],
            [
             0.7777777777777778,
             "#fb9f3a"
            ],
            [
             0.8888888888888888,
             "#fdca26"
            ],
            [
             1,
             "#f0f921"
            ]
           ],
           "sequentialminus": [
            [
             0,
             "#0d0887"
            ],
            [
             0.1111111111111111,
             "#46039f"
            ],
            [
             0.2222222222222222,
             "#7201a8"
            ],
            [
             0.3333333333333333,
             "#9c179e"
            ],
            [
             0.4444444444444444,
             "#bd3786"
            ],
            [
             0.5555555555555556,
             "#d8576b"
            ],
            [
             0.6666666666666666,
             "#ed7953"
            ],
            [
             0.7777777777777778,
             "#fb9f3a"
            ],
            [
             0.8888888888888888,
             "#fdca26"
            ],
            [
             1,
             "#f0f921"
            ]
           ]
          },
          "colorway": [
           "#636efa",
           "#EF553B",
           "#00cc96",
           "#ab63fa",
           "#FFA15A",
           "#19d3f3",
           "#FF6692",
           "#B6E880",
           "#FF97FF",
           "#FECB52"
          ],
          "font": {
           "color": "#2a3f5f"
          },
          "geo": {
           "bgcolor": "white",
           "lakecolor": "white",
           "landcolor": "white",
           "showlakes": true,
           "showland": true,
           "subunitcolor": "#C8D4E3"
          },
          "hoverlabel": {
           "align": "left"
          },
          "hovermode": "closest",
          "mapbox": {
           "style": "light"
          },
          "paper_bgcolor": "white",
          "plot_bgcolor": "white",
          "polar": {
           "angularaxis": {
            "gridcolor": "#EBF0F8",
            "linecolor": "#EBF0F8",
            "ticks": ""
           },
           "bgcolor": "white",
           "radialaxis": {
            "gridcolor": "#EBF0F8",
            "linecolor": "#EBF0F8",
            "ticks": ""
           }
          },
          "scene": {
           "xaxis": {
            "backgroundcolor": "white",
            "gridcolor": "#DFE8F3",
            "gridwidth": 2,
            "linecolor": "#EBF0F8",
            "showbackground": true,
            "ticks": "",
            "zerolinecolor": "#EBF0F8"
           },
           "yaxis": {
            "backgroundcolor": "white",
            "gridcolor": "#DFE8F3",
            "gridwidth": 2,
            "linecolor": "#EBF0F8",
            "showbackground": true,
            "ticks": "",
            "zerolinecolor": "#EBF0F8"
           },
           "zaxis": {
            "backgroundcolor": "white",
            "gridcolor": "#DFE8F3",
            "gridwidth": 2,
            "linecolor": "#EBF0F8",
            "showbackground": true,
            "ticks": "",
            "zerolinecolor": "#EBF0F8"
           }
          },
          "shapedefaults": {
           "line": {
            "color": "#2a3f5f"
           }
          },
          "ternary": {
           "aaxis": {
            "gridcolor": "#DFE8F3",
            "linecolor": "#A2B1C6",
            "ticks": ""
           },
           "baxis": {
            "gridcolor": "#DFE8F3",
            "linecolor": "#A2B1C6",
            "ticks": ""
           },
           "bgcolor": "white",
           "caxis": {
            "gridcolor": "#DFE8F3",
            "linecolor": "#A2B1C6",
            "ticks": ""
           }
          },
          "title": {
           "x": 0.05
          },
          "xaxis": {
           "automargin": true,
           "gridcolor": "#EBF0F8",
           "linecolor": "#EBF0F8",
           "ticks": "",
           "title": {
            "standoff": 15
           },
           "zerolinecolor": "#EBF0F8",
           "zerolinewidth": 2
          },
          "yaxis": {
           "automargin": true,
           "gridcolor": "#EBF0F8",
           "linecolor": "#EBF0F8",
           "ticks": "",
           "title": {
            "standoff": 15
           },
           "zerolinecolor": "#EBF0F8",
           "zerolinewidth": 2
          }
         }
        },
        "title": {
         "text": "Silhouette Scores Over Different K's",
         "xanchor": "auto"
        },
        "xaxis": {
         "anchor": "y",
         "autorange": true,
         "domain": [
          0,
          1
         ],
         "range": [
          1.2803560076287348,
          14.719643992371266
         ],
         "title": {
          "text": "K Level"
         },
         "type": "linear"
        },
        "yaxis": {
         "anchor": "x",
         "autorange": true,
         "domain": [
          0,
          1
         ],
         "range": [
          -0.05634583914437243,
          0.18710557979131753
         ],
         "title": {
          "text": "Silhouette Score"
         },
         "type": "linear"
        }
       }
      },
      "image/png": "[encoded data removed]",
      "text/html": [
       "<div>\n",
       "        \n",
       "        \n",
       "            <div id=\"af050db8-9621-4a48-ac52-d0fe13b27ab4\" class=\"plotly-graph-div\" style=\"height:600px; width:100%;\"></div>\n",
       "            <script type=\"text/javascript\">\n",
       "                require([\"plotly\"], function(Plotly) {\n",
       "                    window.PLOTLYENV=window.PLOTLYENV || {};\n",
       "                    \n",
       "                if (document.getElementById(\"af050db8-9621-4a48-ac52-d0fe13b27ab4\")) {\n",
       "                    Plotly.newPlot(\n",
       "                        'af050db8-9621-4a48-ac52-d0fe13b27ab4',\n",
       "                        [{\"hoverlabel\": {\"namelength\": 0}, \"hovertemplate\": \"<b>%{hovertext}</b><br><br>Methods=K-means<br>K Level=%{x}<br>Silhouette Score=%{y}\", \"hovertext\": [\"K-means\", \"K-means\", \"K-means\", \"K-means\", \"K-means\", \"K-means\", \"K-means\", \"K-means\", \"K-means\", \"K-means\", \"K-means\", \"K-means\", \"K-means\"], \"legendgroup\": \"Methods=K-means\", \"line\": {\"color\": \"#636efa\", \"dash\": \"solid\"}, \"mode\": \"lines\", \"name\": \"Methods=K-means\", \"showlegend\": true, \"type\": \"scatter\", \"x\": [\"2\", \"3\", \"4\", \"5\", \"6\", \"7\", \"8\", \"9\", \"10\", \"11\", \"12\", \"13\", \"14\"], \"xaxis\": \"x\", \"y\": [0.15138959706281876, 0.0035638470293546387, 0.009765944902478691, -0.013669834651798931, 0.012326668556357804, 0.015671412147284458, 0.0058474940180969865, 0.003009183784540166, -0.012176702884671684, -0.012147055185617936, 0.006866384540117988, -0.0032119937816921943, 0.011210272268797583], \"yaxis\": \"y\"}, {\"hoverlabel\": {\"namelength\": 0}, \"hovertemplate\": \"<b>%{hovertext}</b><br><br>Methods=Affinity<br>K Level=%{x}<br>Silhouette Score=%{y}\", \"hovertext\": [\"Affinity\", \"Affinity\", \"Affinity\", \"Affinity\", \"Affinity\", \"Affinity\", \"Affinity\", \"Affinity\", \"Affinity\", \"Affinity\", \"Affinity\", \"Affinity\", \"Affinity\"], \"legendgroup\": \"Methods=Affinity\", \"line\": {\"color\": \"#EF553B\", \"dash\": \"solid\"}, \"mode\": \"lines\", \"name\": \"Methods=Affinity\", \"showlegend\": true, \"type\": \"scatter\", \"x\": [\"2\", \"3\", \"4\", \"5\", \"6\", \"7\", \"8\", \"9\", \"10\", \"11\", \"12\", \"13\", \"14\"], \"xaxis\": \"x\", \"y\": [0.010184906094361998, 0.015098754257702494, 0.0076081414824782645, 0.0032848077311118697, 0.010576459366819314, 0.008527480958702822, 0.002301053657401449, 0.0057698975818428885, 0.009359754160350162, 0.01127933591240122, 0.0024093113053350766, 0.010543036098426146, 0.0007301817088988938], \"yaxis\": \"y\"}, {\"hoverlabel\": {\"namelength\": 0}, \"hovertemplate\": \"<b>%{hovertext}</b><br><br>Methods=Spectral<br>K Level=%{x}<br>Silhouette Score=%{y}\", \"hovertext\": [\"Spectral\", \"Spectral\", \"Spectral\", \"Spectral\", \"Spectral\", \"Spectral\", \"Spectral\", \"Spectral\", \"Spectral\", \"Spectral\", \"Spectral\", \"Spectral\", \"Spectral\"], \"legendgroup\": \"Methods=Spectral\", \"line\": {\"color\": \"#00cc96\", \"dash\": \"solid\"}, \"mode\": \"lines\", \"name\": \"Methods=Spectral\", \"showlegend\": true, \"type\": \"scatter\", \"x\": [\"2\", \"3\", \"4\", \"5\", \"6\", \"7\", \"8\", \"9\", \"10\", \"11\", \"12\", \"13\", \"14\"], \"xaxis\": \"x\", \"y\": [0.1729483505379921, -0.02939753366822973, 0.003836877749706528, 0.025532516855528025, -0.005805170065793844, 0.023431962708303906, -0.01385212641718594, -0.0042800736799527735, -0.02347928743226611, -0.015047300925911115, -0.014228272193754013, -0.016873899134914428, -0.02337299931879626], \"yaxis\": \"y\"}, {\"hoverlabel\": {\"namelength\": 0}, \"hovertemplate\": \"<b>%{hovertext}</b><br><br>Methods=Agglomerative<br>K Level=%{x}<br>Silhouette Score=%{y}\", \"hovertext\": [\"Agglomerative\", \"Agglomerative\", \"Agglomerative\", \"Agglomerative\", \"Agglomerative\", \"Agglomerative\", \"Agglomerative\", \"Agglomerative\", \"Agglomerative\", \"Agglomerative\", \"Agglomerative\", \"Agglomerative\", \"Agglomerative\"], \"legendgroup\": \"Methods=Agglomerative\", \"line\": {\"color\": \"#ab63fa\", \"dash\": \"solid\"}, \"mode\": \"lines\", \"name\": \"Methods=Agglomerative\", \"showlegend\": true, \"type\": \"scatter\", \"x\": [\"2\", \"3\", \"4\", \"5\", \"6\", \"7\", \"8\", \"9\", \"10\", \"11\", \"12\", \"13\", \"14\"], \"xaxis\": \"x\", \"y\": [0.15593843388825998, -0.03937155885663542, -0.03847320456429536, -0.01856158367196785, -0.02176602991376355, -0.036045823614976345, -0.04218860989104698, -0.03553922096928819, -0.02439003388516964, -0.01582151232752814, -0.016550550914084392, -0.013100024323010061, -0.02120060993628264], \"yaxis\": \"y\"}, {\"mode\": \"markers\", \"showlegend\": false, \"type\": \"scatter\", \"x\": [\"2\", \"3\", \"4\", \"5\", \"6\", \"7\", \"8\", \"9\", \"10\", \"11\", \"12\", \"13\", \"14\", \"2\", \"3\", \"4\", \"5\", \"6\", \"7\", \"8\", \"9\", \"10\", \"11\", \"12\", \"13\", \"14\", \"2\", \"3\", \"4\", \"5\", \"6\", \"7\", \"8\", \"9\", \"10\", \"11\", \"12\", \"13\", \"14\", \"2\", \"3\", \"4\", \"5\", \"6\", \"7\", \"8\", \"9\", \"10\", \"11\", \"12\", \"13\", \"14\"], \"y\": [0.15138959706281876, 0.0035638470293546387, 0.009765944902478691, -0.013669834651798931, 0.012326668556357804, 0.015671412147284458, 0.0058474940180969865, 0.003009183784540166, -0.012176702884671684, -0.012147055185617936, 0.006866384540117988, -0.0032119937816921943, 0.011210272268797583, 0.010184906094361998, 0.015098754257702494, 0.0076081414824782645, 0.0032848077311118697, 0.010576459366819314, 0.008527480958702822, 0.002301053657401449, 0.0057698975818428885, 0.009359754160350162, 0.01127933591240122, 0.0024093113053350766, 0.010543036098426146, 0.0007301817088988938, 0.1729483505379921, -0.02939753366822973, 0.003836877749706528, 0.025532516855528025, -0.005805170065793844, 0.023431962708303906, -0.01385212641718594, -0.0042800736799527735, -0.02347928743226611, -0.015047300925911115, -0.014228272193754013, -0.016873899134914428, -0.02337299931879626, 0.15593843388825998, -0.03937155885663542, -0.03847320456429536, -0.01856158367196785, -0.02176602991376355, -0.036045823614976345, -0.04218860989104698, -0.03553922096928819, -0.02439003388516964, -0.01582151232752814, -0.016550550914084392, -0.013100024323010061, -0.02120060993628264]}],\n",
       "                        {\"height\": 600, \"legend\": {\"tracegroupgap\": 0}, \"margin\": {\"t\": 60}, \"template\": {\"data\": {\"bar\": [{\"error_x\": {\"color\": \"#2a3f5f\"}, \"error_y\": {\"color\": \"#2a3f5f\"}, \"marker\": {\"line\": {\"color\": \"white\", \"width\": 0.5}}, \"type\": \"bar\"}], \"barpolar\": [{\"marker\": {\"line\": {\"color\": \"white\", \"width\": 0.5}}, \"type\": \"barpolar\"}], \"carpet\": [{\"aaxis\": {\"endlinecolor\": \"#2a3f5f\", \"gridcolor\": \"#C8D4E3\", \"linecolor\": \"#C8D4E3\", \"minorgridcolor\": \"#C8D4E3\", \"startlinecolor\": \"#2a3f5f\"}, \"baxis\": {\"endlinecolor\": \"#2a3f5f\", \"gridcolor\": \"#C8D4E3\", \"linecolor\": \"#C8D4E3\", \"minorgridcolor\": \"#C8D4E3\", \"startlinecolor\": \"#2a3f5f\"}, \"type\": \"carpet\"}], \"choropleth\": [{\"colorbar\": {\"outlinewidth\": 0, \"ticks\": \"\"}, \"type\": \"choropleth\"}], \"contour\": [{\"colorbar\": {\"outlinewidth\": 0, \"ticks\": \"\"}, \"colorscale\": [[0.0, \"#0d0887\"], [0.1111111111111111, \"#46039f\"], [0.2222222222222222, \"#7201a8\"], [0.3333333333333333, \"#9c179e\"], [0.4444444444444444, \"#bd3786\"], [0.5555555555555556, \"#d8576b\"], [0.6666666666666666, \"#ed7953\"], [0.7777777777777778, \"#fb9f3a\"], [0.8888888888888888, \"#fdca26\"], [1.0, \"#f0f921\"]], \"type\": \"contour\"}], \"contourcarpet\": [{\"colorbar\": {\"outlinewidth\": 0, \"ticks\": \"\"}, \"type\": \"contourcarpet\"}], \"heatmap\": [{\"colorbar\": {\"outlinewidth\": 0, \"ticks\": \"\"}, \"colorscale\": [[0.0, \"#0d0887\"], [0.1111111111111111, \"#46039f\"], [0.2222222222222222, \"#7201a8\"], [0.3333333333333333, \"#9c179e\"], [0.4444444444444444, \"#bd3786\"], [0.5555555555555556, \"#d8576b\"], [0.6666666666666666, \"#ed7953\"], [0.7777777777777778, \"#fb9f3a\"], [0.8888888888888888, \"#fdca26\"], [1.0, \"#f0f921\"]], \"type\": \"heatmap\"}], \"heatmapgl\": [{\"colorbar\": {\"outlinewidth\": 0, \"ticks\": \"\"}, \"colorscale\": [[0.0, \"#0d0887\"], [0.1111111111111111, \"#46039f\"], [0.2222222222222222, \"#7201a8\"], [0.3333333333333333, \"#9c179e\"], [0.4444444444444444, \"#bd3786\"], [0.5555555555555556, \"#d8576b\"], [0.6666666666666666, \"#ed7953\"], [0.7777777777777778, \"#fb9f3a\"], [0.8888888888888888, \"#fdca26\"], [1.0, \"#f0f921\"]], \"type\": \"heatmapgl\"}], \"histogram\": [{\"marker\": {\"colorbar\": {\"outlinewidth\": 0, \"ticks\": \"\"}}, \"type\": \"histogram\"}], \"histogram2d\": [{\"colorbar\": {\"outlinewidth\": 0, \"ticks\": \"\"}, \"colorscale\": [[0.0, \"#0d0887\"], [0.1111111111111111, \"#46039f\"], [0.2222222222222222, \"#7201a8\"], [0.3333333333333333, \"#9c179e\"], [0.4444444444444444, \"#bd3786\"], [0.5555555555555556, \"#d8576b\"], [0.6666666666666666, \"#ed7953\"], [0.7777777777777778, \"#fb9f3a\"], [0.8888888888888888, \"#fdca26\"], [1.0, \"#f0f921\"]], \"type\": \"histogram2d\"}], \"histogram2dcontour\": [{\"colorbar\": {\"outlinewidth\": 0, \"ticks\": \"\"}, \"colorscale\": [[0.0, \"#0d0887\"], [0.1111111111111111, \"#46039f\"], [0.2222222222222222, \"#7201a8\"], [0.3333333333333333, \"#9c179e\"], [0.4444444444444444, \"#bd3786\"], [0.5555555555555556, \"#d8576b\"], [0.6666666666666666, \"#ed7953\"], [0.7777777777777778, \"#fb9f3a\"], [0.8888888888888888, \"#fdca26\"], [1.0, \"#f0f921\"]], \"type\": \"histogram2dcontour\"}], \"mesh3d\": [{\"colorbar\": {\"outlinewidth\": 0, \"ticks\": \"\"}, \"type\": \"mesh3d\"}], \"parcoords\": [{\"line\": {\"colorbar\": {\"outlinewidth\": 0, \"ticks\": \"\"}}, \"type\": \"parcoords\"}], \"pie\": [{\"automargin\": true, \"type\": \"pie\"}], \"scatter\": [{\"marker\": {\"colorbar\": {\"outlinewidth\": 0, \"ticks\": \"\"}}, \"type\": \"scatter\"}], \"scatter3d\": [{\"line\": {\"colorbar\": {\"outlinewidth\": 0, \"ticks\": \"\"}}, \"marker\": {\"colorbar\": {\"outlinewidth\": 0, \"ticks\": \"\"}}, \"type\": \"scatter3d\"}], \"scattercarpet\": [{\"marker\": {\"colorbar\": {\"outlinewidth\": 0, \"ticks\": \"\"}}, \"type\": \"scattercarpet\"}], \"scattergeo\": [{\"marker\": {\"colorbar\": {\"outlinewidth\": 0, \"ticks\": \"\"}}, \"type\": \"scattergeo\"}], \"scattergl\": [{\"marker\": {\"colorbar\": {\"outlinewidth\": 0, \"ticks\": \"\"}}, \"type\": \"scattergl\"}], \"scattermapbox\": [{\"marker\": {\"colorbar\": {\"outlinewidth\": 0, \"ticks\": \"\"}}, \"type\": \"scattermapbox\"}], \"scatterpolar\": [{\"marker\": {\"colorbar\": {\"outlinewidth\": 0, \"ticks\": \"\"}}, \"type\": \"scatterpolar\"}], \"scatterpolargl\": [{\"marker\": {\"colorbar\": {\"outlinewidth\": 0, \"ticks\": \"\"}}, \"type\": \"scatterpolargl\"}], \"scatterternary\": [{\"marker\": {\"colorbar\": {\"outlinewidth\": 0, \"ticks\": \"\"}}, \"type\": \"scatterternary\"}], \"surface\": [{\"colorbar\": {\"outlinewidth\": 0, \"ticks\": \"\"}, \"colorscale\": [[0.0, \"#0d0887\"], [0.1111111111111111, \"#46039f\"], [0.2222222222222222, \"#7201a8\"], [0.3333333333333333, \"#9c179e\"], [0.4444444444444444, \"#bd3786\"], [0.5555555555555556, \"#d8576b\"], [0.6666666666666666, \"#ed7953\"], [0.7777777777777778, \"#fb9f3a\"], [0.8888888888888888, \"#fdca26\"], [1.0, \"#f0f921\"]], \"type\": \"surface\"}], \"table\": [{\"cells\": {\"fill\": {\"color\": \"#EBF0F8\"}, \"line\": {\"color\": \"white\"}}, \"header\": {\"fill\": {\"color\": \"#C8D4E3\"}, \"line\": {\"color\": \"white\"}}, \"type\": \"table\"}]}, \"layout\": {\"annotationdefaults\": {\"arrowcolor\": \"#2a3f5f\", \"arrowhead\": 0, \"arrowwidth\": 1}, \"coloraxis\": {\"colorbar\": {\"outlinewidth\": 0, \"ticks\": \"\"}}, \"colorscale\": {\"diverging\": [[0, \"#8e0152\"], [0.1, \"#c51b7d\"], [0.2, \"#de77ae\"], [0.3, \"#f1b6da\"], [0.4, \"#fde0ef\"], [0.5, \"#f7f7f7\"], [0.6, \"#e6f5d0\"], [0.7, \"#b8e186\"], [0.8, \"#7fbc41\"], [0.9, \"#4d9221\"], [1, \"#276419\"]], \"sequential\": [[0.0, \"#0d0887\"], [0.1111111111111111, \"#46039f\"], [0.2222222222222222, \"#7201a8\"], [0.3333333333333333, \"#9c179e\"], [0.4444444444444444, \"#bd3786\"], [0.5555555555555556, \"#d8576b\"], [0.6666666666666666, \"#ed7953\"], [0.7777777777777778, \"#fb9f3a\"], [0.8888888888888888, \"#fdca26\"], [1.0, \"#f0f921\"]], \"sequentialminus\": [[0.0, \"#0d0887\"], [0.1111111111111111, \"#46039f\"], [0.2222222222222222, \"#7201a8\"], [0.3333333333333333, \"#9c179e\"], [0.4444444444444444, \"#bd3786\"], [0.5555555555555556, \"#d8576b\"], [0.6666666666666666, \"#ed7953\"], [0.7777777777777778, \"#fb9f3a\"], [0.8888888888888888, \"#fdca26\"], [1.0, \"#f0f921\"]]}, \"colorway\": [\"#636efa\", \"#EF553B\", \"#00cc96\", \"#ab63fa\", \"#FFA15A\", \"#19d3f3\", \"#FF6692\", \"#B6E880\", \"#FF97FF\", \"#FECB52\"], \"font\": {\"color\": \"#2a3f5f\"}, \"geo\": {\"bgcolor\": \"white\", \"lakecolor\": \"white\", \"landcolor\": \"white\", \"showlakes\": true, \"showland\": true, \"subunitcolor\": \"#C8D4E3\"}, \"hoverlabel\": {\"align\": \"left\"}, \"hovermode\": \"closest\", \"mapbox\": {\"style\": \"light\"}, \"paper_bgcolor\": \"white\", \"plot_bgcolor\": \"white\", \"polar\": {\"angularaxis\": {\"gridcolor\": \"#EBF0F8\", \"linecolor\": \"#EBF0F8\", \"ticks\": \"\"}, \"bgcolor\": \"white\", \"radialaxis\": {\"gridcolor\": \"#EBF0F8\", \"linecolor\": \"#EBF0F8\", \"ticks\": \"\"}}, \"scene\": {\"xaxis\": {\"backgroundcolor\": \"white\", \"gridcolor\": \"#DFE8F3\", \"gridwidth\": 2, \"linecolor\": \"#EBF0F8\", \"showbackground\": true, \"ticks\": \"\", \"zerolinecolor\": \"#EBF0F8\"}, \"yaxis\": {\"backgroundcolor\": \"white\", \"gridcolor\": \"#DFE8F3\", \"gridwidth\": 2, \"linecolor\": \"#EBF0F8\", \"showbackground\": true, \"ticks\": \"\", \"zerolinecolor\": \"#EBF0F8\"}, \"zaxis\": {\"backgroundcolor\": \"white\", \"gridcolor\": \"#DFE8F3\", \"gridwidth\": 2, \"linecolor\": \"#EBF0F8\", \"showbackground\": true, \"ticks\": \"\", \"zerolinecolor\": \"#EBF0F8\"}}, \"shapedefaults\": {\"line\": {\"color\": \"#2a3f5f\"}}, \"ternary\": {\"aaxis\": {\"gridcolor\": \"#DFE8F3\", \"linecolor\": \"#A2B1C6\", \"ticks\": \"\"}, \"baxis\": {\"gridcolor\": \"#DFE8F3\", \"linecolor\": \"#A2B1C6\", \"ticks\": \"\"}, \"bgcolor\": \"white\", \"caxis\": {\"gridcolor\": \"#DFE8F3\", \"linecolor\": \"#A2B1C6\", \"ticks\": \"\"}}, \"title\": {\"x\": 0.05}, \"xaxis\": {\"automargin\": true, \"gridcolor\": \"#EBF0F8\", \"linecolor\": \"#EBF0F8\", \"ticks\": \"\", \"title\": {\"standoff\": 15}, \"zerolinecolor\": \"#EBF0F8\", \"zerolinewidth\": 2}, \"yaxis\": {\"automargin\": true, \"gridcolor\": \"#EBF0F8\", \"linecolor\": \"#EBF0F8\", \"ticks\": \"\", \"title\": {\"standoff\": 15}, \"zerolinecolor\": \"#EBF0F8\", \"zerolinewidth\": 2}}}, \"title\": {\"text\": \"Silhouette Scores Over Different K's\", \"xanchor\": \"auto\"}, \"xaxis\": {\"anchor\": \"y\", \"domain\": [0.0, 1.0], \"title\": {\"text\": \"K Level\"}}, \"yaxis\": {\"anchor\": \"x\", \"domain\": [0.0, 1.0], \"title\": {\"text\": \"Silhouette Score\"}}},\n",
       "                        {\"responsive\": true}\n",
       "                    ).then(function(){\n",
       "                            \n",
       "var gd = document.getElementById('af050db8-9621-4a48-ac52-d0fe13b27ab4');\n",
       "var x = new MutationObserver(function (mutations, observer) {{\n",
       "        var display = window.getComputedStyle(gd).display;\n",
       "        if (!display || display === 'none') {{\n",
       "            console.log([gd, 'removed!']);\n",
       "            Plotly.purge(gd);\n",
       "            observer.disconnect();\n",
       "        }}\n",
       "}});\n",
       "\n",
       "// Listen for the removal of the full notebook cells\n",
       "var notebookContainer = gd.closest('#notebook-container');\n",
       "if (notebookContainer) {{\n",
       "    x.observe(notebookContainer, {childList: true});\n",
       "}}\n",
       "\n",
       "// Listen for the clearing of the current output cell\n",
       "var outputEl = gd.closest('.output');\n",
       "if (outputEl) {{\n",
       "    x.observe(outputEl, {childList: true});\n",
       "}}\n",
       "\n",
       "                        })\n",
       "                };\n",
       "                });\n",
       "            </script>\n",
       "        </div>"
      ]
     },
     "metadata": {},
     "output_type": "display_data"
    }
   ],
   "source": [
    "import plotly.graph_objects as go\n",
    "import plotly.express as px\n",
    "\n",
    "fig = px.line(cluster_melt_sil, x=\"K Level\", y=\"Silhouette Score\", color=\"Methods\", hover_name=\"Methods\", template=\"plotly_white\")\n",
    "fig.add_trace(go.Scatter(x=cluster_melt_sil[\"K Level\"], \n",
    "                         y=cluster_melt_sil[\"Silhouette Score\"],\n",
    "                         mode='markers',\n",
    "                         showlegend=False))\n",
    "fig.update_layout(\n",
    "    title=dict(\n",
    "        text=\"Silhouette Scores Over Different K's\",\n",
    "        xanchor=\"auto\")\n",
    ")\n",
    "\n",
    "fig.show()"
   ]
  },
  {
   "cell_type": "code",
   "execution_count": 433,
   "metadata": {},
   "outputs": [],
   "source": [
    "def cluster_stats_sse(k, X):\n",
    "    method_names = ['K-means']\n",
    "    df=pd.DataFrame(index=method_names)\n",
    "    df.index.names = ['Methods']\n",
    "    for i in range(2,int(k)):\n",
    "        algorithms = []\n",
    "        algorithms.append(KMeans(n_clusters=i, random_state=1))\n",
    "        data=[]\n",
    "        for algo in algorithms:\n",
    "            algo.fit(X)\n",
    "            data.append(({\n",
    "                str(i) : algo.inertia_}))\n",
    "        \n",
    "        results = pd.DataFrame(data=data, columns=[str(i)], index=method_names)\n",
    "        results.index.names = ['Methods']\n",
    "        df = df.merge(results, on=\"Methods\", how=\"left\")\n",
    "        \n",
    "    return df"
   ]
  },
  {
   "cell_type": "code",
   "execution_count": 434,
   "metadata": {},
   "outputs": [],
   "source": [
    "cluster_df_sse=cluster_stats_sse(16, vectors_df)"
   ]
  },
  {
   "cell_type": "code",
   "execution_count": 435,
   "metadata": {},
   "outputs": [
    {
     "data": {
      "text/html": [
       "<div>\n",
       "<style scoped>\n",
       "    .dataframe tbody tr th:only-of-type {\n",
       "        vertical-align: middle;\n",
       "    }\n",
       "\n",
       "    .dataframe tbody tr th {\n",
       "        vertical-align: top;\n",
       "    }\n",
       "\n",
       "    .dataframe thead th {\n",
       "        text-align: right;\n",
       "    }\n",
       "</style>\n",
       "<table border=\"1\" class=\"dataframe\">\n",
       "  <thead>\n",
       "    <tr style=\"text-align: right;\">\n",
       "      <th></th>\n",
       "      <th>2</th>\n",
       "      <th>3</th>\n",
       "      <th>4</th>\n",
       "      <th>5</th>\n",
       "      <th>6</th>\n",
       "      <th>7</th>\n",
       "      <th>8</th>\n",
       "      <th>9</th>\n",
       "      <th>10</th>\n",
       "      <th>11</th>\n",
       "      <th>12</th>\n",
       "      <th>13</th>\n",
       "      <th>14</th>\n",
       "      <th>15</th>\n",
       "    </tr>\n",
       "    <tr>\n",
       "      <th>Methods</th>\n",
       "      <th></th>\n",
       "      <th></th>\n",
       "      <th></th>\n",
       "      <th></th>\n",
       "      <th></th>\n",
       "      <th></th>\n",
       "      <th></th>\n",
       "      <th></th>\n",
       "      <th></th>\n",
       "      <th></th>\n",
       "      <th></th>\n",
       "      <th></th>\n",
       "      <th></th>\n",
       "      <th></th>\n",
       "    </tr>\n",
       "  </thead>\n",
       "  <tbody>\n",
       "    <tr>\n",
       "      <th>K-means</th>\n",
       "      <td>2020.22462</td>\n",
       "      <td>1975.614816</td>\n",
       "      <td>1961.998748</td>\n",
       "      <td>1943.293145</td>\n",
       "      <td>1934.659025</td>\n",
       "      <td>1917.076095</td>\n",
       "      <td>1901.966049</td>\n",
       "      <td>1887.914226</td>\n",
       "      <td>1882.719878</td>\n",
       "      <td>1871.208641</td>\n",
       "      <td>1866.441945</td>\n",
       "      <td>1859.764283</td>\n",
       "      <td>1852.432628</td>\n",
       "      <td>1846.034712</td>\n",
       "    </tr>\n",
       "  </tbody>\n",
       "</table>\n",
       "</div>"
      ],
      "text/plain": [
       "                  2            3            4            5            6  \\\n",
       "Methods                                                                   \n",
       "K-means  2020.22462  1975.614816  1961.998748  1943.293145  1934.659025   \n",
       "\n",
       "                   7            8            9           10           11  \\\n",
       "Methods                                                                    \n",
       "K-means  1917.076095  1901.966049  1887.914226  1882.719878  1871.208641   \n",
       "\n",
       "                  12           13           14           15  \n",
       "Methods                                                      \n",
       "K-means  1866.441945  1859.764283  1852.432628  1846.034712  "
      ]
     },
     "execution_count": 435,
     "metadata": {},
     "output_type": "execute_result"
    }
   ],
   "source": [
    "cluster_df_sse"
   ]
  },
  {
   "cell_type": "code",
   "execution_count": 447,
   "metadata": {},
   "outputs": [],
   "source": [
    "cluster_melt_sse = cluster_df_sse.stack().reset_index()\n",
    "cluster_melt_sse.columns = [\"Methods\", \"K Level\", \"SSE\"]"
   ]
  },
  {
   "cell_type": "code",
   "execution_count": 449,
   "metadata": {
    "jupyter": {
     "source_hidden": true
    }
   },
   "outputs": [
    {
     "data": {
      "application/vnd.plotly.v1+json": {
       "config": {
        "plotlyServerURL": "https://plot.ly"
       },
       "data": [
        {
         "hoverlabel": {
          "namelength": 0
         },
         "hovertemplate": "<b>%{hovertext}</b><br><br>Methods=K-means<br>K Level=%{x}<br>SSE=%{y}",
         "hovertext": [
          "K-means",
          "K-means",
          "K-means",
          "K-means",
          "K-means",
          "K-means",
          "K-means",
          "K-means",
          "K-means",
          "K-means",
          "K-means",
          "K-means",
          "K-means",
          "K-means"
         ],
         "legendgroup": "Methods=K-means",
         "line": {
          "color": "#636efa",
          "dash": "solid"
         },
         "mode": "lines",
         "name": "Methods=K-means",
         "showlegend": true,
         "type": "scatter",
         "x": [
          "2",
          "3",
          "4",
          "5",
          "6",
          "7",
          "8",
          "9",
          "10",
          "11",
          "12",
          "13",
          "14",
          "15"
         ],
         "xaxis": "x",
         "y": [
          2020.2246197787726,
          1975.6148163214455,
          1961.9987478383014,
          1943.2931448487138,
          1934.6590249267472,
          1917.076095260496,
          1901.9660493653769,
          1887.9142258885836,
          1882.7198778232298,
          1871.2086414496603,
          1866.4419448380993,
          1859.7642826511392,
          1852.432628360227,
          1846.0347116726778
         ],
         "yaxis": "y"
        },
        {
         "mode": "markers",
         "showlegend": false,
         "type": "scatter",
         "x": [
          "2",
          "3",
          "4",
          "5",
          "6",
          "7",
          "8",
          "9",
          "10",
          "11",
          "12",
          "13",
          "14",
          "15"
         ],
         "y": [
          2020.2246197787726,
          1975.6148163214455,
          1961.9987478383014,
          1943.2931448487138,
          1934.6590249267472,
          1917.076095260496,
          1901.9660493653769,
          1887.9142258885836,
          1882.7198778232298,
          1871.2086414496603,
          1866.4419448380993,
          1859.7642826511392,
          1852.432628360227,
          1846.0347116726778
         ]
        }
       ],
       "layout": {
        "autosize": true,
        "legend": {
         "tracegroupgap": 0
        },
        "margin": {
         "t": 60
        },
        "template": {
         "data": {
          "bar": [
           {
            "error_x": {
             "color": "#2a3f5f"
            },
            "error_y": {
             "color": "#2a3f5f"
            },
            "marker": {
             "line": {
              "color": "white",
              "width": 0.5
             }
            },
            "type": "bar"
           }
          ],
          "barpolar": [
           {
            "marker": {
             "line": {
              "color": "white",
              "width": 0.5
             }
            },
            "type": "barpolar"
           }
          ],
          "carpet": [
           {
            "aaxis": {
             "endlinecolor": "#2a3f5f",
             "gridcolor": "#C8D4E3",
             "linecolor": "#C8D4E3",
             "minorgridcolor": "#C8D4E3",
             "startlinecolor": "#2a3f5f"
            },
            "baxis": {
             "endlinecolor": "#2a3f5f",
             "gridcolor": "#C8D4E3",
             "linecolor": "#C8D4E3",
             "minorgridcolor": "#C8D4E3",
             "startlinecolor": "#2a3f5f"
            },
            "type": "carpet"
           }
          ],
          "choropleth": [
           {
            "colorbar": {
             "outlinewidth": 0,
             "ticks": ""
            },
            "type": "choropleth"
           }
          ],
          "contour": [
           {
            "colorbar": {
             "outlinewidth": 0,
             "ticks": ""
            },
            "colorscale": [
             [
              0,
              "#0d0887"
             ],
             [
              0.1111111111111111,
              "#46039f"
             ],
             [
              0.2222222222222222,
              "#7201a8"
             ],
             [
              0.3333333333333333,
              "#9c179e"
             ],
             [
              0.4444444444444444,
              "#bd3786"
             ],
             [
              0.5555555555555556,
              "#d8576b"
             ],
             [
              0.6666666666666666,
              "#ed7953"
             ],
             [
              0.7777777777777778,
              "#fb9f3a"
             ],
             [
              0.8888888888888888,
              "#fdca26"
             ],
             [
              1,
              "#f0f921"
             ]
            ],
            "type": "contour"
           }
          ],
          "contourcarpet": [
           {
            "colorbar": {
             "outlinewidth": 0,
             "ticks": ""
            },
            "type": "contourcarpet"
           }
          ],
          "heatmap": [
           {
            "colorbar": {
             "outlinewidth": 0,
             "ticks": ""
            },
            "colorscale": [
             [
              0,
              "#0d0887"
             ],
             [
              0.1111111111111111,
              "#46039f"
             ],
             [
              0.2222222222222222,
              "#7201a8"
             ],
             [
              0.3333333333333333,
              "#9c179e"
             ],
             [
              0.4444444444444444,
              "#bd3786"
             ],
             [
              0.5555555555555556,
              "#d8576b"
             ],
             [
              0.6666666666666666,
              "#ed7953"
             ],
             [
              0.7777777777777778,
              "#fb9f3a"
             ],
             [
              0.8888888888888888,
              "#fdca26"
             ],
             [
              1,
              "#f0f921"
             ]
            ],
            "type": "heatmap"
           }
          ],
          "heatmapgl": [
           {
            "colorbar": {
             "outlinewidth": 0,
             "ticks": ""
            },
            "colorscale": [
             [
              0,
              "#0d0887"
             ],
             [
              0.1111111111111111,
              "#46039f"
             ],
             [
              0.2222222222222222,
              "#7201a8"
             ],
             [
              0.3333333333333333,
              "#9c179e"
             ],
             [
              0.4444444444444444,
              "#bd3786"
             ],
             [
              0.5555555555555556,
              "#d8576b"
             ],
             [
              0.6666666666666666,
              "#ed7953"
             ],
             [
              0.7777777777777778,
              "#fb9f3a"
             ],
             [
              0.8888888888888888,
              "#fdca26"
             ],
             [
              1,
              "#f0f921"
             ]
            ],
            "type": "heatmapgl"
           }
          ],
          "histogram": [
           {
            "marker": {
             "colorbar": {
              "outlinewidth": 0,
              "ticks": ""
             }
            },
            "type": "histogram"
           }
          ],
          "histogram2d": [
           {
            "colorbar": {
             "outlinewidth": 0,
             "ticks": ""
            },
            "colorscale": [
             [
              0,
              "#0d0887"
             ],
             [
              0.1111111111111111,
              "#46039f"
             ],
             [
              0.2222222222222222,
              "#7201a8"
             ],
             [
              0.3333333333333333,
              "#9c179e"
             ],
             [
              0.4444444444444444,
              "#bd3786"
             ],
             [
              0.5555555555555556,
              "#d8576b"
             ],
             [
              0.6666666666666666,
              "#ed7953"
             ],
             [
              0.7777777777777778,
              "#fb9f3a"
             ],
             [
              0.8888888888888888,
              "#fdca26"
             ],
             [
              1,
              "#f0f921"
             ]
            ],
            "type": "histogram2d"
           }
          ],
          "histogram2dcontour": [
           {
            "colorbar": {
             "outlinewidth": 0,
             "ticks": ""
            },
            "colorscale": [
             [
              0,
              "#0d0887"
             ],
             [
              0.1111111111111111,
              "#46039f"
             ],
             [
              0.2222222222222222,
              "#7201a8"
             ],
             [
              0.3333333333333333,
              "#9c179e"
             ],
             [
              0.4444444444444444,
              "#bd3786"
             ],
             [
              0.5555555555555556,
              "#d8576b"
             ],
             [
              0.6666666666666666,
              "#ed7953"
             ],
             [
              0.7777777777777778,
              "#fb9f3a"
             ],
             [
              0.8888888888888888,
              "#fdca26"
             ],
             [
              1,
              "#f0f921"
             ]
            ],
            "type": "histogram2dcontour"
           }
          ],
          "mesh3d": [
           {
            "colorbar": {
             "outlinewidth": 0,
             "ticks": ""
            },
            "type": "mesh3d"
           }
          ],
          "parcoords": [
           {
            "line": {
             "colorbar": {
              "outlinewidth": 0,
              "ticks": ""
             }
            },
            "type": "parcoords"
           }
          ],
          "pie": [
           {
            "automargin": true,
            "type": "pie"
           }
          ],
          "scatter": [
           {
            "marker": {
             "colorbar": {
              "outlinewidth": 0,
              "ticks": ""
             }
            },
            "type": "scatter"
           }
          ],
          "scatter3d": [
           {
            "line": {
             "colorbar": {
              "outlinewidth": 0,
              "ticks": ""
             }
            },
            "marker": {
             "colorbar": {
              "outlinewidth": 0,
              "ticks": ""
             }
            },
            "type": "scatter3d"
           }
          ],
          "scattercarpet": [
           {
            "marker": {
             "colorbar": {
              "outlinewidth": 0,
              "ticks": ""
             }
            },
            "type": "scattercarpet"
           }
          ],
          "scattergeo": [
           {
            "marker": {
             "colorbar": {
              "outlinewidth": 0,
              "ticks": ""
             }
            },
            "type": "scattergeo"
           }
          ],
          "scattergl": [
           {
            "marker": {
             "colorbar": {
              "outlinewidth": 0,
              "ticks": ""
             }
            },
            "type": "scattergl"
           }
          ],
          "scattermapbox": [
           {
            "marker": {
             "colorbar": {
              "outlinewidth": 0,
              "ticks": ""
             }
            },
            "type": "scattermapbox"
           }
          ],
          "scatterpolar": [
           {
            "marker": {
             "colorbar": {
              "outlinewidth": 0,
              "ticks": ""
             }
            },
            "type": "scatterpolar"
           }
          ],
          "scatterpolargl": [
           {
            "marker": {
             "colorbar": {
              "outlinewidth": 0,
              "ticks": ""
             }
            },
            "type": "scatterpolargl"
           }
          ],
          "scatterternary": [
           {
            "marker": {
             "colorbar": {
              "outlinewidth": 0,
              "ticks": ""
             }
            },
            "type": "scatterternary"
           }
          ],
          "surface": [
           {
            "colorbar": {
             "outlinewidth": 0,
             "ticks": ""
            },
            "colorscale": [
             [
              0,
              "#0d0887"
             ],
             [
              0.1111111111111111,
              "#46039f"
             ],
             [
              0.2222222222222222,
              "#7201a8"
             ],
             [
              0.3333333333333333,
              "#9c179e"
             ],
             [
              0.4444444444444444,
              "#bd3786"
             ],
             [
              0.5555555555555556,
              "#d8576b"
             ],
             [
              0.6666666666666666,
              "#ed7953"
             ],
             [
              0.7777777777777778,
              "#fb9f3a"
             ],
             [
              0.8888888888888888,
              "#fdca26"
             ],
             [
              1,
              "#f0f921"
             ]
            ],
            "type": "surface"
           }
          ],
          "table": [
           {
            "cells": {
             "fill": {
              "color": "#EBF0F8"
             },
             "line": {
              "color": "white"
             }
            },
            "header": {
             "fill": {
              "color": "#C8D4E3"
             },
             "line": {
              "color": "white"
             }
            },
            "type": "table"
           }
          ]
         },
         "layout": {
          "annotationdefaults": {
           "arrowcolor": "#2a3f5f",
           "arrowhead": 0,
           "arrowwidth": 1
          },
          "coloraxis": {
           "colorbar": {
            "outlinewidth": 0,
            "ticks": ""
           }
          },
          "colorscale": {
           "diverging": [
            [
             0,
             "#8e0152"
            ],
            [
             0.1,
             "#c51b7d"
            ],
            [
             0.2,
             "#de77ae"
            ],
            [
             0.3,
             "#f1b6da"
            ],
            [
             0.4,
             "#fde0ef"
            ],
            [
             0.5,
             "#f7f7f7"
            ],
            [
             0.6,
             "#e6f5d0"
            ],
            [
             0.7,
             "#b8e186"
            ],
            [
             0.8,
             "#7fbc41"
            ],
            [
             0.9,
             "#4d9221"
            ],
            [
             1,
             "#276419"
            ]
           ],
           "sequential": [
            [
             0,
             "#0d0887"
            ],
            [
             0.1111111111111111,
             "#46039f"
            ],
            [
             0.2222222222222222,
             "#7201a8"
            ],
            [
             0.3333333333333333,
             "#9c179e"
            ],
            [
             0.4444444444444444,
             "#bd3786"
            ],
            [
             0.5555555555555556,
             "#d8576b"
            ],
            [
             0.6666666666666666,
             "#ed7953"
            ],
            [
             0.7777777777777778,
             "#fb9f3a"
            ],
            [
             0.8888888888888888,
             "#fdca26"
            ],
            [
             1,
             "#f0f921"
            ]
           ],
           "sequentialminus": [
            [
             0,
             "#0d0887"
            ],
            [
             0.1111111111111111,
             "#46039f"
            ],
            [
             0.2222222222222222,
             "#7201a8"
            ],
            [
             0.3333333333333333,
             "#9c179e"
            ],
            [
             0.4444444444444444,
             "#bd3786"
            ],
            [
             0.5555555555555556,
             "#d8576b"
            ],
            [
             0.6666666666666666,
             "#ed7953"
            ],
            [
             0.7777777777777778,
             "#fb9f3a"
            ],
            [
             0.8888888888888888,
             "#fdca26"
            ],
            [
             1,
             "#f0f921"
            ]
           ]
          },
          "colorway": [
           "#636efa",
           "#EF553B",
           "#00cc96",
           "#ab63fa",
           "#FFA15A",
           "#19d3f3",
           "#FF6692",
           "#B6E880",
           "#FF97FF",
           "#FECB52"
          ],
          "font": {
           "color": "#2a3f5f"
          },
          "geo": {
           "bgcolor": "white",
           "lakecolor": "white",
           "landcolor": "white",
           "showlakes": true,
           "showland": true,
           "subunitcolor": "#C8D4E3"
          },
          "hoverlabel": {
           "align": "left"
          },
          "hovermode": "closest",
          "mapbox": {
           "style": "light"
          },
          "paper_bgcolor": "white",
          "plot_bgcolor": "white",
          "polar": {
           "angularaxis": {
            "gridcolor": "#EBF0F8",
            "linecolor": "#EBF0F8",
            "ticks": ""
           },
           "bgcolor": "white",
           "radialaxis": {
            "gridcolor": "#EBF0F8",
            "linecolor": "#EBF0F8",
            "ticks": ""
           }
          },
          "scene": {
           "xaxis": {
            "backgroundcolor": "white",
            "gridcolor": "#DFE8F3",
            "gridwidth": 2,
            "linecolor": "#EBF0F8",
            "showbackground": true,
            "ticks": "",
            "zerolinecolor": "#EBF0F8"
           },
           "yaxis": {
            "backgroundcolor": "white",
            "gridcolor": "#DFE8F3",
            "gridwidth": 2,
            "linecolor": "#EBF0F8",
            "showbackground": true,
            "ticks": "",
            "zerolinecolor": "#EBF0F8"
           },
           "zaxis": {
            "backgroundcolor": "white",
            "gridcolor": "#DFE8F3",
            "gridwidth": 2,
            "linecolor": "#EBF0F8",
            "showbackground": true,
            "ticks": "",
            "zerolinecolor": "#EBF0F8"
           }
          },
          "shapedefaults": {
           "line": {
            "color": "#2a3f5f"
           }
          },
          "ternary": {
           "aaxis": {
            "gridcolor": "#DFE8F3",
            "linecolor": "#A2B1C6",
            "ticks": ""
           },
           "baxis": {
            "gridcolor": "#DFE8F3",
            "linecolor": "#A2B1C6",
            "ticks": ""
           },
           "bgcolor": "white",
           "caxis": {
            "gridcolor": "#DFE8F3",
            "linecolor": "#A2B1C6",
            "ticks": ""
           }
          },
          "title": {
           "x": 0.05
          },
          "xaxis": {
           "automargin": true,
           "gridcolor": "#EBF0F8",
           "linecolor": "#EBF0F8",
           "ticks": "",
           "title": {
            "standoff": 15
           },
           "zerolinecolor": "#EBF0F8",
           "zerolinewidth": 2
          },
          "yaxis": {
           "automargin": true,
           "gridcolor": "#EBF0F8",
           "linecolor": "#EBF0F8",
           "ticks": "",
           "title": {
            "standoff": 15
           },
           "zerolinecolor": "#EBF0F8",
           "zerolinewidth": 2
          }
         }
        },
        "title": {
         "text": "SSE Over Different K's",
         "xanchor": "auto"
        },
        "xaxis": {
         "anchor": "y",
         "autorange": true,
         "domain": [
          0,
          1
         ],
         "range": [
          1.2220851326341764,
          15.777914867365824
         ],
         "title": {
          "text": "K Level"
         },
         "type": "linear"
        },
        "yaxis": {
         "anchor": "x",
         "autorange": true,
         "domain": [
          0,
          1
         ],
         "range": [
          1833.6842301587096,
          2032.5751012927408
         ],
         "title": {
          "text": "SSE"
         },
         "type": "linear"
        }
       }
      },
      "image/png": "[encoded data removed]",
      "text/html": [
       "<div>\n",
       "        \n",
       "        \n",
       "            <div id=\"2d5765c2-26ef-49b1-af3c-75d236837393\" class=\"plotly-graph-div\" style=\"height:600px; width:100%;\"></div>\n",
       "            <script type=\"text/javascript\">\n",
       "                require([\"plotly\"], function(Plotly) {\n",
       "                    window.PLOTLYENV=window.PLOTLYENV || {};\n",
       "                    \n",
       "                if (document.getElementById(\"2d5765c2-26ef-49b1-af3c-75d236837393\")) {\n",
       "                    Plotly.newPlot(\n",
       "                        '2d5765c2-26ef-49b1-af3c-75d236837393',\n",
       "                        [{\"hoverlabel\": {\"namelength\": 0}, \"hovertemplate\": \"<b>%{hovertext}</b><br><br>Methods=K-means<br>K Level=%{x}<br>SSE=%{y}\", \"hovertext\": [\"K-means\", \"K-means\", \"K-means\", \"K-means\", \"K-means\", \"K-means\", \"K-means\", \"K-means\", \"K-means\", \"K-means\", \"K-means\", \"K-means\", \"K-means\", \"K-means\"], \"legendgroup\": \"Methods=K-means\", \"line\": {\"color\": \"#636efa\", \"dash\": \"solid\"}, \"mode\": \"lines\", \"name\": \"Methods=K-means\", \"showlegend\": true, \"type\": \"scatter\", \"x\": [\"2\", \"3\", \"4\", \"5\", \"6\", \"7\", \"8\", \"9\", \"10\", \"11\", \"12\", \"13\", \"14\", \"15\"], \"xaxis\": \"x\", \"y\": [2020.2246197787726, 1975.6148163214455, 1961.9987478383014, 1943.2931448487138, 1934.6590249267472, 1917.076095260496, 1901.9660493653769, 1887.9142258885836, 1882.7198778232298, 1871.2086414496603, 1866.4419448380993, 1859.7642826511392, 1852.432628360227, 1846.0347116726778], \"yaxis\": \"y\"}, {\"mode\": \"markers\", \"showlegend\": false, \"type\": \"scatter\", \"x\": [\"2\", \"3\", \"4\", \"5\", \"6\", \"7\", \"8\", \"9\", \"10\", \"11\", \"12\", \"13\", \"14\", \"15\"], \"y\": [2020.2246197787726, 1975.6148163214455, 1961.9987478383014, 1943.2931448487138, 1934.6590249267472, 1917.076095260496, 1901.9660493653769, 1887.9142258885836, 1882.7198778232298, 1871.2086414496603, 1866.4419448380993, 1859.7642826511392, 1852.432628360227, 1846.0347116726778]}],\n",
       "                        {\"height\": 600, \"legend\": {\"tracegroupgap\": 0}, \"margin\": {\"t\": 60}, \"template\": {\"data\": {\"bar\": [{\"error_x\": {\"color\": \"#2a3f5f\"}, \"error_y\": {\"color\": \"#2a3f5f\"}, \"marker\": {\"line\": {\"color\": \"white\", \"width\": 0.5}}, \"type\": \"bar\"}], \"barpolar\": [{\"marker\": {\"line\": {\"color\": \"white\", \"width\": 0.5}}, \"type\": \"barpolar\"}], \"carpet\": [{\"aaxis\": {\"endlinecolor\": \"#2a3f5f\", \"gridcolor\": \"#C8D4E3\", \"linecolor\": \"#C8D4E3\", \"minorgridcolor\": \"#C8D4E3\", \"startlinecolor\": \"#2a3f5f\"}, \"baxis\": {\"endlinecolor\": \"#2a3f5f\", \"gridcolor\": \"#C8D4E3\", \"linecolor\": \"#C8D4E3\", \"minorgridcolor\": \"#C8D4E3\", \"startlinecolor\": \"#2a3f5f\"}, \"type\": \"carpet\"}], \"choropleth\": [{\"colorbar\": {\"outlinewidth\": 0, \"ticks\": \"\"}, \"type\": \"choropleth\"}], \"contour\": [{\"colorbar\": {\"outlinewidth\": 0, \"ticks\": \"\"}, \"colorscale\": [[0.0, \"#0d0887\"], [0.1111111111111111, \"#46039f\"], [0.2222222222222222, \"#7201a8\"], [0.3333333333333333, \"#9c179e\"], [0.4444444444444444, \"#bd3786\"], [0.5555555555555556, \"#d8576b\"], [0.6666666666666666, \"#ed7953\"], [0.7777777777777778, \"#fb9f3a\"], [0.8888888888888888, \"#fdca26\"], [1.0, \"#f0f921\"]], \"type\": \"contour\"}], \"contourcarpet\": [{\"colorbar\": {\"outlinewidth\": 0, \"ticks\": \"\"}, \"type\": \"contourcarpet\"}], \"heatmap\": [{\"colorbar\": {\"outlinewidth\": 0, \"ticks\": \"\"}, \"colorscale\": [[0.0, \"#0d0887\"], [0.1111111111111111, \"#46039f\"], [0.2222222222222222, \"#7201a8\"], [0.3333333333333333, \"#9c179e\"], [0.4444444444444444, \"#bd3786\"], [0.5555555555555556, \"#d8576b\"], [0.6666666666666666, \"#ed7953\"], [0.7777777777777778, \"#fb9f3a\"], [0.8888888888888888, \"#fdca26\"], [1.0, \"#f0f921\"]], \"type\": \"heatmap\"}], \"heatmapgl\": [{\"colorbar\": {\"outlinewidth\": 0, \"ticks\": \"\"}, \"colorscale\": [[0.0, \"#0d0887\"], [0.1111111111111111, \"#46039f\"], [0.2222222222222222, \"#7201a8\"], [0.3333333333333333, \"#9c179e\"], [0.4444444444444444, \"#bd3786\"], [0.5555555555555556, \"#d8576b\"], [0.6666666666666666, \"#ed7953\"], [0.7777777777777778, \"#fb9f3a\"], [0.8888888888888888, \"#fdca26\"], [1.0, \"#f0f921\"]], \"type\": \"heatmapgl\"}], \"histogram\": [{\"marker\": {\"colorbar\": {\"outlinewidth\": 0, \"ticks\": \"\"}}, \"type\": \"histogram\"}], \"histogram2d\": [{\"colorbar\": {\"outlinewidth\": 0, \"ticks\": \"\"}, \"colorscale\": [[0.0, \"#0d0887\"], [0.1111111111111111, \"#46039f\"], [0.2222222222222222, \"#7201a8\"], [0.3333333333333333, \"#9c179e\"], [0.4444444444444444, \"#bd3786\"], [0.5555555555555556, \"#d8576b\"], [0.6666666666666666, \"#ed7953\"], [0.7777777777777778, \"#fb9f3a\"], [0.8888888888888888, \"#fdca26\"], [1.0, \"#f0f921\"]], \"type\": \"histogram2d\"}], \"histogram2dcontour\": [{\"colorbar\": {\"outlinewidth\": 0, \"ticks\": \"\"}, \"colorscale\": [[0.0, \"#0d0887\"], [0.1111111111111111, \"#46039f\"], [0.2222222222222222, \"#7201a8\"], [0.3333333333333333, \"#9c179e\"], [0.4444444444444444, \"#bd3786\"], [0.5555555555555556, \"#d8576b\"], [0.6666666666666666, \"#ed7953\"], [0.7777777777777778, \"#fb9f3a\"], [0.8888888888888888, \"#fdca26\"], [1.0, \"#f0f921\"]], \"type\": \"histogram2dcontour\"}], \"mesh3d\": [{\"colorbar\": {\"outlinewidth\": 0, \"ticks\": \"\"}, \"type\": \"mesh3d\"}], \"parcoords\": [{\"line\": {\"colorbar\": {\"outlinewidth\": 0, \"ticks\": \"\"}}, \"type\": \"parcoords\"}], \"pie\": [{\"automargin\": true, \"type\": \"pie\"}], \"scatter\": [{\"marker\": {\"colorbar\": {\"outlinewidth\": 0, \"ticks\": \"\"}}, \"type\": \"scatter\"}], \"scatter3d\": [{\"line\": {\"colorbar\": {\"outlinewidth\": 0, \"ticks\": \"\"}}, \"marker\": {\"colorbar\": {\"outlinewidth\": 0, \"ticks\": \"\"}}, \"type\": \"scatter3d\"}], \"scattercarpet\": [{\"marker\": {\"colorbar\": {\"outlinewidth\": 0, \"ticks\": \"\"}}, \"type\": \"scattercarpet\"}], \"scattergeo\": [{\"marker\": {\"colorbar\": {\"outlinewidth\": 0, \"ticks\": \"\"}}, \"type\": \"scattergeo\"}], \"scattergl\": [{\"marker\": {\"colorbar\": {\"outlinewidth\": 0, \"ticks\": \"\"}}, \"type\": \"scattergl\"}], \"scattermapbox\": [{\"marker\": {\"colorbar\": {\"outlinewidth\": 0, \"ticks\": \"\"}}, \"type\": \"scattermapbox\"}], \"scatterpolar\": [{\"marker\": {\"colorbar\": {\"outlinewidth\": 0, \"ticks\": \"\"}}, \"type\": \"scatterpolar\"}], \"scatterpolargl\": [{\"marker\": {\"colorbar\": {\"outlinewidth\": 0, \"ticks\": \"\"}}, \"type\": \"scatterpolargl\"}], \"scatterternary\": [{\"marker\": {\"colorbar\": {\"outlinewidth\": 0, \"ticks\": \"\"}}, \"type\": \"scatterternary\"}], \"surface\": [{\"colorbar\": {\"outlinewidth\": 0, \"ticks\": \"\"}, \"colorscale\": [[0.0, \"#0d0887\"], [0.1111111111111111, \"#46039f\"], [0.2222222222222222, \"#7201a8\"], [0.3333333333333333, \"#9c179e\"], [0.4444444444444444, \"#bd3786\"], [0.5555555555555556, \"#d8576b\"], [0.6666666666666666, \"#ed7953\"], [0.7777777777777778, \"#fb9f3a\"], [0.8888888888888888, \"#fdca26\"], [1.0, \"#f0f921\"]], \"type\": \"surface\"}], \"table\": [{\"cells\": {\"fill\": {\"color\": \"#EBF0F8\"}, \"line\": {\"color\": \"white\"}}, \"header\": {\"fill\": {\"color\": \"#C8D4E3\"}, \"line\": {\"color\": \"white\"}}, \"type\": \"table\"}]}, \"layout\": {\"annotationdefaults\": {\"arrowcolor\": \"#2a3f5f\", \"arrowhead\": 0, \"arrowwidth\": 1}, \"coloraxis\": {\"colorbar\": {\"outlinewidth\": 0, \"ticks\": \"\"}}, \"colorscale\": {\"diverging\": [[0, \"#8e0152\"], [0.1, \"#c51b7d\"], [0.2, \"#de77ae\"], [0.3, \"#f1b6da\"], [0.4, \"#fde0ef\"], [0.5, \"#f7f7f7\"], [0.6, \"#e6f5d0\"], [0.7, \"#b8e186\"], [0.8, \"#7fbc41\"], [0.9, \"#4d9221\"], [1, \"#276419\"]], \"sequential\": [[0.0, \"#0d0887\"], [0.1111111111111111, \"#46039f\"], [0.2222222222222222, \"#7201a8\"], [0.3333333333333333, \"#9c179e\"], [0.4444444444444444, \"#bd3786\"], [0.5555555555555556, \"#d8576b\"], [0.6666666666666666, \"#ed7953\"], [0.7777777777777778, \"#fb9f3a\"], [0.8888888888888888, \"#fdca26\"], [1.0, \"#f0f921\"]], \"sequentialminus\": [[0.0, \"#0d0887\"], [0.1111111111111111, \"#46039f\"], [0.2222222222222222, \"#7201a8\"], [0.3333333333333333, \"#9c179e\"], [0.4444444444444444, \"#bd3786\"], [0.5555555555555556, \"#d8576b\"], [0.6666666666666666, \"#ed7953\"], [0.7777777777777778, \"#fb9f3a\"], [0.8888888888888888, \"#fdca26\"], [1.0, \"#f0f921\"]]}, \"colorway\": [\"#636efa\", \"#EF553B\", \"#00cc96\", \"#ab63fa\", \"#FFA15A\", \"#19d3f3\", \"#FF6692\", \"#B6E880\", \"#FF97FF\", \"#FECB52\"], \"font\": {\"color\": \"#2a3f5f\"}, \"geo\": {\"bgcolor\": \"white\", \"lakecolor\": \"white\", \"landcolor\": \"white\", \"showlakes\": true, \"showland\": true, \"subunitcolor\": \"#C8D4E3\"}, \"hoverlabel\": {\"align\": \"left\"}, \"hovermode\": \"closest\", \"mapbox\": {\"style\": \"light\"}, \"paper_bgcolor\": \"white\", \"plot_bgcolor\": \"white\", \"polar\": {\"angularaxis\": {\"gridcolor\": \"#EBF0F8\", \"linecolor\": \"#EBF0F8\", \"ticks\": \"\"}, \"bgcolor\": \"white\", \"radialaxis\": {\"gridcolor\": \"#EBF0F8\", \"linecolor\": \"#EBF0F8\", \"ticks\": \"\"}}, \"scene\": {\"xaxis\": {\"backgroundcolor\": \"white\", \"gridcolor\": \"#DFE8F3\", \"gridwidth\": 2, \"linecolor\": \"#EBF0F8\", \"showbackground\": true, \"ticks\": \"\", \"zerolinecolor\": \"#EBF0F8\"}, \"yaxis\": {\"backgroundcolor\": \"white\", \"gridcolor\": \"#DFE8F3\", \"gridwidth\": 2, \"linecolor\": \"#EBF0F8\", \"showbackground\": true, \"ticks\": \"\", \"zerolinecolor\": \"#EBF0F8\"}, \"zaxis\": {\"backgroundcolor\": \"white\", \"gridcolor\": \"#DFE8F3\", \"gridwidth\": 2, \"linecolor\": \"#EBF0F8\", \"showbackground\": true, \"ticks\": \"\", \"zerolinecolor\": \"#EBF0F8\"}}, \"shapedefaults\": {\"line\": {\"color\": \"#2a3f5f\"}}, \"ternary\": {\"aaxis\": {\"gridcolor\": \"#DFE8F3\", \"linecolor\": \"#A2B1C6\", \"ticks\": \"\"}, \"baxis\": {\"gridcolor\": \"#DFE8F3\", \"linecolor\": \"#A2B1C6\", \"ticks\": \"\"}, \"bgcolor\": \"white\", \"caxis\": {\"gridcolor\": \"#DFE8F3\", \"linecolor\": \"#A2B1C6\", \"ticks\": \"\"}}, \"title\": {\"x\": 0.05}, \"xaxis\": {\"automargin\": true, \"gridcolor\": \"#EBF0F8\", \"linecolor\": \"#EBF0F8\", \"ticks\": \"\", \"title\": {\"standoff\": 15}, \"zerolinecolor\": \"#EBF0F8\", \"zerolinewidth\": 2}, \"yaxis\": {\"automargin\": true, \"gridcolor\": \"#EBF0F8\", \"linecolor\": \"#EBF0F8\", \"ticks\": \"\", \"title\": {\"standoff\": 15}, \"zerolinecolor\": \"#EBF0F8\", \"zerolinewidth\": 2}}}, \"title\": {\"text\": \"SSE Over Different K's\", \"xanchor\": \"auto\"}, \"xaxis\": {\"anchor\": \"y\", \"domain\": [0.0, 1.0], \"title\": {\"text\": \"K Level\"}}, \"yaxis\": {\"anchor\": \"x\", \"domain\": [0.0, 1.0], \"title\": {\"text\": \"SSE\"}}},\n",
       "                        {\"responsive\": true}\n",
       "                    ).then(function(){\n",
       "                            \n",
       "var gd = document.getElementById('2d5765c2-26ef-49b1-af3c-75d236837393');\n",
       "var x = new MutationObserver(function (mutations, observer) {{\n",
       "        var display = window.getComputedStyle(gd).display;\n",
       "        if (!display || display === 'none') {{\n",
       "            console.log([gd, 'removed!']);\n",
       "            Plotly.purge(gd);\n",
       "            observer.disconnect();\n",
       "        }}\n",
       "}});\n",
       "\n",
       "// Listen for the removal of the full notebook cells\n",
       "var notebookContainer = gd.closest('#notebook-container');\n",
       "if (notebookContainer) {{\n",
       "    x.observe(notebookContainer, {childList: true});\n",
       "}}\n",
       "\n",
       "// Listen for the clearing of the current output cell\n",
       "var outputEl = gd.closest('.output');\n",
       "if (outputEl) {{\n",
       "    x.observe(outputEl, {childList: true});\n",
       "}}\n",
       "\n",
       "                        })\n",
       "                };\n",
       "                });\n",
       "            </script>\n",
       "        </div>"
      ]
     },
     "metadata": {},
     "output_type": "display_data"
    }
   ],
   "source": [
    "fig = px.line(cluster_melt_sse, x=\"K Level\", y=\"SSE\", color=\"Methods\", hover_name=\"Methods\", template=\"plotly_white\")\n",
    "fig.add_trace(go.Scatter(x=cluster_melt_sse[\"K Level\"], \n",
    "                         y=cluster_melt_sse[\"SSE\"],\n",
    "                         mode='markers',\n",
    "                         showlegend=False))\n",
    "\n",
    "fig.update_layout(\n",
    "    title=dict(\n",
    "        text=\"SSE Over Different K's\",\n",
    "        xanchor=\"auto\")\n",
    ")\n",
    "\n",
    "fig.show()"
   ]
  },
  {
   "cell_type": "code",
   "execution_count": 515,
   "metadata": {},
   "outputs": [],
   "source": [
    "i=5\n",
    "kmeans = KMeans(n_clusters=i, random_state=1)\n",
    "affinity =AffinityPropagation()\n",
    "spectral=SpectralClustering(n_clusters=i, random_state=1,\n",
    "                                     affinity='nearest_neighbors')\n",
    "algo = AgglomerativeClustering(n_clusters=i)"
   ]
  },
  {
   "cell_type": "code",
   "execution_count": 516,
   "metadata": {},
   "outputs": [
    {
     "data": {
      "image/png": "[encoded data removed]",
      "text/plain": [
       "<Figure size 576x396 with 1 Axes>"
      ]
     },
     "metadata": {},
     "output_type": "display_data"
    },
    {
     "data": {
      "image/png": "[encoded data removed]",
      "text/plain": [
       "<Figure size 576x396 with 1 Axes>"
      ]
     },
     "metadata": {},
     "output_type": "display_data"
    }
   ],
   "source": [
    "methods = [kmeans, affinity]\n",
    "for method in methods: \n",
    "    get_cluster_graph(method, vectors_df)"
   ]
  },
  {
   "cell_type": "code",
   "execution_count": 468,
   "metadata": {},
   "outputs": [],
   "source": [
    "preds = spectral.fit_predict(vectors_df) "
   ]
  },
  {
   "cell_type": "code",
   "execution_count": 469,
   "metadata": {},
   "outputs": [
    {
     "name": "stdout",
     "output_type": "stream",
     "text": [
      "Example combined_text\n",
      "On Mac OS X (at least 10.6.4+), there's no need for libbsd for arc4random. I've basically added an exception in wscript and in bcrypt.cc to avoid the dependency and include for random.h on OS X, which makes it compile successfully. , Mac OS X support for compilation, This doesn't work for me (Linux), but I'll add in some conditionals. Thanks for the changes. :) , Aw :( Can't understand why not, it seemed like it would literally only target OS X. Oh well, sorry about that! , I tried this on my home machine and it worked fine. I suspect I blew something up on my laptop when I tried it then. I pulled and pushed the code into master. Can you try it once more to make sure master works for you? If so I'll push 0.1.1 to npm. :)  Thanks for the contribution! , Works great! Can't wait to drop the copy we have in our repository :-D , Perfect. Will publish when I get home. , Ah, one more thing. I really appreciate the mention in the README, but `Salazar Cardozo' is actually all my last name, so it would be awesome if you could put the Salazar in.  Thanks again for integrating this! , I wondered. I knew I should have put the full name I saw in your GH profile. Lesson learned. :) Will change. , Hehehe. No worries -- my government/credit-card-company-issued ids only get it right about half the time, so I'm just taking advantage of the opportunity to easily ask someone to fix it :-D \n",
      "__________________________________________________________________________________\n",
      "Cluster Counts\n",
      "3: 19\n",
      "0: 294\n",
      "1: 360\n",
      "5: 42\n",
      "2: 40\n",
      "4: 13\n",
      "__________________________________________________________________________________\n",
      "Topic Names\n",
      "3: Silly Cache Add Parsed Spec, Verbose Cache Add Spec Bcrypt, Verbose installManyTop Reading Scoped Package Data\n",
      "0: Windows Users to Use Bcrypt Version, Bcrypt Build Directory Using the Path, Error Using Nodejs 0.10.0, Try Going\n",
      "1: Npm Info Retry Registry Request Attempt, Npm Info Attempt Registry Request Try, PM Npm Info Attempt Registry Request\n",
      "5: Use Maybe Version [-Wdeprecated-Declarations] Const Char, Install Npm WARN Deprecated Bcrypt@1.0.3: Bcrypt, Ok Npm WARN Deprecated Pangyp@2.3.2: Use\n",
      "2: X64 Gyp Info Spawn Args, Make Gyp Info Spawn Args, X64 Gyp Info Spawn Make\n",
      "4: Compare Bcrypt Hashed Password and Plaintext, Compare Bcrypt Hashed Password, String Comparison Based Security\n",
      "__________________________________________________________________________________\n"
     ]
    }
   ],
   "source": [
    "get_topic_names(preds, \"combined_text\")"
   ]
  },
  {
   "cell_type": "code",
   "execution_count": 473,
   "metadata": {},
   "outputs": [],
   "source": [
    "single_repo =repo_df.groupby(\"repo_id\").get_group(repo_ids[1])"
   ]
  },
  {
   "cell_type": "code",
   "execution_count": 475,
   "metadata": {},
   "outputs": [
    {
     "name": "stderr",
     "output_type": "stream",
     "text": [
      "/opt/conda/lib/python3.6/site-packages/ipykernel_launcher.py:1: SettingWithCopyWarning:\n",
      "\n",
      "\n",
      "A value is trying to be set on a copy of a slice from a DataFrame.\n",
      "Try using .loc[row_indexer,col_indexer] = value instead\n",
      "\n",
      "See the caveats in the documentation: http://pandas.pydata.org/pandas-docs/stable/user_guide/indexing.html#returning-a-view-versus-a-copy\n",
      "\n"
     ]
    }
   ],
   "source": [
    "single_repo[\"cluster_id\"] = preds"
   ]
  },
  {
   "cell_type": "code",
   "execution_count": 494,
   "metadata": {},
   "outputs": [
    {
     "name": "stdout",
     "output_type": "stream",
     "text": [
      "issues/0de9d4ae-5399-52bd-b39f-b951a7186f95\n",
      "----------------------------------------------------\n",
      "Seems like some Node 8 issues were fixed in #527 but they have not been published to npm yet.\n",
      "                                                    \n",
      "issues/2382e3eb-4ab4-599f-9ceb-b82572136e73\n",
      "----------------------------------------------------\n",
      "The readme says:  > Per bcrypt implementation, only the first 72 characters of a string are used. Any extra characters are ignored when matching passwords.  However, isn't it actually the first 72 **bytes** that are used? If the string is UTF-8 encoded and has e.g. emojis, it could potentially be truncated before 72 characters.\n",
      "                                                    \n",
      "issues/288cb084-6365-58e3-b392-888a5f9174e2\n",
      "----------------------------------------------------\n",
      "I tried to hash a password async and providing a string such as 'hello' to be the salt, and this is the returned error:  Invalid Salt. Salt must be in the form of: $Ver$logs(NumRounds)$saltvalue  This is what the docs say about the salt, however it does not show what happens if you do not specify a number.  salt - [REQUIRED] - the salt to be used to hash the password. if specified as a number then a salt will be generated with the specified number of rounds and used (see example under Usage).  nodejs vsersion = v6.9.1  OS =MAC OS X V10.12.6     Thank for for your time, I was thinking of having the user provide the salt every time so that I don't have to save it in the DB, the password would be hashed before leaving the client  \n",
      "                                                    \n",
      "issues/d69f4c96-5440-52b1-88df-e17d00cb4ea6\n",
      "----------------------------------------------------\n",
      "Is there any way that `bcrypt.hashSync(value, salt)` could return the same value when run twice with the same arguments?  We have a requirement to be able to compare passwords directly in the database, which requires us to calculate the hash value in the application and pass it to the database to do a direct string comparison against the already encrypted password stored there. However this doesn't work, since different values are returned for the same input.  Based on my understanding of how bcrypt works, I think it's not the right tool for our requirements, have I got it right?\n",
      "                                                    \n",
      "issues/b8849a29-a497-5305-b7e3-fa977631b9cf\n",
      "----------------------------------------------------\n",
      "https://unpkg.com/bcrypt@2.0.1/node_modules/  I don't think that's intentional, is it?\n",
      "                                                    \n",
      "issues/80aa1449-17a0-5c16-9bb9-bfea538569a0\n",
      "----------------------------------------------------\n",
      "## What Went Wrong  Calling `compare` with an invalid hash value exits early.  ## What did you expect to happen?  In the documentation it specifically says:  > The \"compare\" function counters timing attacks (using a so-called 'constant-time' algorithm)  Based on this I would expect the `compare` function to be `constant-time` no matter the input arguments  ## Which version of nodejs and OS?  Node v10.5.0 Mac OSX 10.12.6  ## Why This is Important  Reading the docs and bringing over best practices around password checking it is best practice to do a \"dummy check\" of a password to maintain constant timing on things like login routes.  For instance if logging in with username and password if the user with the given username does not exist a call to a constant time function is usually used to balance out the time between checking passwords and not (to avoid leaking information of what usernames exist/don't based on response times).  Based on the documentation, the `compare` function would seem to be the `constant-time` function to be called and one would expect this to have similar execution time to a real hash check.  Example Code:  ```js if (!user) {   await bcrypt.compare(password, ''); // Attempt dummy bcrypt check     throw new UnauthorizedError(); }   if (!await bcrypt.compare(password, user.hash)) {   throw new UnauthorizedError(); }  // Do what you want with the authorized user. ```  But the above code gives inconsistent results since `bcrypt.compare` exits early when the hash is not a valid hash.  ## Recommendation  I think there's three possible solutions to this problem.  1. Document the inconsistency and explicitly note that `compare` is only `constant-time` with valid hash and recommend using `bcrypt.hash(someValue)` instead 2. Create a `bcrypt.dummyCompare` similar to the `dummy_checkpw` function provided by [comeonin](https://github.com/riverrun/comeonin) - This would still need update documentation noting that `compare` is only `constant-time` for valid hashes 3. Make `compare` constant time regardless of hash value validity\n",
      "                                                    \n",
      "issues/dfdf1cc1-4135-57f7-9749-2d85a730be24\n",
      "----------------------------------------------------\n",
      "* What went wrong? Has no obvious way to get the salt from a hash * What did you expect to happen? For it to provide an API for that * Which version of nodejs and OS? Any * If you find a bug, please write a failing test. Not a bug. Feature request.  If I understand bcrypt correctly, the first 22 characters after the version and number of rounds are the salt. A function much like `getRounds` should work. I have no experience with native modules here, though, and there might be some caveats with that hash information I'm not aware of.\n",
      "                                                    \n",
      "issues/69710fdc-c11f-5be0-8d09-f50a1e48fd1e\n",
      "----------------------------------------------------\n",
      "If i run this package on different machines and at different time, it should give the same salt, right? So the salt must be hardcoded somewhere to so the value is consistent. Where is it stored?\n",
      "                                                    \n",
      "issues/5279924b-e083-5652-8245-1abf837a759b\n",
      "----------------------------------------------------\n",
      "This is just a question, and there really isn't anywhere shown to ask questions, but, how do you unhash? I'm hashing all my avatars (since they're super huge) and I'd like to know how to unhash them to get the raw data.\n",
      "                                                    \n",
      "issues/23842102-8fad-5b0d-9c14-ee7ea3d23023\n",
      "----------------------------------------------------\n",
      "https://stackoverflow.com/questions/54269808/how-to-avoid-bcrypt-node-adding-slashes-to-the-hash?noredirect=1#comment95362518_54269808\n",
      "                                                    \n",
      "issues/f316a43d-c044-58e6-8e37-87b4e5085c92\n",
      "----------------------------------------------------\n",
      "Newbie here. I can't figure out the differences between the bcrypt and bcryptjs libraries.  They both have 100s of thousands of downloads on npm every week. Are there any differences between them that are important enough to use one or the other? \n",
      "                                                    \n",
      "issues/d92ed678-2a9b-510f-9b74-bb41c0295a29\n",
      "----------------------------------------------------\n",
      "Is there a browser version of this or similar?\n",
      "                                                    \n",
      "issues/d4ea5e96-8b2a-51d2-b228-461397a7ebde\n",
      "----------------------------------------------------\n",
      "Bcrypt doesn't seem to work when Salt round is passed 20 ```javascript var token = await bcrypt.hash('abcxyz', 20); // It just hangs there ``` But passing 10 works perfectly. \n",
      "                                                    \n"
     ]
    }
   ],
   "source": [
    "df = single_repo.groupby(\"cluster_id\").get_group(4)[\"description\"]\n",
    "\n",
    "for i,desc in enumerate(df):\n",
    "    print(df.index[i])\n",
    "    print(52*\"-\")\n",
    "    print(desc)\n",
    "    print(52* \" \")"
   ]
  },
  {
   "cell_type": "code",
   "execution_count": null,
   "metadata": {},
   "outputs": [],
   "source": []
  }
 ],
 "metadata": {
  "kernelspec": {
   "display_name": "Python 3",
   "language": "python",
   "name": "python3"
  },
  "language_info": {
   "codemirror_mode": {
    "name": "ipython",
    "version": 3
   },
   "file_extension": ".py",
   "mimetype": "text/x-python",
   "name": "python",
   "nbconvert_exporter": "python",
   "pygments_lexer": "ipython3",
   "version": "3.6.6"
  }
 },
 "nbformat": 4,
 "nbformat_minor": 4
}
